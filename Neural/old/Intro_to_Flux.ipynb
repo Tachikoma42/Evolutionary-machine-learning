{
 "cells": [
  {
   "cell_type": "code",
   "execution_count": 130,
   "metadata": {},
   "outputs": [],
   "source": [
    "using Flux, Plots"
   ]
  },
  {
   "cell_type": "code",
   "execution_count": 131,
   "metadata": {},
   "outputs": [
    {
     "data": {
      "text/plain": [
       "Dense(2, 1, σ)      \u001b[90m# 3 parameters\u001b[39m"
      ]
     },
     "metadata": {},
     "output_type": "display_data"
    }
   ],
   "source": [
    "model = Dense(2, 1, σ)"
   ]
  },
  {
   "cell_type": "code",
   "execution_count": 133,
   "metadata": {},
   "outputs": [],
   "source": [
    "using CSV, DataFrames"
   ]
  },
  {
   "cell_type": "code",
   "execution_count": 134,
   "metadata": {},
   "outputs": [
    {
     "data": {
      "text/html": [
       "<div class=\"data-frame\"><p>490 rows × 5 columns</p><table class=\"data-frame\"><thead><tr><th></th><th>height</th><th>width</th><th>red</th><th>green</th><th>blue</th></tr><tr><th></th><th title=\"Int64\">Int64</th><th title=\"Int64\">Int64</th><th title=\"Float64\">Float64</th><th title=\"Float64\">Float64</th><th title=\"Float64\">Float64</th></tr></thead><tbody><tr><th>1</th><td>98</td><td>99</td><td>0.583507</td><td>0.500662</td><td>0.207504</td></tr><tr><th>2</th><td>50</td><td>99</td><td>0.609666</td><td>0.514869</td><td>0.186871</td></tr><tr><th>3</th><td>52</td><td>99</td><td>0.610012</td><td>0.515759</td><td>0.187504</td></tr><tr><th>4</th><td>99</td><td>69</td><td>0.568033</td><td>0.492939</td><td>0.239316</td></tr><tr><th>5</th><td>51</td><td>99</td><td>0.609766</td><td>0.51485</td><td>0.183329</td></tr><tr><th>6</th><td>53</td><td>99</td><td>0.608089</td><td>0.514609</td><td>0.183374</td></tr><tr><th>7</th><td>53</td><td>99</td><td>0.608676</td><td>0.515487</td><td>0.186206</td></tr><tr><th>8</th><td>53</td><td>99</td><td>0.609278</td><td>0.516486</td><td>0.188582</td></tr><tr><th>9</th><td>99</td><td>67</td><td>0.569099</td><td>0.494501</td><td>0.241941</td></tr><tr><th>10</th><td>54</td><td>99</td><td>0.610284</td><td>0.516183</td><td>0.189116</td></tr><tr><th>11</th><td>54</td><td>99</td><td>0.607329</td><td>0.515344</td><td>0.188351</td></tr><tr><th>12</th><td>56</td><td>99</td><td>0.608367</td><td>0.51465</td><td>0.188733</td></tr><tr><th>13</th><td>56</td><td>99</td><td>0.606331</td><td>0.513778</td><td>0.18818</td></tr><tr><th>14</th><td>56</td><td>99</td><td>0.608364</td><td>0.516287</td><td>0.193825</td></tr><tr><th>15</th><td>57</td><td>99</td><td>0.605807</td><td>0.513735</td><td>0.191391</td></tr><tr><th>16</th><td>58</td><td>99</td><td>0.605733</td><td>0.512879</td><td>0.190078</td></tr><tr><th>17</th><td>59</td><td>99</td><td>0.604937</td><td>0.513665</td><td>0.192874</td></tr><tr><th>18</th><td>59</td><td>99</td><td>0.603498</td><td>0.511384</td><td>0.192722</td></tr><tr><th>19</th><td>59</td><td>99</td><td>0.600693</td><td>0.510035</td><td>0.189299</td></tr><tr><th>20</th><td>61</td><td>99</td><td>0.602988</td><td>0.511165</td><td>0.194563</td></tr><tr><th>21</th><td>61</td><td>99</td><td>0.600188</td><td>0.509263</td><td>0.193743</td></tr><tr><th>22</th><td>61</td><td>99</td><td>0.599505</td><td>0.507729</td><td>0.193026</td></tr><tr><th>23</th><td>63</td><td>99</td><td>0.597605</td><td>0.507</td><td>0.194595</td></tr><tr><th>24</th><td>65</td><td>99</td><td>0.596964</td><td>0.506184</td><td>0.196388</td></tr><tr><th>&vellip;</th><td>&vellip;</td><td>&vellip;</td><td>&vellip;</td><td>&vellip;</td><td>&vellip;</td></tr></tbody></table></div>"
      ],
      "text/latex": [
       "\\begin{tabular}{r|ccccc}\n",
       "\t& height & width & red & green & blue\\\\\n",
       "\t\\hline\n",
       "\t& Int64 & Int64 & Float64 & Float64 & Float64\\\\\n",
       "\t\\hline\n",
       "\t1 & 98 & 99 & 0.583507 & 0.500662 & 0.207504 \\\\\n",
       "\t2 & 50 & 99 & 0.609666 & 0.514869 & 0.186871 \\\\\n",
       "\t3 & 52 & 99 & 0.610012 & 0.515759 & 0.187504 \\\\\n",
       "\t4 & 99 & 69 & 0.568033 & 0.492939 & 0.239316 \\\\\n",
       "\t5 & 51 & 99 & 0.609766 & 0.51485 & 0.183329 \\\\\n",
       "\t6 & 53 & 99 & 0.608089 & 0.514609 & 0.183374 \\\\\n",
       "\t7 & 53 & 99 & 0.608676 & 0.515487 & 0.186206 \\\\\n",
       "\t8 & 53 & 99 & 0.609278 & 0.516486 & 0.188582 \\\\\n",
       "\t9 & 99 & 67 & 0.569099 & 0.494501 & 0.241941 \\\\\n",
       "\t10 & 54 & 99 & 0.610284 & 0.516183 & 0.189116 \\\\\n",
       "\t11 & 54 & 99 & 0.607329 & 0.515344 & 0.188351 \\\\\n",
       "\t12 & 56 & 99 & 0.608367 & 0.51465 & 0.188733 \\\\\n",
       "\t13 & 56 & 99 & 0.606331 & 0.513778 & 0.18818 \\\\\n",
       "\t14 & 56 & 99 & 0.608364 & 0.516287 & 0.193825 \\\\\n",
       "\t15 & 57 & 99 & 0.605807 & 0.513735 & 0.191391 \\\\\n",
       "\t16 & 58 & 99 & 0.605733 & 0.512879 & 0.190078 \\\\\n",
       "\t17 & 59 & 99 & 0.604937 & 0.513665 & 0.192874 \\\\\n",
       "\t18 & 59 & 99 & 0.603498 & 0.511384 & 0.192722 \\\\\n",
       "\t19 & 59 & 99 & 0.600693 & 0.510035 & 0.189299 \\\\\n",
       "\t20 & 61 & 99 & 0.602988 & 0.511165 & 0.194563 \\\\\n",
       "\t21 & 61 & 99 & 0.600188 & 0.509263 & 0.193743 \\\\\n",
       "\t22 & 61 & 99 & 0.599505 & 0.507729 & 0.193026 \\\\\n",
       "\t23 & 63 & 99 & 0.597605 & 0.507 & 0.194595 \\\\\n",
       "\t24 & 65 & 99 & 0.596964 & 0.506184 & 0.196388 \\\\\n",
       "\t$\\dots$ & $\\dots$ & $\\dots$ & $\\dots$ & $\\dots$ & $\\dots$ \\\\\n",
       "\\end{tabular}\n"
      ],
      "text/plain": [
       "\u001b[1m490×5 DataFrame\u001b[0m\n",
       "\u001b[1m Row \u001b[0m│\u001b[1m height \u001b[0m\u001b[1m width \u001b[0m\u001b[1m red      \u001b[0m\u001b[1m green    \u001b[0m\u001b[1m blue     \u001b[0m\n",
       "\u001b[1m     \u001b[0m│\u001b[90m Int64  \u001b[0m\u001b[90m Int64 \u001b[0m\u001b[90m Float64  \u001b[0m\u001b[90m Float64  \u001b[0m\u001b[90m Float64  \u001b[0m\n",
       "─────┼─────────────────────────────────────────────\n",
       "   1 │     98     99  0.583507  0.500662  0.207504\n",
       "   2 │     50     99  0.609666  0.514869  0.186871\n",
       "   3 │     52     99  0.610012  0.515759  0.187504\n",
       "   4 │     99     69  0.568033  0.492939  0.239316\n",
       "   5 │     51     99  0.609766  0.51485   0.183329\n",
       "   6 │     53     99  0.608089  0.514609  0.183374\n",
       "   7 │     53     99  0.608676  0.515487  0.186206\n",
       "   8 │     53     99  0.609278  0.516486  0.188582\n",
       "  ⋮  │   ⋮       ⋮       ⋮         ⋮         ⋮\n",
       " 484 │     39     99  0.522489  0.449973  0.233683\n",
       " 485 │     41     99  0.517573  0.444391  0.227029\n",
       " 486 │     41     99  0.515956  0.441912  0.230229\n",
       " 487 │     41     99  0.517585  0.444827  0.234798\n",
       " 488 │     41     99  0.510357  0.436022  0.228139\n",
       " 489 │     43     99  0.508873  0.43433   0.230683\n",
       " 490 │     31     99  0.528205  0.440139  0.199588\n",
       "\u001b[36m                                   475 rows omitted\u001b[0m"
      ]
     },
     "metadata": {},
     "output_type": "display_data"
    }
   ],
   "source": [
    "apples = DataFrame(CSV.read(\"data/apples.dat\", DataFrame; delim=\"\\t\"))\n",
    "bananas = DataFrame(CSV.read(\"data/bananas.dat\",DataFrame; delim=\"\\t\"))\n",
    "rename!(apples, [:height,:width,:red,:green,:blue])\n",
    "rename!(bananas, [:height,:width,:red,:green,:blue])"
   ]
  },
  {
   "cell_type": "code",
   "execution_count": 135,
   "metadata": {},
   "outputs": [
    {
     "data": {
      "text/plain": [
       "492-element Vector{Vector{Float64}}:\n",
       " [0.5014661151631883, 0.22930441097534052]\n",
       " [0.4342254940829249, 0.1286670449863579]\n",
       " [0.4341196192611507, 0.1283343194344977]\n",
       " [0.43292152183068955, 0.12746865916878627]\n",
       " [0.4332916920418286, 0.12687320747253036]\n",
       " [0.43243837386176553, 0.12718165906107473]\n",
       " [0.4329222095428659, 0.127296222767609]\n",
       " [0.4311669294311532, 0.12615909751878962]\n",
       " [0.43186658074810524, 0.12593155154602345]\n",
       " [0.4303403153394724, 0.12640444560215408]\n",
       " ⋮\n",
       " [0.46196735818763357, 0.1421665971353089]\n",
       " [0.4629390550656122, 0.1440671374165337]\n",
       " [0.46432223450752835, 0.14380783472718045]\n",
       " [0.46510595158618334, 0.1451697450733138]\n",
       " [0.4674854279681992, 0.14669161842995918]\n",
       " [0.4683520273050642, 0.1479623444588349]\n",
       " [0.47122560995595364, 0.15014409003925697]\n",
       " [0.5221495448895305, 0.19905118489113516]\n",
       " [0.4716205187110819, 0.15067156358946546]"
      ]
     },
     "metadata": {},
     "output_type": "display_data"
    }
   ],
   "source": [
    "x_apples = [[row.red, row.green] for row in eachrow(apples)]\n",
    "x_bananas = [[row.red, row.green] for row in eachrow(bananas)]\n",
    "x_apples"
   ]
  },
  {
   "cell_type": "code",
   "execution_count": 143,
   "metadata": {},
   "outputs": [],
   "source": [
    "xs = [x_apples; x_bananas]\n",
    "ys = [fill(0, size(x_apples)); fill(1, size(x_bananas))];"
   ]
  },
  {
   "cell_type": "code",
   "execution_count": 162,
   "metadata": {},
   "outputs": [],
   "source": [
    "model = Dense(2, 1, σ)\n",
    "Loss(x,y) = Flux.mse(model(x),y)\n",
    "opt = Descent()\n"
   ]
  },
  {
   "cell_type": "code",
   "execution_count": 167,
   "metadata": {},
   "outputs": [],
   "source": [
    "for i in 1:1000\n",
    "    Flux.train!(Loss, params(model), zip(xs,ys), opt)\n",
    "end"
   ]
  },
  {
   "cell_type": "code",
   "execution_count": 166,
   "metadata": {},
   "outputs": [
    {
     "data": {
      "text/plain": [
       "1-element Vector{Float64}:\n",
       " 0.9387637721177475"
      ]
     },
     "metadata": {},
     "output_type": "display_data"
    }
   ],
   "source": [
    "model(xs[end])"
   ]
  },
  {
   "cell_type": "code",
   "execution_count": null,
   "metadata": {},
   "outputs": [],
   "source": [
    "contour(0:.1:1, 0:.1:1, (x, y) -> model([x,y])[1], fill=true)\n",
    "scatter!(first.(x_apples), last.(x_apples), label=\"apples\")\n",
    "scatter!(first.(x_bananas), last.(x_bananas), label=\"bananas\")\n",
    "xlabel!(\"mean red value\")\n",
    "ylabel!(\"mean green value\")"
   ]
  }
 ],
 "metadata": {
  "kernelspec": {
   "display_name": "Julia 1.7.1",
   "language": "julia",
   "name": "julia-1.7"
  },
  "language_info": {
   "file_extension": ".jl",
   "mimetype": "application/julia",
   "name": "julia",
   "version": "1.7.1"
  },
  "orig_nbformat": 4
 },
 "nbformat": 4,
 "nbformat_minor": 2
}

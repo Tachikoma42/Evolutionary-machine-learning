{
 "cells": [
  {
   "cell_type": "code",
   "execution_count": 1,
   "metadata": {},
   "outputs": [],
   "source": [
    "using Flux\n",
    "using Flux: gradient\n",
    "using Flux.Optimise: update!\n",
    "using DelimitedFiles, Statistics\n",
    "#using Parameters: @with_kw\n"
   ]
  },
  {
   "cell_type": "code",
   "execution_count": 2,
   "metadata": {},
   "outputs": [],
   "source": [
    "rawdata = readdlm(\"data/test.csv\")';\n"
   ]
  },
  {
   "cell_type": "code",
   "execution_count": 3,
   "metadata": {},
   "outputs": [
    {
     "data": {
      "text/plain": [
       "1×8 Matrix{Float64}:\n",
       " 0.0  0.0  0.0  1.0  1.0  0.0  1.0  1.0"
      ]
     },
     "metadata": {},
     "output_type": "display_data"
    }
   ],
   "source": [
    "x = rawdata[1:19,:]\n",
    "y = rawdata[20:20,:]"
   ]
  },
  {
   "cell_type": "code",
   "execution_count": 4,
   "metadata": {},
   "outputs": [
    {
     "data": {
      "text/plain": [
       "0.7"
      ]
     },
     "metadata": {},
     "output_type": "display_data"
    }
   ],
   "source": [
    "split_ratio = 0.7"
   ]
  },
  {
   "cell_type": "code",
   "execution_count": 5,
   "metadata": {},
   "outputs": [
    {
     "data": {
      "text/plain": [
       "1×3 Matrix{Float64}:\n",
       " 0.0  1.0  1.0"
      ]
     },
     "metadata": {},
     "output_type": "display_data"
    }
   ],
   "source": [
    "split_index = floor(Int,size(x,2)*split_ratio)\n",
    "x_train = x[:,1:split_index]\n",
    "y_train = y[:,1:split_index]\n",
    "x_test = x[:,split_index+1:size(x,2)]\n",
    "y_test = y[:,split_index+1:size(x,2)]\n"
   ]
  },
  {
   "cell_type": "code",
   "execution_count": 6,
   "metadata": {},
   "outputs": [
    {
     "data": {
      "text/plain": [
       "1×5 Matrix{Float64}:\n",
       " 0.0  0.0  0.0  1.0  1.0"
      ]
     },
     "metadata": {},
     "output_type": "display_data"
    }
   ],
   "source": [
    "y_train"
   ]
  },
  {
   "cell_type": "code",
   "execution_count": 7,
   "metadata": {},
   "outputs": [
    {
     "data": {
      "text/plain": [
       "5-element Vector{Any}:\n",
       " 0\n",
       " 0\n",
       " 0\n",
       " 1\n",
       " 1"
      ]
     },
     "metadata": {},
     "output_type": "display_data"
    }
   ],
   "source": [
    "tempy = []\n",
    "for i in y_train\n",
    "    if i == 0\n",
    "        push!(tempy,0)\n",
    "    else\n",
    "        push!(tempy,1)\n",
    "    end\n",
    "    end\n",
    "y_train = tempy"
   ]
  },
  {
   "cell_type": "code",
   "execution_count": 8,
   "metadata": {},
   "outputs": [
    {
     "data": {
      "text/plain": [
       "3-element Vector{Any}:\n",
       " 0\n",
       " 1\n",
       " 1"
      ]
     },
     "metadata": {},
     "output_type": "display_data"
    }
   ],
   "source": [
    "tempy = []\n",
    "for i in y_test\n",
    "    if i == 0\n",
    "        push!(tempy,0)\n",
    "    else\n",
    "        push!(tempy,1)\n",
    "    end\n",
    "    end\n",
    "y_test = tempy"
   ]
  },
  {
   "cell_type": "code",
   "execution_count": 10,
   "metadata": {},
   "outputs": [
    {
     "data": {
      "text/plain": [
       "2×5 OneHotMatrix(::Vector{UInt32}) with eltype Bool:\n",
       " 1  1  1  ⋅  ⋅\n",
       " ⋅  ⋅  ⋅  1  1"
      ]
     },
     "metadata": {},
     "output_type": "display_data"
    }
   ],
   "source": [
    "y_train = Flux.onehotbatch(y_train, 0:1)\n"
   ]
  },
  {
   "cell_type": "code",
   "execution_count": 11,
   "metadata": {},
   "outputs": [
    {
     "data": {
      "text/plain": [
       "2×3 OneHotMatrix(::Vector{UInt32}) with eltype Bool:\n",
       " 1  ⋅  ⋅\n",
       " ⋅  1  1"
      ]
     },
     "metadata": {},
     "output_type": "display_data"
    }
   ],
   "source": [
    "y_test = Flux.onehotbatch(y_test, 0:1)"
   ]
  },
  {
   "cell_type": "code",
   "execution_count": 13,
   "metadata": {},
   "outputs": [
    {
     "data": {
      "text/plain": [
       "1×5 Matrix{Float64}:\n",
       " 0.0  0.0  0.0  1.0  1.0"
      ]
     },
     "metadata": {},
     "output_type": "display_data"
    }
   ],
   "source": []
  },
  {
   "cell_type": "code",
   "execution_count": 14,
   "metadata": {},
   "outputs": [
    {
     "data": {
      "text/plain": [
       "([75.0 62.0 48.0; 11.4 10.9 10.3; … ; 0.0 0.1 0.1; 0.7 0.7 0.7], [0.0 1.0 1.0])"
      ]
     },
     "metadata": {},
     "output_type": "display_data"
    }
   ],
   "source": [
    "train_data = (x_train, y_train)\n",
    "test_data = (x_test, y_test)"
   ]
  },
  {
   "cell_type": "code",
   "execution_count": 15,
   "metadata": {},
   "outputs": [],
   "source": [
    "#Sihao Ren // sren03 // 947105531\n",
    "using Flux\n",
    "using Statistics\n",
    "using Flux: onehotbatch, onecold, crossentropy, throttle\n",
    "using Base.Iterators: repeated\n",
    "using Flux: @epochs\n",
    "using MLJBase\n",
    "using Printf\n",
    "using BSON: @save # for save weights\n",
    "using Plots"
   ]
  },
  {
   "cell_type": "code",
   "execution_count": 12,
   "metadata": {},
   "outputs": [
    {
     "data": {
      "text/plain": [
       "Chain(\n",
       "  Dense(19, 38, σ),                     \u001b[90m# 760 parameters\u001b[39m\n",
       "  Dense(38, 2),                         \u001b[90m# 78 parameters\u001b[39m\n",
       "  NNlib.softmax,\n",
       ")\u001b[90m                   # Total: 4 arrays, \u001b[39m838 parameters, 3.523 KiB."
      ]
     },
     "metadata": {},
     "output_type": "display_data"
    }
   ],
   "source": [
    "model = Chain(Dense(19, 2*19, sigmoid), Dense(2*19, 2), softmax)"
   ]
  },
  {
   "cell_type": "code",
   "execution_count": 21,
   "metadata": {},
   "outputs": [
    {
     "ename": "UndefVarError",
     "evalue": "UndefVarError: param not defined",
     "output_type": "error",
     "traceback": [
      "UndefVarError: param not defined\n",
      "\n",
      "Stacktrace:\n",
      "  [1] getproperty(x::Module, f::Symbol)\n",
      "    @ Base .\\Base.jl:35\n",
      "  [2] top-level scope\n",
      "    @ c:\\Users\\xkzmx\\Documents\\Odyssey\\School\\Evolution\\HW1\\test.ipynb:8\n",
      "  [3] eval\n",
      "    @ .\\boot.jl:373 [inlined]\n",
      "  [4] include_string(mapexpr::typeof(REPL.softscope), mod::Module, code::String, filename::String)\n",
      "    @ Base .\\loading.jl:1196\n",
      "  [5] #invokelatest#2\n",
      "    @ .\\essentials.jl:716 [inlined]\n",
      "  [6] invokelatest\n",
      "    @ .\\essentials.jl:714 [inlined]\n",
      "  [7] (::VSCodeServer.var\"#150#151\"{VSCodeServer.NotebookRunCellArguments, String})()\n",
      "    @ VSCodeServer c:\\Users\\xkzmx\\.vscode\\extensions\\julialang.language-julia-1.5.10\\scripts\\packages\\VSCodeServer\\src\\serve_notebook.jl:18\n",
      "  [8] withpath(f::VSCodeServer.var\"#150#151\"{VSCodeServer.NotebookRunCellArguments, String}, path::String)\n",
      "    @ VSCodeServer c:\\Users\\xkzmx\\.vscode\\extensions\\julialang.language-julia-1.5.10\\scripts\\packages\\VSCodeServer\\src\\repl.jl:185\n",
      "  [9] notebook_runcell_request(conn::VSCodeServer.JSONRPC.JSONRPCEndpoint{Base.PipeEndpoint, Base.PipeEndpoint}, params::VSCodeServer.NotebookRunCellArguments)\n",
      "    @ VSCodeServer c:\\Users\\xkzmx\\.vscode\\extensions\\julialang.language-julia-1.5.10\\scripts\\packages\\VSCodeServer\\src\\serve_notebook.jl:14\n",
      " [10] dispatch_msg(x::VSCodeServer.JSONRPC.JSONRPCEndpoint{Base.PipeEndpoint, Base.PipeEndpoint}, dispatcher::VSCodeServer.JSONRPC.MsgDispatcher, msg::Dict{String, Any})\n",
      "    @ VSCodeServer.JSONRPC c:\\Users\\xkzmx\\.vscode\\extensions\\julialang.language-julia-1.5.10\\scripts\\packages\\JSONRPC\\src\\typed.jl:67\n",
      " [11] serve_notebook(pipename::String; crashreporting_pipename::String)\n",
      "    @ VSCodeServer c:\\Users\\xkzmx\\.vscode\\extensions\\julialang.language-julia-1.5.10\\scripts\\packages\\VSCodeServer\\src\\serve_notebook.jl:94\n",
      " [12] top-level scope\n",
      "    @ c:\\Users\\xkzmx\\.vscode\\extensions\\julialang.language-julia-1.5.10\\scripts\\notebook\\notebook.jl:12\n",
      " [13] include(mod::Module, _path::String)\n",
      "    @ Base .\\Base.jl:418\n",
      " [14] exec_options(opts::Base.JLOptions)\n",
      "    @ Base .\\client.jl:292\n",
      " [15] _start()\n",
      "    @ Base .\\client.jl:495"
     ]
    }
   ],
   "source": [
    "weights = rand(2*19,19)\n",
    "bias = rand(2*19)\n",
    "a = Dense(Flux.param(weights), Flux.param(bias), sigmoid)\n",
    "model = Chain(a, Dense(2*19, 2), softmax)"
   ]
  },
  {
   "cell_type": "code",
   "execution_count": 13,
   "metadata": {},
   "outputs": [
    {
     "data": {
      "text/plain": [
       "19×5 Matrix{Float64}:\n",
       " 36.0  35.0  74.0  58.0  48.0\n",
       " 27.4  26.9  15.3  11.6  11.5\n",
       "  7.4   7.2   5.2   5.7   4.5\n",
       "  2.6   2.0   2.0   2.3   1.6\n",
       "  7.6   6.7   4.7   5.5   3.0\n",
       " 34.7  29.6  42.2  42.6  52.4\n",
       "  0.5   0.7   0.4   0.1   0.0\n",
       "  2.1   2.8   1.7   0.5   0.1\n",
       " 25.0  23.5  24.4  22.6   0.0\n",
       "  1.6   2.6   0.9   0.9   1.3\n",
       "  2.3   3.4   1.3   1.3   1.9\n",
       " 69.9  76.5  67.0  68.9  67.4\n",
       "  0.7   0.5   0.5   1.0   1.0\n",
       "  3.4   2.0   1.7   0.9   1.5\n",
       "  4.1   2.4   2.2   1.9   2.5\n",
       "  1.9   3.7   1.0   0.8   0.3\n",
       "  0.4   1.1   0.5   0.6   0.3\n",
       "  0.4   0.5   0.3   0.1   0.4\n",
       "  1.3   1.6   1.0   1.0   0.8"
      ]
     },
     "metadata": {},
     "output_type": "display_data"
    }
   ],
   "source": [
    "x_train"
   ]
  },
  {
   "cell_type": "code",
   "execution_count": 16,
   "metadata": {},
   "outputs": [
    {
     "data": {
      "text/plain": [
       "myaccuracy (generic function with 1 method)"
      ]
     },
     "metadata": {},
     "output_type": "display_data"
    }
   ],
   "source": [
    "loss(x, y) = crossentropy(model(x), y) \n",
    "dataset = repeated((x_train,y_train),1);\n",
    "optim = ADAM()\n",
    "myaccuracy(x, y) = mean(onecold(model(x)) .== onecold(y))\n"
   ]
  },
  {
   "cell_type": "code",
   "execution_count": 17,
   "metadata": {},
   "outputs": [
    {
     "data": {
      "text/plain": [
       "Base.Iterators.Take{Base.Iterators.Repeated{Tuple{Matrix{Float64}, Flux.OneHotArray{UInt32, 2, 1, 2, Vector{UInt32}}}}}(Base.Iterators.Repeated{Tuple{Matrix{Float64}, Flux.OneHotArray{UInt32, 2, 1, 2, Vector{UInt32}}}}(([36.0 35.0 … 58.0 48.0; 27.4 26.9 … 11.6 11.5; … ; 0.4 0.5 … 0.1 0.4; 1.3 1.6 … 1.0 0.8], Bool[1 1 … 0 0; 0 0 … 1 1])), 1)"
      ]
     },
     "metadata": {},
     "output_type": "display_data"
    }
   ],
   "source": [
    "dataset"
   ]
  },
  {
   "cell_type": "code",
   "execution_count": 19,
   "metadata": {},
   "outputs": [],
   "source": [
    "Flux.train!(loss, Flux.params(model), dataset, optim)"
   ]
  }
 ],
 "metadata": {
  "kernelspec": {
   "display_name": "Julia 1.7.1",
   "language": "julia",
   "name": "julia-1.7"
  },
  "language_info": {
   "file_extension": ".jl",
   "mimetype": "application/julia",
   "name": "julia",
   "version": "1.7.1"
  },
  "orig_nbformat": 4
 },
 "nbformat": 4,
 "nbformat_minor": 2
}

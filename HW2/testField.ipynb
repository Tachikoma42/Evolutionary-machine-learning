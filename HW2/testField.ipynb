{
 "cells": [
  {
   "cell_type": "code",
   "execution_count": 1,
   "metadata": {},
   "outputs": [],
   "source": [
    "using Evolutionary\n",
    "using Flux\n",
    "using Flux: onehot, onecold, logitcrossentropy,onehotbatch, crossentropy \n",
    "using MLDatasets\n",
    "using Random\n",
    "#Sihao Ren // sren03 // 947105531\n",
    "using Statistics\n",
    "using MLJBase\n",
    "using Printf\n",
    "using BSON: @load # for load weights\n",
    "using Plots\n",
    "using DelimitedFiles\n",
    "import Evolutionary.initial_population\n",
    "using Zygote\n",
    "import Evolutionary.NonDifferentiable\n"
   ]
  },
  {
   "cell_type": "code",
   "execution_count": 2,
   "metadata": {},
   "outputs": [
    {
     "data": {
      "text/plain": [
       "TaskLocalRNG()"
      ]
     },
     "metadata": {},
     "output_type": "display_data"
    }
   ],
   "source": [
    "Random.seed!(63456345)\n"
   ]
  },
  {
   "cell_type": "code",
   "execution_count": 16,
   "metadata": {},
   "outputs": [],
   "source": [
    "rawdata = readdlm(\"data/test1.csv\",',',skipstart=1)';\n",
    "# one = 0\n",
    "# zero = 0\n",
    "# for i in rawdata[20,:]\n",
    "#     if i == 1\n",
    "#         one = one + 1\n",
    "#     else\n",
    "#         zero = zero + 1\n",
    "#     end\n",
    "# end\n",
    "\n",
    "# difference = one - zero\n",
    "\n",
    "# function newrand()\n",
    "#     randCol = zeros(0)\n",
    "#     push!(randCol, rand(10.0:99.0))\n",
    "#     push!(randCol, rand(5.3:40.2))\n",
    "#     push!(randCol, rand(1.1:15.1))\n",
    "#     push!(randCol, rand(0.1:8.1))\n",
    "#     push!(randCol, rand(1.1:15.1))\n",
    "#     push!(randCol, rand(30.1:60.1))\n",
    "#     push!(randCol, rand(0.1:0.9))\n",
    "#     push!(randCol, rand(0.1:4.1))\n",
    "#     push!(randCol, rand(20.1:50.1))\n",
    "#     push!(randCol, rand(0.1:5.1))\n",
    "#     push!(randCol, rand(0.1:7.1))\n",
    "#     push!(randCol, rand(45.1:99.1))\n",
    "#     push!(randCol, rand(0.1:5.1))\n",
    "#     push!(randCol, rand(0.1:5.1))\n",
    "#     push!(randCol, rand(0.1:7.1))\n",
    "#     push!(randCol, rand(0.1:7.1))\n",
    "#     push!(randCol, rand(0.1:3.1))\n",
    "#     push!(randCol, rand(0.1:3.1))\n",
    "#     push!(randCol, rand(0.1:5.1))\n",
    "#     if rand(0:1) == 0\n",
    "#         push!(randCol, 0.0)\n",
    "#     else\n",
    "#         push!(randCol, 1.0)\n",
    "#     end\n",
    "#     return randCol\n",
    "# end\n",
    "\n",
    "# for i = 1:size(rawdata,2)\n",
    "#     if rawdata[20,i] == 0 && difference > 0\n",
    "#         rawdata = hcat(rawdata, rawdata[:,i])\n",
    "#         rawdata = hcat(rawdata, newrand())\n",
    "\n",
    "#         difference = difference - 1\n",
    "#     end\n",
    "# end\n",
    "# filldata = rawdata[ :, shuffle(1:end)];\n"
   ]
  },
  {
   "cell_type": "code",
   "execution_count": 20,
   "metadata": {},
   "outputs": [
    {
     "data": {
      "text/plain": [
       "20×33 adjoint(::Matrix{Float64}) with eltype Float64:\n",
       " 36.0  35.0  74.0  58.0  48.0  75.0  …  76.0  78.0  51.0  64.0  55.0  82.0\n",
       " 27.4  26.9  15.3  11.6  11.5  11.4     22.5  22.0  20.7  20.3  20.3  19.6\n",
       "  7.4   7.2   5.2   5.7   4.5   3.7      8.8  10.1   8.4   6.2  10.4   7.4\n",
       "  2.6   2.0   2.0   2.3   1.6   1.5      3.8   3.9   3.2   2.4   4.3   3.1\n",
       "  7.6   6.7   4.7   5.5   3.0   3.5      9.2   8.7   6.4   4.4   8.1   7.3\n",
       " 34.7  29.6  42.2  42.6  52.4  42.3  …  41.5  44.7  49.7  55.2  52.9  41.9\n",
       "  0.5   0.7   0.4   0.1   0.0   0.3      0.0   0.7   0.0   0.0   0.0   0.0\n",
       "  2.1   2.8   1.7   0.5   0.1   1.1      0.1   1.8   0.0   0.0   0.0   0.3\n",
       " 25.0  23.5  24.4  22.6   0.0  32.5      0.0  39.0   0.0   0.0   0.0   4.3\n",
       "  1.6   2.6   0.9   0.9   1.3   0.4      1.2   1.6   2.0   1.4   1.8   1.2\n",
       "  2.3   3.4   1.3   1.3   1.9   0.5  …   1.6   2.2   2.9   2.4   3.6   1.5\n",
       " 69.9  76.5  67.0  68.9  67.4  73.2     73.6  74.1  66.7  57.2  51.5  80.6\n",
       "  0.7   0.5   0.5   1.0   1.0   0.2      1.7   0.9   2.3   2.5   2.1   0.6\n",
       "  3.4   2.0   1.7   0.9   1.5   0.7      3.4   2.0   3.1   3.9   4.1   1.4\n",
       "  4.1   2.4   2.2   1.9   2.5   0.8      5.1   3.0   5.4   6.4   6.1   2.0\n",
       "  1.9   3.7   1.0   0.8   0.3   1.8  …   1.7   2.2   0.8   0.5   0.7   3.9\n",
       "  0.4   1.1   0.5   0.6   0.3   0.4      0.8   1.2   0.5   0.4   0.4   1.0\n",
       "  0.4   0.5   0.3   0.1   0.4   0.0      0.5   0.3   0.5   1.2   1.5   0.3\n",
       "  1.3   1.6   1.0   1.0   0.8   0.7      1.3   1.2   1.5   0.8   1.4   1.7\n",
       "  0.0   0.0   0.0   1.0   1.0   0.0      1.0   0.0   1.0   1.0   1.0   1.0"
      ]
     },
     "metadata": {},
     "output_type": "display_data"
    }
   ],
   "source": [
    "filldata = rawdata"
   ]
  },
  {
   "cell_type": "code",
   "execution_count": 19,
   "metadata": {},
   "outputs": [
    {
     "data": {
      "text/plain": [
       "20-element Vector{Float64}:\n",
       " 36.0\n",
       " 27.4\n",
       "  7.4\n",
       "  2.6\n",
       "  7.6\n",
       " 34.7\n",
       "  0.5\n",
       "  2.1\n",
       " 25.0\n",
       "  1.6\n",
       "  2.3\n",
       " 69.9\n",
       "  0.7\n",
       "  3.4\n",
       "  4.1\n",
       "  1.9\n",
       "  0.4\n",
       "  0.4\n",
       "  1.3\n",
       "  0.0"
      ]
     },
     "metadata": {},
     "output_type": "display_data"
    }
   ],
   "source": [
    "rawdata[:,1]"
   ]
  },
  {
   "cell_type": "code",
   "execution_count": 21,
   "metadata": {},
   "outputs": [],
   "source": [
    "x = filldata[1:19, :]\n",
    "y = filldata[20, :];\n",
    "\n",
    "x_train = x[:,1:floor(Int, size(x,2)*0.7)]\n",
    "y_train = y[1:floor(Int, size(x,2)*0.7)]\n",
    "x_test = x[:,floor(Int, size(x,2)*0.7)+1:end]\n",
    "y_test = y[floor(Int, size(x,2)*0.7)+1:end];"
   ]
  },
  {
   "cell_type": "code",
   "execution_count": 25,
   "metadata": {},
   "outputs": [],
   "source": [
    "train_data = [ (x, onehot(l, unique(y_train))) for (x, l) in zip(eachcol(x_train), y_train)]\n",
    "test_data = [ (x, onehot(l, unique(y_test))) for (x, l) in zip(eachcol(x_test), y_test)];\n"
   ]
  },
  {
   "cell_type": "code",
   "execution_count": 26,
   "metadata": {},
   "outputs": [
    {
     "data": {
      "text/plain": [
       "23-element Vector{Tuple{SubArray{Float64, 1, Matrix{Float64}, Tuple{Base.Slice{Base.OneTo{Int64}}, Int64}, true}, Flux.OneHotArray{UInt32, 2, 0, 1, UInt32}}}:\n",
       " ([36.0, 27.4, 7.4, 2.6, 7.6, 34.7, 0.5, 2.1, 25.0, 1.6, 2.3, 69.9, 0.7, 3.4, 4.1, 1.9, 0.4, 0.4, 1.3], [1, 0])\n",
       " ([35.0, 26.9, 7.2, 2.0, 6.7, 29.6, 0.7, 2.8, 23.5, 2.6, 3.4, 76.5, 0.5, 2.0, 2.4, 3.7, 1.1, 0.5, 1.6], [1, 0])\n",
       " ([74.0, 15.3, 5.2, 2.0, 4.7, 42.2, 0.4, 1.7, 24.4, 0.9, 1.3, 67.0, 0.5, 1.7, 2.2, 1.0, 0.5, 0.3, 1.0], [1, 0])\n",
       " ([58.0, 11.6, 5.7, 2.3, 5.5, 42.6, 0.1, 0.5, 22.6, 0.9, 1.3, 68.9, 1.0, 0.9, 1.9, 0.8, 0.6, 0.1, 1.0], [0, 1])\n",
       " ([48.0, 11.5, 4.5, 1.6, 3.0, 52.4, 0.0, 0.1, 0.0, 1.3, 1.9, 67.4, 1.0, 1.5, 2.5, 0.3, 0.3, 0.4, 0.8], [0, 1])\n",
       " ([75.0, 11.4, 3.7, 1.5, 3.5, 42.3, 0.3, 1.1, 32.5, 0.4, 0.5, 73.2, 0.2, 0.7, 0.8, 1.8, 0.4, 0.0, 0.7], [1, 0])\n",
       " ([62.0, 10.9, 6.6, 2.5, 5.8, 43.5, 0.0, 0.1, 50.0, 1.5, 1.8, 81.1, 0.5, 1.4, 2.0, 0.6, 0.2, 0.1, 0.7], [0, 1])\n",
       " ([48.0, 10.3, 5.7, 2.3, 5.4, 41.5, 0.4, 1.5, 30.0, 0.7, 0.8, 87.5, 0.8, 0.9, 1.7, 0.2, 0.2, 0.1, 0.7], [0, 1])\n",
       " ([65.0, 9.9, 2.4, 1.0, 2.4, 39.2, 0.1, 0.5, 23.3, 0.4, 0.5, 71.4, 0.2, 0.6, 0.8, 2.3, 0.3, 0.0, 1.1], [1, 0])\n",
       " ([42.0, 8.5, 3.7, 1.4, 3.5, 38.3, 0.1, 0.3, 21.4, 1.0, 1.4, 67.8, 0.4, 0.7, 1.1, 0.3, 0.2, 0.0, 0.7], [1, 0])\n",
       " ⋮\n",
       " ([44.0, 6.4, 2.4, 1.0, 1.9, 53.7, 0.0, 0.0, 0.0, 0.4, 0.7, 50.0, 0.4, 1.0, 1.4, 0.2, 0.2, 0.4, 0.6], [0, 1])\n",
       " ([40.0, 6.1, 2.6, 0.9, 1.8, 51.4, 0.1, 0.4, 14.3, 0.7, 1.0, 68.4, 0.1, 0.3, 0.4, 1.4, 0.3, 0.0, 0.8], [0, 1])\n",
       " ([49.0, 5.3, 2.1, 0.7, 1.9, 37.6, 0.0, 0.0, 0.0, 0.7, 1.1, 64.2, 0.5, 0.7, 1.2, 0.2, 0.3, 0.2, 0.5], [1, 0])\n",
       " ([41.0, 4.2, 1.7, 0.6, 1.6, 34.8, 0.1, 0.3, 21.4, 0.5, 0.6, 73.1, 0.1, 0.2, 0.3, 1.0, 0.3, 0.0, 0.4], [1, 0])\n",
       " ([82.0, 37.2, 19.2, 7.5, 15.3, 49.0, 0.1, 0.3, 22.7, 4.1, 5.0, 82.9, 3.9, 7.0, 11.0, 3.6, 1.0, 0.6, 1.9], [1, 0])\n",
       " ([82.0, 37.2, 19.2, 7.5, 15.3, 49.0, 0.1, 0.3, 22.7, 4.1, 5.0, 82.9, 3.9, 7.0, 11.0, 3.6, 1.0, 0.6, 1.9], [0, 1])\n",
       " ([80.0, 31.4, 14.3, 5.9, 11.1, 52.5, 0.0, 0.1, 11.1, 2.6, 3.9, 65.4, 3.0, 5.0, 8.0, 2.4, 1.1, 0.8, 2.2], [0, 1])\n",
       " ([82.0, 30.5, 13.3, 5.4, 11.0, 48.9, 0.0, 0.1, 16.7, 2.6, 3.9, 66.6, 2.3, 2.8, 5.1, 2.5, 1.5, 0.3, 2.2], [0, 1])\n",
       " ([76.0, 30.3, 10.6, 4.4, 11.7, 37.5, 0.1, 0.4, 13.3, 1.8, 2.4, 73.0, 1.1, 1.8, 2.9, 2.2, 2.0, 0.2, 2.0], [0, 1])"
      ]
     },
     "metadata": {},
     "output_type": "display_data"
    }
   ],
   "source": [
    "train_data"
   ]
  },
  {
   "cell_type": "code",
   "execution_count": 27,
   "metadata": {},
   "outputs": [
    {
     "data": {
      "text/plain": [
       "19-element Vector{Float64}:\n",
       " 36.0\n",
       " 27.4\n",
       "  7.4\n",
       "  2.6\n",
       "  7.6\n",
       " 34.7\n",
       "  0.5\n",
       "  2.1\n",
       " 25.0\n",
       "  1.6\n",
       "  2.3\n",
       " 69.9\n",
       "  0.7\n",
       "  3.4\n",
       "  4.1\n",
       "  1.9\n",
       "  0.4\n",
       "  0.4\n",
       "  1.3"
      ]
     },
     "metadata": {},
     "output_type": "display_data"
    }
   ],
   "source": [
    "x_train[:,1]"
   ]
  },
  {
   "cell_type": "code",
   "execution_count": 5,
   "metadata": {},
   "outputs": [
    {
     "data": {
      "text/plain": [
       "Flux.Data.DataLoader{Tuple{Matrix{Float64}, Flux.OneHotArray{UInt32, 2, 1, 2, Vector{UInt32}}}, Random._GLOBAL_RNG}(([66.0 64.0 … 79.0 66.0; 21.4 17.3 … 13.4 27.2; … ; 1.0 0.4 … 0.3 0.3; 0.7 0.9 … 0.7 1.8], Bool[1 0 … 0 0; 0 1 … 1 1]), 1, 1388, true, 1388, [1, 2, 3, 4, 5, 6, 7, 8, 9, 10  …  1379, 1380, 1381, 1382, 1383, 1384, 1385, 1386, 1387, 1388], false, Random._GLOBAL_RNG())"
      ]
     },
     "metadata": {},
     "output_type": "display_data"
    }
   ],
   "source": [
    "#dataset = Flux.Data.DataLoader((x_train, y_train), batchsize=1) "
   ]
  },
  {
   "cell_type": "code",
   "execution_count": 28,
   "metadata": {},
   "outputs": [
    {
     "data": {
      "text/plain": [
       "loss (generic function with 3 methods)"
      ]
     },
     "metadata": {},
     "output_type": "display_data"
    }
   ],
   "source": [
    "# loss(x, y) = crossentropy(model(x), y) \n",
    "# # optim = Descent(0.1)\n",
    "# # optim = ADAM()\n",
    "# accuracy(x, y) = mean(onecold(model(x)) .== onecold(y))\n",
    "\n",
    "accuracy(model,x,y) = mean(onecold(model(x)) .== onecold(y))\n",
    "accuracy(xy, model) = mean( onecold(model(x)) .== onecold(y) for (x,y) in xy)\n",
    "\n",
    "loss(model) = (x,y)->logitcrossentropy(model(x), y)\n",
    "loss(model,x,y) = loss(model)(x, y)\n",
    "loss(xy, model) = loss(model)(hcat(map(first,xy)...), hcat(map(last,xy)...))"
   ]
  },
  {
   "cell_type": "code",
   "execution_count": null,
   "metadata": {},
   "outputs": [],
   "source": []
  },
  {
   "cell_type": "code",
   "execution_count": 29,
   "metadata": {},
   "outputs": [
    {
     "data": {
      "text/plain": [
       "fitness (generic function with 1 method)"
      ]
     },
     "metadata": {},
     "output_type": "display_data"
    }
   ],
   "source": [
    "fitness(m) = loss(train_data, m)"
   ]
  },
  {
   "cell_type": "code",
   "execution_count": 30,
   "metadata": {},
   "outputs": [
    {
     "data": {
      "text/plain": [
       "Chain(\n",
       "  Dense(19, 38, σ),                     \u001b[90m# 760 parameters\u001b[39m\n",
       "  Dense(38, 2),                         \u001b[90m# 78 parameters\u001b[39m\n",
       ")\u001b[90m                   # Total: 4 arrays, \u001b[39m838 parameters, 3.523 KiB."
      ]
     },
     "metadata": {},
     "output_type": "display_data"
    }
   ],
   "source": [
    "l1 = Dense(19, 2*19, sigmoid)\n",
    "l2 = Dense(2*19, 2)\n",
    "model = Chain(l1, l2)\n"
   ]
  },
  {
   "cell_type": "code",
   "execution_count": 9,
   "metadata": {},
   "outputs": [],
   "source": [
    "loadpath = string(\"models/model\",2,\".bson\")\n",
    "@load loadpath weights\n",
    "Flux.loadparams!(model, weights)"
   ]
  },
  {
   "cell_type": "code",
   "execution_count": 31,
   "metadata": {},
   "outputs": [
    {
     "data": {
      "text/plain": [
       "0.6653784063182596"
      ]
     },
     "metadata": {},
     "output_type": "display_data"
    }
   ],
   "source": [
    "fitness(model)"
   ]
  },
  {
   "cell_type": "code",
   "execution_count": 35,
   "metadata": {},
   "outputs": [
    {
     "data": {
      "text/plain": [
       "2-element Vector{Float64}:\n",
       " 0.2804804784661032\n",
       " 0.7195195215338968"
      ]
     },
     "metadata": {},
     "output_type": "display_data"
    }
   ],
   "source": [
    "softmax(model(x_train[:,6]))"
   ]
  },
  {
   "cell_type": "code",
   "execution_count": 36,
   "metadata": {},
   "outputs": [
    {
     "data": {
      "text/plain": [
       "uniform_mlp (generic function with 1 method)"
      ]
     },
     "metadata": {},
     "output_type": "display_data"
    }
   ],
   "source": [
    "function uniform_mlp(m1::T, m2::T) where {T <: Chain}\n",
    "    θ1, re1 = Flux.destructure(m1);\n",
    "    θ2, re2 = Flux.destructure(m2);\n",
    "    c1, c2 =uniform(θ1,θ2)\n",
    "    return re1(c1), re2(c2)\n",
    "end"
   ]
  },
  {
   "cell_type": "code",
   "execution_count": 37,
   "metadata": {},
   "outputs": [
    {
     "data": {
      "text/plain": [
       "(Chain(Dense(19, 38, σ), Dense(38, 2)), Chain(Dense(19, 38, σ), Dense(38, 2)))"
      ]
     },
     "metadata": {},
     "output_type": "display_data"
    }
   ],
   "source": [
    "uniform_mlp(model, model)"
   ]
  },
  {
   "cell_type": "code",
   "execution_count": 38,
   "metadata": {},
   "outputs": [
    {
     "data": {
      "text/plain": [
       "gaussian_mlp (generic function with 2 methods)"
      ]
     },
     "metadata": {},
     "output_type": "display_data"
    }
   ],
   "source": [
    "function gaussian_mlp(σ::Real = 1.0)\n",
    "    vop = gaussian(σ)\n",
    "    function mutation(recombinant::T) where {T <: Chain}        \n",
    "        θ, re = Flux.destructure(recombinant)\n",
    "        return re(convert(Vector{Float32}, vop(θ)))\n",
    "    end\n",
    "    return mutation\n",
    "end"
   ]
  },
  {
   "cell_type": "code",
   "execution_count": 27,
   "metadata": {},
   "outputs": [
    {
     "data": {
      "text/plain": [
       "Chain(\n",
       "  Dense(19, 38, σ),                     \u001b[90m# 760 parameters\u001b[39m\n",
       "  Dense(38, 2),                         \u001b[90m# 78 parameters\u001b[39m\n",
       ")\u001b[90m                   # Total: 4 arrays, \u001b[39m838 parameters, 3.523 KiB."
      ]
     },
     "metadata": {},
     "output_type": "display_data"
    }
   ],
   "source": [
    "gaussian_mlp(0.5)(model)"
   ]
  },
  {
   "cell_type": "code",
   "execution_count": 39,
   "metadata": {},
   "outputs": [
    {
     "data": {
      "text/plain": [
       "initial_population (generic function with 6 methods)"
      ]
     },
     "metadata": {},
     "output_type": "display_data"
    }
   ],
   "source": [
    "function initial_population(method::M, individual::Chain) where {M<:Evolutionary.AbstractOptimizer}\n",
    "    θ, re = Flux.destructure(individual);\n",
    "    [re(randn(length(θ))) for i in 1:Evolutionary.population_size(method)]\n",
    "end"
   ]
  },
  {
   "cell_type": "code",
   "execution_count": 40,
   "metadata": {},
   "outputs": [
    {
     "data": {
      "text/plain": [
       "NonDifferentiable"
      ]
     },
     "metadata": {},
     "output_type": "display_data"
    }
   ],
   "source": [
    "NonDifferentiable(f, x::Chain) = NonDifferentiable{Real,typeof(x)}(f, f(x), deepcopy(x), [0,])"
   ]
  },
  {
   "cell_type": "code",
   "execution_count": 30,
   "metadata": {},
   "outputs": [
    {
     "data": {
      "text/plain": [
       "NonDifferentiable{Real, Chain{Tuple{Dense{typeof(σ), Matrix{Float32}, Vector{Float32}}, Dense{typeof(identity), Matrix{Float32}, Vector{Float32}}}}}(fitness, 0.9592131483511529, Chain(Dense(19, 38, σ), Dense(38, 2)), [0])"
      ]
     },
     "metadata": {},
     "output_type": "display_data"
    }
   ],
   "source": [
    "NonDifferentiable(fitness, model)"
   ]
  },
  {
   "cell_type": "code",
   "execution_count": 41,
   "metadata": {},
   "outputs": [
    {
     "data": {
      "text/plain": [
       "copyto! (generic function with 140 methods)"
      ]
     },
     "metadata": {},
     "output_type": "display_data"
    }
   ],
   "source": [
    "import Base: copy, copyto!\n",
    "copy(ch::Chain) = deepcopy(ch)\n",
    "\n",
    "function copyto!(l1::Dense{T}, l2::Dense{T}) where {T}\n",
    "    copyto!(l1.W, l2.W)\n",
    "    copyto!(l1.b, l2.b)\n",
    "    l1\n",
    "end\n",
    "\n",
    "function copyto!(ch1::Chain, ch2::Chain)\n",
    "    for i in 1:length(ch1.layers)\n",
    "        copyto!(ch1.layers[i],ch2.layers[i])\n",
    "    end\n",
    "    ch1\n",
    "end\n"
   ]
  },
  {
   "cell_type": "code",
   "execution_count": 42,
   "metadata": {},
   "outputs": [
    {
     "data": {
      "text/plain": [
       "                  abstol = 1.0e-32\n",
       "                  reltol = 1.0e-32\n",
       "        successive_f_tol = 10\n",
       "              iterations = 100\n",
       "             store_trace = true\n",
       "              show_trace = true\n",
       "              show_every = 10\n",
       "                callback = nothing\n"
      ]
     },
     "metadata": {},
     "output_type": "display_data"
    }
   ],
   "source": [
    "opts = Evolutionary.Options(iterations=1, show_every=10, show_trace=false, store_trace=false)"
   ]
  },
  {
   "cell_type": "code",
   "execution_count": 67,
   "metadata": {},
   "outputs": [
    {
     "data": {
      "text/plain": [
       "GA(1000, 0.95, 2.0, 2.0e-6, Evolutionary.rouletteinv, uniform_mlp, var\"#mutation#23\"{Evolutionary.var\"#mutation#29\"{Float64}}(Evolutionary.var\"#mutation#29\"{Float64}(2.0)))"
      ]
     },
     "metadata": {},
     "output_type": "display_data"
    }
   ],
   "source": [
    "algo = GA(\n",
    "        selection = rouletteinv,\n",
    "        mutation =  gaussian_mlp(2.0),\n",
    "        crossover = uniform_mlp,\n",
    "        mutationRate = 2.0,\n",
    "        crossoverRate = 0.95,\n",
    "        populationSize = 1000,\n",
    "        ε = 0.000002\n",
    "    )"
   ]
  },
  {
   "cell_type": "code",
   "execution_count": 88,
   "metadata": {},
   "outputs": [
    {
     "name": "stdout",
     "output_type": "stream",
     "text": [
      "Iter     Function value\n",
      "     0   1.5006203697162723\n",
      " * time: 0.0009999275207519531\n"
     ]
    },
    {
     "name": "stdout",
     "output_type": "stream",
     "text": [
      "    10   0.5019702531741774\n",
      " * time: 1.4470000267028809\n"
     ]
    },
    {
     "name": "stdout",
     "output_type": "stream",
     "text": [
      "    20   0.4885650522969209\n",
      " * time: 2.3999998569488525\n"
     ]
    },
    {
     "name": "stdout",
     "output_type": "stream",
     "text": [
      "    30   0.49752150691439645\n",
      " * time: 3.3550000190734863\n"
     ]
    },
    {
     "name": "stdout",
     "output_type": "stream",
     "text": [
      "    40   0.49260840627095354\n",
      " * time: 4.336999893188477\n"
     ]
    },
    {
     "name": "stdout",
     "output_type": "stream",
     "text": [
      "    50   0.5166558553933048\n",
      " * time: 5.3999998569488525\n"
     ]
    },
    {
     "name": "stdout",
     "output_type": "stream",
     "text": [
      "    60   0.47522921152512615\n",
      " * time: 6.444000005722046\n"
     ]
    },
    {
     "name": "stdout",
     "output_type": "stream",
     "text": [
      "    70   0.49119486075774516\n",
      " * time: 7.639999866485596\n"
     ]
    },
    {
     "name": "stdout",
     "output_type": "stream",
     "text": [
      "    80   0.4660619305042051\n",
      " * time: 8.803999900817871\n"
     ]
    },
    {
     "name": "stdout",
     "output_type": "stream",
     "text": [
      "    90   0.48378619151270325\n",
      " * time: 10.047999858856201\n"
     ]
    },
    {
     "name": "stdout",
     "output_type": "stream",
     "text": [
      "   100   0.4745392152687743\n",
      " * time: 11.325999975204468\n"
     ]
    },
    {
     "name": "stderr",
     "output_type": "stream",
     "text": [
      "┌ Info: MLP\n",
      "│   loss = 0.4745392152687743\n",
      "│   accuracy = 0.782608695652174\n",
      "└ @ Main c:\\Users\\xkzmx\\Documents\\Odyssey\\School\\Evolution\\HW2\\testField.ipynb:3\n"
     ]
    }
   ],
   "source": [
    "res = Evolutionary.optimize(fitness, evomodel, algo, opts)\n",
    "evomodel= Evolutionary.minimizer(res)\n",
    "@info \"MLP\" loss=loss(train_data, evomodel) accuracy = accuracy(train_data, evomodel)"
   ]
  },
  {
   "cell_type": "code",
   "execution_count": 104,
   "metadata": {},
   "outputs": [
    {
     "data": {
      "text/plain": [
       "myaccuracy (generic function with 2 methods)"
      ]
     },
     "metadata": {},
     "output_type": "display_data"
    }
   ],
   "source": [
    "opts = Evolutionary.Options(iterations=1, show_every=10, show_trace=false, store_trace=false)\n",
    "algo = GA(\n",
    "        selection = rouletteinv,\n",
    "        mutation =  gaussian_mlp(2.0),\n",
    "        crossover = uniform_mlp,\n",
    "        mutationRate = 2.0,\n",
    "        crossoverRate = 0.95,\n",
    "        populationSize = 100,\n",
    "        ε = 0.000002\n",
    "    )\n",
    "myaccuracy(model,x,y) = mean(onecold(model(x)) .== onecold(y))\n"
   ]
  },
  {
   "cell_type": "code",
   "execution_count": 105,
   "metadata": {},
   "outputs": [],
   "source": [
    "epochs = 50 # the number of epochs\n",
    "save_resultTest = zeros(epochs);\n",
    "save_resultTrain = zeros(epochs);\n",
    "\n",
    "for i in 1:10\n",
    "    l1 = Dense(19, 2*19, sigmoid)\n",
    "    l2 = Dense(2*19, 2)\n",
    "    model = Chain(l1, l2)\n",
    "\n",
    "    loadpath = string(\"models/model\",i,\".bson\")\n",
    "    @load loadpath weights\n",
    "    Flux.loadparams!(model, weights)\n",
    "    res = Evolutionary.optimize(fitness, evomodel, algo, opts)\n",
    "    evomodel= Evolutionary.minimizer(res)\n",
    "\n",
    "    for j in 1:epochs\n",
    "        res = Evolutionary.optimize(fitness, evomodel, algo, opts)\n",
    "        evomodel= Evolutionary.minimizer(res)\n",
    "        # if j%(epochs/5) == 0\n",
    "        # #@printf(\"Loss in expirment %d epoch: %d in test data is %f\\n\",i, j, loss(x_test, y_test))\n",
    "        # end\n",
    "        save_resultTest[j] = save_resultTest[j] + accuracy(test_data, evomodel)\n",
    "        save_resultTrain[j] = save_resultTrain[j] + accuracy(train_data, evomodel)\n",
    "    end\n",
    "end"
   ]
  },
  {
   "cell_type": "code",
   "execution_count": 106,
   "metadata": {},
   "outputs": [
    {
     "data": {
      "image/png": "[encoded data removed]",
      "image/svg+xml": "<?xml version=\"1.0\" encoding=\"utf-8\"?>\n<svg xmlns=\"http://www.w3.org/2000/svg\" xmlns:xlink=\"http://www.w3.org/1999/xlink\" width=\"600\" height=\"400\" viewBox=\"0 0 2400 1600\">\n<defs>\n  <clipPath id=\"clip260\">\n    <rect x=\"0\" y=\"0\" width=\"2400\" height=\"1600\"/>\n  </clipPath>\n</defs>\n<path clip-path=\"url(#clip260)\" d=\"\nM0 1600 L2400 1600 L2400 0 L0 0  Z\n  \" fill=\"#ffffff\" fill-rule=\"evenodd\" fill-opacity=\"1\"/>\n<defs>\n  <clipPath id=\"clip261\">\n    <rect x=\"480\" y=\"0\" width=\"1681\" height=\"1600\"/>\n  </clipPath>\n</defs>\n<path clip-path=\"url(#clip260)\" d=\"\nM707.632 1486.45 L2352.76 1486.45 L2352.76 123.472 L707.632 123.472  Z\n  \" fill=\"#ffffff\" fill-rule=\"evenodd\" fill-opacity=\"1\"/>\n<defs>\n  <clipPath id=\"clip262\">\n    <rect x=\"707\" y=\"123\" width=\"1646\" height=\"1364\"/>\n  </clipPath>\n</defs>\n<polyline clip-path=\"url(#clip262)\" style=\"stroke:#000000; stroke-linecap:butt; stroke-linejoin:round; stroke-width:2; stroke-opacity:0.1; fill:none\" points=\"\n  754.193,1486.45 754.193,123.472 \n  \"/>\n<polyline clip-path=\"url(#clip262)\" style=\"stroke:#000000; stroke-linecap:butt; stroke-linejoin:round; stroke-width:2; stroke-opacity:0.1; fill:none\" points=\"\n  1150.92,1486.45 1150.92,123.472 \n  \"/>\n<polyline clip-path=\"url(#clip262)\" style=\"stroke:#000000; stroke-linecap:butt; stroke-linejoin:round; stroke-width:2; stroke-opacity:0.1; fill:none\" points=\"\n  1547.65,1486.45 1547.65,123.472 \n  \"/>\n<polyline clip-path=\"url(#clip262)\" style=\"stroke:#000000; stroke-linecap:butt; stroke-linejoin:round; stroke-width:2; stroke-opacity:0.1; fill:none\" points=\"\n  1944.37,1486.45 1944.37,123.472 \n  \"/>\n<polyline clip-path=\"url(#clip262)\" style=\"stroke:#000000; stroke-linecap:butt; stroke-linejoin:round; stroke-width:2; stroke-opacity:0.1; fill:none\" points=\"\n  2341.1,1486.45 2341.1,123.472 \n  \"/>\n<polyline clip-path=\"url(#clip260)\" style=\"stroke:#000000; stroke-linecap:butt; stroke-linejoin:round; stroke-width:4; stroke-opacity:1; fill:none\" points=\"\n  707.632,1486.45 2352.76,1486.45 \n  \"/>\n<polyline clip-path=\"url(#clip260)\" style=\"stroke:#000000; stroke-linecap:butt; stroke-linejoin:round; stroke-width:4; stroke-opacity:1; fill:none\" points=\"\n  754.193,1486.45 754.193,1467.55 \n  \"/>\n<polyline clip-path=\"url(#clip260)\" style=\"stroke:#000000; stroke-linecap:butt; stroke-linejoin:round; stroke-width:4; stroke-opacity:1; fill:none\" points=\"\n  1150.92,1486.45 1150.92,1467.55 \n  \"/>\n<polyline clip-path=\"url(#clip260)\" style=\"stroke:#000000; stroke-linecap:butt; stroke-linejoin:round; stroke-width:4; stroke-opacity:1; fill:none\" points=\"\n  1547.65,1486.45 1547.65,1467.55 \n  \"/>\n<polyline clip-path=\"url(#clip260)\" style=\"stroke:#000000; stroke-linecap:butt; stroke-linejoin:round; stroke-width:4; stroke-opacity:1; fill:none\" points=\"\n  1944.37,1486.45 1944.37,1467.55 \n  \"/>\n<polyline clip-path=\"url(#clip260)\" style=\"stroke:#000000; stroke-linecap:butt; stroke-linejoin:round; stroke-width:4; stroke-opacity:1; fill:none\" points=\"\n  2341.1,1486.45 2341.1,1467.55 \n  \"/>\n<path clip-path=\"url(#clip260)\" d=\"M754.193 1517.37 Q750.581 1517.37 748.753 1520.93 Q746.947 1524.47 746.947 1531.6 Q746.947 1538.71 748.753 1542.27 Q750.581 1545.82 754.193 1545.82 Q757.827 1545.82 759.632 1542.27 Q761.461 1538.71 761.461 1531.6 Q761.461 1524.47 759.632 1520.93 Q757.827 1517.37 754.193 1517.37 M754.193 1513.66 Q760.003 1513.66 763.058 1518.27 Q766.137 1522.85 766.137 1531.6 Q766.137 1540.33 763.058 1544.94 Q760.003 1549.52 754.193 1549.52 Q748.382 1549.52 745.304 1544.94 Q742.248 1540.33 742.248 1531.6 Q742.248 1522.85 745.304 1518.27 Q748.382 1513.66 754.193 1513.66 Z\" fill=\"#000000\" fill-rule=\"evenodd\" fill-opacity=\"1\" /><path clip-path=\"url(#clip260)\" d=\"M1141.3 1544.91 L1148.94 1544.91 L1148.94 1518.55 L1140.63 1520.21 L1140.63 1515.95 L1148.89 1514.29 L1153.57 1514.29 L1153.57 1544.91 L1161.21 1544.91 L1161.21 1548.85 L1141.3 1548.85 L1141.3 1544.91 Z\" fill=\"#000000\" fill-rule=\"evenodd\" fill-opacity=\"1\" /><path clip-path=\"url(#clip260)\" d=\"M1542.3 1544.91 L1558.62 1544.91 L1558.62 1548.85 L1536.67 1548.85 L1536.67 1544.91 Q1539.34 1542.16 1543.92 1537.53 Q1548.53 1532.88 1549.71 1531.53 Q1551.95 1529.01 1552.83 1527.27 Q1553.73 1525.51 1553.73 1523.82 Q1553.73 1521.07 1551.79 1519.33 Q1549.87 1517.6 1546.77 1517.6 Q1544.57 1517.6 1542.11 1518.36 Q1539.68 1519.13 1536.9 1520.68 L1536.9 1515.95 Q1539.73 1514.82 1542.18 1514.24 Q1544.64 1513.66 1546.67 1513.66 Q1552.04 1513.66 1555.24 1516.35 Q1558.43 1519.03 1558.43 1523.52 Q1558.43 1525.65 1557.62 1527.57 Q1556.84 1529.47 1554.73 1532.07 Q1554.15 1532.74 1551.05 1535.95 Q1547.95 1539.15 1542.3 1544.91 Z\" fill=\"#000000\" fill-rule=\"evenodd\" fill-opacity=\"1\" /><path clip-path=\"url(#clip260)\" d=\"M1948.62 1530.21 Q1951.98 1530.93 1953.85 1533.2 Q1955.75 1535.47 1955.75 1538.8 Q1955.75 1543.92 1952.23 1546.72 Q1948.71 1549.52 1942.23 1549.52 Q1940.05 1549.52 1937.74 1549.08 Q1935.45 1548.66 1932.99 1547.81 L1932.99 1543.29 Q1934.94 1544.43 1937.25 1545.01 Q1939.57 1545.58 1942.09 1545.58 Q1946.49 1545.58 1948.78 1543.85 Q1951.1 1542.11 1951.1 1538.8 Q1951.1 1535.75 1948.94 1534.03 Q1946.81 1532.3 1942.99 1532.3 L1938.97 1532.3 L1938.97 1528.45 L1943.18 1528.45 Q1946.63 1528.45 1948.46 1527.09 Q1950.29 1525.7 1950.29 1523.11 Q1950.29 1520.45 1948.39 1519.03 Q1946.51 1517.6 1942.99 1517.6 Q1941.07 1517.6 1938.87 1518.01 Q1936.68 1518.43 1934.04 1519.31 L1934.04 1515.14 Q1936.7 1514.4 1939.01 1514.03 Q1941.35 1513.66 1943.41 1513.66 Q1948.74 1513.66 1951.84 1516.09 Q1954.94 1518.5 1954.94 1522.62 Q1954.94 1525.49 1953.3 1527.48 Q1951.65 1529.45 1948.62 1530.21 Z\" fill=\"#000000\" fill-rule=\"evenodd\" fill-opacity=\"1\" /><path clip-path=\"url(#clip260)\" d=\"M2344.11 1518.36 L2332.3 1536.81 L2344.11 1536.81 L2344.11 1518.36 M2342.88 1514.29 L2348.76 1514.29 L2348.76 1536.81 L2353.69 1536.81 L2353.69 1540.7 L2348.76 1540.7 L2348.76 1548.85 L2344.11 1548.85 L2344.11 1540.7 L2328.51 1540.7 L2328.51 1536.19 L2342.88 1514.29 Z\" fill=\"#000000\" fill-rule=\"evenodd\" fill-opacity=\"1\" /><polyline clip-path=\"url(#clip262)\" style=\"stroke:#000000; stroke-linecap:butt; stroke-linejoin:round; stroke-width:2; stroke-opacity:0.1; fill:none\" points=\"\n  707.632,1264.18 2352.76,1264.18 \n  \"/>\n<polyline clip-path=\"url(#clip262)\" style=\"stroke:#000000; stroke-linecap:butt; stroke-linejoin:round; stroke-width:2; stroke-opacity:0.1; fill:none\" points=\"\n  707.632,1034.57 2352.76,1034.57 \n  \"/>\n<polyline clip-path=\"url(#clip262)\" style=\"stroke:#000000; stroke-linecap:butt; stroke-linejoin:round; stroke-width:2; stroke-opacity:0.1; fill:none\" points=\"\n  707.632,804.96 2352.76,804.96 \n  \"/>\n<polyline clip-path=\"url(#clip262)\" style=\"stroke:#000000; stroke-linecap:butt; stroke-linejoin:round; stroke-width:2; stroke-opacity:0.1; fill:none\" points=\"\n  707.632,575.348 2352.76,575.348 \n  \"/>\n<polyline clip-path=\"url(#clip262)\" style=\"stroke:#000000; stroke-linecap:butt; stroke-linejoin:round; stroke-width:2; stroke-opacity:0.1; fill:none\" points=\"\n  707.632,345.736 2352.76,345.736 \n  \"/>\n<polyline clip-path=\"url(#clip260)\" style=\"stroke:#000000; stroke-linecap:butt; stroke-linejoin:round; stroke-width:4; stroke-opacity:1; fill:none\" points=\"\n  707.632,1486.45 707.632,123.472 \n  \"/>\n<polyline clip-path=\"url(#clip260)\" style=\"stroke:#000000; stroke-linecap:butt; stroke-linejoin:round; stroke-width:4; stroke-opacity:1; fill:none\" points=\"\n  707.632,1264.18 721.982,1264.18 \n  \"/>\n<polyline clip-path=\"url(#clip260)\" style=\"stroke:#000000; stroke-linecap:butt; stroke-linejoin:round; stroke-width:4; stroke-opacity:1; fill:none\" points=\"\n  707.632,1034.57 721.982,1034.57 \n  \"/>\n<polyline clip-path=\"url(#clip260)\" style=\"stroke:#000000; stroke-linecap:butt; stroke-linejoin:round; stroke-width:4; stroke-opacity:1; fill:none\" points=\"\n  707.632,804.96 721.982,804.96 \n  \"/>\n<polyline clip-path=\"url(#clip260)\" style=\"stroke:#000000; stroke-linecap:butt; stroke-linejoin:round; stroke-width:4; stroke-opacity:1; fill:none\" points=\"\n  707.632,575.348 721.982,575.348 \n  \"/>\n<polyline clip-path=\"url(#clip260)\" style=\"stroke:#000000; stroke-linecap:butt; stroke-linejoin:round; stroke-width:4; stroke-opacity:1; fill:none\" points=\"\n  707.632,345.736 721.982,345.736 \n  \"/>\n<path clip-path=\"url(#clip260)\" d=\"M585.29 1249.98 Q581.679 1249.98 579.851 1253.55 Q578.045 1257.09 578.045 1264.22 Q578.045 1271.32 579.851 1274.89 Q581.679 1278.43 585.29 1278.43 Q588.925 1278.43 590.73 1274.89 Q592.559 1271.32 592.559 1264.22 Q592.559 1257.09 590.73 1253.55 Q588.925 1249.98 585.29 1249.98 M585.29 1246.28 Q591.1 1246.28 594.156 1250.89 Q597.235 1255.47 597.235 1264.22 Q597.235 1272.95 594.156 1277.55 Q591.1 1282.13 585.29 1282.13 Q579.48 1282.13 576.401 1277.55 Q573.346 1272.95 573.346 1264.22 Q573.346 1255.47 576.401 1250.89 Q579.48 1246.28 585.29 1246.28 Z\" fill=\"#000000\" fill-rule=\"evenodd\" fill-opacity=\"1\" /><path clip-path=\"url(#clip260)\" d=\"M605.452 1275.58 L610.336 1275.58 L610.336 1281.46 L605.452 1281.46 L605.452 1275.58 Z\" fill=\"#000000\" fill-rule=\"evenodd\" fill-opacity=\"1\" /><path clip-path=\"url(#clip260)\" d=\"M620.568 1246.9 L638.924 1246.9 L638.924 1250.84 L624.85 1250.84 L624.85 1259.31 Q625.869 1258.96 626.887 1258.8 Q627.906 1258.62 628.924 1258.62 Q634.711 1258.62 638.091 1261.79 Q641.471 1264.96 641.471 1270.38 Q641.471 1275.95 637.998 1279.06 Q634.526 1282.13 628.207 1282.13 Q626.031 1282.13 623.762 1281.76 Q621.517 1281.39 619.11 1280.65 L619.11 1275.95 Q621.193 1277.09 623.415 1277.64 Q625.637 1278.2 628.114 1278.2 Q632.119 1278.2 634.457 1276.09 Q636.795 1273.99 636.795 1270.38 Q636.795 1266.76 634.457 1264.66 Q632.119 1262.55 628.114 1262.55 Q626.239 1262.55 624.364 1262.97 Q622.512 1263.39 620.568 1264.26 L620.568 1246.9 Z\" fill=\"#000000\" fill-rule=\"evenodd\" fill-opacity=\"1\" /><path clip-path=\"url(#clip260)\" d=\"M650.73 1246.9 L669.086 1246.9 L669.086 1250.84 L655.012 1250.84 L655.012 1259.31 Q656.031 1258.96 657.049 1258.8 Q658.068 1258.62 659.086 1258.62 Q664.873 1258.62 668.253 1261.79 Q671.632 1264.96 671.632 1270.38 Q671.632 1275.95 668.16 1279.06 Q664.688 1282.13 658.369 1282.13 Q656.193 1282.13 653.924 1281.76 Q651.679 1281.39 649.271 1280.65 L649.271 1275.95 Q651.355 1277.09 653.577 1277.64 Q655.799 1278.2 658.276 1278.2 Q662.281 1278.2 664.619 1276.09 Q666.957 1273.99 666.957 1270.38 Q666.957 1266.76 664.619 1264.66 Q662.281 1262.55 658.276 1262.55 Q656.401 1262.55 654.526 1262.97 Q652.674 1263.39 650.73 1264.26 L650.73 1246.9 Z\" fill=\"#000000\" fill-rule=\"evenodd\" fill-opacity=\"1\" /><path clip-path=\"url(#clip260)\" d=\"M584.295 1020.37 Q580.684 1020.37 578.855 1023.94 Q577.05 1027.48 577.05 1034.61 Q577.05 1041.71 578.855 1045.28 Q580.684 1048.82 584.295 1048.82 Q587.929 1048.82 589.735 1045.28 Q591.563 1041.71 591.563 1034.61 Q591.563 1027.48 589.735 1023.94 Q587.929 1020.37 584.295 1020.37 M584.295 1016.67 Q590.105 1016.67 593.161 1021.27 Q596.239 1025.86 596.239 1034.61 Q596.239 1043.33 593.161 1047.94 Q590.105 1052.52 584.295 1052.52 Q578.485 1052.52 575.406 1047.94 Q572.351 1043.33 572.351 1034.61 Q572.351 1025.86 575.406 1021.27 Q578.485 1016.67 584.295 1016.67 Z\" fill=\"#000000\" fill-rule=\"evenodd\" fill-opacity=\"1\" /><path clip-path=\"url(#clip260)\" d=\"M604.457 1045.97 L609.341 1045.97 L609.341 1051.85 L604.457 1051.85 L604.457 1045.97 Z\" fill=\"#000000\" fill-rule=\"evenodd\" fill-opacity=\"1\" /><path clip-path=\"url(#clip260)\" d=\"M630.105 1032.71 Q626.957 1032.71 625.105 1034.86 Q623.276 1037.01 623.276 1040.76 Q623.276 1044.49 625.105 1046.67 Q626.957 1048.82 630.105 1048.82 Q633.253 1048.82 635.082 1046.67 Q636.934 1044.49 636.934 1040.76 Q636.934 1037.01 635.082 1034.86 Q633.253 1032.71 630.105 1032.71 M639.387 1018.06 L639.387 1022.31 Q637.628 1021.48 635.822 1021.04 Q634.04 1020.6 632.281 1020.6 Q627.651 1020.6 625.198 1023.73 Q622.767 1026.85 622.42 1033.17 Q623.785 1031.16 625.846 1030.09 Q627.906 1029 630.383 1029 Q635.591 1029 638.6 1032.18 Q641.633 1035.32 641.633 1040.76 Q641.633 1046.09 638.484 1049.31 Q635.336 1052.52 630.105 1052.52 Q624.11 1052.52 620.938 1047.94 Q617.767 1043.33 617.767 1034.61 Q617.767 1026.41 621.656 1021.55 Q625.545 1016.67 632.096 1016.67 Q633.855 1016.67 635.637 1017.01 Q637.443 1017.36 639.387 1018.06 Z\" fill=\"#000000\" fill-rule=\"evenodd\" fill-opacity=\"1\" /><path clip-path=\"url(#clip260)\" d=\"M659.688 1020.37 Q656.077 1020.37 654.248 1023.94 Q652.443 1027.48 652.443 1034.61 Q652.443 1041.71 654.248 1045.28 Q656.077 1048.82 659.688 1048.82 Q663.322 1048.82 665.128 1045.28 Q666.957 1041.71 666.957 1034.61 Q666.957 1027.48 665.128 1023.94 Q663.322 1020.37 659.688 1020.37 M659.688 1016.67 Q665.498 1016.67 668.554 1021.27 Q671.632 1025.86 671.632 1034.61 Q671.632 1043.33 668.554 1047.94 Q665.498 1052.52 659.688 1052.52 Q653.878 1052.52 650.799 1047.94 Q647.744 1043.33 647.744 1034.61 Q647.744 1025.86 650.799 1021.27 Q653.878 1016.67 659.688 1016.67 Z\" fill=\"#000000\" fill-rule=\"evenodd\" fill-opacity=\"1\" /><path clip-path=\"url(#clip260)\" d=\"M585.29 790.759 Q581.679 790.759 579.851 794.323 Q578.045 797.865 578.045 804.995 Q578.045 812.101 579.851 815.666 Q581.679 819.208 585.29 819.208 Q588.925 819.208 590.73 815.666 Q592.559 812.101 592.559 804.995 Q592.559 797.865 590.73 794.323 Q588.925 790.759 585.29 790.759 M585.29 787.055 Q591.1 787.055 594.156 791.661 Q597.235 796.245 597.235 804.995 Q597.235 813.722 594.156 818.328 Q591.1 822.911 585.29 822.911 Q579.48 822.911 576.401 818.328 Q573.346 813.722 573.346 804.995 Q573.346 796.245 576.401 791.661 Q579.48 787.055 585.29 787.055 Z\" fill=\"#000000\" fill-rule=\"evenodd\" fill-opacity=\"1\" /><path clip-path=\"url(#clip260)\" d=\"M605.452 816.36 L610.336 816.36 L610.336 822.24 L605.452 822.24 L605.452 816.36 Z\" fill=\"#000000\" fill-rule=\"evenodd\" fill-opacity=\"1\" /><path clip-path=\"url(#clip260)\" d=\"M631.1 803.097 Q627.952 803.097 626.1 805.249 Q624.272 807.402 624.272 811.152 Q624.272 814.879 626.1 817.055 Q627.952 819.208 631.1 819.208 Q634.248 819.208 636.077 817.055 Q637.929 814.879 637.929 811.152 Q637.929 807.402 636.077 805.249 Q634.248 803.097 631.1 803.097 M640.383 788.444 L640.383 792.703 Q638.623 791.87 636.818 791.43 Q635.035 790.99 633.276 790.99 Q628.647 790.99 626.193 794.115 Q623.762 797.24 623.415 803.56 Q624.781 801.546 626.841 800.481 Q628.901 799.393 631.378 799.393 Q636.586 799.393 639.596 802.564 Q642.628 805.712 642.628 811.152 Q642.628 816.476 639.48 819.694 Q636.332 822.911 631.1 822.911 Q625.105 822.911 621.934 818.328 Q618.762 813.722 618.762 804.995 Q618.762 796.8 622.651 791.939 Q626.54 787.055 633.091 787.055 Q634.85 787.055 636.633 787.402 Q638.438 787.749 640.383 788.444 Z\" fill=\"#000000\" fill-rule=\"evenodd\" fill-opacity=\"1\" /><path clip-path=\"url(#clip260)\" d=\"M650.73 787.68 L669.086 787.68 L669.086 791.615 L655.012 791.615 L655.012 800.087 Q656.031 799.74 657.049 799.578 Q658.068 799.393 659.086 799.393 Q664.873 799.393 668.253 802.564 Q671.632 805.735 671.632 811.152 Q671.632 816.731 668.16 819.833 Q664.688 822.911 658.369 822.911 Q656.193 822.911 653.924 822.541 Q651.679 822.171 649.271 821.43 L649.271 816.731 Q651.355 817.865 653.577 818.421 Q655.799 818.976 658.276 818.976 Q662.281 818.976 664.619 816.87 Q666.957 814.763 666.957 811.152 Q666.957 807.541 664.619 805.435 Q662.281 803.328 658.276 803.328 Q656.401 803.328 654.526 803.745 Q652.674 804.161 650.73 805.041 L650.73 787.68 Z\" fill=\"#000000\" fill-rule=\"evenodd\" fill-opacity=\"1\" /><path clip-path=\"url(#clip260)\" d=\"M584.295 561.147 Q580.684 561.147 578.855 564.712 Q577.05 568.253 577.05 575.383 Q577.05 582.489 578.855 586.054 Q580.684 589.596 584.295 589.596 Q587.929 589.596 589.735 586.054 Q591.563 582.489 591.563 575.383 Q591.563 568.253 589.735 564.712 Q587.929 561.147 584.295 561.147 M584.295 557.443 Q590.105 557.443 593.161 562.05 Q596.239 566.633 596.239 575.383 Q596.239 584.11 593.161 588.716 Q590.105 593.299 584.295 593.299 Q578.485 593.299 575.406 588.716 Q572.351 584.11 572.351 575.383 Q572.351 566.633 575.406 562.05 Q578.485 557.443 584.295 557.443 Z\" fill=\"#000000\" fill-rule=\"evenodd\" fill-opacity=\"1\" /><path clip-path=\"url(#clip260)\" d=\"M604.457 586.749 L609.341 586.749 L609.341 592.628 L604.457 592.628 L604.457 586.749 Z\" fill=\"#000000\" fill-rule=\"evenodd\" fill-opacity=\"1\" /><path clip-path=\"url(#clip260)\" d=\"M618.346 558.068 L640.568 558.068 L640.568 560.059 L628.022 592.628 L623.137 592.628 L634.943 562.003 L618.346 562.003 L618.346 558.068 Z\" fill=\"#000000\" fill-rule=\"evenodd\" fill-opacity=\"1\" /><path clip-path=\"url(#clip260)\" d=\"M659.688 561.147 Q656.077 561.147 654.248 564.712 Q652.443 568.253 652.443 575.383 Q652.443 582.489 654.248 586.054 Q656.077 589.596 659.688 589.596 Q663.322 589.596 665.128 586.054 Q666.957 582.489 666.957 575.383 Q666.957 568.253 665.128 564.712 Q663.322 561.147 659.688 561.147 M659.688 557.443 Q665.498 557.443 668.554 562.05 Q671.632 566.633 671.632 575.383 Q671.632 584.11 668.554 588.716 Q665.498 593.299 659.688 593.299 Q653.878 593.299 650.799 588.716 Q647.744 584.11 647.744 575.383 Q647.744 566.633 650.799 562.05 Q653.878 557.443 659.688 557.443 Z\" fill=\"#000000\" fill-rule=\"evenodd\" fill-opacity=\"1\" /><path clip-path=\"url(#clip260)\" d=\"M585.29 331.535 Q581.679 331.535 579.851 335.1 Q578.045 338.641 578.045 345.771 Q578.045 352.878 579.851 356.442 Q581.679 359.984 585.29 359.984 Q588.925 359.984 590.73 356.442 Q592.559 352.878 592.559 345.771 Q592.559 338.641 590.73 335.1 Q588.925 331.535 585.29 331.535 M585.29 327.831 Q591.1 327.831 594.156 332.438 Q597.235 337.021 597.235 345.771 Q597.235 354.498 594.156 359.104 Q591.1 363.688 585.29 363.688 Q579.48 363.688 576.401 359.104 Q573.346 354.498 573.346 345.771 Q573.346 337.021 576.401 332.438 Q579.48 327.831 585.29 327.831 Z\" fill=\"#000000\" fill-rule=\"evenodd\" fill-opacity=\"1\" /><path clip-path=\"url(#clip260)\" d=\"M605.452 357.137 L610.336 357.137 L610.336 363.016 L605.452 363.016 L605.452 357.137 Z\" fill=\"#000000\" fill-rule=\"evenodd\" fill-opacity=\"1\" /><path clip-path=\"url(#clip260)\" d=\"M619.341 328.456 L641.563 328.456 L641.563 330.447 L629.017 363.016 L624.133 363.016 L635.938 332.392 L619.341 332.392 L619.341 328.456 Z\" fill=\"#000000\" fill-rule=\"evenodd\" fill-opacity=\"1\" /><path clip-path=\"url(#clip260)\" d=\"M650.73 328.456 L669.086 328.456 L669.086 332.392 L655.012 332.392 L655.012 340.864 Q656.031 340.516 657.049 340.354 Q658.068 340.169 659.086 340.169 Q664.873 340.169 668.253 343.341 Q671.632 346.512 671.632 351.928 Q671.632 357.507 668.16 360.609 Q664.688 363.688 658.369 363.688 Q656.193 363.688 653.924 363.317 Q651.679 362.947 649.271 362.206 L649.271 357.507 Q651.355 358.641 653.577 359.197 Q655.799 359.752 658.276 359.752 Q662.281 359.752 664.619 357.646 Q666.957 355.54 666.957 351.928 Q666.957 348.317 664.619 346.211 Q662.281 344.104 658.276 344.104 Q656.401 344.104 654.526 344.521 Q652.674 344.938 650.73 345.817 L650.73 328.456 Z\" fill=\"#000000\" fill-rule=\"evenodd\" fill-opacity=\"1\" /><path clip-path=\"url(#clip260)\" d=\"M1370.08 20.1573 L1358.98 50.2555 L1381.22 50.2555 L1370.08 20.1573 M1365.46 12.096 L1374.74 12.096 L1397.79 72.576 L1389.28 72.576 L1383.77 57.061 L1356.51 57.061 L1351 72.576 L1342.37 72.576 L1365.46 12.096 Z\" fill=\"#000000\" fill-rule=\"evenodd\" fill-opacity=\"1\" /><path clip-path=\"url(#clip260)\" d=\"M1437.49 28.9478 L1437.49 35.9153 Q1434.33 34.1734 1431.13 33.3227 Q1427.97 32.4315 1424.73 32.4315 Q1417.48 32.4315 1413.47 37.0496 Q1409.46 41.6271 1409.46 49.9314 Q1409.46 58.2358 1413.47 62.8538 Q1417.48 67.4314 1424.73 67.4314 Q1427.97 67.4314 1431.13 66.5807 Q1434.33 65.6895 1437.49 63.9476 L1437.49 70.8341 Q1434.37 72.2924 1431.01 73.0216 Q1427.69 73.7508 1423.92 73.7508 Q1413.67 73.7508 1407.63 67.3098 Q1401.6 60.8689 1401.6 49.9314 Q1401.6 38.832 1407.67 32.472 Q1413.79 26.1121 1424.4 26.1121 Q1427.85 26.1121 1431.13 26.8413 Q1434.41 27.5299 1437.49 28.9478 Z\" fill=\"#000000\" fill-rule=\"evenodd\" fill-opacity=\"1\" /><path clip-path=\"url(#clip260)\" d=\"M1483.1 28.9478 L1483.1 35.9153 Q1479.94 34.1734 1476.74 33.3227 Q1473.58 32.4315 1470.34 32.4315 Q1463.09 32.4315 1459.08 37.0496 Q1455.07 41.6271 1455.07 49.9314 Q1455.07 58.2358 1459.08 62.8538 Q1463.09 67.4314 1470.34 67.4314 Q1473.58 67.4314 1476.74 66.5807 Q1479.94 65.6895 1483.1 63.9476 L1483.1 70.8341 Q1479.98 72.2924 1476.62 73.0216 Q1473.3 73.7508 1469.53 73.7508 Q1459.28 73.7508 1453.25 67.3098 Q1447.21 60.8689 1447.21 49.9314 Q1447.21 38.832 1453.29 32.472 Q1459.4 26.1121 1470.02 26.1121 Q1473.46 26.1121 1476.74 26.8413 Q1480.02 27.5299 1483.1 28.9478 Z\" fill=\"#000000\" fill-rule=\"evenodd\" fill-opacity=\"1\" /><path clip-path=\"url(#clip260)\" d=\"M1495.3 54.671 L1495.3 27.2059 L1502.75 27.2059 L1502.75 54.3874 Q1502.75 60.8284 1505.26 64.0691 Q1507.77 67.2693 1512.8 67.2693 Q1518.83 67.2693 1522.32 63.421 Q1525.84 59.5726 1525.84 52.9291 L1525.84 27.2059 L1533.29 27.2059 L1533.29 72.576 L1525.84 72.576 L1525.84 65.6084 Q1523.13 69.7404 1519.52 71.7658 Q1515.96 73.7508 1511.22 73.7508 Q1503.4 73.7508 1499.35 68.8897 Q1495.3 64.0286 1495.3 54.671 M1514.05 26.1121 L1514.05 26.1121 Z\" fill=\"#000000\" fill-rule=\"evenodd\" fill-opacity=\"1\" /><path clip-path=\"url(#clip260)\" d=\"M1574.94 34.1734 Q1573.68 33.4443 1572.18 33.1202 Q1570.72 32.7556 1568.94 32.7556 Q1562.62 32.7556 1559.22 36.8875 Q1555.86 40.9789 1555.86 48.6757 L1555.86 72.576 L1548.36 72.576 L1548.36 27.2059 L1555.86 27.2059 L1555.86 34.2544 Q1558.21 30.1225 1561.97 28.1376 Q1565.74 26.1121 1571.13 26.1121 Q1571.9 26.1121 1572.83 26.2337 Q1573.76 26.3147 1574.9 26.5172 L1574.94 34.1734 Z\" fill=\"#000000\" fill-rule=\"evenodd\" fill-opacity=\"1\" /><path clip-path=\"url(#clip260)\" d=\"M1603.37 49.7694 Q1594.34 49.7694 1590.86 51.8354 Q1587.37 53.9013 1587.37 58.8839 Q1587.37 62.8538 1589.97 65.2034 Q1592.6 67.5124 1597.09 67.5124 Q1603.29 67.5124 1607.02 63.1374 Q1610.79 58.7219 1610.79 51.4303 L1610.79 49.7694 L1603.37 49.7694 M1618.24 46.6907 L1618.24 72.576 L1610.79 72.576 L1610.79 65.6895 Q1608.23 69.8214 1604.43 71.8063 Q1600.62 73.7508 1595.11 73.7508 Q1588.14 73.7508 1584.01 69.8619 Q1579.92 65.9325 1579.92 59.3701 Q1579.92 51.7138 1585.02 47.825 Q1590.17 43.9361 1600.34 43.9361 L1610.79 43.9361 L1610.79 43.2069 Q1610.79 38.0623 1607.38 35.2672 Q1604.02 32.4315 1597.91 32.4315 Q1594.02 32.4315 1590.33 33.3632 Q1586.64 34.295 1583.24 36.1584 L1583.24 29.2718 Q1587.33 27.692 1591.18 26.9223 Q1595.03 26.1121 1598.67 26.1121 Q1608.52 26.1121 1613.38 31.2163 Q1618.24 36.3204 1618.24 46.6907 Z\" fill=\"#000000\" fill-rule=\"evenodd\" fill-opacity=\"1\" /><path clip-path=\"url(#clip260)\" d=\"M1666.24 28.9478 L1666.24 35.9153 Q1663.08 34.1734 1659.88 33.3227 Q1656.72 32.4315 1653.48 32.4315 Q1646.23 32.4315 1642.22 37.0496 Q1638.21 41.6271 1638.21 49.9314 Q1638.21 58.2358 1642.22 62.8538 Q1646.23 67.4314 1653.48 67.4314 Q1656.72 67.4314 1659.88 66.5807 Q1663.08 65.6895 1666.24 63.9476 L1666.24 70.8341 Q1663.12 72.2924 1659.76 73.0216 Q1656.44 73.7508 1652.67 73.7508 Q1642.42 73.7508 1636.39 67.3098 Q1630.35 60.8689 1630.35 49.9314 Q1630.35 38.832 1636.43 32.472 Q1642.55 26.1121 1653.16 26.1121 Q1656.6 26.1121 1659.88 26.8413 Q1663.17 27.5299 1666.24 28.9478 Z\" fill=\"#000000\" fill-rule=\"evenodd\" fill-opacity=\"1\" /><path clip-path=\"url(#clip260)\" d=\"M1698.08 76.7889 Q1694.92 84.8907 1691.93 87.3618 Q1688.93 89.8329 1683.91 89.8329 L1677.95 89.8329 L1677.95 83.5945 L1682.33 83.5945 Q1685.4 83.5945 1687.11 82.1361 Q1688.81 80.6778 1690.87 75.2496 L1692.21 71.8468 L1673.86 27.2059 L1681.76 27.2059 L1695.94 62.6918 L1710.12 27.2059 L1718.01 27.2059 L1698.08 76.7889 Z\" fill=\"#000000\" fill-rule=\"evenodd\" fill-opacity=\"1\" /><polyline clip-path=\"url(#clip262)\" style=\"stroke:#009af9; stroke-linecap:butt; stroke-linejoin:round; stroke-width:4; stroke-opacity:1; fill:none\" points=\"\n  754.193,1172.34 1029.18,1356.03 1190.04,1356.03 1304.17,759.038 1392.7,621.271 1465.03,575.348 1526.19,345.736 1579.16,1447.87 1625.89,1080.49 1667.69,850.882 \n  1705.5,759.038 1740.02,1264.18 1771.78,850.882 1801.18,896.805 1828.55,529.426 1854.15,437.581 1878.2,804.96 1900.88,988.649 1922.33,667.193 1942.68,621.271 \n  1962.04,850.882 1980.49,850.882 1998.13,667.193 2015.01,621.271 2031.21,483.503 2046.77,575.348 2061.74,621.271 2076.17,804.96 2090.09,942.727 2103.54,1080.49 \n  2116.55,162.047 2129.14,1218.26 2141.35,713.115 2153.19,391.659 2164.69,1218.26 2175.87,1172.34 2186.74,253.892 2197.32,896.805 2207.62,529.426 2217.67,850.882 \n  2227.47,529.426 2237.03,621.271 2246.36,804.96 2255.48,896.805 2264.4,437.581 2273.12,529.426 2281.65,850.882 2290,667.193 2298.18,759.038 2306.2,988.649 \n  \n  \"/>\n<polyline clip-path=\"url(#clip262)\" style=\"stroke:#e26f46; stroke-linecap:butt; stroke-linejoin:round; stroke-width:4; stroke-opacity:1; fill:none\" points=\"\n  754.193,854.876 1029.18,1074.5 1190.04,834.909 1304.17,635.247 1392.7,735.078 1465.03,755.044 1526.19,735.078 1579.16,914.774 1625.89,675.179 1667.69,814.943 \n  1705.5,834.909 1740.02,834.909 1771.78,775.011 1801.18,854.876 1828.55,735.078 1854.15,635.247 1878.2,775.011 1900.88,695.146 1922.33,595.314 1942.68,894.808 \n  1962.04,775.011 1980.49,854.876 1998.13,775.011 2015.01,715.112 2031.21,914.774 2046.77,575.348 2061.74,814.943 2076.17,535.416 2090.09,655.213 2103.54,814.943 \n  2116.55,854.876 2129.14,834.909 2141.35,695.146 2153.19,854.876 2164.69,715.112 2175.87,655.213 2186.74,874.842 2197.32,755.044 2207.62,934.741 2217.67,854.876 \n  2227.47,755.044 2237.03,854.876 2246.36,735.078 2255.48,735.078 2264.4,635.247 2273.12,715.112 2281.65,675.179 2290,794.977 2298.18,775.011 2306.2,675.179 \n  \n  \"/>\n<path clip-path=\"url(#clip260)\" d=\"\nM114.058 324.425 L463.918 324.425 L463.918 168.905 L114.058 168.905  Z\n  \" fill=\"#ffffff\" fill-rule=\"evenodd\" fill-opacity=\"1\"/>\n<polyline clip-path=\"url(#clip260)\" style=\"stroke:#000000; stroke-linecap:butt; stroke-linejoin:round; stroke-width:4; stroke-opacity:1; fill:none\" points=\"\n  114.058,324.425 463.918,324.425 463.918,168.905 114.058,168.905 114.058,324.425 \n  \"/>\n<polyline clip-path=\"url(#clip260)\" style=\"stroke:#009af9; stroke-linecap:butt; stroke-linejoin:round; stroke-width:4; stroke-opacity:1; fill:none\" points=\"\n  138.058,220.745 282.058,220.745 \n  \"/>\n<path clip-path=\"url(#clip260)\" d=\"M306.058 203.465 L335.294 203.465 L335.294 207.4 L323.025 207.4 L323.025 238.025 L318.326 238.025 L318.326 207.4 L306.058 207.4 L306.058 203.465 Z\" fill=\"#000000\" fill-rule=\"evenodd\" fill-opacity=\"1\" /><path clip-path=\"url(#clip260)\" d=\"M353.743 223.997 L353.743 226.08 L334.16 226.08 Q334.437 230.478 336.799 232.793 Q339.183 235.085 343.419 235.085 Q345.873 235.085 348.164 234.483 Q350.479 233.881 352.748 232.677 L352.748 236.705 Q350.456 237.677 348.048 238.187 Q345.641 238.696 343.164 238.696 Q336.961 238.696 333.326 235.085 Q329.715 231.474 329.715 225.316 Q329.715 218.951 333.141 215.224 Q336.59 211.474 342.423 211.474 Q347.655 211.474 350.687 214.853 Q353.743 218.21 353.743 223.997 M349.484 222.747 Q349.437 219.252 347.516 217.168 Q345.618 215.085 342.47 215.085 Q338.905 215.085 336.752 217.099 Q334.623 219.113 334.299 222.77 L349.484 222.747 Z\" fill=\"#000000\" fill-rule=\"evenodd\" fill-opacity=\"1\" /><path clip-path=\"url(#clip260)\" d=\"M377.261 212.863 L377.261 216.891 Q375.456 215.965 373.511 215.502 Q371.567 215.039 369.484 215.039 Q366.312 215.039 364.715 216.011 Q363.141 216.983 363.141 218.928 Q363.141 220.409 364.275 221.265 Q365.409 222.099 368.835 222.863 L370.294 223.187 Q374.831 224.159 376.729 225.941 Q378.65 227.701 378.65 230.872 Q378.65 234.483 375.78 236.589 Q372.933 238.696 367.933 238.696 Q365.849 238.696 363.581 238.279 Q361.335 237.886 358.835 237.076 L358.835 232.677 Q361.197 233.904 363.488 234.529 Q365.78 235.131 368.025 235.131 Q371.034 235.131 372.655 234.113 Q374.275 233.071 374.275 231.196 Q374.275 229.46 373.095 228.534 Q371.937 227.608 367.979 226.752 L366.497 226.404 Q362.539 225.571 360.78 223.858 Q359.021 222.122 359.021 219.113 Q359.021 215.455 361.613 213.465 Q364.206 211.474 368.974 211.474 Q371.335 211.474 373.419 211.821 Q375.502 212.168 377.261 212.863 Z\" fill=\"#000000\" fill-rule=\"evenodd\" fill-opacity=\"1\" /><path clip-path=\"url(#clip260)\" d=\"M389.645 204.738 L389.645 212.099 L398.419 212.099 L398.419 215.409 L389.645 215.409 L389.645 229.483 Q389.645 232.654 390.502 233.557 Q391.382 234.46 394.044 234.46 L398.419 234.46 L398.419 238.025 L394.044 238.025 Q389.113 238.025 387.238 236.196 Q385.363 234.344 385.363 229.483 L385.363 215.409 L382.238 215.409 L382.238 212.099 L385.363 212.099 L385.363 204.738 L389.645 204.738 Z\" fill=\"#000000\" fill-rule=\"evenodd\" fill-opacity=\"1\" /><polyline clip-path=\"url(#clip260)\" style=\"stroke:#e26f46; stroke-linecap:butt; stroke-linejoin:round; stroke-width:4; stroke-opacity:1; fill:none\" points=\"\n  138.058,272.585 282.058,272.585 \n  \"/>\n<path clip-path=\"url(#clip260)\" d=\"M306.058 255.305 L335.294 255.305 L335.294 259.24 L323.025 259.24 L323.025 289.865 L318.326 289.865 L318.326 259.24 L306.058 259.24 L306.058 255.305 Z\" fill=\"#000000\" fill-rule=\"evenodd\" fill-opacity=\"1\" /><path clip-path=\"url(#clip260)\" d=\"M347.678 267.92 Q346.96 267.504 346.104 267.318 Q345.271 267.11 344.252 267.11 Q340.641 267.11 338.697 269.471 Q336.775 271.809 336.775 276.207 L336.775 289.865 L332.493 289.865 L332.493 263.939 L336.775 263.939 L336.775 267.967 Q338.118 265.606 340.271 264.471 Q342.423 263.314 345.502 263.314 Q345.942 263.314 346.474 263.383 Q347.007 263.43 347.655 263.545 L347.678 267.92 Z\" fill=\"#000000\" fill-rule=\"evenodd\" fill-opacity=\"1\" /><path clip-path=\"url(#clip260)\" d=\"M363.928 276.832 Q358.766 276.832 356.775 278.013 Q354.785 279.193 354.785 282.041 Q354.785 284.309 356.266 285.652 Q357.771 286.971 360.34 286.971 Q363.882 286.971 366.011 284.471 Q368.164 281.948 368.164 277.781 L368.164 276.832 L363.928 276.832 M372.423 275.073 L372.423 289.865 L368.164 289.865 L368.164 285.929 Q366.706 288.291 364.53 289.425 Q362.354 290.536 359.206 290.536 Q355.224 290.536 352.863 288.314 Q350.525 286.068 350.525 282.318 Q350.525 277.943 353.442 275.721 Q356.382 273.499 362.192 273.499 L368.164 273.499 L368.164 273.082 Q368.164 270.143 366.22 268.545 Q364.298 266.925 360.803 266.925 Q358.581 266.925 356.474 267.457 Q354.368 267.99 352.423 269.055 L352.423 265.119 Q354.761 264.217 356.96 263.777 Q359.16 263.314 361.243 263.314 Q366.868 263.314 369.646 266.231 Q372.423 269.147 372.423 275.073 Z\" fill=\"#000000\" fill-rule=\"evenodd\" fill-opacity=\"1\" /><path clip-path=\"url(#clip260)\" d=\"M381.196 263.939 L385.456 263.939 L385.456 289.865 L381.196 289.865 L381.196 263.939 M381.196 253.846 L385.456 253.846 L385.456 259.24 L381.196 259.24 L381.196 253.846 Z\" fill=\"#000000\" fill-rule=\"evenodd\" fill-opacity=\"1\" /><path clip-path=\"url(#clip260)\" d=\"M415.918 274.217 L415.918 289.865 L411.659 289.865 L411.659 274.355 Q411.659 270.675 410.224 268.846 Q408.789 267.018 405.919 267.018 Q402.469 267.018 400.479 269.217 Q398.488 271.416 398.488 275.212 L398.488 289.865 L394.206 289.865 L394.206 263.939 L398.488 263.939 L398.488 267.967 Q400.016 265.629 402.076 264.471 Q404.159 263.314 406.868 263.314 Q411.335 263.314 413.627 266.092 Q415.918 268.846 415.918 274.217 Z\" fill=\"#000000\" fill-rule=\"evenodd\" fill-opacity=\"1\" /></svg>\n",
      "text/html": [
       "<?xml version=\"1.0\" encoding=\"utf-8\"?>\n",
       "<svg xmlns=\"http://www.w3.org/2000/svg\" xmlns:xlink=\"http://www.w3.org/1999/xlink\" width=\"600\" height=\"400\" viewBox=\"0 0 2400 1600\">\n",
       "<defs>\n",
       "  <clipPath id=\"clip310\">\n",
       "    <rect x=\"0\" y=\"0\" width=\"2400\" height=\"1600\"/>\n",
       "  </clipPath>\n",
       "</defs>\n",
       "<path clip-path=\"url(#clip310)\" d=\"\n",
       "M0 1600 L2400 1600 L2400 0 L0 0  Z\n",
       "  \" fill=\"#ffffff\" fill-rule=\"evenodd\" fill-opacity=\"1\"/>\n",
       "<defs>\n",
       "  <clipPath id=\"clip311\">\n",
       "    <rect x=\"480\" y=\"0\" width=\"1681\" height=\"1600\"/>\n",
       "  </clipPath>\n",
       "</defs>\n",
       "<path clip-path=\"url(#clip310)\" d=\"\n",
       "M707.632 1486.45 L2352.76 1486.45 L2352.76 123.472 L707.632 123.472  Z\n",
       "  \" fill=\"#ffffff\" fill-rule=\"evenodd\" fill-opacity=\"1\"/>\n",
       "<defs>\n",
       "  <clipPath id=\"clip312\">\n",
       "    <rect x=\"707\" y=\"123\" width=\"1646\" height=\"1364\"/>\n",
       "  </clipPath>\n",
       "</defs>\n",
       "<polyline clip-path=\"url(#clip312)\" style=\"stroke:#000000; stroke-linecap:butt; stroke-linejoin:round; stroke-width:2; stroke-opacity:0.1; fill:none\" points=\"\n",
       "  754.193,1486.45 754.193,123.472 \n",
       "  \"/>\n",
       "<polyline clip-path=\"url(#clip312)\" style=\"stroke:#000000; stroke-linecap:butt; stroke-linejoin:round; stroke-width:2; stroke-opacity:0.1; fill:none\" points=\"\n",
       "  1150.92,1486.45 1150.92,123.472 \n",
       "  \"/>\n",
       "<polyline clip-path=\"url(#clip312)\" style=\"stroke:#000000; stroke-linecap:butt; stroke-linejoin:round; stroke-width:2; stroke-opacity:0.1; fill:none\" points=\"\n",
       "  1547.65,1486.45 1547.65,123.472 \n",
       "  \"/>\n",
       "<polyline clip-path=\"url(#clip312)\" style=\"stroke:#000000; stroke-linecap:butt; stroke-linejoin:round; stroke-width:2; stroke-opacity:0.1; fill:none\" points=\"\n",
       "  1944.37,1486.45 1944.37,123.472 \n",
       "  \"/>\n",
       "<polyline clip-path=\"url(#clip312)\" style=\"stroke:#000000; stroke-linecap:butt; stroke-linejoin:round; stroke-width:2; stroke-opacity:0.1; fill:none\" points=\"\n",
       "  2341.1,1486.45 2341.1,123.472 \n",
       "  \"/>\n",
       "<polyline clip-path=\"url(#clip310)\" style=\"stroke:#000000; stroke-linecap:butt; stroke-linejoin:round; stroke-width:4; stroke-opacity:1; fill:none\" points=\"\n",
       "  707.632,1486.45 2352.76,1486.45 \n",
       "  \"/>\n",
       "<polyline clip-path=\"url(#clip310)\" style=\"stroke:#000000; stroke-linecap:butt; stroke-linejoin:round; stroke-width:4; stroke-opacity:1; fill:none\" points=\"\n",
       "  754.193,1486.45 754.193,1467.55 \n",
       "  \"/>\n",
       "<polyline clip-path=\"url(#clip310)\" style=\"stroke:#000000; stroke-linecap:butt; stroke-linejoin:round; stroke-width:4; stroke-opacity:1; fill:none\" points=\"\n",
       "  1150.92,1486.45 1150.92,1467.55 \n",
       "  \"/>\n",
       "<polyline clip-path=\"url(#clip310)\" style=\"stroke:#000000; stroke-linecap:butt; stroke-linejoin:round; stroke-width:4; stroke-opacity:1; fill:none\" points=\"\n",
       "  1547.65,1486.45 1547.65,1467.55 \n",
       "  \"/>\n",
       "<polyline clip-path=\"url(#clip310)\" style=\"stroke:#000000; stroke-linecap:butt; stroke-linejoin:round; stroke-width:4; stroke-opacity:1; fill:none\" points=\"\n",
       "  1944.37,1486.45 1944.37,1467.55 \n",
       "  \"/>\n",
       "<polyline clip-path=\"url(#clip310)\" style=\"stroke:#000000; stroke-linecap:butt; stroke-linejoin:round; stroke-width:4; stroke-opacity:1; fill:none\" points=\"\n",
       "  2341.1,1486.45 2341.1,1467.55 \n",
       "  \"/>\n",
       "<path clip-path=\"url(#clip310)\" d=\"M754.193 1517.37 Q750.581 1517.37 748.753 1520.93 Q746.947 1524.47 746.947 1531.6 Q746.947 1538.71 748.753 1542.27 Q750.581 1545.82 754.193 1545.82 Q757.827 1545.82 759.632 1542.27 Q761.461 1538.71 761.461 1531.6 Q761.461 1524.47 759.632 1520.93 Q757.827 1517.37 754.193 1517.37 M754.193 1513.66 Q760.003 1513.66 763.058 1518.27 Q766.137 1522.85 766.137 1531.6 Q766.137 1540.33 763.058 1544.94 Q760.003 1549.52 754.193 1549.52 Q748.382 1549.52 745.304 1544.94 Q742.248 1540.33 742.248 1531.6 Q742.248 1522.85 745.304 1518.27 Q748.382 1513.66 754.193 1513.66 Z\" fill=\"#000000\" fill-rule=\"evenodd\" fill-opacity=\"1\" /><path clip-path=\"url(#clip310)\" d=\"M1141.3 1544.91 L1148.94 1544.91 L1148.94 1518.55 L1140.63 1520.21 L1140.63 1515.95 L1148.89 1514.29 L1153.57 1514.29 L1153.57 1544.91 L1161.21 1544.91 L1161.21 1548.85 L1141.3 1548.85 L1141.3 1544.91 Z\" fill=\"#000000\" fill-rule=\"evenodd\" fill-opacity=\"1\" /><path clip-path=\"url(#clip310)\" d=\"M1542.3 1544.91 L1558.62 1544.91 L1558.62 1548.85 L1536.67 1548.85 L1536.67 1544.91 Q1539.34 1542.16 1543.92 1537.53 Q1548.53 1532.88 1549.71 1531.53 Q1551.95 1529.01 1552.83 1527.27 Q1553.73 1525.51 1553.73 1523.82 Q1553.73 1521.07 1551.79 1519.33 Q1549.87 1517.6 1546.77 1517.6 Q1544.57 1517.6 1542.11 1518.36 Q1539.68 1519.13 1536.9 1520.68 L1536.9 1515.95 Q1539.73 1514.82 1542.18 1514.24 Q1544.64 1513.66 1546.67 1513.66 Q1552.04 1513.66 1555.24 1516.35 Q1558.43 1519.03 1558.43 1523.52 Q1558.43 1525.65 1557.62 1527.57 Q1556.84 1529.47 1554.73 1532.07 Q1554.15 1532.74 1551.05 1535.95 Q1547.95 1539.15 1542.3 1544.91 Z\" fill=\"#000000\" fill-rule=\"evenodd\" fill-opacity=\"1\" /><path clip-path=\"url(#clip310)\" d=\"M1948.62 1530.21 Q1951.98 1530.93 1953.85 1533.2 Q1955.75 1535.47 1955.75 1538.8 Q1955.75 1543.92 1952.23 1546.72 Q1948.71 1549.52 1942.23 1549.52 Q1940.05 1549.52 1937.74 1549.08 Q1935.45 1548.66 1932.99 1547.81 L1932.99 1543.29 Q1934.94 1544.43 1937.25 1545.01 Q1939.57 1545.58 1942.09 1545.58 Q1946.49 1545.58 1948.78 1543.85 Q1951.1 1542.11 1951.1 1538.8 Q1951.1 1535.75 1948.94 1534.03 Q1946.81 1532.3 1942.99 1532.3 L1938.97 1532.3 L1938.97 1528.45 L1943.18 1528.45 Q1946.63 1528.45 1948.46 1527.09 Q1950.29 1525.7 1950.29 1523.11 Q1950.29 1520.45 1948.39 1519.03 Q1946.51 1517.6 1942.99 1517.6 Q1941.07 1517.6 1938.87 1518.01 Q1936.68 1518.43 1934.04 1519.31 L1934.04 1515.14 Q1936.7 1514.4 1939.01 1514.03 Q1941.35 1513.66 1943.41 1513.66 Q1948.74 1513.66 1951.84 1516.09 Q1954.94 1518.5 1954.94 1522.62 Q1954.94 1525.49 1953.3 1527.48 Q1951.65 1529.45 1948.62 1530.21 Z\" fill=\"#000000\" fill-rule=\"evenodd\" fill-opacity=\"1\" /><path clip-path=\"url(#clip310)\" d=\"M2344.11 1518.36 L2332.3 1536.81 L2344.11 1536.81 L2344.11 1518.36 M2342.88 1514.29 L2348.76 1514.29 L2348.76 1536.81 L2353.69 1536.81 L2353.69 1540.7 L2348.76 1540.7 L2348.76 1548.85 L2344.11 1548.85 L2344.11 1540.7 L2328.51 1540.7 L2328.51 1536.19 L2342.88 1514.29 Z\" fill=\"#000000\" fill-rule=\"evenodd\" fill-opacity=\"1\" /><polyline clip-path=\"url(#clip312)\" style=\"stroke:#000000; stroke-linecap:butt; stroke-linejoin:round; stroke-width:2; stroke-opacity:0.1; fill:none\" points=\"\n",
       "  707.632,1264.18 2352.76,1264.18 \n",
       "  \"/>\n",
       "<polyline clip-path=\"url(#clip312)\" style=\"stroke:#000000; stroke-linecap:butt; stroke-linejoin:round; stroke-width:2; stroke-opacity:0.1; fill:none\" points=\"\n",
       "  707.632,1034.57 2352.76,1034.57 \n",
       "  \"/>\n",
       "<polyline clip-path=\"url(#clip312)\" style=\"stroke:#000000; stroke-linecap:butt; stroke-linejoin:round; stroke-width:2; stroke-opacity:0.1; fill:none\" points=\"\n",
       "  707.632,804.96 2352.76,804.96 \n",
       "  \"/>\n",
       "<polyline clip-path=\"url(#clip312)\" style=\"stroke:#000000; stroke-linecap:butt; stroke-linejoin:round; stroke-width:2; stroke-opacity:0.1; fill:none\" points=\"\n",
       "  707.632,575.348 2352.76,575.348 \n",
       "  \"/>\n",
       "<polyline clip-path=\"url(#clip312)\" style=\"stroke:#000000; stroke-linecap:butt; stroke-linejoin:round; stroke-width:2; stroke-opacity:0.1; fill:none\" points=\"\n",
       "  707.632,345.736 2352.76,345.736 \n",
       "  \"/>\n",
       "<polyline clip-path=\"url(#clip310)\" style=\"stroke:#000000; stroke-linecap:butt; stroke-linejoin:round; stroke-width:4; stroke-opacity:1; fill:none\" points=\"\n",
       "  707.632,1486.45 707.632,123.472 \n",
       "  \"/>\n",
       "<polyline clip-path=\"url(#clip310)\" style=\"stroke:#000000; stroke-linecap:butt; stroke-linejoin:round; stroke-width:4; stroke-opacity:1; fill:none\" points=\"\n",
       "  707.632,1264.18 721.982,1264.18 \n",
       "  \"/>\n",
       "<polyline clip-path=\"url(#clip310)\" style=\"stroke:#000000; stroke-linecap:butt; stroke-linejoin:round; stroke-width:4; stroke-opacity:1; fill:none\" points=\"\n",
       "  707.632,1034.57 721.982,1034.57 \n",
       "  \"/>\n",
       "<polyline clip-path=\"url(#clip310)\" style=\"stroke:#000000; stroke-linecap:butt; stroke-linejoin:round; stroke-width:4; stroke-opacity:1; fill:none\" points=\"\n",
       "  707.632,804.96 721.982,804.96 \n",
       "  \"/>\n",
       "<polyline clip-path=\"url(#clip310)\" style=\"stroke:#000000; stroke-linecap:butt; stroke-linejoin:round; stroke-width:4; stroke-opacity:1; fill:none\" points=\"\n",
       "  707.632,575.348 721.982,575.348 \n",
       "  \"/>\n",
       "<polyline clip-path=\"url(#clip310)\" style=\"stroke:#000000; stroke-linecap:butt; stroke-linejoin:round; stroke-width:4; stroke-opacity:1; fill:none\" points=\"\n",
       "  707.632,345.736 721.982,345.736 \n",
       "  \"/>\n",
       "<path clip-path=\"url(#clip310)\" d=\"M585.29 1249.98 Q581.679 1249.98 579.851 1253.55 Q578.045 1257.09 578.045 1264.22 Q578.045 1271.32 579.851 1274.89 Q581.679 1278.43 585.29 1278.43 Q588.925 1278.43 590.73 1274.89 Q592.559 1271.32 592.559 1264.22 Q592.559 1257.09 590.73 1253.55 Q588.925 1249.98 585.29 1249.98 M585.29 1246.28 Q591.1 1246.28 594.156 1250.89 Q597.235 1255.47 597.235 1264.22 Q597.235 1272.95 594.156 1277.55 Q591.1 1282.13 585.29 1282.13 Q579.48 1282.13 576.401 1277.55 Q573.346 1272.95 573.346 1264.22 Q573.346 1255.47 576.401 1250.89 Q579.48 1246.28 585.29 1246.28 Z\" fill=\"#000000\" fill-rule=\"evenodd\" fill-opacity=\"1\" /><path clip-path=\"url(#clip310)\" d=\"M605.452 1275.58 L610.336 1275.58 L610.336 1281.46 L605.452 1281.46 L605.452 1275.58 Z\" fill=\"#000000\" fill-rule=\"evenodd\" fill-opacity=\"1\" /><path clip-path=\"url(#clip310)\" d=\"M620.568 1246.9 L638.924 1246.9 L638.924 1250.84 L624.85 1250.84 L624.85 1259.31 Q625.869 1258.96 626.887 1258.8 Q627.906 1258.62 628.924 1258.62 Q634.711 1258.62 638.091 1261.79 Q641.471 1264.96 641.471 1270.38 Q641.471 1275.95 637.998 1279.06 Q634.526 1282.13 628.207 1282.13 Q626.031 1282.13 623.762 1281.76 Q621.517 1281.39 619.11 1280.65 L619.11 1275.95 Q621.193 1277.09 623.415 1277.64 Q625.637 1278.2 628.114 1278.2 Q632.119 1278.2 634.457 1276.09 Q636.795 1273.99 636.795 1270.38 Q636.795 1266.76 634.457 1264.66 Q632.119 1262.55 628.114 1262.55 Q626.239 1262.55 624.364 1262.97 Q622.512 1263.39 620.568 1264.26 L620.568 1246.9 Z\" fill=\"#000000\" fill-rule=\"evenodd\" fill-opacity=\"1\" /><path clip-path=\"url(#clip310)\" d=\"M650.73 1246.9 L669.086 1246.9 L669.086 1250.84 L655.012 1250.84 L655.012 1259.31 Q656.031 1258.96 657.049 1258.8 Q658.068 1258.62 659.086 1258.62 Q664.873 1258.62 668.253 1261.79 Q671.632 1264.96 671.632 1270.38 Q671.632 1275.95 668.16 1279.06 Q664.688 1282.13 658.369 1282.13 Q656.193 1282.13 653.924 1281.76 Q651.679 1281.39 649.271 1280.65 L649.271 1275.95 Q651.355 1277.09 653.577 1277.64 Q655.799 1278.2 658.276 1278.2 Q662.281 1278.2 664.619 1276.09 Q666.957 1273.99 666.957 1270.38 Q666.957 1266.76 664.619 1264.66 Q662.281 1262.55 658.276 1262.55 Q656.401 1262.55 654.526 1262.97 Q652.674 1263.39 650.73 1264.26 L650.73 1246.9 Z\" fill=\"#000000\" fill-rule=\"evenodd\" fill-opacity=\"1\" /><path clip-path=\"url(#clip310)\" d=\"M584.295 1020.37 Q580.684 1020.37 578.855 1023.94 Q577.05 1027.48 577.05 1034.61 Q577.05 1041.71 578.855 1045.28 Q580.684 1048.82 584.295 1048.82 Q587.929 1048.82 589.735 1045.28 Q591.563 1041.71 591.563 1034.61 Q591.563 1027.48 589.735 1023.94 Q587.929 1020.37 584.295 1020.37 M584.295 1016.67 Q590.105 1016.67 593.161 1021.27 Q596.239 1025.86 596.239 1034.61 Q596.239 1043.33 593.161 1047.94 Q590.105 1052.52 584.295 1052.52 Q578.485 1052.52 575.406 1047.94 Q572.351 1043.33 572.351 1034.61 Q572.351 1025.86 575.406 1021.27 Q578.485 1016.67 584.295 1016.67 Z\" fill=\"#000000\" fill-rule=\"evenodd\" fill-opacity=\"1\" /><path clip-path=\"url(#clip310)\" d=\"M604.457 1045.97 L609.341 1045.97 L609.341 1051.85 L604.457 1051.85 L604.457 1045.97 Z\" fill=\"#000000\" fill-rule=\"evenodd\" fill-opacity=\"1\" /><path clip-path=\"url(#clip310)\" d=\"M630.105 1032.71 Q626.957 1032.71 625.105 1034.86 Q623.276 1037.01 623.276 1040.76 Q623.276 1044.49 625.105 1046.67 Q626.957 1048.82 630.105 1048.82 Q633.253 1048.82 635.082 1046.67 Q636.934 1044.49 636.934 1040.76 Q636.934 1037.01 635.082 1034.86 Q633.253 1032.71 630.105 1032.71 M639.387 1018.06 L639.387 1022.31 Q637.628 1021.48 635.822 1021.04 Q634.04 1020.6 632.281 1020.6 Q627.651 1020.6 625.198 1023.73 Q622.767 1026.85 622.42 1033.17 Q623.785 1031.16 625.846 1030.09 Q627.906 1029 630.383 1029 Q635.591 1029 638.6 1032.18 Q641.633 1035.32 641.633 1040.76 Q641.633 1046.09 638.484 1049.31 Q635.336 1052.52 630.105 1052.52 Q624.11 1052.52 620.938 1047.94 Q617.767 1043.33 617.767 1034.61 Q617.767 1026.41 621.656 1021.55 Q625.545 1016.67 632.096 1016.67 Q633.855 1016.67 635.637 1017.01 Q637.443 1017.36 639.387 1018.06 Z\" fill=\"#000000\" fill-rule=\"evenodd\" fill-opacity=\"1\" /><path clip-path=\"url(#clip310)\" d=\"M659.688 1020.37 Q656.077 1020.37 654.248 1023.94 Q652.443 1027.48 652.443 1034.61 Q652.443 1041.71 654.248 1045.28 Q656.077 1048.82 659.688 1048.82 Q663.322 1048.82 665.128 1045.28 Q666.957 1041.71 666.957 1034.61 Q666.957 1027.48 665.128 1023.94 Q663.322 1020.37 659.688 1020.37 M659.688 1016.67 Q665.498 1016.67 668.554 1021.27 Q671.632 1025.86 671.632 1034.61 Q671.632 1043.33 668.554 1047.94 Q665.498 1052.52 659.688 1052.52 Q653.878 1052.52 650.799 1047.94 Q647.744 1043.33 647.744 1034.61 Q647.744 1025.86 650.799 1021.27 Q653.878 1016.67 659.688 1016.67 Z\" fill=\"#000000\" fill-rule=\"evenodd\" fill-opacity=\"1\" /><path clip-path=\"url(#clip310)\" d=\"M585.29 790.759 Q581.679 790.759 579.851 794.323 Q578.045 797.865 578.045 804.995 Q578.045 812.101 579.851 815.666 Q581.679 819.208 585.29 819.208 Q588.925 819.208 590.73 815.666 Q592.559 812.101 592.559 804.995 Q592.559 797.865 590.73 794.323 Q588.925 790.759 585.29 790.759 M585.29 787.055 Q591.1 787.055 594.156 791.661 Q597.235 796.245 597.235 804.995 Q597.235 813.722 594.156 818.328 Q591.1 822.911 585.29 822.911 Q579.48 822.911 576.401 818.328 Q573.346 813.722 573.346 804.995 Q573.346 796.245 576.401 791.661 Q579.48 787.055 585.29 787.055 Z\" fill=\"#000000\" fill-rule=\"evenodd\" fill-opacity=\"1\" /><path clip-path=\"url(#clip310)\" d=\"M605.452 816.36 L610.336 816.36 L610.336 822.24 L605.452 822.24 L605.452 816.36 Z\" fill=\"#000000\" fill-rule=\"evenodd\" fill-opacity=\"1\" /><path clip-path=\"url(#clip310)\" d=\"M631.1 803.097 Q627.952 803.097 626.1 805.249 Q624.272 807.402 624.272 811.152 Q624.272 814.879 626.1 817.055 Q627.952 819.208 631.1 819.208 Q634.248 819.208 636.077 817.055 Q637.929 814.879 637.929 811.152 Q637.929 807.402 636.077 805.249 Q634.248 803.097 631.1 803.097 M640.383 788.444 L640.383 792.703 Q638.623 791.87 636.818 791.43 Q635.035 790.99 633.276 790.99 Q628.647 790.99 626.193 794.115 Q623.762 797.24 623.415 803.56 Q624.781 801.546 626.841 800.481 Q628.901 799.393 631.378 799.393 Q636.586 799.393 639.596 802.564 Q642.628 805.712 642.628 811.152 Q642.628 816.476 639.48 819.694 Q636.332 822.911 631.1 822.911 Q625.105 822.911 621.934 818.328 Q618.762 813.722 618.762 804.995 Q618.762 796.8 622.651 791.939 Q626.54 787.055 633.091 787.055 Q634.85 787.055 636.633 787.402 Q638.438 787.749 640.383 788.444 Z\" fill=\"#000000\" fill-rule=\"evenodd\" fill-opacity=\"1\" /><path clip-path=\"url(#clip310)\" d=\"M650.73 787.68 L669.086 787.68 L669.086 791.615 L655.012 791.615 L655.012 800.087 Q656.031 799.74 657.049 799.578 Q658.068 799.393 659.086 799.393 Q664.873 799.393 668.253 802.564 Q671.632 805.735 671.632 811.152 Q671.632 816.731 668.16 819.833 Q664.688 822.911 658.369 822.911 Q656.193 822.911 653.924 822.541 Q651.679 822.171 649.271 821.43 L649.271 816.731 Q651.355 817.865 653.577 818.421 Q655.799 818.976 658.276 818.976 Q662.281 818.976 664.619 816.87 Q666.957 814.763 666.957 811.152 Q666.957 807.541 664.619 805.435 Q662.281 803.328 658.276 803.328 Q656.401 803.328 654.526 803.745 Q652.674 804.161 650.73 805.041 L650.73 787.68 Z\" fill=\"#000000\" fill-rule=\"evenodd\" fill-opacity=\"1\" /><path clip-path=\"url(#clip310)\" d=\"M584.295 561.147 Q580.684 561.147 578.855 564.712 Q577.05 568.253 577.05 575.383 Q577.05 582.489 578.855 586.054 Q580.684 589.596 584.295 589.596 Q587.929 589.596 589.735 586.054 Q591.563 582.489 591.563 575.383 Q591.563 568.253 589.735 564.712 Q587.929 561.147 584.295 561.147 M584.295 557.443 Q590.105 557.443 593.161 562.05 Q596.239 566.633 596.239 575.383 Q596.239 584.11 593.161 588.716 Q590.105 593.299 584.295 593.299 Q578.485 593.299 575.406 588.716 Q572.351 584.11 572.351 575.383 Q572.351 566.633 575.406 562.05 Q578.485 557.443 584.295 557.443 Z\" fill=\"#000000\" fill-rule=\"evenodd\" fill-opacity=\"1\" /><path clip-path=\"url(#clip310)\" d=\"M604.457 586.749 L609.341 586.749 L609.341 592.628 L604.457 592.628 L604.457 586.749 Z\" fill=\"#000000\" fill-rule=\"evenodd\" fill-opacity=\"1\" /><path clip-path=\"url(#clip310)\" d=\"M618.346 558.068 L640.568 558.068 L640.568 560.059 L628.022 592.628 L623.137 592.628 L634.943 562.003 L618.346 562.003 L618.346 558.068 Z\" fill=\"#000000\" fill-rule=\"evenodd\" fill-opacity=\"1\" /><path clip-path=\"url(#clip310)\" d=\"M659.688 561.147 Q656.077 561.147 654.248 564.712 Q652.443 568.253 652.443 575.383 Q652.443 582.489 654.248 586.054 Q656.077 589.596 659.688 589.596 Q663.322 589.596 665.128 586.054 Q666.957 582.489 666.957 575.383 Q666.957 568.253 665.128 564.712 Q663.322 561.147 659.688 561.147 M659.688 557.443 Q665.498 557.443 668.554 562.05 Q671.632 566.633 671.632 575.383 Q671.632 584.11 668.554 588.716 Q665.498 593.299 659.688 593.299 Q653.878 593.299 650.799 588.716 Q647.744 584.11 647.744 575.383 Q647.744 566.633 650.799 562.05 Q653.878 557.443 659.688 557.443 Z\" fill=\"#000000\" fill-rule=\"evenodd\" fill-opacity=\"1\" /><path clip-path=\"url(#clip310)\" d=\"M585.29 331.535 Q581.679 331.535 579.851 335.1 Q578.045 338.641 578.045 345.771 Q578.045 352.878 579.851 356.442 Q581.679 359.984 585.29 359.984 Q588.925 359.984 590.73 356.442 Q592.559 352.878 592.559 345.771 Q592.559 338.641 590.73 335.1 Q588.925 331.535 585.29 331.535 M585.29 327.831 Q591.1 327.831 594.156 332.438 Q597.235 337.021 597.235 345.771 Q597.235 354.498 594.156 359.104 Q591.1 363.688 585.29 363.688 Q579.48 363.688 576.401 359.104 Q573.346 354.498 573.346 345.771 Q573.346 337.021 576.401 332.438 Q579.48 327.831 585.29 327.831 Z\" fill=\"#000000\" fill-rule=\"evenodd\" fill-opacity=\"1\" /><path clip-path=\"url(#clip310)\" d=\"M605.452 357.137 L610.336 357.137 L610.336 363.016 L605.452 363.016 L605.452 357.137 Z\" fill=\"#000000\" fill-rule=\"evenodd\" fill-opacity=\"1\" /><path clip-path=\"url(#clip310)\" d=\"M619.341 328.456 L641.563 328.456 L641.563 330.447 L629.017 363.016 L624.133 363.016 L635.938 332.392 L619.341 332.392 L619.341 328.456 Z\" fill=\"#000000\" fill-rule=\"evenodd\" fill-opacity=\"1\" /><path clip-path=\"url(#clip310)\" d=\"M650.73 328.456 L669.086 328.456 L669.086 332.392 L655.012 332.392 L655.012 340.864 Q656.031 340.516 657.049 340.354 Q658.068 340.169 659.086 340.169 Q664.873 340.169 668.253 343.341 Q671.632 346.512 671.632 351.928 Q671.632 357.507 668.16 360.609 Q664.688 363.688 658.369 363.688 Q656.193 363.688 653.924 363.317 Q651.679 362.947 649.271 362.206 L649.271 357.507 Q651.355 358.641 653.577 359.197 Q655.799 359.752 658.276 359.752 Q662.281 359.752 664.619 357.646 Q666.957 355.54 666.957 351.928 Q666.957 348.317 664.619 346.211 Q662.281 344.104 658.276 344.104 Q656.401 344.104 654.526 344.521 Q652.674 344.938 650.73 345.817 L650.73 328.456 Z\" fill=\"#000000\" fill-rule=\"evenodd\" fill-opacity=\"1\" /><path clip-path=\"url(#clip310)\" d=\"M1370.08 20.1573 L1358.98 50.2555 L1381.22 50.2555 L1370.08 20.1573 M1365.46 12.096 L1374.74 12.096 L1397.79 72.576 L1389.28 72.576 L1383.77 57.061 L1356.51 57.061 L1351 72.576 L1342.37 72.576 L1365.46 12.096 Z\" fill=\"#000000\" fill-rule=\"evenodd\" fill-opacity=\"1\" /><path clip-path=\"url(#clip310)\" d=\"M1437.49 28.9478 L1437.49 35.9153 Q1434.33 34.1734 1431.13 33.3227 Q1427.97 32.4315 1424.73 32.4315 Q1417.48 32.4315 1413.47 37.0496 Q1409.46 41.6271 1409.46 49.9314 Q1409.46 58.2358 1413.47 62.8538 Q1417.48 67.4314 1424.73 67.4314 Q1427.97 67.4314 1431.13 66.5807 Q1434.33 65.6895 1437.49 63.9476 L1437.49 70.8341 Q1434.37 72.2924 1431.01 73.0216 Q1427.69 73.7508 1423.92 73.7508 Q1413.67 73.7508 1407.63 67.3098 Q1401.6 60.8689 1401.6 49.9314 Q1401.6 38.832 1407.67 32.472 Q1413.79 26.1121 1424.4 26.1121 Q1427.85 26.1121 1431.13 26.8413 Q1434.41 27.5299 1437.49 28.9478 Z\" fill=\"#000000\" fill-rule=\"evenodd\" fill-opacity=\"1\" /><path clip-path=\"url(#clip310)\" d=\"M1483.1 28.9478 L1483.1 35.9153 Q1479.94 34.1734 1476.74 33.3227 Q1473.58 32.4315 1470.34 32.4315 Q1463.09 32.4315 1459.08 37.0496 Q1455.07 41.6271 1455.07 49.9314 Q1455.07 58.2358 1459.08 62.8538 Q1463.09 67.4314 1470.34 67.4314 Q1473.58 67.4314 1476.74 66.5807 Q1479.94 65.6895 1483.1 63.9476 L1483.1 70.8341 Q1479.98 72.2924 1476.62 73.0216 Q1473.3 73.7508 1469.53 73.7508 Q1459.28 73.7508 1453.25 67.3098 Q1447.21 60.8689 1447.21 49.9314 Q1447.21 38.832 1453.29 32.472 Q1459.4 26.1121 1470.02 26.1121 Q1473.46 26.1121 1476.74 26.8413 Q1480.02 27.5299 1483.1 28.9478 Z\" fill=\"#000000\" fill-rule=\"evenodd\" fill-opacity=\"1\" /><path clip-path=\"url(#clip310)\" d=\"M1495.3 54.671 L1495.3 27.2059 L1502.75 27.2059 L1502.75 54.3874 Q1502.75 60.8284 1505.26 64.0691 Q1507.77 67.2693 1512.8 67.2693 Q1518.83 67.2693 1522.32 63.421 Q1525.84 59.5726 1525.84 52.9291 L1525.84 27.2059 L1533.29 27.2059 L1533.29 72.576 L1525.84 72.576 L1525.84 65.6084 Q1523.13 69.7404 1519.52 71.7658 Q1515.96 73.7508 1511.22 73.7508 Q1503.4 73.7508 1499.35 68.8897 Q1495.3 64.0286 1495.3 54.671 M1514.05 26.1121 L1514.05 26.1121 Z\" fill=\"#000000\" fill-rule=\"evenodd\" fill-opacity=\"1\" /><path clip-path=\"url(#clip310)\" d=\"M1574.94 34.1734 Q1573.68 33.4443 1572.18 33.1202 Q1570.72 32.7556 1568.94 32.7556 Q1562.62 32.7556 1559.22 36.8875 Q1555.86 40.9789 1555.86 48.6757 L1555.86 72.576 L1548.36 72.576 L1548.36 27.2059 L1555.86 27.2059 L1555.86 34.2544 Q1558.21 30.1225 1561.97 28.1376 Q1565.74 26.1121 1571.13 26.1121 Q1571.9 26.1121 1572.83 26.2337 Q1573.76 26.3147 1574.9 26.5172 L1574.94 34.1734 Z\" fill=\"#000000\" fill-rule=\"evenodd\" fill-opacity=\"1\" /><path clip-path=\"url(#clip310)\" d=\"M1603.37 49.7694 Q1594.34 49.7694 1590.86 51.8354 Q1587.37 53.9013 1587.37 58.8839 Q1587.37 62.8538 1589.97 65.2034 Q1592.6 67.5124 1597.09 67.5124 Q1603.29 67.5124 1607.02 63.1374 Q1610.79 58.7219 1610.79 51.4303 L1610.79 49.7694 L1603.37 49.7694 M1618.24 46.6907 L1618.24 72.576 L1610.79 72.576 L1610.79 65.6895 Q1608.23 69.8214 1604.43 71.8063 Q1600.62 73.7508 1595.11 73.7508 Q1588.14 73.7508 1584.01 69.8619 Q1579.92 65.9325 1579.92 59.3701 Q1579.92 51.7138 1585.02 47.825 Q1590.17 43.9361 1600.34 43.9361 L1610.79 43.9361 L1610.79 43.2069 Q1610.79 38.0623 1607.38 35.2672 Q1604.02 32.4315 1597.91 32.4315 Q1594.02 32.4315 1590.33 33.3632 Q1586.64 34.295 1583.24 36.1584 L1583.24 29.2718 Q1587.33 27.692 1591.18 26.9223 Q1595.03 26.1121 1598.67 26.1121 Q1608.52 26.1121 1613.38 31.2163 Q1618.24 36.3204 1618.24 46.6907 Z\" fill=\"#000000\" fill-rule=\"evenodd\" fill-opacity=\"1\" /><path clip-path=\"url(#clip310)\" d=\"M1666.24 28.9478 L1666.24 35.9153 Q1663.08 34.1734 1659.88 33.3227 Q1656.72 32.4315 1653.48 32.4315 Q1646.23 32.4315 1642.22 37.0496 Q1638.21 41.6271 1638.21 49.9314 Q1638.21 58.2358 1642.22 62.8538 Q1646.23 67.4314 1653.48 67.4314 Q1656.72 67.4314 1659.88 66.5807 Q1663.08 65.6895 1666.24 63.9476 L1666.24 70.8341 Q1663.12 72.2924 1659.76 73.0216 Q1656.44 73.7508 1652.67 73.7508 Q1642.42 73.7508 1636.39 67.3098 Q1630.35 60.8689 1630.35 49.9314 Q1630.35 38.832 1636.43 32.472 Q1642.55 26.1121 1653.16 26.1121 Q1656.6 26.1121 1659.88 26.8413 Q1663.17 27.5299 1666.24 28.9478 Z\" fill=\"#000000\" fill-rule=\"evenodd\" fill-opacity=\"1\" /><path clip-path=\"url(#clip310)\" d=\"M1698.08 76.7889 Q1694.92 84.8907 1691.93 87.3618 Q1688.93 89.8329 1683.91 89.8329 L1677.95 89.8329 L1677.95 83.5945 L1682.33 83.5945 Q1685.4 83.5945 1687.11 82.1361 Q1688.81 80.6778 1690.87 75.2496 L1692.21 71.8468 L1673.86 27.2059 L1681.76 27.2059 L1695.94 62.6918 L1710.12 27.2059 L1718.01 27.2059 L1698.08 76.7889 Z\" fill=\"#000000\" fill-rule=\"evenodd\" fill-opacity=\"1\" /><polyline clip-path=\"url(#clip312)\" style=\"stroke:#009af9; stroke-linecap:butt; stroke-linejoin:round; stroke-width:4; stroke-opacity:1; fill:none\" points=\"\n",
       "  754.193,1172.34 1029.18,1356.03 1190.04,1356.03 1304.17,759.038 1392.7,621.271 1465.03,575.348 1526.19,345.736 1579.16,1447.87 1625.89,1080.49 1667.69,850.882 \n",
       "  1705.5,759.038 1740.02,1264.18 1771.78,850.882 1801.18,896.805 1828.55,529.426 1854.15,437.581 1878.2,804.96 1900.88,988.649 1922.33,667.193 1942.68,621.271 \n",
       "  1962.04,850.882 1980.49,850.882 1998.13,667.193 2015.01,621.271 2031.21,483.503 2046.77,575.348 2061.74,621.271 2076.17,804.96 2090.09,942.727 2103.54,1080.49 \n",
       "  2116.55,162.047 2129.14,1218.26 2141.35,713.115 2153.19,391.659 2164.69,1218.26 2175.87,1172.34 2186.74,253.892 2197.32,896.805 2207.62,529.426 2217.67,850.882 \n",
       "  2227.47,529.426 2237.03,621.271 2246.36,804.96 2255.48,896.805 2264.4,437.581 2273.12,529.426 2281.65,850.882 2290,667.193 2298.18,759.038 2306.2,988.649 \n",
       "  \n",
       "  \"/>\n",
       "<polyline clip-path=\"url(#clip312)\" style=\"stroke:#e26f46; stroke-linecap:butt; stroke-linejoin:round; stroke-width:4; stroke-opacity:1; fill:none\" points=\"\n",
       "  754.193,854.876 1029.18,1074.5 1190.04,834.909 1304.17,635.247 1392.7,735.078 1465.03,755.044 1526.19,735.078 1579.16,914.774 1625.89,675.179 1667.69,814.943 \n",
       "  1705.5,834.909 1740.02,834.909 1771.78,775.011 1801.18,854.876 1828.55,735.078 1854.15,635.247 1878.2,775.011 1900.88,695.146 1922.33,595.314 1942.68,894.808 \n",
       "  1962.04,775.011 1980.49,854.876 1998.13,775.011 2015.01,715.112 2031.21,914.774 2046.77,575.348 2061.74,814.943 2076.17,535.416 2090.09,655.213 2103.54,814.943 \n",
       "  2116.55,854.876 2129.14,834.909 2141.35,695.146 2153.19,854.876 2164.69,715.112 2175.87,655.213 2186.74,874.842 2197.32,755.044 2207.62,934.741 2217.67,854.876 \n",
       "  2227.47,755.044 2237.03,854.876 2246.36,735.078 2255.48,735.078 2264.4,635.247 2273.12,715.112 2281.65,675.179 2290,794.977 2298.18,775.011 2306.2,675.179 \n",
       "  \n",
       "  \"/>\n",
       "<path clip-path=\"url(#clip310)\" d=\"\n",
       "M114.058 324.425 L463.918 324.425 L463.918 168.905 L114.058 168.905  Z\n",
       "  \" fill=\"#ffffff\" fill-rule=\"evenodd\" fill-opacity=\"1\"/>\n",
       "<polyline clip-path=\"url(#clip310)\" style=\"stroke:#000000; stroke-linecap:butt; stroke-linejoin:round; stroke-width:4; stroke-opacity:1; fill:none\" points=\"\n",
       "  114.058,324.425 463.918,324.425 463.918,168.905 114.058,168.905 114.058,324.425 \n",
       "  \"/>\n",
       "<polyline clip-path=\"url(#clip310)\" style=\"stroke:#009af9; stroke-linecap:butt; stroke-linejoin:round; stroke-width:4; stroke-opacity:1; fill:none\" points=\"\n",
       "  138.058,220.745 282.058,220.745 \n",
       "  \"/>\n",
       "<path clip-path=\"url(#clip310)\" d=\"M306.058 203.465 L335.294 203.465 L335.294 207.4 L323.025 207.4 L323.025 238.025 L318.326 238.025 L318.326 207.4 L306.058 207.4 L306.058 203.465 Z\" fill=\"#000000\" fill-rule=\"evenodd\" fill-opacity=\"1\" /><path clip-path=\"url(#clip310)\" d=\"M353.743 223.997 L353.743 226.08 L334.16 226.08 Q334.437 230.478 336.799 232.793 Q339.183 235.085 343.419 235.085 Q345.873 235.085 348.164 234.483 Q350.479 233.881 352.748 232.677 L352.748 236.705 Q350.456 237.677 348.048 238.187 Q345.641 238.696 343.164 238.696 Q336.961 238.696 333.326 235.085 Q329.715 231.474 329.715 225.316 Q329.715 218.951 333.141 215.224 Q336.59 211.474 342.423 211.474 Q347.655 211.474 350.687 214.853 Q353.743 218.21 353.743 223.997 M349.484 222.747 Q349.437 219.252 347.516 217.168 Q345.618 215.085 342.47 215.085 Q338.905 215.085 336.752 217.099 Q334.623 219.113 334.299 222.77 L349.484 222.747 Z\" fill=\"#000000\" fill-rule=\"evenodd\" fill-opacity=\"1\" /><path clip-path=\"url(#clip310)\" d=\"M377.261 212.863 L377.261 216.891 Q375.456 215.965 373.511 215.502 Q371.567 215.039 369.484 215.039 Q366.312 215.039 364.715 216.011 Q363.141 216.983 363.141 218.928 Q363.141 220.409 364.275 221.265 Q365.409 222.099 368.835 222.863 L370.294 223.187 Q374.831 224.159 376.729 225.941 Q378.65 227.701 378.65 230.872 Q378.65 234.483 375.78 236.589 Q372.933 238.696 367.933 238.696 Q365.849 238.696 363.581 238.279 Q361.335 237.886 358.835 237.076 L358.835 232.677 Q361.197 233.904 363.488 234.529 Q365.78 235.131 368.025 235.131 Q371.034 235.131 372.655 234.113 Q374.275 233.071 374.275 231.196 Q374.275 229.46 373.095 228.534 Q371.937 227.608 367.979 226.752 L366.497 226.404 Q362.539 225.571 360.78 223.858 Q359.021 222.122 359.021 219.113 Q359.021 215.455 361.613 213.465 Q364.206 211.474 368.974 211.474 Q371.335 211.474 373.419 211.821 Q375.502 212.168 377.261 212.863 Z\" fill=\"#000000\" fill-rule=\"evenodd\" fill-opacity=\"1\" /><path clip-path=\"url(#clip310)\" d=\"M389.645 204.738 L389.645 212.099 L398.419 212.099 L398.419 215.409 L389.645 215.409 L389.645 229.483 Q389.645 232.654 390.502 233.557 Q391.382 234.46 394.044 234.46 L398.419 234.46 L398.419 238.025 L394.044 238.025 Q389.113 238.025 387.238 236.196 Q385.363 234.344 385.363 229.483 L385.363 215.409 L382.238 215.409 L382.238 212.099 L385.363 212.099 L385.363 204.738 L389.645 204.738 Z\" fill=\"#000000\" fill-rule=\"evenodd\" fill-opacity=\"1\" /><polyline clip-path=\"url(#clip310)\" style=\"stroke:#e26f46; stroke-linecap:butt; stroke-linejoin:round; stroke-width:4; stroke-opacity:1; fill:none\" points=\"\n",
       "  138.058,272.585 282.058,272.585 \n",
       "  \"/>\n",
       "<path clip-path=\"url(#clip310)\" d=\"M306.058 255.305 L335.294 255.305 L335.294 259.24 L323.025 259.24 L323.025 289.865 L318.326 289.865 L318.326 259.24 L306.058 259.24 L306.058 255.305 Z\" fill=\"#000000\" fill-rule=\"evenodd\" fill-opacity=\"1\" /><path clip-path=\"url(#clip310)\" d=\"M347.678 267.92 Q346.96 267.504 346.104 267.318 Q345.271 267.11 344.252 267.11 Q340.641 267.11 338.697 269.471 Q336.775 271.809 336.775 276.207 L336.775 289.865 L332.493 289.865 L332.493 263.939 L336.775 263.939 L336.775 267.967 Q338.118 265.606 340.271 264.471 Q342.423 263.314 345.502 263.314 Q345.942 263.314 346.474 263.383 Q347.007 263.43 347.655 263.545 L347.678 267.92 Z\" fill=\"#000000\" fill-rule=\"evenodd\" fill-opacity=\"1\" /><path clip-path=\"url(#clip310)\" d=\"M363.928 276.832 Q358.766 276.832 356.775 278.013 Q354.785 279.193 354.785 282.041 Q354.785 284.309 356.266 285.652 Q357.771 286.971 360.34 286.971 Q363.882 286.971 366.011 284.471 Q368.164 281.948 368.164 277.781 L368.164 276.832 L363.928 276.832 M372.423 275.073 L372.423 289.865 L368.164 289.865 L368.164 285.929 Q366.706 288.291 364.53 289.425 Q362.354 290.536 359.206 290.536 Q355.224 290.536 352.863 288.314 Q350.525 286.068 350.525 282.318 Q350.525 277.943 353.442 275.721 Q356.382 273.499 362.192 273.499 L368.164 273.499 L368.164 273.082 Q368.164 270.143 366.22 268.545 Q364.298 266.925 360.803 266.925 Q358.581 266.925 356.474 267.457 Q354.368 267.99 352.423 269.055 L352.423 265.119 Q354.761 264.217 356.96 263.777 Q359.16 263.314 361.243 263.314 Q366.868 263.314 369.646 266.231 Q372.423 269.147 372.423 275.073 Z\" fill=\"#000000\" fill-rule=\"evenodd\" fill-opacity=\"1\" /><path clip-path=\"url(#clip310)\" d=\"M381.196 263.939 L385.456 263.939 L385.456 289.865 L381.196 289.865 L381.196 263.939 M381.196 253.846 L385.456 253.846 L385.456 259.24 L381.196 259.24 L381.196 253.846 Z\" fill=\"#000000\" fill-rule=\"evenodd\" fill-opacity=\"1\" /><path clip-path=\"url(#clip310)\" d=\"M415.918 274.217 L415.918 289.865 L411.659 289.865 L411.659 274.355 Q411.659 270.675 410.224 268.846 Q408.789 267.018 405.919 267.018 Q402.469 267.018 400.479 269.217 Q398.488 271.416 398.488 275.212 L398.488 289.865 L394.206 289.865 L394.206 263.939 L398.488 263.939 L398.488 267.967 Q400.016 265.629 402.076 264.471 Q404.159 263.314 406.868 263.314 Q411.335 263.314 413.627 266.092 Q415.918 268.846 415.918 274.217 Z\" fill=\"#000000\" fill-rule=\"evenodd\" fill-opacity=\"1\" /></svg>\n"
      ]
     },
     "metadata": {},
     "output_type": "display_data"
    }
   ],
   "source": [
    "save_resultTest = save_resultTest ./ 10;\n",
    "save_resultTrain = save_resultTrain ./ 10;\n",
    "\n",
    "plot(log.(1:epochs), save_resultTest,label=\"Test\")\n",
    "plot!(log.(1:epochs), save_resultTrain,label = \"Train\", title = \"Accuracy\", legend = :outertopleft)"
   ]
  },
  {
   "cell_type": "code",
   "execution_count": 75,
   "metadata": {},
   "outputs": [
    {
     "name": "stderr",
     "output_type": "stream",
     "text": [
      "┌ Info: MLP\n",
      "│   loss = 0.4921319489784658\n",
      "│   accuracy = 0.7391304347826086\n",
      "└ @ Main c:\\Users\\xkzmx\\Documents\\Odyssey\\School\\Evolution\\HW2\\testField.ipynb:2\n"
     ]
    }
   ],
   "source": [
    "evomodel= Evolutionary.minimizer(res)\n",
    "@info \"MLP\" loss=loss(train_data, evomodel) accuracy = accuracy(train_data, evomodel)"
   ]
  },
  {
   "cell_type": "code",
   "execution_count": 48,
   "metadata": {},
   "outputs": [
    {
     "data": {
      "text/plain": [
       "Chain(\n",
       "  Dense(19, 38, σ),                     \u001b[90m# 760 parameters\u001b[39m\n",
       "  Dense(38, 2),                         \u001b[90m# 78 parameters\u001b[39m\n",
       ")\u001b[90m                   # Total: 4 arrays, \u001b[39m838 parameters, 3.523 KiB."
      ]
     },
     "metadata": {},
     "output_type": "display_data"
    }
   ],
   "source": [
    "model = Chain(l1,l2)\n"
   ]
  },
  {
   "cell_type": "code",
   "execution_count": 76,
   "metadata": {},
   "outputs": [
    {
     "data": {
      "text/plain": [
       "2-element Vector{Float64}:\n",
       " 0.8403408239664493\n",
       " 0.15965917603355062"
      ]
     },
     "metadata": {},
     "output_type": "display_data"
    }
   ],
   "source": [
    "softmax(evomodel(x_train[:,9]))"
   ]
  },
  {
   "cell_type": "code",
   "execution_count": 107,
   "metadata": {},
   "outputs": [
    {
     "name": "stdout",
     "output_type": "stream",
     "text": [
      "ConfusionMatrix for the training data\n"
     ]
    },
    {
     "name": "stderr",
     "output_type": "stream",
     "text": [
      "┌ Warning: The classes are un-ordered,\n",
      "│ using: negative='0' and positive='1'.\n",
      "│ To suppress this warning, consider coercing to OrderedFactor.\n",
      "└ @ MLJBase C:\\Users\\xkzmx\\.julia\\packages\\MLJBase\\pCiRR\\src\\measures\\confusion_matrix.jl:112\n"
     ]
    },
    {
     "data": {
      "text/plain": [
       "              ┌───────────────────────────┐\n",
       "              │       Ground Truth        │\n",
       "┌─────────────┼─────────────┬─────────────┤\n",
       "│  Predicted  │      0      │      1      │\n",
       "├─────────────┼─────────────┼─────────────┤\n",
       "│      0      │      2      │      0      │\n",
       "├─────────────┼─────────────┼─────────────┤\n",
       "│      1      │      9      │     12      │\n",
       "└─────────────┴─────────────┴─────────────┘\n"
      ]
     },
     "metadata": {},
     "output_type": "display_data"
    }
   ],
   "source": [
    "\n",
    "simplified_x_train_result = []\n",
    "for i  = 1:size(x_train,2)\n",
    "    if softmax(evomodel(x_train[:,i]))[1]>0.5\n",
    "        push!(simplified_x_train_result, 0)\n",
    "    else\n",
    "        push!(simplified_x_train_result, 1)\n",
    "    end\n",
    "end\n",
    "simplified_y_train = []\n",
    "for i  = 1:size(x_train,2)\n",
    "    if y_train[i] == 0\n",
    "        push!(simplified_y_train, 0)\n",
    "    else\n",
    "        push!(simplified_y_train, 1)\n",
    "    end\n",
    "end\n",
    "\n",
    "# ConfusionMatrix for the training data\n",
    "print(\"ConfusionMatrix for the training data\\n\")\n",
    "ConfusionMatrix()(simplified_x_train_result, simplified_y_train)"
   ]
  },
  {
   "cell_type": "code",
   "execution_count": 60,
   "metadata": {},
   "outputs": [
    {
     "name": "stdout",
     "output_type": "stream",
     "text": [
      "[0.634074380734883, 1.1161675214320417]\n",
      "[0.9251472480170928, 0.8073897183541174]\n",
      "[0.42049145212809047, 1.3216734600799558]\n",
      "[0.30054598690554235, 1.6955905046950979]\n",
      "[0.35325713087874905, 2.1520624725338138]\n",
      "[0.40463753494184973, 1.3467170659298422]\n",
      "[0.35977629303730396, 1.6057767579070787]\n",
      "[0.7813651164114997, 1.221310928077243]\n",
      "[0.49704703567700814, 1.3396887031537579]\n",
      "[0.37347004165151004, 1.6676678473596458]\n",
      "[0.8856012174210159, 1.1089900437245652]\n",
      "[0.7342445618835859, 1.355323905125478]\n",
      "[0.9457201700633723, 1.5654504398647235]\n",
      "[0.9787416779865429, 0.8708931163311197]\n",
      "[0.6072744970714061, 2.169919575689136]\n",
      "[0.3062289036603157, 2.2572563464601805]\n",
      "[0.8238293449224913, 1.663112752806435]\n",
      "[0.7964294910746541, 1.2259733100958283]\n",
      "[0.47989830608638795, 1.3564487609544367]\n",
      "[0.47989830608638795, 1.3564487609544367]\n",
      "[0.5633837295627283, 1.5771411614171758]\n",
      "[0.4812386013770091, 1.4002194580801879]\n",
      "[0.4923819149894817, 1.3713866056190442]\n"
     ]
    }
   ],
   "source": [
    "for i in 1:23\n",
    "    print((model(x_train[:,i])))\n",
    "    print('\\n')\n",
    "end"
   ]
  },
  {
   "cell_type": "code",
   "execution_count": 28,
   "metadata": {},
   "outputs": [
    {
     "data": {
      "text/plain": [
       "2-element Vector{Float64}:\n",
       " -0.5717271551456502\n",
       " -0.4672532170740528"
      ]
     },
     "metadata": {},
     "output_type": "display_data"
    }
   ],
   "source": []
  },
  {
   "cell_type": "code",
   "execution_count": 108,
   "metadata": {},
   "outputs": [
    {
     "name": "stdout",
     "output_type": "stream",
     "text": [
      "ConfusionMatrix for the test data\n"
     ]
    },
    {
     "name": "stderr",
     "output_type": "stream",
     "text": [
      "┌ Warning: The classes are un-ordered,\n",
      "│ using: negative='1' and positive='0'.\n",
      "│ To suppress this warning, consider coercing to OrderedFactor.\n",
      "└ @ MLJBase C:\\Users\\xkzmx\\.julia\\packages\\MLJBase\\pCiRR\\src\\measures\\confusion_matrix.jl:112\n"
     ]
    },
    {
     "data": {
      "text/plain": [
       "              ┌───────────────────────────┐\n",
       "              │       Ground Truth        │\n",
       "┌─────────────┼─────────────┬─────────────┤\n",
       "│  Predicted  │      1      │      0      │\n",
       "├─────────────┼─────────────┼─────────────┤\n",
       "│      1      │      6      │      4      │\n",
       "├─────────────┼─────────────┼─────────────┤\n",
       "│      0      │      0      │      0      │\n",
       "└─────────────┴─────────────┴─────────────┘\n"
      ]
     },
     "metadata": {},
     "output_type": "display_data"
    }
   ],
   "source": [
    "simplified_x_test_result = []\n",
    "for i  = 1:size(x_test,2) \n",
    "    if softmax(evomodel(x_test[:,i]))[1]>0.5\n",
    "        push!(simplified_x_test_result, 0)\n",
    "    else\n",
    "        push!(simplified_x_test_result, 1)\n",
    "    end\n",
    "end\n",
    "simplified_y_test = []\n",
    "for i  = 1:size(x_test,2) \n",
    "    if y_test[i] == 0\n",
    "        push!(simplified_y_test, 0)\n",
    "    else\n",
    "        push!(simplified_y_test, 1)\n",
    "    end\n",
    "end\n",
    "\n",
    "# ConfusionMatrix for the test data\n",
    "print(\"ConfusionMatrix for the test data\\n\")\n",
    "ConfusionMatrix()(simplified_x_test_result, simplified_y_test)"
   ]
  }
 ],
 "metadata": {
  "kernelspec": {
   "display_name": "Julia 1.7.1",
   "language": "julia",
   "name": "julia-1.7"
  },
  "language_info": {
   "file_extension": ".jl",
   "mimetype": "application/julia",
   "name": "julia",
   "version": "1.7.1"
  },
  "orig_nbformat": 4
 },
 "nbformat": 4,
 "nbformat_minor": 2
}

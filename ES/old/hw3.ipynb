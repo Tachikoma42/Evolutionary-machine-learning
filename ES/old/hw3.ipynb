{
 "cells": [
  {
   "cell_type": "code",
   "execution_count": null,
   "metadata": {},
   "outputs": [],
   "source": [
    "using Evolutionary\n",
    "using Flux\n",
    "using Flux: onehot, onecold, logitcrossentropy, onehotbatch, crossentropy\n",
    "using MLDatasets\n",
    "using Random\n",
    "using Statistics\n",
    "using MLJBase\n",
    "using Printf\n",
    "using BSON: @load # for load weights\n",
    "using Plots\n",
    "using DelimitedFiles\n",
    "import Evolutionary.initial_population\n",
    "using Zygote\n",
    "import Evolutionary.NonDifferentiable\n",
    "import Base: copy, copyto!"
   ]
  },
  {
   "cell_type": "code",
   "execution_count": null,
   "metadata": {},
   "outputs": [],
   "source": [
    "Random.seed!(63456345)"
   ]
  },
  {
   "cell_type": "code",
   "execution_count": 14,
   "metadata": {},
   "outputs": [],
   "source": [
    "rawdata = readdlm(\"data/test2.csv\",',',skipstart=1)';\n",
    "one = 0\n",
    "zero = 0\n",
    "for i in rawdata[20,:]\n",
    "    if i == 1\n",
    "        one = one + 1\n",
    "    else\n",
    "        zero = zero + 1\n",
    "    end\n",
    "end\n",
    "\n",
    "difference = one - zero\n",
    "\n",
    "function newrand()\n",
    "    randCol = zeros(0)\n",
    "    push!(randCol, rand(10.0:99.0))\n",
    "    push!(randCol, rand(5.3:40.2))\n",
    "    push!(randCol, rand(1.1:15.1))\n",
    "    push!(randCol, rand(0.1:8.1))\n",
    "    push!(randCol, rand(1.1:15.1))\n",
    "    push!(randCol, rand(30.1:60.1))\n",
    "    push!(randCol, rand(0.1:0.9))\n",
    "    push!(randCol, rand(0.1:4.1))\n",
    "    push!(randCol, rand(20.1:50.1))\n",
    "    push!(randCol, rand(0.1:5.1))\n",
    "    push!(randCol, rand(0.1:7.1))\n",
    "    push!(randCol, rand(45.1:99.1))\n",
    "    push!(randCol, rand(0.1:5.1))\n",
    "    push!(randCol, rand(0.1:5.1))\n",
    "    push!(randCol, rand(0.1:7.1))\n",
    "    push!(randCol, rand(0.1:7.1))\n",
    "    push!(randCol, rand(0.1:3.1))\n",
    "    push!(randCol, rand(0.1:3.1))\n",
    "    push!(randCol, rand(0.1:5.1))\n",
    "    if rand(0:1) == 0\n",
    "        push!(randCol, 0.0)\n",
    "    else\n",
    "        push!(randCol, 1.0)\n",
    "    end\n",
    "    return randCol\n",
    "end\n",
    "\n",
    "for i = 1:size(rawdata,2)\n",
    "    if rawdata[20,i] == 0 && difference > 0\n",
    "        rawdata = hcat(rawdata, rawdata[:,i])\n",
    "        rawdata = hcat(rawdata, newrand())\n",
    "\n",
    "        difference = difference - 1\n",
    "    end\n",
    "end\n",
    "filldata = rawdata[ :, shuffle(1:end)];\n",
    "\n",
    "x = filldata[1:19, :]\n",
    "y = filldata[20, :];\n",
    "\n",
    "x_train = x[:,1:floor(Int, size(x,2)*0.7)]\n",
    "y_train = y[1:floor(Int, size(x,2)*0.7)]\n",
    "x_test = x[:,floor(Int, size(x,2)*0.7)+1:end]\n",
    "y_test = y[floor(Int, size(x,2)*0.7)+1:end];\n"
   ]
  },
  {
   "cell_type": "code",
   "execution_count": 3,
   "metadata": {},
   "outputs": [],
   "source": [
    "train_data = [ (x, onehot(l, unique(y_train))) for (x, l) in zip(eachcol(x_train), y_train)]\n",
    "test_data = [ (x, onehot(l, unique(y_test))) for (x, l) in zip(eachcol(x_test), y_test)];"
   ]
  },
  {
   "cell_type": "code",
   "execution_count": 18,
   "metadata": {},
   "outputs": [
    {
     "data": {
      "text/plain": [
       "loss (generic function with 3 methods)"
      ]
     },
     "metadata": {},
     "output_type": "display_data"
    }
   ],
   "source": [
    "accuracy(xy, model) = mean( onecold(model(x)) .== onecold(y) for (x,y) in xy)\n",
    "loss(model) = (x,y)->crossentropy(model(x), y)\n",
    "loss(model,x,y) = loss(model)(x, y)\n",
    "loss(xy, model) = loss(model)(hcat(map(first,xy)...), hcat(map(last,xy)...))"
   ]
  },
  {
   "cell_type": "code",
   "execution_count": 19,
   "metadata": {},
   "outputs": [
    {
     "data": {
      "text/plain": [
       "fitness (generic function with 1 method)"
      ]
     },
     "metadata": {},
     "output_type": "display_data"
    }
   ],
   "source": [
    "fitness(m) = loss(train_data, m)"
   ]
  },
  {
   "cell_type": "code",
   "execution_count": 6,
   "metadata": {},
   "outputs": [
    {
     "data": {
      "text/plain": [
       "gaussian_mlp (generic function with 2 methods)"
      ]
     },
     "metadata": {},
     "output_type": "display_data"
    }
   ],
   "source": [
    "function uniform_mlp(m1::T, m2::T; rng::Random.AbstractRNG=Random.default_rng()) where {T <: Chain}\n",
    "    θ1, re1 = Flux.destructure(m1);\n",
    "    θ2, re2 = Flux.destructure(m2);\n",
    "    c1, c2 = UX(θ1,θ2; rng=rng)\n",
    "    return re1(c1), re2(c2)\n",
    "end\n",
    "\n",
    "function gaussian_mlp(σ::Real = 1.0)\n",
    "    vop = gaussian(σ)\n",
    "    function mutation(recombinant::T; rng::Random.AbstractRNG=Random.default_rng()) where {T <: Chain}  \n",
    "        θ, re = Flux.destructure(recombinant)\n",
    "        return re(convert(Vector{Float32}, vop(θ; rng=rng)))\n",
    "    end\n",
    "    return mutation\n",
    "end"
   ]
  },
  {
   "cell_type": "code",
   "execution_count": 7,
   "metadata": {},
   "outputs": [
    {
     "data": {
      "text/plain": [
       "initial_population (generic function with 6 methods)"
      ]
     },
     "metadata": {},
     "output_type": "display_data"
    }
   ],
   "source": [
    "function initial_population(method::M, individual::Chain;\n",
    "    rng::Random.AbstractRNG=Random.default_rng(),\n",
    "    kwargs...) where {M<:Evolutionary.AbstractOptimizer}\n",
    "θ, re = Flux.destructure(individual);\n",
    "[re(randn(rng, length(θ))) for i in 1:Evolutionary.population_size(method)]\n",
    "end"
   ]
  },
  {
   "cell_type": "code",
   "execution_count": 20,
   "metadata": {},
   "outputs": [
    {
     "data": {
      "text/plain": [
       "copyto! (generic function with 2 methods)"
      ]
     },
     "metadata": {},
     "output_type": "display_data"
    }
   ],
   "source": [
    "NonDifferentiable(f, x::Chain) = NonDifferentiable{Real,typeof(x)}(f, f(x), deepcopy(x),[0,])\n",
    "copy(ch::Chain) = deepcopy(ch)\n",
    "# copy weight and bias between two models\n",
    "function copyto!(layer1::Dense{T}, layer2::Dense{T}) where {T}\n",
    "    copyto!(layer1.W, layer2.W)\n",
    "    copyto!(layer1.b, layer2.b)\n",
    "    return l1\n",
    "end\n",
    "function copyto!(ch1::Chain, ch2::Chain)\n",
    "    for i in 1:length(ch1.layers)\n",
    "        copyto!(ch1.layers[i],ch2.layers[i])\n",
    "    end\n",
    "    return ch1  \n",
    "end"
   ]
  },
  {
   "cell_type": "code",
   "execution_count": 9,
   "metadata": {},
   "outputs": [
    {
     "ename": "UndefVarError",
     "evalue": "UndefVarError: StableRNG not defined",
     "output_type": "error",
     "traceback": [
      "UndefVarError: StableRNG not defined\n",
      "\n",
      "Stacktrace:\n",
      "  [1] top-level scope\n",
      "    @ c:\\Users\\xkzmx\\Documents\\Odyssey\\School\\Evolution\\HW3\\hw3.ipynb:1\n",
      "  [2] eval\n",
      "    @ .\\boot.jl:373 [inlined]\n",
      "  [3] include_string(mapexpr::typeof(REPL.softscope), mod::Module, code::String, filename::String)\n",
      "    @ Base .\\loading.jl:1196\n",
      "  [4] #invokelatest#2\n",
      "    @ .\\essentials.jl:716 [inlined]\n",
      "  [5] invokelatest\n",
      "    @ .\\essentials.jl:714 [inlined]\n",
      "  [6] (::VSCodeServer.var\"#158#159\"{VSCodeServer.NotebookRunCellArguments, String})()\n",
      "    @ VSCodeServer c:\\Users\\xkzmx\\.vscode\\extensions\\julialang.language-julia-1.6.3\\scripts\\packages\\VSCodeServer\\src\\serve_notebook.jl:18\n",
      "  [7] withpath(f::VSCodeServer.var\"#158#159\"{VSCodeServer.NotebookRunCellArguments, String}, path::String)\n",
      "    @ VSCodeServer c:\\Users\\xkzmx\\.vscode\\extensions\\julialang.language-julia-1.6.3\\scripts\\packages\\VSCodeServer\\src\\repl.jl:184\n",
      "  [8] notebook_runcell_request(conn::VSCodeServer.JSONRPC.JSONRPCEndpoint{Base.PipeEndpoint, Base.PipeEndpoint}, params::VSCodeServer.NotebookRunCellArguments)\n",
      "    @ VSCodeServer c:\\Users\\xkzmx\\.vscode\\extensions\\julialang.language-julia-1.6.3\\scripts\\packages\\VSCodeServer\\src\\serve_notebook.jl:14\n",
      "  [9] dispatch_msg(x::VSCodeServer.JSONRPC.JSONRPCEndpoint{Base.PipeEndpoint, Base.PipeEndpoint}, dispatcher::VSCodeServer.JSONRPC.MsgDispatcher, msg::Dict{String, Any})\n",
      "    @ VSCodeServer.JSONRPC c:\\Users\\xkzmx\\.vscode\\extensions\\julialang.language-julia-1.6.3\\scripts\\packages\\JSONRPC\\src\\typed.jl:67\n",
      " [10] serve_notebook(pipename::String; crashreporting_pipename::String)\n",
      "    @ VSCodeServer c:\\Users\\xkzmx\\.vscode\\extensions\\julialang.language-julia-1.6.3\\scripts\\packages\\VSCodeServer\\src\\serve_notebook.jl:95\n",
      " [11] top-level scope\n",
      "    @ c:\\Users\\xkzmx\\.vscode\\extensions\\julialang.language-julia-1.6.3\\scripts\\notebook\\notebook.jl:14\n",
      " [12] include(mod::Module, _path::String)\n",
      "    @ Base .\\Base.jl:418\n",
      " [13] exec_options(opts::Base.JLOptions)\n",
      "    @ Base .\\client.jl:292\n",
      " [14] _start()\n",
      "    @ Base .\\client.jl:495"
     ]
    }
   ],
   "source": [
    "# opts = Evolutionary.Options(iterations=100, successive_f_tol=25, rng=StableRNG(42))\n",
    "# algo = GA(\n",
    "#         selection = rouletteinv,\n",
    "#         mutation =  gaussian_mlp(),\n",
    "#         crossover = uniform_mlp,\n",
    "#         mutationRate = 0.2,\n",
    "#         crossoverRate = 0.9,\n",
    "#         populationSize = 1600,\n",
    "#         ε = 0.0003\n",
    "#     )"
   ]
  },
  {
   "cell_type": "code",
   "execution_count": 21,
   "metadata": {},
   "outputs": [
    {
     "data": {
      "text/plain": [
       "ES(NoStrategy(), first, first, Evolutionary.var\"#42#45\"(), identity, 10, 1, 70, :comma)"
      ]
     },
     "metadata": {},
     "output_type": "display_data"
    }
   ],
   "source": [
    "opts = Evolutionary.Options(iterations=100)\n",
    "algo = ES(\n",
    "    selection = :comma,\n",
    "    mu = 10,\n",
    "    lambda = 70\n",
    ")"
   ]
  },
  {
   "cell_type": "code",
   "execution_count": 24,
   "metadata": {},
   "outputs": [
    {
     "data": {
      "text/plain": [
       "Chain(\n",
       "  Dense(19, 38, σ),                     \u001b[90m# 760 parameters\u001b[39m\n",
       "  Dense(38, 2),                         \u001b[90m# 78 parameters\u001b[39m\n",
       ")\u001b[90m                   # Total: 4 arrays, \u001b[39m838 parameters, 3.523 KiB."
      ]
     },
     "metadata": {},
     "output_type": "display_data"
    }
   ],
   "source": [
    "model = Chain(Dense(19, 2*19, sigmoid), Dense(2*19, 2))"
   ]
  },
  {
   "cell_type": "code",
   "execution_count": 26,
   "metadata": {},
   "outputs": [
    {
     "ename": "DomainError",
     "evalue": "DomainError with -3.938436729305889:\nlog will only return a complex result if called with a complex argument. Try log(Complex(x)).",
     "output_type": "error",
     "traceback": [
      "DomainError with -3.938436729305889:\n",
      "log will only return a complex result if called with a complex argument. Try log(Complex(x)).\n",
      "\n",
      "Stacktrace:\n",
      "  [1] throw_complex_domainerror(f::Symbol, x::Float64)\n",
      "    @ Base.Math .\\math.jl:33\n",
      "  [2] _log(x::Float64, base::Val{:ℯ}, func::Symbol)\n",
      "    @ Base.Math .\\special\\log.jl:304\n",
      "  [3] log\n",
      "    @ .\\special\\log.jl:269 [inlined]\n",
      "  [4] xlogy\n",
      "    @ C:\\Users\\xkzmx\\.julia\\packages\\Flux\\qAdFM\\src\\losses\\utils.jl:17 [inlined]\n",
      "  [5] _broadcast_getindex_evalf\n",
      "    @ .\\broadcast.jl:670 [inlined]\n",
      "  [6] _broadcast_getindex\n",
      "    @ .\\broadcast.jl:643 [inlined]\n",
      "  [7] getindex\n",
      "    @ .\\broadcast.jl:597 [inlined]\n",
      "  [8] macro expansion\n",
      "    @ .\\broadcast.jl:961 [inlined]\n",
      "  [9] macro expansion\n",
      "    @ .\\simdloop.jl:77 [inlined]\n",
      " [10] copyto!\n",
      "    @ .\\broadcast.jl:960 [inlined]\n",
      " [11] copyto!\n",
      "    @ .\\broadcast.jl:913 [inlined]\n",
      " [12] copy\n",
      "    @ .\\broadcast.jl:885 [inlined]\n",
      " [13] materialize\n",
      "    @ .\\broadcast.jl:860 [inlined]\n",
      " [14] crossentropy(ŷ::Matrix{Float64}, y::Flux.OneHotArray{UInt32, 2, 1, 2, Vector{UInt32}}; dims::Int64, agg::typeof(mean), ϵ::Float64)\n",
      "    @ Flux.Losses C:\\Users\\xkzmx\\.julia\\packages\\Flux\\qAdFM\\src\\losses\\functions.jl:216\n",
      " [15] crossentropy\n",
      "    @ C:\\Users\\xkzmx\\.julia\\packages\\Flux\\qAdFM\\src\\losses\\functions.jl:215 [inlined]\n",
      " [16] (::var\"#21#22\"{Chain{Tuple{Dense{typeof(σ), Matrix{Float64}, Vector{Float64}}, Dense{typeof(identity), Matrix{Float64}, Vector{Float64}}}}})(x::Matrix{Float64}, y::Flux.OneHotArray{UInt32, 2, 1, 2, Vector{UInt32}})\n",
      "    @ Main c:\\Users\\xkzmx\\Documents\\Odyssey\\School\\Evolution\\HW3\\hw3.ipynb:2\n",
      " [17] loss(xy::Vector{Tuple{SubArray{Float64, 1, Matrix{Float64}, Tuple{Base.Slice{Base.OneTo{Int64}}, Int64}, true}, Flux.OneHotArray{UInt32, 2, 0, 1, UInt32}}}, model::Chain{Tuple{Dense{typeof(σ), Matrix{Float64}, Vector{Float64}}, Dense{typeof(identity), Matrix{Float64}, Vector{Float64}}}})\n",
      "    @ Main c:\\Users\\xkzmx\\Documents\\Odyssey\\School\\Evolution\\HW3\\hw3.ipynb:4\n",
      " [18] fitness(m::Chain{Tuple{Dense{typeof(σ), Matrix{Float64}, Vector{Float64}}, Dense{typeof(identity), Matrix{Float64}, Vector{Float64}}}})\n",
      "    @ Main c:\\Users\\xkzmx\\Documents\\Odyssey\\School\\Evolution\\HW3\\hw3.ipynb:1\n",
      " [19] NonDifferentiable(f::typeof(fitness), x::Chain{Tuple{Dense{typeof(σ), Matrix{Float64}, Vector{Float64}}, Dense{typeof(identity), Matrix{Float64}, Vector{Float64}}}})\n",
      "    @ Main c:\\Users\\xkzmx\\Documents\\Odyssey\\School\\Evolution\\HW3\\hw3.ipynb:1\n",
      " [20] optimize(f::Function, constraints::Evolutionary.NoConstraints, individual::Chain{Tuple{Dense{typeof(σ), Matrix{Float32}, Vector{Float32}}, Dense{typeof(identity), Matrix{Float32}, Vector{Float32}}}}, method::ES, options::Evolutionary.Options{Nothing})\n",
      "    @ Evolutionary C:\\Users\\xkzmx\\.julia\\packages\\Evolutionary\\BIk3j\\src\\api\\optimize.jl:30\n",
      " [21] optimize(f::Function, individual::Chain{Tuple{Dense{typeof(σ), Matrix{Float32}, Vector{Float32}}, Dense{typeof(identity), Matrix{Float32}, Vector{Float32}}}}, method::ES, options::Evolutionary.Options{Nothing})\n",
      "    @ Evolutionary C:\\Users\\xkzmx\\.julia\\packages\\Evolutionary\\BIk3j\\src\\api\\optimize.jl:13\n",
      " [22] top-level scope\n",
      "    @ c:\\Users\\xkzmx\\Documents\\Odyssey\\School\\Evolution\\HW3\\hw3.ipynb:1\n",
      " [23] eval\n",
      "    @ .\\boot.jl:373 [inlined]\n",
      " [24] include_string(mapexpr::typeof(REPL.softscope), mod::Module, code::String, filename::String)\n",
      "    @ Base .\\loading.jl:1196\n",
      " [25] #invokelatest#2\n",
      "    @ .\\essentials.jl:716 [inlined]\n",
      " [26] invokelatest\n",
      "    @ .\\essentials.jl:714 [inlined]\n",
      " [27] (::VSCodeServer.var\"#158#159\"{VSCodeServer.NotebookRunCellArguments, String})()\n",
      "    @ VSCodeServer c:\\Users\\xkzmx\\.vscode\\extensions\\julialang.language-julia-1.6.3\\scripts\\packages\\VSCodeServer\\src\\serve_notebook.jl:18\n",
      " [28] withpath(f::VSCodeServer.var\"#158#159\"{VSCodeServer.NotebookRunCellArguments, String}, path::String)\n",
      "    @ VSCodeServer c:\\Users\\xkzmx\\.vscode\\extensions\\julialang.language-julia-1.6.3\\scripts\\packages\\VSCodeServer\\src\\repl.jl:184\n",
      " [29] notebook_runcell_request(conn::VSCodeServer.JSONRPC.JSONRPCEndpoint{Base.PipeEndpoint, Base.PipeEndpoint}, params::VSCodeServer.NotebookRunCellArguments)\n",
      "    @ VSCodeServer c:\\Users\\xkzmx\\.vscode\\extensions\\julialang.language-julia-1.6.3\\scripts\\packages\\VSCodeServer\\src\\serve_notebook.jl:14\n",
      " [30] dispatch_msg(x::VSCodeServer.JSONRPC.JSONRPCEndpoint{Base.PipeEndpoint, Base.PipeEndpoint}, dispatcher::VSCodeServer.JSONRPC.MsgDispatcher, msg::Dict{String, Any})\n",
      "    @ VSCodeServer.JSONRPC c:\\Users\\xkzmx\\.vscode\\extensions\\julialang.language-julia-1.6.3\\scripts\\packages\\JSONRPC\\src\\typed.jl:67\n",
      " [31] serve_notebook(pipename::String; crashreporting_pipename::String)\n",
      "    @ VSCodeServer c:\\Users\\xkzmx\\.vscode\\extensions\\julialang.language-julia-1.6.3\\scripts\\packages\\VSCodeServer\\src\\serve_notebook.jl:95\n",
      " [32] top-level scope\n",
      "    @ c:\\Users\\xkzmx\\.vscode\\extensions\\julialang.language-julia-1.6.3\\scripts\\notebook\\notebook.jl:14\n",
      " [33] include(mod::Module, _path::String)\n",
      "    @ Base .\\Base.jl:418\n",
      " [34] exec_options(opts::Base.JLOptions)\n",
      "    @ Base .\\client.jl:292\n",
      " [35] _start()\n",
      "    @ Base .\\client.jl:495"
     ]
    }
   ],
   "source": [
    "res = Evolutionary.optimize(fitness, model, algo, opts)"
   ]
  }
 ],
 "metadata": {
  "kernelspec": {
   "display_name": "Julia 1.7.1",
   "language": "julia",
   "name": "julia-1.7"
  },
  "language_info": {
   "file_extension": ".jl",
   "mimetype": "application/julia",
   "name": "julia",
   "version": "1.7.1"
  },
  "orig_nbformat": 4
 },
 "nbformat": 4,
 "nbformat_minor": 2
}

{
 "cells": [
  {
   "cell_type": "code",
   "execution_count": 39,
   "metadata": {},
   "outputs": [],
   "source": [
    "using Evolutionary\n",
    "using Flux\n",
    "using Flux: onehot, onecold, logitcrossentropy, onehotbatch, crossentropy\n",
    "using MLDatasets\n",
    "using Random\n",
    "using Statistics\n",
    "using MLJBase\n",
    "using Printf\n",
    "using BSON: @load # for load weights\n",
    "using BSON: @save # for load weights\n",
    "using Plots\n",
    "using DelimitedFiles\n",
    "import Evolutionary.initial_population\n",
    "using Zygote\n",
    "import Evolutionary.NonDifferentiable\n",
    "import Base: copy, copyto!"
   ]
  },
  {
   "cell_type": "code",
   "execution_count": 40,
   "metadata": {},
   "outputs": [
    {
     "data": {
      "text/plain": [
       "(4, 150)"
      ]
     },
     "execution_count": 40,
     "metadata": {},
     "output_type": "execute_result"
    }
   ],
   "source": [
    "features = Iris.features();\n",
    "slabels = Iris.labels();\n",
    "classes = unique(slabels)  # unique classes in the dataset\n",
    "nclasses = length(classes) # number of classes\n",
    "d, n = size(features)   "
   ]
  },
  {
   "cell_type": "code",
   "execution_count": 41,
   "metadata": {},
   "outputs": [
    {
     "data": {
      "text/plain": [
       "150-element Vector{Tuple{SubArray{Float64, 1, Matrix{Float64}, Tuple{Base.Slice{Base.OneTo{Int64}}, Int64}, true}, Flux.OneHotArray{UInt32, 3, 0, 1, UInt32}}}:\n",
       " ([5.1, 3.5, 1.4, 0.2], [1, 0, 0])\n",
       " ([4.9, 3.0, 1.4, 0.2], [1, 0, 0])\n",
       " ([4.7, 3.2, 1.3, 0.2], [1, 0, 0])\n",
       " ([4.6, 3.1, 1.5, 0.2], [1, 0, 0])\n",
       " ([5.0, 3.6, 1.4, 0.2], [1, 0, 0])\n",
       " ([5.4, 3.9, 1.7, 0.4], [1, 0, 0])\n",
       " ([4.6, 3.4, 1.4, 0.3], [1, 0, 0])\n",
       " ([5.0, 3.4, 1.5, 0.2], [1, 0, 0])\n",
       " ([4.4, 2.9, 1.4, 0.2], [1, 0, 0])\n",
       " ([4.9, 3.1, 1.5, 0.1], [1, 0, 0])\n",
       " ([5.4, 3.7, 1.5, 0.2], [1, 0, 0])\n",
       " ([4.8, 3.4, 1.6, 0.2], [1, 0, 0])\n",
       " ([4.8, 3.0, 1.4, 0.1], [1, 0, 0])\n",
       " ⋮\n",
       " ([6.0, 3.0, 4.8, 1.8], [0, 0, 1])\n",
       " ([6.9, 3.1, 5.4, 2.1], [0, 0, 1])\n",
       " ([6.7, 3.1, 5.6, 2.4], [0, 0, 1])\n",
       " ([6.9, 3.1, 5.1, 2.3], [0, 0, 1])\n",
       " ([5.8, 2.7, 5.1, 1.9], [0, 0, 1])\n",
       " ([6.8, 3.2, 5.9, 2.3], [0, 0, 1])\n",
       " ([6.7, 3.3, 5.7, 2.5], [0, 0, 1])\n",
       " ([6.7, 3.0, 5.2, 2.3], [0, 0, 1])\n",
       " ([6.3, 2.5, 5.0, 1.9], [0, 0, 1])\n",
       " ([6.5, 3.0, 5.2, 2.0], [0, 0, 1])\n",
       " ([6.2, 3.4, 5.4, 2.3], [0, 0, 1])\n",
       " ([5.9, 3.0, 5.1, 1.8], [0, 0, 1])"
      ]
     },
     "execution_count": 41,
     "metadata": {},
     "output_type": "execute_result"
    }
   ],
   "source": [
    "data = [ (x, onehot(l, classes)) for (x, l) in zip(eachcol(features), slabels)]"
   ]
  },
  {
   "cell_type": "code",
   "execution_count": 42,
   "metadata": {},
   "outputs": [
    {
     "data": {
      "text/plain": [
       "loss (generic function with 3 methods)"
      ]
     },
     "execution_count": 42,
     "metadata": {},
     "output_type": "execute_result"
    }
   ],
   "source": [
    "accuracy(model,x,y) = sum(onecold(model(x)) .== onecold(y))/size(x,2)\n",
    "accuracy(xy, model) = sum( onecold(model(x)) .== onecold(y) for (x,y) in xy) /length(xy)\n",
    "\n",
    "loss(model) = (x,y)->logitcrossentropy(model(x), y)\n",
    "loss(model,x,y) = loss(model)(x, y)\n",
    "loss(xy, model) = loss(model)(hcat(map(first,xy)...), hcat(map(last,xy)...))"
   ]
  },
  {
   "cell_type": "code",
   "execution_count": 43,
   "metadata": {},
   "outputs": [
    {
     "data": {
      "text/plain": [
       "fitness (generic function with 1 method)"
      ]
     },
     "execution_count": 43,
     "metadata": {},
     "output_type": "execute_result"
    }
   ],
   "source": [
    "fitness(m) = loss(data, m)"
   ]
  },
  {
   "cell_type": "code",
   "execution_count": 44,
   "metadata": {},
   "outputs": [
    {
     "data": {
      "text/plain": [
       "Chain(\n",
       "  Dense(4, 15, relu),                   \u001b[90m# 75 parameters\u001b[39m\n",
       "  Dense(15, 3),                         \u001b[90m# 48 parameters\u001b[39m\n",
       ")\u001b[90m                   # Total: 4 arrays, \u001b[39m123 parameters, 748 bytes."
      ]
     },
     "execution_count": 44,
     "metadata": {},
     "output_type": "execute_result"
    }
   ],
   "source": [
    "model = Chain(Dense(d, 15,relu), Dense(15, nclasses))"
   ]
  },
  {
   "cell_type": "code",
   "execution_count": 56,
   "metadata": {},
   "outputs": [
    {
     "data": {
      "text/plain": [
       "Chain(\n",
       "  Dense(4, 3),                          \u001b[90m# 15 parameters\u001b[39m\n",
       ")"
      ]
     },
     "execution_count": 56,
     "metadata": {},
     "output_type": "execute_result"
    }
   ],
   "source": [
    "model = Chain(Dense(d, nclasses))"
   ]
  },
  {
   "cell_type": "code",
   "execution_count": 45,
   "metadata": {},
   "outputs": [
    {
     "data": {
      "text/plain": [
       "copyto! (generic function with 140 methods)"
      ]
     },
     "execution_count": 45,
     "metadata": {},
     "output_type": "execute_result"
    }
   ],
   "source": [
    "import Evolutionary.NonDifferentiable\n",
    "NonDifferentiable(f, x::Chain) = NonDifferentiable{Real,typeof(x)}(f, f(x), deepcopy(x), [0,])\n",
    "import Base: copy, copyto!\n",
    "\n",
    "copy(ch::Chain) = deepcopy(ch)\n",
    "\n",
    "function copyto!(l1::Dense{T}, l2::Dense{T}) where {T}\n",
    "    copyto!(l1.W, l2.W)\n",
    "    copyto!(l1.b, l2.b)\n",
    "    l1\n",
    "end\n",
    "\n",
    "function copyto!(ch1::Chain, ch2::Chain)\n",
    "    for i in 1:length(ch1.layers)\n",
    "        copyto!(ch1.layers[i],ch2.layers[i])\n",
    "    end\n",
    "    ch1\n",
    "end"
   ]
  },
  {
   "cell_type": "code",
   "execution_count": 46,
   "metadata": {},
   "outputs": [
    {
     "data": {
      "text/plain": [
       "initial_population (generic function with 6 methods)"
      ]
     },
     "execution_count": 46,
     "metadata": {},
     "output_type": "execute_result"
    }
   ],
   "source": [
    "import Evolutionary.initial_population\n",
    "function initial_population(method::M, individual::Chain) where {M<:Evolutionary.AbstractOptimizer}\n",
    "    θ, re = Flux.destructure(individual);\n",
    "    [re(randn(length(θ))) for i in 1:Evolutionary.population_size(method)]\n",
    "end"
   ]
  },
  {
   "cell_type": "code",
   "execution_count": 47,
   "metadata": {},
   "outputs": [
    {
     "data": {
      "text/plain": [
       "gaussian_mlp (generic function with 4 methods)"
      ]
     },
     "execution_count": 47,
     "metadata": {},
     "output_type": "execute_result"
    }
   ],
   "source": [
    "function gaussian_mlp(σ::Real = 1.0)\n",
    "    vop = gaussian(σ)\n",
    "    function mutation(recombinant::T) where {T <: Chain}        \n",
    "        θ, re = Flux.destructure(recombinant)\n",
    "        return re(convert(Vector{Float32}, vop(θ)))\n",
    "    end\n",
    "    return mutation\n",
    "end"
   ]
  },
  {
   "cell_type": "code",
   "execution_count": 48,
   "metadata": {},
   "outputs": [
    {
     "data": {
      "text/plain": [
       "uniform_mlp (generic function with 1 method)"
      ]
     },
     "execution_count": 48,
     "metadata": {},
     "output_type": "execute_result"
    }
   ],
   "source": [
    "function uniform_mlp(m1::T, m2::T) where {T <: Chain}\n",
    "    θ1, re1 = Flux.destructure(m1);\n",
    "    θ2, re2 = Flux.destructure(m2);\n",
    "    c1, c2 =average(θ1,θ2)\n",
    "    return re1(c1), re2(c2)\n",
    "end"
   ]
  },
  {
   "cell_type": "code",
   "execution_count": 49,
   "metadata": {},
   "outputs": [
    {
     "data": {
      "text/plain": [
       "Chain(\n",
       "  Dense(4, 15, relu),                   \u001b[90m# 75 parameters\u001b[39m\n",
       "  Dense(15, 3),                         \u001b[90m# 48 parameters\u001b[39m\n",
       ")\u001b[90m                   # Total: 4 arrays, \u001b[39m123 parameters, 748 bytes."
      ]
     },
     "execution_count": 49,
     "metadata": {},
     "output_type": "execute_result"
    }
   ],
   "source": [
    "gaussian_mlp(0.5)(model)"
   ]
  },
  {
   "cell_type": "code",
   "execution_count": 98,
   "metadata": {},
   "outputs": [
    {
     "data": {
      "text/plain": [
       "ES(IsotropicStrategy{Float64}(1.0, 0.4082482904638631, 0.537284965911771), first, first, Evolutionary.gaussian, identity, 10, 10, 100, :plus)"
      ]
     },
     "execution_count": 98,
     "metadata": {},
     "output_type": "execute_result"
    }
   ],
   "source": [
    "algo = ES(\n",
    "    initStrategy=IsotropicStrategy(3),\n",
    "\n",
    "    mutation = gaussian,\n",
    "    μ=10,\n",
    "    λ=100,\n",
    "    selection=:plus\n",
    ")"
   ]
  },
  {
   "cell_type": "code",
   "execution_count": 108,
   "metadata": {},
   "outputs": [
    {
     "data": {
      "text/plain": [
       "gaussian (generic function with 7 methods)"
      ]
     },
     "execution_count": 108,
     "metadata": {},
     "output_type": "execute_result"
    }
   ],
   "source": [
    "import Evolutionary.gaussian\n",
    "function gaussian(recombinant::Chain, s::IsotropicStrategy;\n",
    "    rng::AbstractRNG=Random.GLOBAL_RNG)\n",
    "    vop = gaussian(0.5)\n",
    "    θ, re = Flux.destructure(recombinant)\n",
    "    return re(convert(Vector{Float64}, vop(θ)))\n",
    "return recombinant\n",
    "end\n"
   ]
  },
  {
   "cell_type": "code",
   "execution_count": 109,
   "metadata": {},
   "outputs": [
    {
     "data": {
      "text/plain": [
       "Chain(\n",
       "  Dense(4, 3),                          \u001b[90m# 15 parameters\u001b[39m\n",
       ")"
      ]
     },
     "execution_count": 109,
     "metadata": {},
     "output_type": "execute_result"
    }
   ],
   "source": [
    "res = Evolutionary.optimize(fitness, model, algo, opts)\n",
    "model= Evolutionary.minimizer(res)"
   ]
  },
  {
   "cell_type": "code",
   "execution_count": 110,
   "metadata": {},
   "outputs": [
    {
     "data": {
      "text/plain": [
       "0.3333333333333333"
      ]
     },
     "execution_count": 110,
     "metadata": {},
     "output_type": "execute_result"
    }
   ],
   "source": [
    "accuracy(data, model)"
   ]
  },
  {
   "cell_type": "code",
   "execution_count": 113,
   "metadata": {},
   "outputs": [
    {
     "data": {
      "text/plain": [
       "2.1255452956107526"
      ]
     },
     "execution_count": 113,
     "metadata": {},
     "output_type": "execute_result"
    }
   ],
   "source": [
    "loss(data, model)"
   ]
  }
 ],
 "metadata": {
  "kernelspec": {
   "display_name": "Julia 1.7.1",
   "language": "julia",
   "name": "julia-1.7"
  },
  "language_info": {
   "file_extension": ".jl",
   "mimetype": "application/julia",
   "name": "julia",
   "version": "1.7.1"
  },
  "orig_nbformat": 4
 },
 "nbformat": 4,
 "nbformat_minor": 2
}

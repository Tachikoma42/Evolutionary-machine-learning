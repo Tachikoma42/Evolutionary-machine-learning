{
 "cells": [
  {
   "cell_type": "markdown",
   "metadata": {},
   "source": [
    "using Random package to randomly generate string"
   ]
  },
  {
   "cell_type": "code",
   "execution_count": 126,
   "metadata": {},
   "outputs": [],
   "source": [
    "using Random"
   ]
  },
  {
   "cell_type": "markdown",
   "metadata": {},
   "source": [
    "Generate string to be sorted"
   ]
  },
  {
   "cell_type": "code",
   "execution_count": 127,
   "metadata": {},
   "outputs": [
    {
     "data": {
      "text/plain": [
       "5-element Vector{String}:\n",
       " \"q\"\n",
       " \"w\"\n",
       " \"e\"\n",
       " \"r\"\n",
       " \"z\""
      ]
     },
     "metadata": {},
     "output_type": "display_data"
    }
   ],
   "source": [
    " tobeSorted = String[ \"q\", \"w\",\"e\",\"r\",\"z\"]\n",
    "\n",
    "#  for i in 1:5 \n",
    "#     push!(tobeSorted, randstring(6))\n",
    "#  end"
   ]
  },
  {
   "cell_type": "code",
   "execution_count": 128,
   "metadata": {},
   "outputs": [
    {
     "data": {
      "text/plain": [
       "Vector{String} (alias for Array{String, 1})"
      ]
     },
     "metadata": {},
     "output_type": "display_data"
    }
   ],
   "source": [
    "typeof(tobeSorted)"
   ]
  },
  {
   "cell_type": "markdown",
   "metadata": {},
   "source": [
    "Print string order before sorting"
   ]
  },
  {
   "cell_type": "code",
   "execution_count": 129,
   "metadata": {},
   "outputs": [
    {
     "name": "stdout",
     "output_type": "stream",
     "text": [
      "Before sorting:\n",
      "q\n",
      "w\n",
      "e\n",
      "r\n",
      "z\n"
     ]
    }
   ],
   "source": [
    "print(\"Before sorting:\\n\")\n",
    "for j in tobeSorted\n",
    "    print(j)\n",
    "    print('\\n')\n",
    "end"
   ]
  },
  {
   "cell_type": "markdown",
   "metadata": {},
   "source": [
    "Using MergeSort provided by the language, reference from https://docs.julialang.org/en/v1/base/sort/"
   ]
  },
  {
   "cell_type": "code",
   "execution_count": 130,
   "metadata": {},
   "outputs": [
    {
     "data": {
      "text/plain": [
       "myMergeSort (generic function with 1 method)"
      ]
     },
     "metadata": {},
     "output_type": "display_data"
    }
   ],
   "source": [
    "function myMergeSort(tobeSorted)\n",
    "    if length(tobeSorted) <= 1\n",
    "        return tobeSorted\n",
    "    end\n",
    "    mid = length(tobeSorted) / 2\n",
    "    left = myMergeSort(tobeSorted[1:mid])\n",
    "    right = myMergeSort(tobeSorted[mid + 1, length(tobeSorted)])\n",
    "    return merge(left, right)\n",
    "\n",
    "end"
   ]
  },
  {
   "cell_type": "code",
   "execution_count": 131,
   "metadata": {},
   "outputs": [
    {
     "ename": "ArgumentError",
     "evalue": "ArgumentError: invalid index: 1.0 of type Float64",
     "output_type": "error",
     "traceback": [
      "ArgumentError: invalid index: 1.0 of type Float64\n",
      "\n",
      "Stacktrace:\n",
      "  [1] to_index(i::Float64)\n",
      "    @ Base .\\indices.jl:300\n",
      "  [2] to_index(A::Vector{String}, i::Float64)\n",
      "    @ Base .\\indices.jl:277\n",
      "  [3] to_indices\n",
      "    @ .\\indices.jl:333 [inlined]\n",
      "  [4] to_indices\n",
      "    @ .\\indices.jl:325 [inlined]\n",
      "  [5] getindex\n",
      "    @ .\\abstractarray.jl:1218 [inlined]\n",
      "  [6] macro expansion\n",
      "    @ .\\multidimensional.jl:867 [inlined]\n",
      "  [7] macro expansion\n",
      "    @ .\\cartesian.jl:64 [inlined]\n",
      "  [8] _unsafe_getindex!\n",
      "    @ .\\multidimensional.jl:862 [inlined]\n",
      "  [9] _unsafe_getindex\n",
      "    @ .\\multidimensional.jl:853 [inlined]\n",
      " [10] _getindex\n",
      "    @ .\\multidimensional.jl:839 [inlined]\n",
      " [11] getindex\n",
      "    @ .\\abstractarray.jl:1218 [inlined]\n",
      " [12] myMergeSort(tobeSorted::Vector{String})\n",
      "    @ Main c:\\Users\\xkzmx\\Documents\\Odyssey\\School\\Evolution\\test.ipynb:6\n",
      " [13] top-level scope\n",
      "    @ c:\\Users\\xkzmx\\Documents\\Odyssey\\School\\Evolution\\test.ipynb:2\n",
      " [14] eval\n",
      "    @ .\\boot.jl:373 [inlined]\n",
      " [15] include_string(mapexpr::typeof(REPL.softscope), mod::Module, code::String, filename::String)\n",
      "    @ Base .\\loading.jl:1196\n",
      " [16] #invokelatest#2\n",
      "    @ .\\essentials.jl:716 [inlined]\n",
      " [17] invokelatest\n",
      "    @ .\\essentials.jl:714 [inlined]\n",
      " [18] (::VSCodeServer.var\"#150#151\"{VSCodeServer.NotebookRunCellArguments, String})()\n",
      "    @ VSCodeServer c:\\Users\\xkzmx\\.vscode\\extensions\\julialang.language-julia-1.5.10\\scripts\\packages\\VSCodeServer\\src\\serve_notebook.jl:18\n",
      " [19] withpath(f::VSCodeServer.var\"#150#151\"{VSCodeServer.NotebookRunCellArguments, String}, path::String)\n",
      "    @ VSCodeServer c:\\Users\\xkzmx\\.vscode\\extensions\\julialang.language-julia-1.5.10\\scripts\\packages\\VSCodeServer\\src\\repl.jl:185\n",
      " [20] notebook_runcell_request(conn::VSCodeServer.JSONRPC.JSONRPCEndpoint{Base.PipeEndpoint, Base.PipeEndpoint}, params::VSCodeServer.NotebookRunCellArguments)\n",
      "    @ VSCodeServer c:\\Users\\xkzmx\\.vscode\\extensions\\julialang.language-julia-1.5.10\\scripts\\packages\\VSCodeServer\\src\\serve_notebook.jl:14\n",
      " [21] dispatch_msg(x::VSCodeServer.JSONRPC.JSONRPCEndpoint{Base.PipeEndpoint, Base.PipeEndpoint}, dispatcher::VSCodeServer.JSONRPC.MsgDispatcher, msg::Dict{String, Any})\n",
      "    @ VSCodeServer.JSONRPC c:\\Users\\xkzmx\\.vscode\\extensions\\julialang.language-julia-1.5.10\\scripts\\packages\\JSONRPC\\src\\typed.jl:67\n",
      " [22] serve_notebook(pipename::String; crashreporting_pipename::String)\n",
      "    @ VSCodeServer c:\\Users\\xkzmx\\.vscode\\extensions\\julialang.language-julia-1.5.10\\scripts\\packages\\VSCodeServer\\src\\serve_notebook.jl:94\n",
      " [23] top-level scope\n",
      "    @ c:\\Users\\xkzmx\\.vscode\\extensions\\julialang.language-julia-1.5.10\\scripts\\notebook\\notebook.jl:12\n",
      " [24] include(mod::Module, _path::String)\n",
      "    @ Base .\\Base.jl:418\n",
      " [25] exec_options(opts::Base.JLOptions)\n",
      "    @ Base .\\client.jl:292\n",
      " [26] _start()\n",
      "    @ Base .\\client.jl:495"
     ]
    }
   ],
   "source": [
    "#afterSort = sort(tobeSorted, alg = MergeSort) \n",
    "afterSort = myMergeSort(tobeSorted)"
   ]
  },
  {
   "cell_type": "markdown",
   "metadata": {},
   "source": [
    "Print string order after sorting"
   ]
  },
  {
   "cell_type": "code",
   "execution_count": 132,
   "metadata": {},
   "outputs": [
    {
     "name": "stdout",
     "output_type": "stream",
     "text": [
      "After sorting:\n",
      "e\n",
      "q\n",
      "r\n",
      "w\n",
      "z\n",
      "\n"
     ]
    }
   ],
   "source": [
    "print(\"After sorting:\\n\")\n",
    "for j in afterSort\n",
    "    print(j)\n",
    "    print('\\n')\n",
    "end\n",
    "print('\\n')"
   ]
  }
 ],
 "metadata": {
  "kernelspec": {
   "display_name": "Julia 1.7.1",
   "language": "julia",
   "name": "julia-1.7"
  },
  "language_info": {
   "file_extension": ".jl",
   "mimetype": "application/julia",
   "name": "julia",
   "version": "1.7.1"
  },
  "orig_nbformat": 4
 },
 "nbformat": 4,
 "nbformat_minor": 2
}

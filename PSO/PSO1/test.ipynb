{
 "cells": [
  {
   "cell_type": "code",
   "execution_count": 1,
   "metadata": {},
   "outputs": [],
   "source": [
    "using Flux\n",
    "using Flux: onehot, onecold, logitcrossentropy #, throttle, @epochs\n",
    "using MLDatasets\n",
    "using Random\n",
    "import JLD2\n",
    "using Statistics\n",
    "using MLJBase\n",
    "using Printf\n",
    "using BSON: @load # for load weights\n",
    "using BSON: @save # for load weights\n",
    "using Plots\n",
    "using Zygote\n",
    "using Distributions"
   ]
  },
  {
   "cell_type": "code",
   "execution_count": 4,
   "metadata": {},
   "outputs": [],
   "source": [
    "train_data = JLD2.load_object(\"data/train_data.jld2\");\n",
    "test_data = JLD2.load_object(\"data/test_data.jld2\");\n",
    "x_train = JLD2.load_object(\"data/x_train.jld2\");\n",
    "y_train = JLD2.load_object(\"data/y_train.jld2\");\n",
    "x_test  = JLD2.load_object(\"data/x_test.jld2\");\n",
    "y_test  = JLD2.load_object(\"data/y_test.jld2\");"
   ]
  },
  {
   "cell_type": "code",
   "execution_count": 13,
   "metadata": {},
   "outputs": [
    {
     "data": {
      "text/plain": [
       "1.8"
      ]
     },
     "execution_count": 13,
     "metadata": {},
     "output_type": "execute_result"
    }
   ],
   "source": [
    "epochs = 200\n",
    "N = 10\n",
    "w0 = 0.8\n",
    "c1 = 1.6\n",
    "c2 = 1.8\n"
   ]
  },
  {
   "cell_type": "code",
   "execution_count": 6,
   "metadata": {},
   "outputs": [
    {
     "data": {
      "text/plain": [
       "loss (generic function with 3 methods)"
      ]
     },
     "execution_count": 6,
     "metadata": {},
     "output_type": "execute_result"
    }
   ],
   "source": [
    "accuracy(model,x,y) = sum(onecold(model(x)) .== onecold(y))/size(x,2)\n",
    "accuracy(xy, model) = mean( onecold(model(x)) .== onecold(y) for (x,y) in xy)\n",
    "loss(model) = (x,y)->logitcrossentropy(model(x), y)\n",
    "loss(model,x,y) = loss(model)(x, y)\n",
    "loss(xy, model) = loss(model)(hcat(map(first,xy)...), hcat(map(last,xy)...))"
   ]
  },
  {
   "cell_type": "code",
   "execution_count": null,
   "metadata": {},
   "outputs": [],
   "source": [
    "save_resultTest = zeros(epochs);\n",
    "save_resultTrain = zeros(epochs);\n",
    "rng =Random.default_rng()"
   ]
  },
  {
   "cell_type": "code",
   "execution_count": 7,
   "metadata": {},
   "outputs": [
    {
     "data": {
      "text/plain": [
       "Chain(\n",
       "  Dense(19, 38, σ),                     \u001b[90m# 760 parameters\u001b[39m\n",
       "  Dense(38, 2),                         \u001b[90m# 78 parameters\u001b[39m\n",
       ")\u001b[90m                   # Total: 4 arrays, \u001b[39m838 parameters, 3.523 KiB."
      ]
     },
     "execution_count": 7,
     "metadata": {},
     "output_type": "execute_result"
    }
   ],
   "source": [
    "model = Chain(Dense(19, 2*19, sigmoid), Dense(2*19, 2))#define the model \n",
    "θ, re = Flux.destructure(model)\n"
   ]
  },
  {
   "cell_type": "code",
   "execution_count": 34,
   "metadata": {},
   "outputs": [],
   "source": [
    "weights = [Vector{Float64}(undef,size(θ)[1]) for _ in 1:N];\n",
    "vec = [Vector{Float64}(undef,size(θ)[1]) for _ in 1:N];"
   ]
  },
  {
   "cell_type": "code",
   "execution_count": 36,
   "metadata": {},
   "outputs": [],
   "source": [
    "for i in 1:N\n",
    "    for j in 1:size(θ)[1]\n",
    "        weights[i][j] = rand(Normal(θ[i], 0.05))\n",
    "        vec[i] = rand(size(θ)[1])\n",
    "    end\n",
    "    \n",
    "end\n",
    "p_best = copy(weights);\n",
    "g_best = sort(weights, lt=(x,y)->isless(loss(train_data, re(x)), loss(train_data, re(y))))[1];\n"
   ]
  },
  {
   "cell_type": "code",
   "execution_count": null,
   "metadata": {},
   "outputs": [],
   "source": [
    "\n",
    "for i in 1:epochs\n",
    "    for j in 1:N\n",
    "        vec[j] = w0 *vec[j] + c1 *(1.0 - rand()) * (p_best[j] - vec[j]) + c2 * (1.0 - rand()) * (g_best - vec[j])\n",
    "        weights[j] = vec[j]+weights[j]\n",
    "        if loss(train_data, re(weights[j])) < loss(train_data, re(p_best[j]))\n",
    "            p_best[i] = weights[i]\n",
    "        end\n",
    "    end\n",
    "    g_best = sort(weights, lt=(x,y)->isless(loss(train_data, re(x)), loss(train_data, re(y))))[1];\n",
    "    printf(\"Epoch %d: %f\\n\", i, loss(train_data, re(g_best)));\n",
    "end"
   ]
  },
  {
   "cell_type": "code",
   "execution_count": 107,
   "metadata": {},
   "outputs": [],
   "source": [
    "\n",
    "for i in 1:10\n",
    "    if loss(train_data, re(weights[i])) < loss(train_data, re(p_best[i]))\n",
    "        p_best[i] = weights[i]\n",
    "    end\n",
    "        \n",
    "end\n"
   ]
  },
  {
   "cell_type": "code",
   "execution_count": 55,
   "metadata": {},
   "outputs": [
    {
     "data": {
      "text/plain": [
       "Chain(\n",
       "  Dense(19, 38, σ),                     \u001b[90m# 760 parameters\u001b[39m\n",
       "  Dense(38, 2),                         \u001b[90m# 78 parameters\u001b[39m\n",
       ")\u001b[90m                   # Total: 4 arrays, \u001b[39m838 parameters, 6.797 KiB."
      ]
     },
     "execution_count": 55,
     "metadata": {},
     "output_type": "execute_result"
    }
   ],
   "source": [
    "model = re(weights[1])"
   ]
  },
  {
   "cell_type": "code",
   "execution_count": 120,
   "metadata": {},
   "outputs": [
    {
     "data": {
      "text/plain": [
       "838-element Vector{Float64}:\n",
       " 0.14829884511400043\n",
       " 0.10556157852396715\n",
       " 0.21230379488839088\n",
       " 0.2185256340858201\n",
       " 0.15001595168989\n",
       " 0.1792533066592839\n",
       " 0.16119050368450855\n",
       " 0.1332225044449725\n",
       " 0.19696960690961318\n",
       " 0.062540763167726\n",
       " 0.1351317873372226\n",
       " 0.15159808171080752\n",
       " 0.1861870703251785\n",
       " ⋮\n",
       " 0.11864318218440921\n",
       " 0.2902619616303841\n",
       " 0.13955342265165877\n",
       " 0.21071064677356632\n",
       " 0.10298687173721453\n",
       " 0.1435496963419464\n",
       " 0.11055660439794684\n",
       " 0.2021934359674416\n",
       " 0.21686852473667856\n",
       " 0.131384412611903\n",
       " 0.2028528613488662\n",
       " 0.09102736949122608"
      ]
     },
     "execution_count": 120,
     "metadata": {},
     "output_type": "execute_result"
    }
   ],
   "source": [
    "test = copy(weights[10])\n",
    "ptest = copy(p_best[10])"
   ]
  },
  {
   "cell_type": "code",
   "execution_count": 96,
   "metadata": {},
   "outputs": [
    {
     "data": {
      "text/plain": [
       "0.45947884197301814"
      ]
     },
     "execution_count": 96,
     "metadata": {},
     "output_type": "execute_result"
    }
   ],
   "source": [
    "1.0 - rand()"
   ]
  },
  {
   "cell_type": "code",
   "execution_count": 111,
   "metadata": {},
   "outputs": [
    {
     "data": {
      "text/plain": [
       "1.0"
      ]
     },
     "execution_count": 111,
     "metadata": {},
     "output_type": "execute_result"
    }
   ],
   "source": [
    "curV = 1.0"
   ]
  },
  {
   "cell_type": "code",
   "execution_count": 121,
   "metadata": {},
   "outputs": [
    {
     "data": {
      "text/plain": [
       "838-element Vector{Float64}:\n",
       " 0.0\n",
       " 0.0\n",
       " 0.0\n",
       " 0.0\n",
       " 0.0\n",
       " 0.0\n",
       " 0.0\n",
       " 0.0\n",
       " 0.0\n",
       " 0.0\n",
       " 0.0\n",
       " 0.0\n",
       " 0.0\n",
       " ⋮\n",
       " 0.0\n",
       " 0.0\n",
       " 0.0\n",
       " 0.0\n",
       " 0.0\n",
       " 0.0\n",
       " 0.0\n",
       " 0.0\n",
       " 0.0\n",
       " 0.0\n",
       " 0.0\n",
       " 0.0"
      ]
     },
     "execution_count": 121,
     "metadata": {},
     "output_type": "execute_result"
    }
   ],
   "source": [
    "ptest - test"
   ]
  },
  {
   "cell_type": "code",
   "execution_count": 147,
   "metadata": {},
   "outputs": [
    {
     "data": {
      "text/plain": [
       "838-element Vector{Float64}:\n",
       "      -2.127635045314713e-5\n",
       "       1.5565729371214304e-14\n",
       "     -Inf\n",
       "      -5.283256130289876e294\n",
       "      -2.290520043703234e6\n",
       "      -1.448474683479714e31\n",
       "      -4.424937941561609e69\n",
       "      -5.1975065551027104e-8\n",
       "     -Inf\n",
       "       2.4485111240880432e-32\n",
       "      -1.2117191600327958e171\n",
       "    -945.1784466180011\n",
       "      -0.829146007799524\n",
       "       ⋮\n",
       "      -2.0557804137621827\n",
       "     -Inf\n",
       "      -0.002073792980130473\n",
       "  -13077.961919278285\n",
       " -256141.4005424382\n",
       "      -3.6978701260244558e6\n",
       "      -0.004965873605598218\n",
       "      -1.200383167717702e304\n",
       "      -1.9591499884150424e206\n",
       "      -8.726046094429081e27\n",
       "     -Inf\n",
       "       0.0007051019418867873"
      ]
     },
     "execution_count": 147,
     "metadata": {},
     "output_type": "execute_result"
    }
   ],
   "source": [
    "newV =   newV .+ 2 *(1.0 - rand())*(ptest - test) + 2*(1.0 - rand())*(g_best - test)\n",
    "test = test .* newV"
   ]
  },
  {
   "cell_type": "code",
   "execution_count": 2,
   "metadata": {},
   "outputs": [
    {
     "data": {
      "text/plain": [
       "2-element Vector{Float64}:\n",
       " 2.3\n",
       " 3.4"
      ]
     },
     "execution_count": 2,
     "metadata": {},
     "output_type": "execute_result"
    }
   ],
   "source": [
    "v = [-1.0,-1.5]\n",
    "x = [3.0,4.0]\n",
    "p = [2.5,3.6]\n",
    "g = [2.3,3.4]"
   ]
  },
  {
   "cell_type": "code",
   "execution_count": 3,
   "metadata": {},
   "outputs": [
    {
     "data": {
      "text/plain": [
       "2-element Vector{Float64}:\n",
       " 1.362\n",
       " 2.1660000000000004"
      ]
     },
     "execution_count": 3,
     "metadata": {},
     "output_type": "execute_result"
    }
   ],
   "source": [
    "v = 0.7*v + 1.4*0.5*(p-x) + 1.4*0.6*(g-x)\n",
    "x = x+v"
   ]
  }
 ],
 "metadata": {
  "kernelspec": {
   "display_name": "Julia 1.7.1",
   "language": "julia",
   "name": "julia-1.7"
  },
  "language_info": {
   "file_extension": ".jl",
   "mimetype": "application/julia",
   "name": "julia",
   "version": "1.7.1"
  },
  "orig_nbformat": 4
 },
 "nbformat": 4,
 "nbformat_minor": 2
}

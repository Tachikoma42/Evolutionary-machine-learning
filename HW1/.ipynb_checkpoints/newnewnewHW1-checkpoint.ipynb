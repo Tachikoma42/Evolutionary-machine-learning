{
 "cells": [
  {
   "cell_type": "code",
   "execution_count": null,
   "metadata": {},
   "outputs": [],
   "source": [
    "#Sihao Ren // sren03 // 947105531\n",
    "using Flux\n",
    "using Statistics\n",
    "using Flux: onehotbatch, onecold, crossentropy\n",
    "using Base.Iterators: repeated\n",
    "using MLJBase\n",
    "using Printf\n",
    "using BSON: @save # for save weights\n",
    "using Plots"
   ]
  },
  {
   "cell_type": "code",
   "execution_count": 3,
   "metadata": {},
   "outputs": [],
   "source": [
    "using DelimitedFiles"
   ]
  },
  {
   "cell_type": "code",
   "execution_count": 4,
   "metadata": {},
   "outputs": [
    {
     "data": {
      "text/plain": [
       "20×1340 adjoint(::Matrix{Any}) with eltype Any:\n",
       " 36    35    74    58    48    75    …  80    80    68    43    52    47\n",
       " 27.4  26.9  15.3  11.6  11.5  11.4     15.8  15.8  12.6  12.1  12    11.7\n",
       "  7.4   7.2   5.2   5.7   4.5   3.7      4.3   4.3   3.9   5.4   4.5   4.4\n",
       "  2.6   2     2     2.3   1.6   1.5      1.6   1.6   1.5   2.2   1.7   1.6\n",
       "  7.6   6.7   4.7   5.5   3     3.5      3.6   3.6   4.1   3.9   3.8   4.4\n",
       " 34.7  29.6  42.2  42.6  52.4  42.3  …  43.3  43.3  35.8  55    43.9  36.9\n",
       "  0.5   0.7   0.4   0.1   0     0.3      0     0     0.1   0     0     0.4\n",
       "  2.1   2.8   1.7   0.5   0.1   1.1      0.2   0.2   0.7   0     0.2   1.3\n",
       " 25    23.5  24.4  22.6   0    32.5     14.3  14.3  16.7   0    10    33.3\n",
       "  1.6   2.6   0.9   0.9   1.3   0.4      1.2   1.2   0.8   1     1.2   0.7\n",
       "  2.3   3.4   1.3   1.3   1.9   0.5  …   1.5   1.5   1     1.6   1.8   1\n",
       " 69.9  76.5  67    68.9  67.4  73.2     79.2  79.2  79.4  64.3  62.5  67.3\n",
       "  0.7   0.5   0.5   1     1     0.2      0.4   0.4   0.4   1.5   0.2   0.2\n",
       "  3.4   2     1.7   0.9   1.5   0.7      0.8   0.8   1.1   2.3   0.4   0.7\n",
       "  4.1   2.4   2.2   1.9   2.5   0.8      1.2   1.2   1.5   3.8   0.7   0.9\n",
       "  1.9   3.7   1     0.8   0.3   1.8  …   2.5   2.5   2.3   0.3   2.2   1.4\n",
       "  0.4   1.1   0.5   0.6   0.3   0.4      0.6   0.6   0.8   0.3   0.4   0.7\n",
       "  0.4   0.5   0.3   0.1   0.4   0        0.2   0.2   0     0.4   0.1   0.1\n",
       "  1.3   1.6   1     1     0.8   0.7      0.8   0.8   1.3   0.9   0.8   0.9\n",
       "  0     0     0     1     1     0        0     0     1     0     1     1"
      ]
     },
     "execution_count": 4,
     "metadata": {},
     "output_type": "execute_result"
    }
   ],
   "source": [
    "rawdata = readdlm(\"data/test2.csv\")'"
   ]
  },
  {
   "cell_type": "code",
   "execution_count": 18,
   "metadata": {},
   "outputs": [
    {
     "data": {
      "text/plain": [
       "20×1340 adjoint(::Matrix{Any}) with eltype Any:\n",
       " 36    35    74    58    48    75    …  80    80    68    43    52    47\n",
       " 27.4  26.9  15.3  11.6  11.5  11.4     15.8  15.8  12.6  12.1  12    11.7\n",
       "  7.4   7.2   5.2   5.7   4.5   3.7      4.3   4.3   3.9   5.4   4.5   4.4\n",
       "  2.6   2     2     2.3   1.6   1.5      1.6   1.6   1.5   2.2   1.7   1.6\n",
       "  7.6   6.7   4.7   5.5   3     3.5      3.6   3.6   4.1   3.9   3.8   4.4\n",
       " 34.7  29.6  42.2  42.6  52.4  42.3  …  43.3  43.3  35.8  55    43.9  36.9\n",
       "  0.5   0.7   0.4   0.1   0     0.3      0     0     0.1   0     0     0.4\n",
       "  2.1   2.8   1.7   0.5   0.1   1.1      0.2   0.2   0.7   0     0.2   1.3\n",
       " 25    23.5  24.4  22.6   0    32.5     14.3  14.3  16.7   0    10    33.3\n",
       "  1.6   2.6   0.9   0.9   1.3   0.4      1.2   1.2   0.8   1     1.2   0.7\n",
       "  2.3   3.4   1.3   1.3   1.9   0.5  …   1.5   1.5   1     1.6   1.8   1\n",
       " 69.9  76.5  67    68.9  67.4  73.2     79.2  79.2  79.4  64.3  62.5  67.3\n",
       "  0.7   0.5   0.5   1     1     0.2      0.4   0.4   0.4   1.5   0.2   0.2\n",
       "  3.4   2     1.7   0.9   1.5   0.7      0.8   0.8   1.1   2.3   0.4   0.7\n",
       "  4.1   2.4   2.2   1.9   2.5   0.8      1.2   1.2   1.5   3.8   0.7   0.9\n",
       "  1.9   3.7   1     0.8   0.3   1.8  …   2.5   2.5   2.3   0.3   2.2   1.4\n",
       "  0.4   1.1   0.5   0.6   0.3   0.4      0.6   0.6   0.8   0.3   0.4   0.7\n",
       "  0.4   0.5   0.3   0.1   0.4   0        0.2   0.2   0     0.4   0.1   0.1\n",
       "  1.3   1.6   1     1     0.8   0.7      0.8   0.8   1.3   0.9   0.8   0.9\n",
       "  0     0     0     1     1     0        0     0     1     0     1     1"
      ]
     },
     "execution_count": 18,
     "metadata": {},
     "output_type": "execute_result"
    }
   ],
   "source": [
    "rawdata"
   ]
  },
  {
   "cell_type": "code",
   "execution_count": 5,
   "metadata": {},
   "outputs": [
    {
     "data": {
      "text/plain": [
       "19×1340 Matrix{Any}:\n",
       " 36    35    74    58    48    75    …  80    80    68    43    52    47\n",
       " 27.4  26.9  15.3  11.6  11.5  11.4     15.8  15.8  12.6  12.1  12    11.7\n",
       "  7.4   7.2   5.2   5.7   4.5   3.7      4.3   4.3   3.9   5.4   4.5   4.4\n",
       "  2.6   2     2     2.3   1.6   1.5      1.6   1.6   1.5   2.2   1.7   1.6\n",
       "  7.6   6.7   4.7   5.5   3     3.5      3.6   3.6   4.1   3.9   3.8   4.4\n",
       " 34.7  29.6  42.2  42.6  52.4  42.3  …  43.3  43.3  35.8  55    43.9  36.9\n",
       "  0.5   0.7   0.4   0.1   0     0.3      0     0     0.1   0     0     0.4\n",
       "  2.1   2.8   1.7   0.5   0.1   1.1      0.2   0.2   0.7   0     0.2   1.3\n",
       " 25    23.5  24.4  22.6   0    32.5     14.3  14.3  16.7   0    10    33.3\n",
       "  1.6   2.6   0.9   0.9   1.3   0.4      1.2   1.2   0.8   1     1.2   0.7\n",
       "  2.3   3.4   1.3   1.3   1.9   0.5  …   1.5   1.5   1     1.6   1.8   1\n",
       " 69.9  76.5  67    68.9  67.4  73.2     79.2  79.2  79.4  64.3  62.5  67.3\n",
       "  0.7   0.5   0.5   1     1     0.2      0.4   0.4   0.4   1.5   0.2   0.2\n",
       "  3.4   2     1.7   0.9   1.5   0.7      0.8   0.8   1.1   2.3   0.4   0.7\n",
       "  4.1   2.4   2.2   1.9   2.5   0.8      1.2   1.2   1.5   3.8   0.7   0.9\n",
       "  1.9   3.7   1     0.8   0.3   1.8  …   2.5   2.5   2.3   0.3   2.2   1.4\n",
       "  0.4   1.1   0.5   0.6   0.3   0.4      0.6   0.6   0.8   0.3   0.4   0.7\n",
       "  0.4   0.5   0.3   0.1   0.4   0        0.2   0.2   0     0.4   0.1   0.1\n",
       "  1.3   1.6   1     1     0.8   0.7      0.8   0.8   1.3   0.9   0.8   0.9"
      ]
     },
     "execution_count": 5,
     "metadata": {},
     "output_type": "execute_result"
    }
   ],
   "source": [
    "x = rawdata[1:19,:]"
   ]
  },
  {
   "cell_type": "code",
   "execution_count": 31,
   "metadata": {},
   "outputs": [
    {
     "ename": "LoadError",
     "evalue": "MethodError: no method matching adjoint(::SubString{String})\n\u001b[0mClosest candidates are:\n\u001b[0m  adjoint(\u001b[91m::Union{LinearAlgebra.QR, LinearAlgebra.QRCompactWY, LinearAlgebra.QRPivoted}\u001b[39m) at C:\\Users\\xkzmx\\AppData\\Local\\Programs\\Julia-1.7.1\\share\\julia\\stdlib\\v1.7\\LinearAlgebra\\src\\qr.jl:509\n\u001b[0m  adjoint(\u001b[91m::Union{LinearAlgebra.Cholesky, LinearAlgebra.CholeskyPivoted}\u001b[39m) at C:\\Users\\xkzmx\\AppData\\Local\\Programs\\Julia-1.7.1\\share\\julia\\stdlib\\v1.7\\LinearAlgebra\\src\\cholesky.jl:538\n\u001b[0m  adjoint(\u001b[91m::LinearAlgebra.Rotation\u001b[39m) at C:\\Users\\xkzmx\\AppData\\Local\\Programs\\Julia-1.7.1\\share\\julia\\stdlib\\v1.7\\LinearAlgebra\\src\\givens.jl:58\n\u001b[0m  ...",
     "output_type": "error",
     "traceback": [
      "MethodError: no method matching adjoint(::SubString{String})\n\u001b[0mClosest candidates are:\n\u001b[0m  adjoint(\u001b[91m::Union{LinearAlgebra.QR, LinearAlgebra.QRCompactWY, LinearAlgebra.QRPivoted}\u001b[39m) at C:\\Users\\xkzmx\\AppData\\Local\\Programs\\Julia-1.7.1\\share\\julia\\stdlib\\v1.7\\LinearAlgebra\\src\\qr.jl:509\n\u001b[0m  adjoint(\u001b[91m::Union{LinearAlgebra.Cholesky, LinearAlgebra.CholeskyPivoted}\u001b[39m) at C:\\Users\\xkzmx\\AppData\\Local\\Programs\\Julia-1.7.1\\share\\julia\\stdlib\\v1.7\\LinearAlgebra\\src\\cholesky.jl:538\n\u001b[0m  adjoint(\u001b[91m::LinearAlgebra.Rotation\u001b[39m) at C:\\Users\\xkzmx\\AppData\\Local\\Programs\\Julia-1.7.1\\share\\julia\\stdlib\\v1.7\\LinearAlgebra\\src\\givens.jl:58\n\u001b[0m  ...",
      "",
      "Stacktrace:",
      "  [1] getindex",
      "    @ C:\\Users\\xkzmx\\AppData\\Local\\Programs\\Julia-1.7.1\\share\\julia\\stdlib\\v1.7\\LinearAlgebra\\src\\adjtrans.jl:179 [inlined]",
      "  [2] macro expansion",
      "    @ .\\multidimensional.jl:867 [inlined]",
      "  [3] macro expansion",
      "    @ .\\cartesian.jl:64 [inlined]",
      "  [4] _unsafe_getindex!",
      "    @ .\\multidimensional.jl:862 [inlined]",
      "  [5] _unsafe_getindex(::IndexCartesian, ::LinearAlgebra.Adjoint{Any, Matrix{Any}}, ::Int64, ::UnitRange{Int64})",
      "    @ Base .\\multidimensional.jl:853",
      "  [6] _getindex",
      "    @ .\\multidimensional.jl:839 [inlined]",
      "  [7] getindex(::LinearAlgebra.Adjoint{Any, Matrix{Any}}, ::Int64, ::UnitRange{Int64})",
      "    @ Base .\\abstractarray.jl:1218",
      "  [8] top-level scope",
      "    @ In[31]:1",
      "  [9] eval",
      "    @ .\\boot.jl:373 [inlined]",
      " [10] include_string(mapexpr::typeof(REPL.softscope), mod::Module, code::String, filename::String)",
      "    @ Base .\\loading.jl:1196"
     ]
    }
   ],
   "source": [
    "y = rawdata[20,1:end]"
   ]
  },
  {
   "cell_type": "code",
   "execution_count": 7,
   "metadata": {},
   "outputs": [
    {
     "data": {
      "text/plain": [
       "0.7"
      ]
     },
     "execution_count": 7,
     "metadata": {},
     "output_type": "execute_result"
    }
   ],
   "source": [
    "split_ratio = 0.7"
   ]
  },
  {
   "cell_type": "code",
   "execution_count": 8,
   "metadata": {},
   "outputs": [
    {
     "data": {
      "text/plain": [
       "1×3 Matrix{Float64}:\n",
       " 0.0  1.0  1.0"
      ]
     },
     "execution_count": 8,
     "metadata": {},
     "output_type": "execute_result"
    }
   ],
   "source": [
    "split_index = floor(Int,size(x,2)*split_ratio)\n",
    "x_train = x[:,1:split_index]\n",
    "y_train = y[:,1:split_index]\n",
    "x_test = x[:,split_index+1:size(x,2)]\n",
    "y_test = y[:,split_index+1:size(x,2)];"
   ]
  },
  {
   "cell_type": "code",
   "execution_count": 9,
   "metadata": {},
   "outputs": [
    {
     "data": {
      "text/plain": [
       "2×3 OneHotMatrix(::Vector{UInt32}) with eltype Bool:\n",
       " 1  ⋅  ⋅\n",
       " ⋅  1  1"
      ]
     },
     "execution_count": 9,
     "metadata": {},
     "output_type": "execute_result"
    }
   ],
   "source": [
    "tempy = []\n",
    "for i in y_train\n",
    "    if i == 0\n",
    "        push!(tempy,0)\n",
    "    else\n",
    "        push!(tempy,1)\n",
    "    end\n",
    "    end\n",
    "y_train = tempy\n",
    "y_train = Flux.onehotbatch(y_train, 0:1)\n",
    "\n",
    "tempy = []\n",
    "for i in y_test\n",
    "    if i == 0\n",
    "        push!(tempy,0)\n",
    "    else\n",
    "        push!(tempy,1)\n",
    "    end\n",
    "    end\n",
    "y_test = tempy\n",
    "y_test = Flux.onehotbatch(y_test, 0:1);"
   ]
  },
  {
   "cell_type": "code",
   "execution_count": 29,
   "metadata": {},
   "outputs": [
    {
     "data": {
      "text/plain": [
       "myaccuracy (generic function with 1 method)"
      ]
     },
     "execution_count": 29,
     "metadata": {},
     "output_type": "execute_result"
    }
   ],
   "source": [
    "loss(x, y) = crossentropy(model(x), y) \n",
    "dataset = repeated((x_train,y_train),10000);\n",
    "optim = ADAM()\n",
    "myaccuracy(x, y) = mean(onecold(model(x)) .== onecold(y))\n"
   ]
  },
  {
   "cell_type": "code",
   "execution_count": 27,
   "metadata": {},
   "outputs": [],
   "source": [
    "epochs = 50 # the number of epochs\n",
    "\n",
    "save_resultTest = zeros(epochs);\n",
    "save_resultTrain = zeros(epochs);"
   ]
  },
  {
   "cell_type": "code",
   "execution_count": 17,
   "metadata": {},
   "outputs": [],
   "source": [
    "weights = rand(2*19,19)\n",
    "bias = rand(2*19)\n",
    "a = Dense(weights, bias, sigmoid)\n",
    "model = Chain(a, Dense(2*19, 2), softmax)\n",
    "savepath = string(\"models/model\",1,\".bson\")\n",
    "@save savepath model\n"
   ]
  },
  {
   "cell_type": "code",
   "execution_count": 28,
   "metadata": {},
   "outputs": [],
   "source": [
    "for j in 1:epochs\n",
    "model = Chain(Dense(19, 2*19, sigmoid), Dense(2*19, 2), softmax)\n",
    "Flux.train!(loss, Flux.params(model), dataset, optim)\n",
    "end"
   ]
  },
  {
   "cell_type": "code",
   "execution_count": 24,
   "metadata": {},
   "outputs": [],
   "source": [
    "for i in 1:10\n",
    "    weights = rand(2*19,19)\n",
    "    bias = rand(2*19)\n",
    "    a = Dense(weights, bias, sigmoid)\n",
    "    model = Chain(a, Dense(2*19, 2), softmax)\n",
    "    #model = Chain(Dense(19, 2*19, sigmoid), Dense(2*19, 2), softmax)\n",
    "    savepath = string(\"models/model\",i,\".bson\")\n",
    "    @save savepath model\n",
    "    for j in 1:epochs\n",
    "        Flux.train!(loss, Flux.params(model), dataset, optim)\n",
    "        #@printf(\"Loss in epoch: %d in test is %f\\n\", j, loss(x_test, y_test))\n",
    "        save_resultTest[i] = save_resultTest[i] + myaccuracy(x_test, y_test)\n",
    "        save_resultTrain[i] = save_resultTrain[i] + myaccuracy(x_train, y_train)\n",
    "    end\n",
    "    \n",
    "end\n"
   ]
  },
  {
   "cell_type": "code",
   "execution_count": 25,
   "metadata": {},
   "outputs": [
    {
     "data": {
      "text/plain": [
       "50-element Vector{Float64}:\n",
       " 3.0000000000000027\n",
       " 3.0000000000000027\n",
       " 3.0000000000000027\n",
       " 3.0000000000000027\n",
       " 3.0000000000000027\n",
       " 3.0000000000000027\n",
       " 3.0000000000000027\n",
       " 3.0000000000000027\n",
       " 3.0000000000000027\n",
       " 3.0000000000000027\n",
       " 0.0\n",
       " 0.0\n",
       " 0.0\n",
       " ⋮\n",
       " 0.0\n",
       " 0.0\n",
       " 0.0\n",
       " 0.0\n",
       " 0.0\n",
       " 0.0\n",
       " 0.0\n",
       " 0.0\n",
       " 0.0\n",
       " 0.0\n",
       " 0.0\n",
       " 0.0"
      ]
     },
     "execution_count": 25,
     "metadata": {},
     "output_type": "execute_result"
    }
   ],
   "source": [
    "save_resultTest = save_resultTest ./ 10\n",
    "save_resultTrain = save_resultTrain ./ 10"
   ]
  },
  {
   "cell_type": "code",
   "execution_count": 26,
   "metadata": {},
   "outputs": [
    {
     "data": {
      "image/svg+xml": [
       "<?xml version=\"1.0\" encoding=\"utf-8\"?>\n",
       "<svg xmlns=\"http://www.w3.org/2000/svg\" xmlns:xlink=\"http://www.w3.org/1999/xlink\" width=\"600\" height=\"400\" viewBox=\"0 0 2400 1600\">\n",
       "<defs>\n",
       "  <clipPath id=\"clip710\">\n",
       "    <rect x=\"0\" y=\"0\" width=\"2400\" height=\"1600\"/>\n",
       "  </clipPath>\n",
       "</defs>\n",
       "<path clip-path=\"url(#clip710)\" d=\"\n",
       "M0 1600 L2400 1600 L2400 0 L0 0  Z\n",
       "  \" fill=\"#ffffff\" fill-rule=\"evenodd\" fill-opacity=\"1\"/>\n",
       "<defs>\n",
       "  <clipPath id=\"clip711\">\n",
       "    <rect x=\"480\" y=\"0\" width=\"1681\" height=\"1600\"/>\n",
       "  </clipPath>\n",
       "</defs>\n",
       "<path clip-path=\"url(#clip710)\" d=\"\n",
       "M110.881 1486.45 L2352.76 1486.45 L2352.76 123.472 L110.881 123.472  Z\n",
       "  \" fill=\"#ffffff\" fill-rule=\"evenodd\" fill-opacity=\"1\"/>\n",
       "<defs>\n",
       "  <clipPath id=\"clip712\">\n",
       "    <rect x=\"110\" y=\"123\" width=\"2243\" height=\"1364\"/>\n",
       "  </clipPath>\n",
       "</defs>\n",
       "<polyline clip-path=\"url(#clip712)\" style=\"stroke:#000000; stroke-linecap:butt; stroke-linejoin:round; stroke-width:2; stroke-opacity:0.1; fill:none\" points=\"\n",
       "  174.33,1486.45 174.33,123.472 \n",
       "  \"/>\n",
       "<polyline clip-path=\"url(#clip712)\" style=\"stroke:#000000; stroke-linecap:butt; stroke-linejoin:round; stroke-width:2; stroke-opacity:0.1; fill:none\" points=\"\n",
       "  714.965,1486.45 714.965,123.472 \n",
       "  \"/>\n",
       "<polyline clip-path=\"url(#clip712)\" style=\"stroke:#000000; stroke-linecap:butt; stroke-linejoin:round; stroke-width:2; stroke-opacity:0.1; fill:none\" points=\"\n",
       "  1255.6,1486.45 1255.6,123.472 \n",
       "  \"/>\n",
       "<polyline clip-path=\"url(#clip712)\" style=\"stroke:#000000; stroke-linecap:butt; stroke-linejoin:round; stroke-width:2; stroke-opacity:0.1; fill:none\" points=\"\n",
       "  1796.24,1486.45 1796.24,123.472 \n",
       "  \"/>\n",
       "<polyline clip-path=\"url(#clip712)\" style=\"stroke:#000000; stroke-linecap:butt; stroke-linejoin:round; stroke-width:2; stroke-opacity:0.1; fill:none\" points=\"\n",
       "  2336.87,1486.45 2336.87,123.472 \n",
       "  \"/>\n",
       "<polyline clip-path=\"url(#clip710)\" style=\"stroke:#000000; stroke-linecap:butt; stroke-linejoin:round; stroke-width:4; stroke-opacity:1; fill:none\" points=\"\n",
       "  110.881,1486.45 2352.76,1486.45 \n",
       "  \"/>\n",
       "<polyline clip-path=\"url(#clip710)\" style=\"stroke:#000000; stroke-linecap:butt; stroke-linejoin:round; stroke-width:4; stroke-opacity:1; fill:none\" points=\"\n",
       "  174.33,1486.45 174.33,1467.55 \n",
       "  \"/>\n",
       "<polyline clip-path=\"url(#clip710)\" style=\"stroke:#000000; stroke-linecap:butt; stroke-linejoin:round; stroke-width:4; stroke-opacity:1; fill:none\" points=\"\n",
       "  714.965,1486.45 714.965,1467.55 \n",
       "  \"/>\n",
       "<polyline clip-path=\"url(#clip710)\" style=\"stroke:#000000; stroke-linecap:butt; stroke-linejoin:round; stroke-width:4; stroke-opacity:1; fill:none\" points=\"\n",
       "  1255.6,1486.45 1255.6,1467.55 \n",
       "  \"/>\n",
       "<polyline clip-path=\"url(#clip710)\" style=\"stroke:#000000; stroke-linecap:butt; stroke-linejoin:round; stroke-width:4; stroke-opacity:1; fill:none\" points=\"\n",
       "  1796.24,1486.45 1796.24,1467.55 \n",
       "  \"/>\n",
       "<polyline clip-path=\"url(#clip710)\" style=\"stroke:#000000; stroke-linecap:butt; stroke-linejoin:round; stroke-width:4; stroke-opacity:1; fill:none\" points=\"\n",
       "  2336.87,1486.45 2336.87,1467.55 \n",
       "  \"/>\n",
       "<path clip-path=\"url(#clip710)\" d=\"M174.33 1517.37 Q170.719 1517.37 168.89 1520.93 Q167.085 1524.47 167.085 1531.6 Q167.085 1538.71 168.89 1542.27 Q170.719 1545.82 174.33 1545.82 Q177.964 1545.82 179.77 1542.27 Q181.599 1538.71 181.599 1531.6 Q181.599 1524.47 179.77 1520.93 Q177.964 1517.37 174.33 1517.37 M174.33 1513.66 Q180.14 1513.66 183.196 1518.27 Q186.275 1522.85 186.275 1531.6 Q186.275 1540.33 183.196 1544.94 Q180.14 1549.52 174.33 1549.52 Q168.52 1549.52 165.441 1544.94 Q162.386 1540.33 162.386 1531.6 Q162.386 1522.85 165.441 1518.27 Q168.52 1513.66 174.33 1513.66 Z\" fill=\"#000000\" fill-rule=\"evenodd\" fill-opacity=\"1\" /><path clip-path=\"url(#clip710)\" d=\"M705.347 1544.91 L712.986 1544.91 L712.986 1518.55 L704.676 1520.21 L704.676 1515.95 L712.94 1514.29 L717.616 1514.29 L717.616 1544.91 L725.254 1544.91 L725.254 1548.85 L705.347 1548.85 L705.347 1544.91 Z\" fill=\"#000000\" fill-rule=\"evenodd\" fill-opacity=\"1\" /><path clip-path=\"url(#clip710)\" d=\"M1250.25 1544.91 L1266.57 1544.91 L1266.57 1548.85 L1244.63 1548.85 L1244.63 1544.91 Q1247.29 1542.16 1251.87 1537.53 Q1256.48 1532.88 1257.66 1531.53 Q1259.91 1529.01 1260.79 1527.27 Q1261.69 1525.51 1261.69 1523.82 Q1261.69 1521.07 1259.74 1519.33 Q1257.82 1517.6 1254.72 1517.6 Q1252.52 1517.6 1250.07 1518.36 Q1247.64 1519.13 1244.86 1520.68 L1244.86 1515.95 Q1247.68 1514.82 1250.14 1514.24 Q1252.59 1513.66 1254.63 1513.66 Q1260 1513.66 1263.19 1516.35 Q1266.39 1519.03 1266.39 1523.52 Q1266.39 1525.65 1265.58 1527.57 Q1264.79 1529.47 1262.68 1532.07 Q1262.1 1532.74 1259 1535.95 Q1255.9 1539.15 1250.25 1544.91 Z\" fill=\"#000000\" fill-rule=\"evenodd\" fill-opacity=\"1\" /><path clip-path=\"url(#clip710)\" d=\"M1800.48 1530.21 Q1803.84 1530.93 1805.71 1533.2 Q1807.61 1535.47 1807.61 1538.8 Q1807.61 1543.92 1804.09 1546.72 Q1800.58 1549.52 1794.09 1549.52 Q1791.92 1549.52 1789.6 1549.08 Q1787.31 1548.66 1784.86 1547.81 L1784.86 1543.29 Q1786.8 1544.43 1789.12 1545.01 Q1791.43 1545.58 1793.96 1545.58 Q1798.35 1545.58 1800.64 1543.85 Q1802.96 1542.11 1802.96 1538.8 Q1802.96 1535.75 1800.81 1534.03 Q1798.68 1532.3 1794.86 1532.3 L1790.83 1532.3 L1790.83 1528.45 L1795.04 1528.45 Q1798.49 1528.45 1800.32 1527.09 Q1802.15 1525.7 1802.15 1523.11 Q1802.15 1520.45 1800.25 1519.03 Q1798.38 1517.6 1794.86 1517.6 Q1792.94 1517.6 1790.74 1518.01 Q1788.54 1518.43 1785.9 1519.31 L1785.9 1515.14 Q1788.56 1514.4 1790.88 1514.03 Q1793.21 1513.66 1795.27 1513.66 Q1800.6 1513.66 1803.7 1516.09 Q1806.8 1518.5 1806.8 1522.62 Q1806.8 1525.49 1805.16 1527.48 Q1803.52 1529.45 1800.48 1530.21 Z\" fill=\"#000000\" fill-rule=\"evenodd\" fill-opacity=\"1\" /><path clip-path=\"url(#clip710)\" d=\"M2339.88 1518.36 L2328.07 1536.81 L2339.88 1536.81 L2339.88 1518.36 M2338.65 1514.29 L2344.53 1514.29 L2344.53 1536.81 L2349.46 1536.81 L2349.46 1540.7 L2344.53 1540.7 L2344.53 1548.85 L2339.88 1548.85 L2339.88 1540.7 L2324.28 1540.7 L2324.28 1536.19 L2338.65 1514.29 Z\" fill=\"#000000\" fill-rule=\"evenodd\" fill-opacity=\"1\" /><polyline clip-path=\"url(#clip712)\" style=\"stroke:#000000; stroke-linecap:butt; stroke-linejoin:round; stroke-width:2; stroke-opacity:0.1; fill:none\" points=\"\n",
       "  110.881,1447.87 2352.76,1447.87 \n",
       "  \"/>\n",
       "<polyline clip-path=\"url(#clip712)\" style=\"stroke:#000000; stroke-linecap:butt; stroke-linejoin:round; stroke-width:2; stroke-opacity:0.1; fill:none\" points=\"\n",
       "  110.881,1019.26 2352.76,1019.26 \n",
       "  \"/>\n",
       "<polyline clip-path=\"url(#clip712)\" style=\"stroke:#000000; stroke-linecap:butt; stroke-linejoin:round; stroke-width:2; stroke-opacity:0.1; fill:none\" points=\"\n",
       "  110.881,590.656 2352.76,590.656 \n",
       "  \"/>\n",
       "<polyline clip-path=\"url(#clip712)\" style=\"stroke:#000000; stroke-linecap:butt; stroke-linejoin:round; stroke-width:2; stroke-opacity:0.1; fill:none\" points=\"\n",
       "  110.881,162.047 2352.76,162.047 \n",
       "  \"/>\n",
       "<polyline clip-path=\"url(#clip710)\" style=\"stroke:#000000; stroke-linecap:butt; stroke-linejoin:round; stroke-width:4; stroke-opacity:1; fill:none\" points=\"\n",
       "  110.881,1486.45 110.881,123.472 \n",
       "  \"/>\n",
       "<polyline clip-path=\"url(#clip710)\" style=\"stroke:#000000; stroke-linecap:butt; stroke-linejoin:round; stroke-width:4; stroke-opacity:1; fill:none\" points=\"\n",
       "  110.881,1447.87 129.779,1447.87 \n",
       "  \"/>\n",
       "<polyline clip-path=\"url(#clip710)\" style=\"stroke:#000000; stroke-linecap:butt; stroke-linejoin:round; stroke-width:4; stroke-opacity:1; fill:none\" points=\"\n",
       "  110.881,1019.26 129.779,1019.26 \n",
       "  \"/>\n",
       "<polyline clip-path=\"url(#clip710)\" style=\"stroke:#000000; stroke-linecap:butt; stroke-linejoin:round; stroke-width:4; stroke-opacity:1; fill:none\" points=\"\n",
       "  110.881,590.656 129.779,590.656 \n",
       "  \"/>\n",
       "<polyline clip-path=\"url(#clip710)\" style=\"stroke:#000000; stroke-linecap:butt; stroke-linejoin:round; stroke-width:4; stroke-opacity:1; fill:none\" points=\"\n",
       "  110.881,162.047 129.779,162.047 \n",
       "  \"/>\n",
       "<path clip-path=\"url(#clip710)\" d=\"M62.9365 1433.67 Q59.3254 1433.67 57.4967 1437.24 Q55.6912 1440.78 55.6912 1447.91 Q55.6912 1455.01 57.4967 1458.58 Q59.3254 1462.12 62.9365 1462.12 Q66.5707 1462.12 68.3763 1458.58 Q70.205 1455.01 70.205 1447.91 Q70.205 1440.78 68.3763 1437.24 Q66.5707 1433.67 62.9365 1433.67 M62.9365 1429.97 Q68.7467 1429.97 71.8022 1434.57 Q74.8809 1439.16 74.8809 1447.91 Q74.8809 1456.63 71.8022 1461.24 Q68.7467 1465.82 62.9365 1465.82 Q57.1264 1465.82 54.0477 1461.24 Q50.9921 1456.63 50.9921 1447.91 Q50.9921 1439.16 54.0477 1434.57 Q57.1264 1429.97 62.9365 1429.97 Z\" fill=\"#000000\" fill-rule=\"evenodd\" fill-opacity=\"1\" /><path clip-path=\"url(#clip710)\" d=\"M54.9736 1032.61 L62.6124 1032.61 L62.6124 1006.24 L54.3023 1007.91 L54.3023 1003.65 L62.5661 1001.98 L67.242 1001.98 L67.242 1032.61 L74.8809 1032.61 L74.8809 1036.54 L54.9736 1036.54 L54.9736 1032.61 Z\" fill=\"#000000\" fill-rule=\"evenodd\" fill-opacity=\"1\" /><path clip-path=\"url(#clip710)\" d=\"M58.5615 604 L74.8809 604 L74.8809 607.936 L52.9366 607.936 L52.9366 604 Q55.5986 601.246 60.1819 596.616 Q64.7883 591.964 65.9689 590.621 Q68.2143 588.098 69.0939 586.362 Q69.9967 584.602 69.9967 582.913 Q69.9967 580.158 68.0522 578.422 Q66.1309 576.686 63.0291 576.686 Q60.83 576.686 58.3763 577.45 Q55.9458 578.214 53.168 579.764 L53.168 575.042 Q55.9921 573.908 58.4458 573.329 Q60.8995 572.751 62.9365 572.751 Q68.3068 572.751 71.5013 575.436 Q74.6957 578.121 74.6957 582.612 Q74.6957 584.741 73.8855 586.663 Q73.0985 588.561 70.992 591.153 Q70.4133 591.825 67.3115 595.042 Q64.2096 598.237 58.5615 604 Z\" fill=\"#000000\" fill-rule=\"evenodd\" fill-opacity=\"1\" /><path clip-path=\"url(#clip710)\" d=\"M67.7513 160.693 Q71.1078 161.41 72.9827 163.679 Q74.8809 165.947 74.8809 169.281 Q74.8809 174.396 71.3624 177.197 Q67.8439 179.998 61.3624 179.998 Q59.1865 179.998 56.8717 179.558 Q54.5801 179.142 52.1264 178.285 L52.1264 173.771 Q54.0708 174.906 56.3856 175.484 Q58.7004 176.063 61.2236 176.063 Q65.6217 176.063 67.9133 174.327 Q70.2281 172.591 70.2281 169.281 Q70.2281 166.225 68.0754 164.512 Q65.9457 162.776 62.1263 162.776 L58.0986 162.776 L58.0986 158.934 L62.3115 158.934 Q65.7606 158.934 67.5893 157.568 Q69.418 156.179 69.418 153.586 Q69.418 150.924 67.5198 149.512 Q65.6448 148.077 62.1263 148.077 Q60.205 148.077 58.006 148.494 Q55.8069 148.91 53.168 149.79 L53.168 145.623 Q55.8301 144.883 58.1449 144.512 Q60.4828 144.142 62.543 144.142 Q67.867 144.142 70.9689 146.572 Q74.0707 148.98 74.0707 153.1 Q74.0707 155.971 72.4272 157.961 Q70.7837 159.929 67.7513 160.693 Z\" fill=\"#000000\" fill-rule=\"evenodd\" fill-opacity=\"1\" /><path clip-path=\"url(#clip710)\" d=\"M1071.71 20.1573 L1060.61 50.2555 L1082.85 50.2555 L1071.71 20.1573 M1067.09 12.096 L1076.36 12.096 L1099.41 72.576 L1090.91 72.576 L1085.4 57.061 L1058.14 57.061 L1052.63 72.576 L1044 72.576 L1067.09 12.096 Z\" fill=\"#000000\" fill-rule=\"evenodd\" fill-opacity=\"1\" /><path clip-path=\"url(#clip710)\" d=\"M1139.11 28.9478 L1139.11 35.9153 Q1135.95 34.1734 1132.75 33.3227 Q1129.59 32.4315 1126.35 32.4315 Q1119.1 32.4315 1115.09 37.0496 Q1111.08 41.6271 1111.08 49.9314 Q1111.08 58.2358 1115.09 62.8538 Q1119.1 67.4314 1126.35 67.4314 Q1129.59 67.4314 1132.75 66.5807 Q1135.95 65.6895 1139.11 63.9476 L1139.11 70.8341 Q1135.99 72.2924 1132.63 73.0216 Q1129.31 73.7508 1125.54 73.7508 Q1115.29 73.7508 1109.26 67.3098 Q1103.22 60.8689 1103.22 49.9314 Q1103.22 38.832 1109.3 32.472 Q1115.42 26.1121 1126.03 26.1121 Q1129.47 26.1121 1132.75 26.8413 Q1136.03 27.5299 1139.11 28.9478 Z\" fill=\"#000000\" fill-rule=\"evenodd\" fill-opacity=\"1\" /><path clip-path=\"url(#clip710)\" d=\"M1184.73 28.9478 L1184.73 35.9153 Q1181.57 34.1734 1178.37 33.3227 Q1175.21 32.4315 1171.97 32.4315 Q1164.72 32.4315 1160.7 37.0496 Q1156.69 41.6271 1156.69 49.9314 Q1156.69 58.2358 1160.7 62.8538 Q1164.72 67.4314 1171.97 67.4314 Q1175.21 67.4314 1178.37 66.5807 Q1181.57 65.6895 1184.73 63.9476 L1184.73 70.8341 Q1181.61 72.2924 1178.25 73.0216 Q1174.92 73.7508 1171.16 73.7508 Q1160.91 73.7508 1154.87 67.3098 Q1148.84 60.8689 1148.84 49.9314 Q1148.84 38.832 1154.91 32.472 Q1161.03 26.1121 1171.64 26.1121 Q1175.09 26.1121 1178.37 26.8413 Q1181.65 27.5299 1184.73 28.9478 Z\" fill=\"#000000\" fill-rule=\"evenodd\" fill-opacity=\"1\" /><path clip-path=\"url(#clip710)\" d=\"M1196.92 54.671 L1196.92 27.2059 L1204.37 27.2059 L1204.37 54.3874 Q1204.37 60.8284 1206.89 64.0691 Q1209.4 67.2693 1214.42 67.2693 Q1220.46 67.2693 1223.94 63.421 Q1227.46 59.5726 1227.46 52.9291 L1227.46 27.2059 L1234.92 27.2059 L1234.92 72.576 L1227.46 72.576 L1227.46 65.6084 Q1224.75 69.7404 1221.14 71.7658 Q1217.58 73.7508 1212.84 73.7508 Q1205.02 73.7508 1200.97 68.8897 Q1196.92 64.0286 1196.92 54.671 M1215.68 26.1121 L1215.68 26.1121 Z\" fill=\"#000000\" fill-rule=\"evenodd\" fill-opacity=\"1\" /><path clip-path=\"url(#clip710)\" d=\"M1276.56 34.1734 Q1275.3 33.4443 1273.81 33.1202 Q1272.35 32.7556 1270.57 32.7556 Q1264.25 32.7556 1260.84 36.8875 Q1257.48 40.9789 1257.48 48.6757 L1257.48 72.576 L1249.99 72.576 L1249.99 27.2059 L1257.48 27.2059 L1257.48 34.2544 Q1259.83 30.1225 1263.6 28.1376 Q1267.37 26.1121 1272.75 26.1121 Q1273.52 26.1121 1274.45 26.2337 Q1275.39 26.3147 1276.52 26.5172 L1276.56 34.1734 Z\" fill=\"#000000\" fill-rule=\"evenodd\" fill-opacity=\"1\" /><path clip-path=\"url(#clip710)\" d=\"M1305 49.7694 Q1295.96 49.7694 1292.48 51.8354 Q1289 53.9013 1289 58.8839 Q1289 62.8538 1291.59 65.2034 Q1294.22 67.5124 1298.72 67.5124 Q1304.92 67.5124 1308.64 63.1374 Q1312.41 58.7219 1312.41 51.4303 L1312.41 49.7694 L1305 49.7694 M1319.86 46.6907 L1319.86 72.576 L1312.41 72.576 L1312.41 65.6895 Q1309.86 69.8214 1306.05 71.8063 Q1302.24 73.7508 1296.73 73.7508 Q1289.77 73.7508 1285.63 69.8619 Q1281.54 65.9325 1281.54 59.3701 Q1281.54 51.7138 1286.65 47.825 Q1291.79 43.9361 1301.96 43.9361 L1312.41 43.9361 L1312.41 43.2069 Q1312.41 38.0623 1309.01 35.2672 Q1305.65 32.4315 1299.53 32.4315 Q1295.64 32.4315 1291.95 33.3632 Q1288.27 34.295 1284.86 36.1584 L1284.86 29.2718 Q1288.96 27.692 1292.8 26.9223 Q1296.65 26.1121 1300.3 26.1121 Q1310.14 26.1121 1315 31.2163 Q1319.86 36.3204 1319.86 46.6907 Z\" fill=\"#000000\" fill-rule=\"evenodd\" fill-opacity=\"1\" /><path clip-path=\"url(#clip710)\" d=\"M1367.87 28.9478 L1367.87 35.9153 Q1364.71 34.1734 1361.51 33.3227 Q1358.35 32.4315 1355.11 32.4315 Q1347.86 32.4315 1343.85 37.0496 Q1339.84 41.6271 1339.84 49.9314 Q1339.84 58.2358 1343.85 62.8538 Q1347.86 67.4314 1355.11 67.4314 Q1358.35 67.4314 1361.51 66.5807 Q1364.71 65.6895 1367.87 63.9476 L1367.87 70.8341 Q1364.75 72.2924 1361.39 73.0216 Q1358.06 73.7508 1354.3 73.7508 Q1344.05 73.7508 1338.01 67.3098 Q1331.98 60.8689 1331.98 49.9314 Q1331.98 38.832 1338.05 32.472 Q1344.17 26.1121 1354.78 26.1121 Q1358.23 26.1121 1361.51 26.8413 Q1364.79 27.5299 1367.87 28.9478 Z\" fill=\"#000000\" fill-rule=\"evenodd\" fill-opacity=\"1\" /><path clip-path=\"url(#clip710)\" d=\"M1399.71 76.7889 Q1396.55 84.8907 1393.55 87.3618 Q1390.55 89.8329 1385.53 89.8329 L1379.58 89.8329 L1379.58 83.5945 L1383.95 83.5945 Q1387.03 83.5945 1388.73 82.1361 Q1390.43 80.6778 1392.5 75.2496 L1393.83 71.8468 L1375.48 27.2059 L1383.38 27.2059 L1397.56 62.6918 L1411.74 27.2059 L1419.64 27.2059 L1399.71 76.7889 Z\" fill=\"#000000\" fill-rule=\"evenodd\" fill-opacity=\"1\" /><polyline clip-path=\"url(#clip712)\" style=\"stroke:#009af9; stroke-linecap:butt; stroke-linejoin:round; stroke-width:4; stroke-opacity:1; fill:none\" points=\"\n",
       "  174.33,733.525 549.07,733.525 768.278,733.525 923.809,733.525 1044.45,733.525 1143.02,733.525 1226.36,733.525 1298.55,733.525 1362.23,733.525 1419.19,733.525 \n",
       "  1470.72,1447.87 1517.76,1447.87 1561.03,1447.87 1601.1,1447.87 1638.4,1447.87 1673.29,1447.87 1706.06,1447.87 1736.97,1447.87 1766.2,1447.87 1793.93,1447.87 \n",
       "  1820.31,1447.87 1845.46,1447.87 1869.49,1447.87 1892.5,1447.87 1914.57,1447.87 1935.77,1447.87 1956.17,1447.87 1975.84,1447.87 1994.81,1447.87 2013.14,1447.87 \n",
       "  2030.86,1447.87 2048.03,1447.87 2064.66,1447.87 2080.8,1447.87 2096.48,1447.87 2111.71,1447.87 2126.52,1447.87 2140.94,1447.87 2154.98,1447.87 2168.67,1447.87 \n",
       "  2182.02,1447.87 2195.05,1447.87 2207.77,1447.87 2220.2,1447.87 2232.35,1447.87 2244.23,1447.87 2255.85,1447.87 2267.24,1447.87 2278.38,1447.87 2289.31,1447.87 \n",
       "  \n",
       "  \"/>\n",
       "<polyline clip-path=\"url(#clip712)\" style=\"stroke:#e26f46; stroke-linecap:butt; stroke-linejoin:round; stroke-width:4; stroke-opacity:1; fill:none\" points=\"\n",
       "  174.33,162.047 549.07,162.047 768.278,162.047 923.809,162.047 1044.45,162.047 1143.02,162.047 1226.36,162.047 1298.55,162.047 1362.23,162.047 1419.19,162.047 \n",
       "  1470.72,1447.87 1517.76,1447.87 1561.03,1447.87 1601.1,1447.87 1638.4,1447.87 1673.29,1447.87 1706.06,1447.87 1736.97,1447.87 1766.2,1447.87 1793.93,1447.87 \n",
       "  1820.31,1447.87 1845.46,1447.87 1869.49,1447.87 1892.5,1447.87 1914.57,1447.87 1935.77,1447.87 1956.17,1447.87 1975.84,1447.87 1994.81,1447.87 2013.14,1447.87 \n",
       "  2030.86,1447.87 2048.03,1447.87 2064.66,1447.87 2080.8,1447.87 2096.48,1447.87 2111.71,1447.87 2126.52,1447.87 2140.94,1447.87 2154.98,1447.87 2168.67,1447.87 \n",
       "  2182.02,1447.87 2195.05,1447.87 2207.77,1447.87 2220.2,1447.87 2232.35,1447.87 2244.23,1447.87 2255.85,1447.87 2267.24,1447.87 2278.38,1447.87 2289.31,1447.87 \n",
       "  \n",
       "  \"/>\n",
       "<path clip-path=\"url(#clip710)\" d=\"\n",
       "M1985.6 324.425 L2278.03 324.425 L2278.03 168.905 L1985.6 168.905  Z\n",
       "  \" fill=\"#ffffff\" fill-rule=\"evenodd\" fill-opacity=\"1\"/>\n",
       "<polyline clip-path=\"url(#clip710)\" style=\"stroke:#000000; stroke-linecap:butt; stroke-linejoin:round; stroke-width:4; stroke-opacity:1; fill:none\" points=\"\n",
       "  1985.6,324.425 2278.03,324.425 2278.03,168.905 1985.6,168.905 1985.6,324.425 \n",
       "  \"/>\n",
       "<polyline clip-path=\"url(#clip710)\" style=\"stroke:#009af9; stroke-linecap:butt; stroke-linejoin:round; stroke-width:4; stroke-opacity:1; fill:none\" points=\"\n",
       "  2009.6,220.745 2153.6,220.745 \n",
       "  \"/>\n",
       "<path clip-path=\"url(#clip710)\" d=\"M2191.44 240.432 Q2189.63 245.062 2187.92 246.474 Q2186.21 247.886 2183.34 247.886 L2179.93 247.886 L2179.93 244.321 L2182.43 244.321 Q2184.19 244.321 2185.17 243.488 Q2186.14 242.654 2187.32 239.552 L2188.08 237.608 L2177.6 212.099 L2182.11 212.099 L2190.21 232.377 L2198.31 212.099 L2202.83 212.099 L2191.44 240.432 Z\" fill=\"#000000\" fill-rule=\"evenodd\" fill-opacity=\"1\" /><path clip-path=\"url(#clip710)\" d=\"M2210.12 234.089 L2217.76 234.089 L2217.76 207.724 L2209.45 209.391 L2209.45 205.131 L2217.71 203.465 L2222.39 203.465 L2222.39 234.089 L2230.03 234.089 L2230.03 238.025 L2210.12 238.025 L2210.12 234.089 Z\" fill=\"#000000\" fill-rule=\"evenodd\" fill-opacity=\"1\" /><polyline clip-path=\"url(#clip710)\" style=\"stroke:#e26f46; stroke-linecap:butt; stroke-linejoin:round; stroke-width:4; stroke-opacity:1; fill:none\" points=\"\n",
       "  2009.6,272.585 2153.6,272.585 \n",
       "  \"/>\n",
       "<path clip-path=\"url(#clip710)\" d=\"M2191.44 292.272 Q2189.63 296.902 2187.92 298.314 Q2186.21 299.726 2183.34 299.726 L2179.93 299.726 L2179.93 296.161 L2182.43 296.161 Q2184.19 296.161 2185.17 295.328 Q2186.14 294.494 2187.32 291.392 L2188.08 289.448 L2177.6 263.939 L2182.11 263.939 L2190.21 284.217 L2198.31 263.939 L2202.83 263.939 L2191.44 292.272 Z\" fill=\"#000000\" fill-rule=\"evenodd\" fill-opacity=\"1\" /><path clip-path=\"url(#clip710)\" d=\"M2213.34 285.929 L2229.66 285.929 L2229.66 289.865 L2207.71 289.865 L2207.71 285.929 Q2210.37 283.175 2214.96 278.545 Q2219.56 273.893 2220.74 272.55 Q2222.99 270.027 2223.87 268.291 Q2224.77 266.531 2224.77 264.842 Q2224.77 262.087 2222.83 260.351 Q2220.91 258.615 2217.8 258.615 Q2215.61 258.615 2213.15 259.379 Q2210.72 260.143 2207.94 261.694 L2207.94 256.971 Q2210.77 255.837 2213.22 255.258 Q2215.67 254.68 2217.71 254.68 Q2223.08 254.68 2226.28 257.365 Q2229.47 260.05 2229.47 264.541 Q2229.47 266.67 2228.66 268.592 Q2227.87 270.49 2225.77 273.082 Q2225.19 273.754 2222.09 276.971 Q2218.99 280.166 2213.34 285.929 Z\" fill=\"#000000\" fill-rule=\"evenodd\" fill-opacity=\"1\" /></svg>\n"
      ]
     },
     "execution_count": 26,
     "metadata": {},
     "output_type": "execute_result"
    }
   ],
   "source": [
    "plot(log.(1:epochs), save_resultTest)\n",
    "plot!(log.(1:epochs), save_resultTrain, title = \"Accuracy\")"
   ]
  }
 ],
 "metadata": {
  "kernelspec": {
   "display_name": "Julia 1.7.1",
   "language": "julia",
   "name": "julia-1.7"
  },
  "language_info": {
   "file_extension": ".jl",
   "mimetype": "application/julia",
   "name": "julia",
   "version": "1.7.1"
  }
 },
 "nbformat": 4,
 "nbformat_minor": 2
}

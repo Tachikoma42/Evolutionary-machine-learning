{
 "cells": [
  {
   "cell_type": "code",
   "execution_count": 1,
   "metadata": {},
   "outputs": [],
   "source": [
    "#Sihao Ren // sren03 // 947105531\n",
    "using Flux\n",
    "using Statistics\n",
    "using Flux: onehotbatch, onecold, crossentropy, throttle\n",
    "using Base.Iterators: repeated\n",
    "using Flux: @epochs\n",
    "using MLJBase\n",
    "using Printf\n",
    "using BSON: @save # for save weights\n",
    "using Plots"
   ]
  },
  {
   "cell_type": "code",
   "execution_count": 2,
   "metadata": {},
   "outputs": [
    {
     "name": "stderr",
     "output_type": "stream",
     "text": [
      "┌ Warning: Flux's datasets are deprecated, please use the package MLDatasets.jl\n",
      "└ @ Flux.Data C:\\Users\\xkzmx\\.julia\\packages\\Flux\\qAdFM\\src\\data\\Data.jl:16\n",
      "┌ Warning: Flux's datasets are deprecated, please use the package MLDatasets.jl\n",
      "└ @ Flux.Data C:\\Users\\xkzmx\\.julia\\packages\\Flux\\qAdFM\\src\\data\\Data.jl:16\n"
     ]
    },
    {
     "data": {
      "text/plain": [
       "60000-element Vector{Int64}:\n",
       " 9\n",
       " 0\n",
       " 0\n",
       " 3\n",
       " 0\n",
       " 2\n",
       " 7\n",
       " 2\n",
       " 5\n",
       " 5\n",
       " ⋮\n",
       " 1\n",
       " 7\n",
       " 2\n",
       " 8\n",
       " 5\n",
       " 1\n",
       " 3\n",
       " 0\n",
       " 5"
      ]
     },
     "metadata": {},
     "output_type": "display_data"
    }
   ],
   "source": [
    "# get data and labels\n",
    "images = Flux.Data.FashionMNIST.images()\n",
    "labels = Flux.Data.FashionMNIST.labels();\n",
    "# the better way is to use MLDatasets, but it doesn't work on jupyter notebook.\n"
   ]
  },
  {
   "cell_type": "code",
   "execution_count": 3,
   "metadata": {},
   "outputs": [],
   "source": [
    "# this is just to initialize, the 2 data is not used in the model\n",
    "selectedImages = images[1:2];\n",
    "selectedLabels = labels[1:2];"
   ]
  },
  {
   "cell_type": "code",
   "execution_count": 4,
   "metadata": {},
   "outputs": [],
   "source": [
    "# filter the data so it contains only 0 and 1\n",
    "for i in 1:60000\n",
    "    if labels[i] == 0 || labels[i] == 1\n",
    "        append!(selectedLabels, labels[i])\n",
    "        push!(selectedImages, images[i])\n",
    "    end\n",
    "end\n"
   ]
  },
  {
   "cell_type": "code",
   "execution_count": null,
   "metadata": {},
   "outputs": [],
   "source": [
    "# selectedTrainImage = selectedImages[3:8400]\n",
    "# selectedTrainLabel = selectedLabels[3:8400]\n",
    "# selectedTestImage = selectedImages[8401:12000]\n",
    "# selectedTestLabel = selectedLabels[8401:12000];"
   ]
  },
  {
   "cell_type": "code",
   "execution_count": 5,
   "metadata": {},
   "outputs": [],
   "source": [
    "# get part of the selected data.\n",
    "selectedTrainImage = selectedImages[3:1000]\n",
    "selectedTrainLabel = selectedLabels[3:1000]\n",
    "selectedTestImage = selectedImages[1001:1400]\n",
    "selectedTestLabel = selectedLabels[1001:1400];"
   ]
  },
  {
   "cell_type": "code",
   "execution_count": null,
   "metadata": {},
   "outputs": [],
   "source": [
    "selectedTrainImage"
   ]
  },
  {
   "cell_type": "code",
   "execution_count": 6,
   "metadata": {},
   "outputs": [],
   "source": [
    "#reshape the data so it can be used in the model\n",
    "x_train = hcat(float.(reshape.(selectedTrainImage, :))...) \n",
    "y_train = onehotbatch(selectedTrainLabel, 0:1)\n",
    "x_test = hcat(float.(reshape.(selectedTestImage, :))...)\n",
    "y_test = onehotbatch(selectedTestLabel, 0:1);"
   ]
  },
  {
   "cell_type": "code",
   "execution_count": 10,
   "metadata": {},
   "outputs": [
    {
     "data": {
      "text/plain": [
       "998-element Vector{Int64}:\n",
       " 0\n",
       " 0\n",
       " 0\n",
       " 0\n",
       " 1\n",
       " 0\n",
       " 1\n",
       " 0\n",
       " 0\n",
       " 1\n",
       " ⋮\n",
       " 0\n",
       " 0\n",
       " 1\n",
       " 1\n",
       " 1\n",
       " 1\n",
       " 1\n",
       " 0\n",
       " 1"
      ]
     },
     "metadata": {},
     "output_type": "display_data"
    }
   ],
   "source": [
    "selectedTrainLabel"
   ]
  },
  {
   "cell_type": "code",
   "execution_count": 7,
   "metadata": {},
   "outputs": [
    {
     "data": {
      "text/plain": [
       "784×998 Matrix{Float64}:\n",
       " 0.0  0.0  0.0  0.0  0.0  0.0  0.0  0.0  …  0.0  0.0  0.0  0.0  0.0  0.0  0.0\n",
       " 0.0  0.0  0.0  0.0  0.0  0.0  0.0  0.0     0.0  0.0  0.0  0.0  0.0  0.0  0.0\n",
       " 0.0  0.0  0.0  0.0  0.0  0.0  0.0  0.0     0.0  0.0  0.0  0.0  0.0  0.0  0.0\n",
       " 0.0  0.0  0.0  0.0  0.0  0.0  0.0  0.0     0.0  0.0  0.0  0.0  0.0  0.0  0.0\n",
       " 0.0  0.0  0.0  0.0  0.0  0.0  0.0  0.0     0.0  0.0  0.0  0.0  0.0  0.0  0.0\n",
       " 0.0  0.0  0.0  0.0  0.0  0.0  0.0  0.0  …  0.0  0.0  0.0  0.0  0.0  0.0  0.0\n",
       " 0.0  0.0  0.0  0.0  0.0  0.0  0.0  0.0     0.0  0.0  0.0  0.0  0.0  0.0  0.0\n",
       " 0.0  0.0  0.0  0.0  0.0  0.0  0.0  0.0     0.0  0.0  0.0  0.0  0.0  0.0  0.0\n",
       " 0.0  0.0  0.0  0.0  0.0  0.0  0.0  0.0     0.0  0.0  0.0  0.0  0.0  0.0  0.0\n",
       " 0.0  0.0  0.0  0.0  0.0  0.0  0.0  0.0     0.0  0.0  0.0  0.0  0.0  0.0  0.0\n",
       " ⋮                        ⋮              ⋱                      ⋮         \n",
       " 0.0  0.0  0.0  0.0  0.0  0.0  0.0  0.0  …  0.0  0.0  0.0  0.0  0.0  0.0  0.0\n",
       " 0.0  0.0  0.0  0.0  0.0  0.0  0.0  0.0     0.0  0.0  0.0  0.0  0.0  0.0  0.0\n",
       " 0.0  0.0  0.0  0.0  0.0  0.0  0.0  0.0     0.0  0.0  0.0  0.0  0.0  0.0  0.0\n",
       " 0.0  0.0  0.0  0.0  0.0  0.0  0.0  0.0     0.0  0.0  0.0  0.0  0.0  0.0  0.0\n",
       " 0.0  0.0  0.0  0.0  0.0  0.0  0.0  0.0     0.0  0.0  0.0  0.0  0.0  0.0  0.0\n",
       " 0.0  0.0  0.0  0.0  0.0  0.0  0.0  0.0  …  0.0  0.0  0.0  0.0  0.0  0.0  0.0\n",
       " 0.0  0.0  0.0  0.0  0.0  0.0  0.0  0.0     0.0  0.0  0.0  0.0  0.0  0.0  0.0\n",
       " 0.0  0.0  0.0  0.0  0.0  0.0  0.0  0.0     0.0  0.0  0.0  0.0  0.0  0.0  0.0\n",
       " 0.0  0.0  0.0  0.0  0.0  0.0  0.0  0.0     0.0  0.0  0.0  0.0  0.0  0.0  0.0"
      ]
     },
     "metadata": {},
     "output_type": "display_data"
    }
   ],
   "source": [
    "x_train"
   ]
  },
  {
   "cell_type": "code",
   "execution_count": 9,
   "metadata": {},
   "outputs": [
    {
     "data": {
      "text/plain": [
       "Chain(\n",
       "  Dense(784, 1568, σ),                  \u001b[90m# 1_230_880 parameters\u001b[39m\n",
       "  Dense(1568, 2),                       \u001b[90m# 3_138 parameters\u001b[39m\n",
       "  NNlib.softmax,\n",
       ")\u001b[90m                   # Total: 4 arrays, \u001b[39m1_234_018 parameters, 4.708 MiB."
      ]
     },
     "metadata": {},
     "output_type": "display_data"
    }
   ],
   "source": [
    "#define the model\n",
    "#784->2*784->2\n",
    "#output is the probability of being 0 or 1\n",
    "\n",
    "model = Chain(Dense(28^2, 2*28^2, sigmoid), Dense(2*28^2, 2), softmax)\n",
    "@save \"mymodel10.bson\" model #@save \"mymodel10.bson\" model"
   ]
  },
  {
   "cell_type": "code",
   "execution_count": 10,
   "metadata": {},
   "outputs": [
    {
     "data": {
      "text/plain": [
       "myaccuracy (generic function with 1 method)"
      ]
     },
     "metadata": {},
     "output_type": "display_data"
    }
   ],
   "source": [
    "#define the other functions that will be used in the model\n",
    "loss(x, y) = crossentropy(model(x), y) \n",
    "#2\n",
    "optim = ADAM(); \n",
    "dataset = repeated((x_train,y_train),1);\n",
    "#in the first try, I tried to repeat the data to train, \n",
    "#but in the final version I change to loop the train process.\n",
    "myaccuracy(x, y) = mean(onecold(model(x)) .== onecold(y))\n",
    "#modified the zoo example from julia"
   ]
  },
  {
   "cell_type": "code",
   "execution_count": 11,
   "metadata": {},
   "outputs": [
    {
     "data": {
      "text/plain": [
       "Base.Iterators.Take{Base.Iterators.Repeated{Tuple{Matrix{Float64}, Flux.OneHotArray{UInt32, 2, 1, 2, Vector{UInt32}}}}}(Base.Iterators.Repeated{Tuple{Matrix{Float64}, Flux.OneHotArray{UInt32, 2, 1, 2, Vector{UInt32}}}}(([0.0 0.0 … 0.0 0.0; 0.0 0.0 … 0.0 0.0; … ; 0.0 0.0 … 0.0 0.0; 0.0 0.0 … 0.0 0.0], Bool[1 1 … 1 0; 0 0 … 0 1])), 1)"
      ]
     },
     "metadata": {},
     "output_type": "display_data"
    }
   ],
   "source": [
    "dataset"
   ]
  },
  {
   "cell_type": "code",
   "execution_count": null,
   "metadata": {},
   "outputs": [],
   "source": [
    "#@epochs 200 Flux.train!(loss, params(model), dataset, optim, cb = throttle(evalcb, 10))"
   ]
  },
  {
   "cell_type": "code",
   "execution_count": null,
   "metadata": {},
   "outputs": [],
   "source": [
    "save_resultTest = []\n",
    "save_resultTrain = []\n",
    "epochs = 50 # the number of epochs"
   ]
  },
  {
   "cell_type": "code",
   "execution_count": 12,
   "metadata": {},
   "outputs": [],
   "source": [
    "Flux.train!(loss, Flux.params(model), dataset, optim)"
   ]
  },
  {
   "cell_type": "code",
   "execution_count": null,
   "metadata": {},
   "outputs": [],
   "source": [
    "\n",
    "for i = 1:epochs\n",
    "    Flux.train!(loss, Flux.params(model), dataset, optim)\n",
    "    @printf(\"Loss in epoch: %d in test is %f\\n\", i, loss(x_test, y_test))\n",
    "    #save the accuracy of the test data\n",
    "    push!(save_resultTest, myaccuracy(x_test, y_test))\n",
    "    push!(save_resultTrain, myaccuracy(x_train, y_train))\n",
    "    #plot(log(i), loss(x_test, y_test))\n",
    "end\n"
   ]
  },
  {
   "cell_type": "code",
   "execution_count": null,
   "metadata": {},
   "outputs": [],
   "source": [
    "# plot the accuracy in jupyter notebook\n",
    "plot(log.(1:epochs), save_resultTest)\n",
    "plot!(log.(1:epochs), save_resultTrain, title = \"Accuracy\")"
   ]
  },
  {
   "cell_type": "code",
   "execution_count": null,
   "metadata": {},
   "outputs": [],
   "source": [
    "# change the output from probability into  0 or 1\n",
    "\n",
    "simplified_x_test_result = []\n",
    "for i  = 1:400 \n",
    "    if model(x_test[:,i])[1]>0.5\n",
    "        push!(simplified_x_test_result, 0)\n",
    "    else\n",
    "        push!(simplified_x_test_result, 1)\n",
    "    end\n",
    "end\n",
    "simplified_y_test = []\n",
    "for i  = 1:400 \n",
    "    if y_test[:,i][1] == true\n",
    "        push!(simplified_y_test, 0)\n",
    "    else\n",
    "        push!(simplified_y_test, 1)\n",
    "    end\n",
    "end\n"
   ]
  },
  {
   "cell_type": "code",
   "execution_count": null,
   "metadata": {},
   "outputs": [],
   "source": [
    "# ConfusionMatrix for the test data\n",
    "\n",
    "ConfusionMatrix()(simplified_x_test_result, simplified_y_test )\n"
   ]
  },
  {
   "cell_type": "code",
   "execution_count": null,
   "metadata": {},
   "outputs": [],
   "source": [
    "# change the output from probability into  0 or 1\n",
    "\n",
    "simplified_x_train_result = []\n",
    "for i  = 1:998 \n",
    "    if model(x_train[:,i])[1]>0.5\n",
    "        push!(simplified_x_train_result, 0)\n",
    "    else\n",
    "        push!(simplified_x_train_result, 1)\n",
    "    end\n",
    "end\n",
    "simplified_y_train = []\n",
    "for i  = 1:998 \n",
    "    if y_train[:,i][1] == true\n",
    "        push!(simplified_y_train, 0)\n",
    "    else\n",
    "        push!(simplified_y_train, 1)\n",
    "    end\n",
    "end"
   ]
  },
  {
   "cell_type": "code",
   "execution_count": null,
   "metadata": {},
   "outputs": [],
   "source": [
    "# ConfusionMatrix for the training data\n",
    "print(\"ConfusionMatrix for the training data\\n\")\n",
    "ConfusionMatrix()(simplified_x_train_result, simplified_y_train )\n"
   ]
  }
 ],
 "metadata": {
  "interpreter": {
   "hash": "fa9c7a847b1ecc7141b5d2837a55d7b36e38d080383860af5fbc215d29a3a8e5"
  },
  "kernelspec": {
   "display_name": "Julia 1.7.1",
   "language": "julia",
   "name": "julia-1.7"
  },
  "language_info": {
   "file_extension": ".jl",
   "mimetype": "application/julia",
   "name": "julia",
   "version": "1.7.1"
  }
 },
 "nbformat": 4,
 "nbformat_minor": 2
}

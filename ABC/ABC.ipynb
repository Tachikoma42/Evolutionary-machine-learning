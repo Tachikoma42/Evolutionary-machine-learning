{
 "cells": [
  {
   "cell_type": "code",
   "execution_count": 57,
   "metadata": {},
   "outputs": [],
   "source": [
    "using Flux\n",
    "using Flux: onehot, onecold, logitcrossentropy #, throttle, @epochs\n",
    "using MLDatasets\n",
    "using Random\n",
    "using JLD2\n",
    "using Statistics\n",
    "using MLJBase\n",
    "using BSON: @load # for load weights\n",
    "using Plots\n",
    "using Zygote\n",
    "using Distributions"
   ]
  },
  {
   "cell_type": "code",
   "execution_count": 77,
   "metadata": {},
   "outputs": [
    {
     "data": {
      "text/plain": [
       "10-element Vector{Float64}:\n",
       " 0.1\n",
       " 0.2\n",
       " 0.3\n",
       " 0.4\n",
       " 0.5\n",
       " 0.6\n",
       " 0.7\n",
       " 0.8\n",
       " 0.9\n",
       " 1.0"
      ]
     },
     "execution_count": 77,
     "metadata": {},
     "output_type": "execute_result"
    }
   ],
   "source": [
    "globalFoodSourceFitness = [0.1, 0.2,0.3,0.4,0.5,0.6,0.7,0.8,0.9,1.0]\n",
    "cumProb"
   ]
  },
  {
   "cell_type": "code",
   "execution_count": null,
   "metadata": {},
   "outputs": [],
   "source": [
    "function calCumFitness()\n",
    "    fitnessSum = sum(globalFoodSourceFitness)\n",
    "    fitnessProb = globalFoodSourceFitness/fitnessSum\n",
    "    cumProb = cumsum(fitnessProb)\n",
    "end"
   ]
  },
  {
   "cell_type": "code",
   "execution_count": null,
   "metadata": {},
   "outputs": [],
   "source": [
    "function rouletteWheelSelection()\n",
    "    fitnessSum = sum(globalFoodSourceFitness)\n",
    "    fitnessProb = globalFoodSourceFitness/fitnessSum\n",
    "    cumProb = cumsum(fitnessProb)\n",
    "    randNum = rand()\n",
    "    for i in 1:pop\n",
    "        if randNum <= cumProb[i]\n",
    "            return i\n",
    "        end\n",
    "    end\n",
    "end"
   ]
  },
  {
   "cell_type": "code",
   "execution_count": 78,
   "metadata": {},
   "outputs": [
    {
     "data": {
      "text/plain": [
       "10-element Vector{Float64}:\n",
       " 0.018181818181818184\n",
       " 0.05454545454545455\n",
       " 0.1090909090909091\n",
       " 0.18181818181818182\n",
       " 0.2727272727272727\n",
       " 0.3818181818181818\n",
       " 0.509090909090909\n",
       " 0.6545454545454545\n",
       " 0.8181818181818182\n",
       " 1.0"
      ]
     },
     "execution_count": 78,
     "metadata": {},
     "output_type": "execute_result"
    }
   ],
   "source": [
    "fitnessSum = sum(globalFoodSourceFitness)\n",
    "    fitnessProb = globalFoodSourceFitness/fitnessSum\n",
    "    cumProb = cumsum(fitnessProb)"
   ]
  },
  {
   "cell_type": "code",
   "execution_count": null,
   "metadata": {},
   "outputs": [],
   "source": [
    "\n",
    "    randNum = rand()\n",
    "    for i in 1:pop\n",
    "        if randNum <= cumProb[i]\n",
    "            return i\n",
    "        end\n",
    "    end"
   ]
  },
  {
   "cell_type": "markdown",
   "metadata": {},
   "source": [
    "Input Data"
   ]
  },
  {
   "cell_type": "code",
   "execution_count": 58,
   "metadata": {},
   "outputs": [],
   "source": [
    "train_data = JLD2.load_object(\"data/train_data.jld2\");\n",
    "test_data = JLD2.load_object(\"data/test_data.jld2\");\n",
    "x_train = JLD2.load_object(\"data/x_train.jld2\");\n",
    "y_train = JLD2.load_object(\"data/y_train.jld2\");\n",
    "x_test  = JLD2.load_object(\"data/x_test.jld2\");\n",
    "y_test  = JLD2.load_object(\"data/y_test.jld2\");"
   ]
  },
  {
   "cell_type": "code",
   "execution_count": 76,
   "metadata": {},
   "outputs": [
    {
     "data": {
      "text/plain": [
       "19×1388 Matrix{Float64}:\n",
       " 53.0  33.0  79.0  78.0  54.0  43.0  …  78.0  13.0  82.0  44.0  72.0  71.0\n",
       " 13.7  20.3  19.2  19.7   8.3   8.3     13.3  26.3  22.9  13.3  15.1  39.3\n",
       "  4.1   5.5   7.0   6.8   6.1   2.6      3.6   9.1  10.1   4.9   4.4   6.1\n",
       "  1.6   2.4   2.7   2.8   0.1   0.9      1.6   8.1   3.7   1.8   1.7   0.1\n",
       "  4.0   6.0   6.1   5.3   5.1   2.4      3.1  11.1   8.4   4.0   4.1  11.1\n",
       " 41.2  39.9  43.4  51.7  50.1  35.6  …  51.7  45.1  43.4  46.0  42.2  33.1\n",
       "  0.0   0.1   0.0   0.0   0.1   0.1      0.0   0.1   0.8   0.1   0.6   0.1\n",
       "  0.1   0.8   0.0   0.0   0.1   0.4      0.0   3.1   2.3   0.3   1.9   2.1\n",
       " 33.3   8.0   0.0   0.0  50.1  21.1      0.0  24.1  36.8  25.0  32.8  48.1\n",
       "  0.8   0.7   1.7   1.3   2.1   0.8      0.4   5.1   2.0   1.2   0.4   2.1\n",
       "  1.2   0.9   2.2   2.2   0.1   1.1  …   0.7   5.1   2.3   1.4   0.5   6.1\n",
       " 68.3  76.7  77.5  59.5  54.1  74.5     60.8  77.1  85.4  82.3  71.1  85.1\n",
       "  0.2   0.5   1.4   2.2   3.1   0.3      0.8   5.1   0.6   0.3   0.3   2.1\n",
       "  0.9   1.5   1.9   3.1   5.1   0.9      2.1   1.1   2.1   0.8   1.3   0.1\n",
       "  1.1   2.0   3.3   5.3   7.1   1.3      2.9   6.1   2.7   1.1   1.7   5.1\n",
       "  2.6   3.2   0.6   0.5   3.1   0.3  …   0.8   6.1   2.8   1.2   1.9   7.1\n",
       "  0.5   0.4   0.5   0.4   0.1   0.2      0.3   2.1   0.7   0.3   0.6   3.1\n",
       "  0.1   0.1   0.3   0.9   2.1   0.2      1.1   2.1   0.3   0.2   0.1   3.1\n",
       "  1.0   1.5   1.4   1.0   0.1   0.3      0.8   4.1   1.9   0.7   1.0   3.1"
      ]
     },
     "execution_count": 76,
     "metadata": {},
     "output_type": "execute_result"
    }
   ],
   "source": [
    "x_train"
   ]
  },
  {
   "cell_type": "markdown",
   "metadata": {},
   "source": [
    "Defind Model to train"
   ]
  },
  {
   "cell_type": "code",
   "execution_count": 59,
   "metadata": {},
   "outputs": [],
   "source": [
    "model = Chain(Dense(19, 2*19, sigmoid), Dense(2*19, 2)) #define the model \n",
    "θ, re = Flux.destructure(model); \n",
    "Dimension = size(θ)[1]; #number of parameters"
   ]
  },
  {
   "cell_type": "code",
   "execution_count": 60,
   "metadata": {},
   "outputs": [],
   "source": [
    "pop = 1000 # number of food sources\n",
    "tryLimit = 5 # limit of the number of tries\n",
    "maxCycle = 500 # maximum number of cycles\n",
    "acc = 1 # acceleration constant\n",
    "\n",
    "lowerBound = -10 #lower bound of the variables\n",
    "upperBound = 10; #upper bound of the variables"
   ]
  },
  {
   "cell_type": "code",
   "execution_count": 61,
   "metadata": {},
   "outputs": [],
   "source": [
    "rng =Random.default_rng()\n",
    "\n",
    "globalWeights = [Vector{Float64}(undef,Dimension) for _ in 1:pop]; \n",
    "globalFoodSourceFitness = zeros(Float64, pop)\n",
    "globalfoodSourceCount = zeros(Float64, pop)\n",
    "\n",
    "preCal = upperBound-lowerBound;\n"
   ]
  },
  {
   "cell_type": "code",
   "execution_count": 62,
   "metadata": {},
   "outputs": [
    {
     "data": {
      "text/plain": [
       "initABC (generic function with 1 method)"
      ]
     },
     "execution_count": 62,
     "metadata": {},
     "output_type": "execute_result"
    }
   ],
   "source": [
    "function initABC()\n",
    "    for i in 1:pop\n",
    "        for j in 1:Dimension\n",
    "            temp = lowerBound + rand()*preCal\n",
    "            if temp < lowerBound\n",
    "                temp = lowerBound\n",
    "            elseif temp > upperBound\n",
    "                temp = upperBound\n",
    "            end\n",
    "            globalWeights[i][j] = temp\n",
    "        end\n",
    "        globalFoodSourceFitness[i] = calculateFitness(train_data, globalWeights[i])\n",
    "        globalfoodSourceCount[i] = 0\n",
    "    end\n",
    "end"
   ]
  },
  {
   "cell_type": "code",
   "execution_count": 63,
   "metadata": {},
   "outputs": [
    {
     "data": {
      "text/plain": [
       "FindNewFoodSource (generic function with 1 method)"
      ]
     },
     "execution_count": 63,
     "metadata": {},
     "output_type": "execute_result"
    }
   ],
   "source": [
    "function FindNewFoodSource(index)\n",
    "    j = index\n",
    "    while j == index\n",
    "        j = rand(1:pop)\n",
    "    end\n",
    "    newSource = zeros(Float64,Dimension)\n",
    "    for i in 1:Dimension\n",
    "        \n",
    "        temp = globalWeights[index][i] + acc*rand(Uniform(-1,1))*(globalWeights[index][i]-globalWeights[j][i])\n",
    "        if temp < lowerBound\n",
    "            temp = lowerBound;\n",
    "        elseif temp > upperBound\n",
    "            temp = upperBound;\n",
    "        end\n",
    "        newSource[i] = temp\n",
    "    end\n",
    "    updateFoodSource(index, newSource)\n",
    "end\n"
   ]
  },
  {
   "cell_type": "code",
   "execution_count": 64,
   "metadata": {},
   "outputs": [
    {
     "data": {
      "text/plain": [
       "updateFoodSource (generic function with 1 method)"
      ]
     },
     "execution_count": 64,
     "metadata": {},
     "output_type": "execute_result"
    }
   ],
   "source": [
    "function updateFoodSource(index, newSource)\n",
    "    localFitness = calculateFitness(train_data, newSource)\n",
    "    if localFitness > globalFoodSourceFitness[index]\n",
    "        globalFoodSourceFitness[index] = localFitness\n",
    "        globalWeights[index] = newSource\n",
    "        globalfoodSourceCount[index] = 0\n",
    "    else\n",
    "        globalfoodSourceCount[index] = globalfoodSourceCount[index]+1\n",
    "    end\n",
    "end\n"
   ]
  },
  {
   "cell_type": "code",
   "execution_count": 65,
   "metadata": {},
   "outputs": [],
   "source": [
    "# accuracy(model,x,y) = sum(onecold(model(x)) .== onecold(y))/size(x,2)\n",
    "# accuracy(xy, model) = mean( onecold(model(x)) .== onecold(y) for (x,y) in xy)\n",
    "\n",
    "# function calculateFitness1(newWeight)\n",
    "#     return accuracy(train_data, re(newWeight))\n",
    "# end"
   ]
  },
  {
   "cell_type": "code",
   "execution_count": 66,
   "metadata": {},
   "outputs": [
    {
     "data": {
      "text/plain": [
       "calculateFitness (generic function with 2 methods)"
      ]
     },
     "execution_count": 66,
     "metadata": {},
     "output_type": "execute_result"
    }
   ],
   "source": [
    "loss(model) = (x,y)->Flux.logitcrossentropy(model(x), y)\n",
    "loss(model,x,y) = loss(model)(x, y)\n",
    "loss(xy, model) = loss(model)(hcat(map(first,xy)...), hcat(map(last,xy)...))\n",
    "function calculateFitness(data, newWeight)\n",
    "    return 1/(1+loss(data, re(newWeight)))\n",
    "end"
   ]
  },
  {
   "cell_type": "code",
   "execution_count": 67,
   "metadata": {},
   "outputs": [
    {
     "data": {
      "text/plain": [
       "checkRetire (generic function with 1 method)"
      ]
     },
     "execution_count": 67,
     "metadata": {},
     "output_type": "execute_result"
    }
   ],
   "source": [
    "function checkRetire()\n",
    "    for i in 1:pop\n",
    "        if globalfoodSourceCount[i] > tryLimit\n",
    "            if i == getBest()\n",
    "                globalfoodSourceCount[i] = 0\n",
    "            else\n",
    "            FindNewFoodSource(i)\n",
    "            end\n",
    "        end\n",
    "    end\n",
    "end"
   ]
  },
  {
   "cell_type": "code",
   "execution_count": 68,
   "metadata": {},
   "outputs": [
    {
     "data": {
      "text/plain": [
       "rouletteWheelSelection (generic function with 1 method)"
      ]
     },
     "execution_count": 68,
     "metadata": {},
     "output_type": "execute_result"
    }
   ],
   "source": [
    "function rouletteWheelSelection()\n",
    "    fitnessSum = sum(globalFoodSourceFitness)\n",
    "    fitnessProb = globalFoodSourceFitness/fitnessSum\n",
    "    cumProb = cumsum(fitnessProb)\n",
    "    randNum = rand()\n",
    "    for i in 1:pop\n",
    "        if randNum <= cumProb[i]\n",
    "            return i\n",
    "        end\n",
    "    end\n",
    "end"
   ]
  },
  {
   "cell_type": "code",
   "execution_count": 69,
   "metadata": {},
   "outputs": [
    {
     "data": {
      "text/plain": [
       "getBest (generic function with 1 method)"
      ]
     },
     "execution_count": 69,
     "metadata": {},
     "output_type": "execute_result"
    }
   ],
   "source": [
    "function getBest()\n",
    "    return argmax(globalFoodSourceFitness)\n",
    "end"
   ]
  },
  {
   "cell_type": "code",
   "execution_count": 70,
   "metadata": {},
   "outputs": [
    {
     "data": {
      "text/plain": [
       "employedBeeFindNew (generic function with 1 method)"
      ]
     },
     "execution_count": 70,
     "metadata": {},
     "output_type": "execute_result"
    }
   ],
   "source": [
    "function employedBeeFindNew()\n",
    "    for i in 1:pop\n",
    "        FindNewFoodSource(i)\n",
    "    end\n",
    "end"
   ]
  },
  {
   "cell_type": "code",
   "execution_count": 71,
   "metadata": {},
   "outputs": [
    {
     "data": {
      "text/plain": [
       "onlookFindNew (generic function with 1 method)"
      ]
     },
     "execution_count": 71,
     "metadata": {},
     "output_type": "execute_result"
    }
   ],
   "source": [
    "function onlookFindNew()\n",
    "    for i in 1:pop\n",
    "        index = rouletteWheelSelection()\n",
    "        FindNewFoodSource(index)\n",
    "    end\n",
    "end"
   ]
  },
  {
   "cell_type": "code",
   "execution_count": 72,
   "metadata": {},
   "outputs": [
    {
     "data": {
      "text/plain": [
       "scoutBeeFindNew (generic function with 1 method)"
      ]
     },
     "execution_count": 72,
     "metadata": {},
     "output_type": "execute_result"
    }
   ],
   "source": [
    "function scoutBeeFindNew()\n",
    "    checkRetire()\n",
    "end"
   ]
  },
  {
   "cell_type": "code",
   "execution_count": 73,
   "metadata": {},
   "outputs": [
    {
     "data": {
      "text/plain": [
       "accuracy (generic function with 2 methods)"
      ]
     },
     "execution_count": 73,
     "metadata": {},
     "output_type": "execute_result"
    }
   ],
   "source": [
    "accuracy(model,x,y) = sum(onecold(model(x)) .== onecold(y))/size(x,2)\n",
    "accuracy(xy, model) = mean( onecold(model(x)) .== onecold(y) for (x,y) in xy)"
   ]
  },
  {
   "cell_type": "code",
   "execution_count": 74,
   "metadata": {},
   "outputs": [
    {
     "name": "stdout",
     "output_type": "stream",
     "text": [
      "Cycle: 1Best Fitness: 0.31537328640495876\n",
      "Cycle: 2Best Fitness: 0.39841080192742345\n",
      "Cycle: 3Best Fitness: 0.39841080192742345\n",
      "Cycle: 4Best Fitness: 0.39841080192742345\n",
      "Cycle: 5Best Fitness: 0.39841080192742345\n",
      "Cycle: 6Best Fitness: 0.39841080192742345\n",
      "Cycle: 7Best Fitness: 0.39841080192742345\n",
      "Cycle: 8Best Fitness: 0.39841080192742345\n",
      "Cycle: 9Best Fitness: 0.39841080192742345\n",
      "Cycle: 10Best Fitness: 0.39841080192742345\n",
      "Cycle: 11Best Fitness: 0.39841080192742345\n",
      "Cycle: 12Best Fitness: 0.4128763725789263\n",
      "Cycle: 13Best Fitness: 0.4128763725789263\n",
      "Cycle: 14Best Fitness: 0.42233623149951316\n",
      "Cycle: 15Best Fitness: 0.42233623149951316\n",
      "Cycle: 16Best Fitness: 0.42233623149951316\n",
      "Cycle: 17Best Fitness: 0.42233623149951316\n",
      "Cycle: 18Best Fitness: 0.42233623149951316\n",
      "Cycle: 19Best Fitness: 0.42233623149951316\n",
      "Cycle: 20Best Fitness: 0.4247971179211068\n",
      "Cycle: 21Best Fitness: 0.4247971179211068\n",
      "Cycle: 22Best Fitness: 0.4247971179211068\n",
      "Cycle: 23Best Fitness: 0.4247971179211068\n",
      "Cycle: 24Best Fitness: 0.4247971179211068\n",
      "Cycle: 25Best Fitness: 0.4247971179211068\n",
      "Cycle: 26Best Fitness: 0.4247971179211068\n",
      "Cycle: 27Best Fitness: 0.4247971179211068\n",
      "Cycle: 28Best Fitness: 0.4247971179211068\n",
      "Cycle: 29Best Fitness: 0.4247971179211068\n",
      "Cycle: 30Best Fitness: 0.4247971179211068\n",
      "Cycle: 31Best Fitness: 0.4247971179211068\n",
      "Cycle: 32Best Fitness: 0.4247971179211068\n",
      "Cycle: 33Best Fitness: 0.4247971179211068\n",
      "Cycle: 34Best Fitness: 0.4247971179211068\n",
      "Cycle: 35Best Fitness: 0.4247971179211068\n",
      "Cycle: 36Best Fitness: 0.4247971179211068\n",
      "Cycle: 37Best Fitness: 0.4247971179211068\n",
      "Cycle: 38Best Fitness: 0.4247971179211068\n",
      "Cycle: 39Best Fitness: 0.4247971179211068\n",
      "Cycle: 40Best Fitness: 0.4247971179211068\n",
      "Cycle: 41Best Fitness: 0.4247971179211068\n",
      "Cycle: 42Best Fitness: 0.4247971179211068\n",
      "Cycle: 43Best Fitness: 0.4247971179211068\n",
      "Cycle: 44Best Fitness: 0.4247971179211068\n",
      "Cycle: 45Best Fitness: 0.4247971179211068\n",
      "Cycle: 46Best Fitness: 0.4247971179211068\n",
      "Cycle: 47Best Fitness: 0.4247971179211068\n",
      "Cycle: 48Best Fitness: 0.4247971179211068\n",
      "Cycle: 49Best Fitness: 0.4247971179211068\n",
      "Cycle: 50Best Fitness: 0.4247971179211068\n",
      "Cycle: 51Best Fitness: 0.4247971179211068\n",
      "Cycle: 52Best Fitness: 0.4247971179211068\n",
      "Cycle: 53Best Fitness: 0.4247971179211068\n",
      "Cycle: 54Best Fitness: 0.4247971179211068\n",
      "Cycle: 55Best Fitness: 0.443546695623323\n",
      "Cycle: 56Best Fitness: 0.443546695623323\n",
      "Cycle: 57Best Fitness: 0.443546695623323\n",
      "Cycle: 58Best Fitness: 0.443546695623323\n",
      "Cycle: 59Best Fitness: 0.443546695623323\n",
      "Cycle: 60Best Fitness: 0.443546695623323\n",
      "Cycle: 61Best Fitness: 0.443546695623323\n",
      "Cycle: 62Best Fitness: 0.443546695623323\n",
      "Cycle: 63Best Fitness: 0.443546695623323\n",
      "Cycle: 64Best Fitness: 0.443546695623323\n",
      "Cycle: 65Best Fitness: 0.443546695623323\n",
      "Cycle: 66Best Fitness: 0.443546695623323\n",
      "Cycle: 67Best Fitness: 0.443546695623323\n",
      "Cycle: 68Best Fitness: 0.4512147622386837\n",
      "Cycle: 69Best Fitness: 0.4512147622386837\n",
      "Cycle: 70Best Fitness: 0.4512147622386837\n",
      "Cycle: 71Best Fitness: 0.4512147622386837\n",
      "Cycle: 72Best Fitness: 0.4512147622386837\n",
      "Cycle: 73Best Fitness: 0.4512147622386837\n",
      "Cycle: 74Best Fitness: 0.4512147622386837\n",
      "Cycle: 75Best Fitness: 0.4512147622386837\n",
      "Cycle: 76Best Fitness: 0.4512147622386837\n",
      "Cycle: 77Best Fitness: 0.4512147622386837\n",
      "Cycle: 78Best Fitness: 0.4512147622386837\n",
      "Cycle: 79Best Fitness: 0.4512147622386837\n",
      "Cycle: 80Best Fitness: 0.4512147622386837\n",
      "Cycle: 81Best Fitness: 0.4512147622386837\n",
      "Cycle: 82Best Fitness: 0.49526509522186507\n",
      "Cycle: 83Best Fitness: 0.49526509522186507\n",
      "Cycle: 84Best Fitness: 0.49526509522186507\n",
      "Cycle: 85Best Fitness: 0.49526509522186507\n",
      "Cycle: 86Best Fitness: 0.49526509522186507\n",
      "Cycle: 87Best Fitness: 0.49526509522186507\n",
      "Cycle: 88Best Fitness: 0.49526509522186507\n",
      "Cycle: 89Best Fitness: 0.49526509522186507\n",
      "Cycle: 90Best Fitness: 0.49526509522186507\n",
      "Cycle: 91Best Fitness: 0.49526509522186507\n",
      "Cycle: 92Best Fitness: 0.49526509522186507\n",
      "Cycle: 93Best Fitness: 0.49526509522186507\n",
      "Cycle: 94Best Fitness: 0.49526509522186507\n",
      "Cycle: 95Best Fitness: 0.49526509522186507\n",
      "Cycle: 96Best Fitness: 0.49526509522186507\n",
      "Cycle: 97Best Fitness: 0.49526509522186507\n",
      "Cycle: 98Best Fitness: 0.49526509522186507\n",
      "Cycle: 99Best Fitness: 0.49526509522186507\n",
      "Cycle: 100Best Fitness: 0.49526509522186507\n",
      "Cycle: 101Best Fitness: 0.49526509522186507\n",
      "Cycle: 102Best Fitness: 0.49526509522186507\n",
      "Cycle: 103Best Fitness: 0.49526509522186507\n",
      "Cycle: 104Best Fitness: 0.49526509522186507\n",
      "Cycle: 105Best Fitness: 0.49526509522186507\n",
      "Cycle: 106Best Fitness: 0.49526509522186507\n",
      "Cycle: 107Best Fitness: 0.49526509522186507\n",
      "Cycle: 108Best Fitness: 0.49526509522186507\n",
      "Cycle: 109Best Fitness: 0.49526509522186507\n",
      "Cycle: 110Best Fitness: 0.49526509522186507\n",
      "Cycle: 111Best Fitness: 0.49526509522186507\n",
      "Cycle: 112Best Fitness: 0.49526509522186507\n",
      "Cycle: 113Best Fitness: 0.49526509522186507\n",
      "Cycle: 114Best Fitness: 0.49526509522186507\n",
      "Cycle: 115Best Fitness: 0.49526509522186507\n",
      "Cycle: 116Best Fitness: 0.49526509522186507\n",
      "Cycle: 117Best Fitness: 0.49526509522186507\n",
      "Cycle: 118Best Fitness: 0.49526509522186507\n",
      "Cycle: 119Best Fitness: 0.49526509522186507\n",
      "Cycle: 120Best Fitness: 0.49526509522186507\n",
      "Cycle: 121Best Fitness: 0.49526509522186507\n",
      "Cycle: 122Best Fitness: 0.49526509522186507\n",
      "Cycle: 123Best Fitness: 0.49526509522186507\n",
      "Cycle: 124Best Fitness: 0.49526509522186507\n",
      "Cycle: 125Best Fitness: 0.49526509522186507\n",
      "Cycle: 126Best Fitness: 0.49526509522186507\n",
      "Cycle: 127Best Fitness: 0.49526509522186507\n",
      "Cycle: 128Best Fitness: 0.49526509522186507\n",
      "Cycle: 129Best Fitness: 0.49526509522186507\n",
      "Cycle: 130Best Fitness: 0.49526509522186507\n",
      "Cycle: 131Best Fitness: 0.49526509522186507\n",
      "Cycle: 132Best Fitness: 0.49526509522186507\n",
      "Cycle: 133Best Fitness: 0.49526509522186507\n",
      "Cycle: 134Best Fitness: 0.49526509522186507\n",
      "Cycle: 135Best Fitness: 0.49526509522186507\n",
      "Cycle: 136Best Fitness: 0.49526509522186507\n",
      "Cycle: 137Best Fitness: 0.49526509522186507\n",
      "Cycle: 138Best Fitness: 0.49526509522186507\n",
      "Cycle: 139Best Fitness: 0.49526509522186507\n",
      "Cycle: 140Best Fitness: 0.49526509522186507\n",
      "Cycle: 141Best Fitness: 0.49526509522186507\n",
      "Cycle: 142Best Fitness: 0.49526509522186507\n",
      "Cycle: 143Best Fitness: 0.49526509522186507\n",
      "Cycle: 144Best Fitness: 0.49526509522186507\n",
      "Cycle: 145Best Fitness: 0.49526509522186507\n",
      "Cycle: 146Best Fitness: 0.49526509522186507\n",
      "Cycle: 147Best Fitness: 0.49526509522186507\n",
      "Cycle: 148Best Fitness: 0.49526509522186507\n",
      "Cycle: 149Best Fitness: 0.49526509522186507\n",
      "Cycle: 150Best Fitness: 0.49526509522186507\n",
      "Cycle: 151Best Fitness: 0.49526509522186507\n",
      "Cycle: 152Best Fitness: 0.49526509522186507\n",
      "Cycle: 153Best Fitness: 0.49526509522186507\n",
      "Cycle: 154Best Fitness: 0.49526509522186507\n",
      "Cycle: 155Best Fitness: 0.49526509522186507\n",
      "Cycle: 156Best Fitness: 0.49526509522186507\n",
      "Cycle: 157Best Fitness: 0.49526509522186507\n",
      "Cycle: 158Best Fitness: 0.49526509522186507\n",
      "Cycle: 159Best Fitness: 0.49526509522186507\n",
      "Cycle: 160Best Fitness: 0.49526509522186507\n",
      "Cycle: 161Best Fitness: 0.49526509522186507\n",
      "Cycle: 162Best Fitness: 0.49526509522186507\n",
      "Cycle: 163Best Fitness: 0.49526509522186507\n",
      "Cycle: 164Best Fitness: 0.49526509522186507\n",
      "Cycle: 165Best Fitness: 0.49526509522186507\n",
      "Cycle: 166Best Fitness: 0.49526509522186507\n",
      "Cycle: 167Best Fitness: 0.49526509522186507\n",
      "Cycle: 168Best Fitness: 0.49526509522186507\n",
      "Cycle: 169Best Fitness: 0.49526509522186507\n",
      "Cycle: 170Best Fitness: 0.49526509522186507\n",
      "Cycle: 171Best Fitness: 0.49526509522186507\n",
      "Cycle: 172Best Fitness: 0.49526509522186507\n",
      "Cycle: 173Best Fitness: 0.49526509522186507\n",
      "Cycle: 174Best Fitness: 0.49526509522186507\n",
      "Cycle: 175Best Fitness: 0.49526509522186507\n",
      "Cycle: 176Best Fitness: 0.49526509522186507\n",
      "Cycle: 177Best Fitness: 0.49526509522186507\n",
      "Cycle: 178Best Fitness: 0.49526509522186507\n",
      "Cycle: 179Best Fitness: 0.5166548553399108\n",
      "Cycle: 180Best Fitness: 0.5166548553399108\n",
      "Cycle: 181Best Fitness: 0.5166548553399108\n",
      "Cycle: 182Best Fitness: 0.5166548553399108\n",
      "Cycle: 183Best Fitness: 0.5166548553399108\n",
      "Cycle: 184Best Fitness: 0.5166548553399108\n",
      "Cycle: 185Best Fitness: 0.5166548553399108\n",
      "Cycle: 186Best Fitness: 0.5166548553399108\n",
      "Cycle: 187Best Fitness: 0.5166548553399108\n",
      "Cycle: 188Best Fitness: 0.5166548553399108\n",
      "Cycle: 189Best Fitness: 0.5166548553399108\n",
      "Cycle: 190Best Fitness: 0.5166548553399108\n",
      "Cycle: 191Best Fitness: 0.5166548553399108\n",
      "Cycle: 192Best Fitness: 0.5166548553399108\n",
      "Cycle: 193Best Fitness: 0.5166548553399108\n",
      "Cycle: 194Best Fitness: 0.5166548553399108\n",
      "Cycle: 195Best Fitness: 0.5166548553399108\n",
      "Cycle: 196Best Fitness: 0.5166548553399108\n",
      "Cycle: 197Best Fitness: 0.5166548553399108\n",
      "Cycle: 198Best Fitness: 0.5166548553399108\n",
      "Cycle: 199Best Fitness: 0.5166548553399108\n",
      "Cycle: 200Best Fitness: 0.5166548553399108\n",
      "Cycle: 201Best Fitness: 0.5166548553399108\n",
      "Cycle: 202Best Fitness: 0.5166548553399108\n",
      "Cycle: 203Best Fitness: 0.5166548553399108\n",
      "Cycle: 204Best Fitness: 0.5166548553399108\n",
      "Cycle: 205Best Fitness: 0.5166548553399108\n",
      "Cycle: 206Best Fitness: 0.5166548553399108\n",
      "Cycle: 207Best Fitness: 0.5166548553399108\n",
      "Cycle: 208Best Fitness: 0.5166548553399108\n",
      "Cycle: 209Best Fitness: 0.5166548553399108\n",
      "Cycle: 210Best Fitness: 0.5166548553399108\n",
      "Cycle: 211Best Fitness: 0.5166548553399108\n",
      "Cycle: 212Best Fitness: 0.5166548553399108\n",
      "Cycle: 213Best Fitness: 0.5166548553399108\n",
      "Cycle: 214Best Fitness: 0.5166548553399108\n",
      "Cycle: 215Best Fitness: 0.5166548553399108\n",
      "Cycle: 216Best Fitness: 0.5166548553399108\n",
      "Cycle: 217Best Fitness: 0.5166548553399108\n",
      "Cycle: 218Best Fitness: 0.5166548553399108\n",
      "Cycle: 219Best Fitness: 0.5166548553399108\n",
      "Cycle: 220Best Fitness: 0.5166548553399108\n",
      "Cycle: 221Best Fitness: 0.5166548553399108\n",
      "Cycle: 222Best Fitness: 0.5166548553399108\n",
      "Cycle: 223Best Fitness: 0.5166548553399108\n",
      "Cycle: 224Best Fitness: 0.5166548553399108\n",
      "Cycle: 225Best Fitness: 0.5166548553399108\n",
      "Cycle: 226Best Fitness: 0.5166548553399108\n",
      "Cycle: 227Best Fitness: 0.5166548553399108\n",
      "Cycle: 228Best Fitness: 0.5166548553399108\n",
      "Cycle: 229Best Fitness: 0.5166548553399108\n",
      "Cycle: 230Best Fitness: 0.5166548553399108\n",
      "Cycle: 231Best Fitness: 0.5166548553399108\n",
      "Cycle: 232Best Fitness: 0.5166548553399108\n",
      "Cycle: 233Best Fitness: 0.5166548553399108\n",
      "Cycle: 234Best Fitness: 0.5166548553399108\n",
      "Cycle: 235Best Fitness: 0.5166548553399108\n",
      "Cycle: 236Best Fitness: 0.5166548553399108\n",
      "Cycle: 237Best Fitness: 0.5166548553399108\n",
      "Cycle: 238Best Fitness: 0.5166548553399108\n",
      "Cycle: 239Best Fitness: 0.5166548553399108\n",
      "Cycle: 240Best Fitness: 0.5166548553399108\n",
      "Cycle: 241Best Fitness: 0.5166548553399108\n",
      "Cycle: 242Best Fitness: 0.5166548553399108\n",
      "Cycle: 243Best Fitness: 0.5166548553399108\n",
      "Cycle: 244Best Fitness: 0.5166548553399108\n",
      "Cycle: 245Best Fitness: 0.5166548553399108\n",
      "Cycle: 246Best Fitness: 0.5166548553399108\n",
      "Cycle: 247Best Fitness: 0.5166548553399108\n",
      "Cycle: 248Best Fitness: 0.5166548553399108\n",
      "Cycle: 249Best Fitness: 0.5166548553399108\n",
      "Cycle: 250Best Fitness: 0.5166548553399108\n",
      "Cycle: 251Best Fitness: 0.5166548553399108\n",
      "Cycle: 252Best Fitness: 0.5166548553399108\n",
      "Cycle: 253Best Fitness: 0.5166548553399108\n",
      "Cycle: 254Best Fitness: 0.5166548553399108\n",
      "Cycle: 255Best Fitness: 0.5166548553399108\n",
      "Cycle: 256Best Fitness: 0.5166548553399108\n",
      "Cycle: 257Best Fitness: 0.5166548553399108\n",
      "Cycle: 258Best Fitness: 0.5166548553399108\n",
      "Cycle: 259Best Fitness: 0.5166548553399108\n",
      "Cycle: 260Best Fitness: 0.5166548553399108\n",
      "Cycle: 261Best Fitness: 0.5166548553399108\n",
      "Cycle: 262Best Fitness: 0.5166548553399108\n",
      "Cycle: 263Best Fitness: 0.5166548553399108\n",
      "Cycle: 264Best Fitness: 0.5166548553399108\n",
      "Cycle: 265Best Fitness: 0.5166548553399108\n",
      "Cycle: 266Best Fitness: 0.5166548553399108\n",
      "Cycle: 267Best Fitness: 0.5166548553399108\n",
      "Cycle: 268Best Fitness: 0.5166548553399108\n",
      "Cycle: 269Best Fitness: 0.5166548553399108\n",
      "Cycle: 270Best Fitness: 0.5166548553399108\n",
      "Cycle: 271Best Fitness: 0.5166548553399108\n",
      "Cycle: 272Best Fitness: 0.5166548553399108\n",
      "Cycle: 273Best Fitness: 0.5166548553399108\n",
      "Cycle: 274Best Fitness: 0.5166548553399108\n",
      "Cycle: 275Best Fitness: 0.5166548553399108\n",
      "Cycle: 276Best Fitness: 0.5166548553399108\n",
      "Cycle: 277Best Fitness: 0.5166548553399108\n",
      "Cycle: 278Best Fitness: 0.5166548553399108\n",
      "Cycle: 279Best Fitness: 0.5166548553399108\n",
      "Cycle: 280Best Fitness: 0.5166548553399108\n",
      "Cycle: 281Best Fitness: 0.5166548553399108\n",
      "Cycle: 282Best Fitness: 0.5166548553399108\n",
      "Cycle: 283Best Fitness: 0.5166548553399108\n",
      "Cycle: 284Best Fitness: 0.5166548553399108\n",
      "Cycle: 285Best Fitness: 0.5166548553399108\n",
      "Cycle: 286Best Fitness: 0.5166548553399108\n",
      "Cycle: 287Best Fitness: 0.5166548553399108\n",
      "Cycle: 288Best Fitness: 0.5166548553399108\n",
      "Cycle: 289Best Fitness: 0.5166548553399108\n",
      "Cycle: 290Best Fitness: 0.5166548553399108\n",
      "Cycle: 291Best Fitness: 0.5166548553399108\n",
      "Cycle: 292Best Fitness: 0.5166548553399108\n",
      "Cycle: 293Best Fitness: 0.5166548553399108\n",
      "Cycle: 294Best Fitness: 0.5166548553399108\n",
      "Cycle: 295Best Fitness: 0.5166548553399108\n",
      "Cycle: 296Best Fitness: 0.5166548553399108\n",
      "Cycle: 297Best Fitness: 0.5166548553399108\n",
      "Cycle: 298Best Fitness: 0.5166548553399108\n",
      "Cycle: 299Best Fitness: 0.5166548553399108\n",
      "Cycle: 300Best Fitness: 0.5166548553399108\n",
      "Cycle: 301Best Fitness: 0.5166548553399108\n",
      "Cycle: 302Best Fitness: 0.5166548553399108\n",
      "Cycle: 303Best Fitness: 0.5166548553399108\n",
      "Cycle: 304Best Fitness: 0.5166548553399108\n",
      "Cycle: 305Best Fitness: 0.5166548553399108\n",
      "Cycle: 306Best Fitness: 0.5166548553399108\n",
      "Cycle: 307Best Fitness: 0.5166548553399108\n",
      "Cycle: 308Best Fitness: 0.5166548553399108\n",
      "Cycle: 309Best Fitness: 0.5166548553399108\n",
      "Cycle: 310Best Fitness: 0.5166548553399108\n",
      "Cycle: 311Best Fitness: 0.5166548553399108\n",
      "Cycle: 312Best Fitness: 0.5166548553399108\n",
      "Cycle: 313Best Fitness: 0.5166548553399108\n",
      "Cycle: 314Best Fitness: 0.5166548553399108\n",
      "Cycle: 315Best Fitness: 0.5166548553399108\n",
      "Cycle: 316Best Fitness: 0.5166548553399108\n",
      "Cycle: 317Best Fitness: 0.5166548553399108\n",
      "Cycle: 318Best Fitness: 0.5166548553399108\n",
      "Cycle: 319Best Fitness: 0.5166548553399108\n",
      "Cycle: 320Best Fitness: 0.5166548553399108\n",
      "Cycle: 321Best Fitness: 0.5166548553399108\n",
      "Cycle: 322Best Fitness: 0.5166548553399108\n",
      "Cycle: 323Best Fitness: 0.5166548553399108\n",
      "Cycle: 324Best Fitness: 0.5166548553399108\n",
      "Cycle: 325Best Fitness: 0.5166548553399108\n",
      "Cycle: 326Best Fitness: 0.5166548553399108\n",
      "Cycle: 327Best Fitness: 0.5166548553399108\n",
      "Cycle: 328Best Fitness: 0.5166548553399108\n",
      "Cycle: 329Best Fitness: 0.5166548553399108\n",
      "Cycle: 330Best Fitness: 0.5166548553399108\n",
      "Cycle: 331Best Fitness: 0.5166548553399108\n",
      "Cycle: 332Best Fitness: 0.5166548553399108\n",
      "Cycle: 333Best Fitness: 0.5166548553399108\n",
      "Cycle: 334Best Fitness: 0.5166548553399108\n",
      "Cycle: 335Best Fitness: 0.5166548553399108\n",
      "Cycle: 336Best Fitness: 0.5166548553399108\n",
      "Cycle: 337Best Fitness: 0.5166548553399108\n",
      "Cycle: 338Best Fitness: 0.5166548553399108\n",
      "Cycle: 339Best Fitness: 0.5166548553399108\n",
      "Cycle: 340Best Fitness: 0.5166548553399108\n",
      "Cycle: 341Best Fitness: 0.5166548553399108\n",
      "Cycle: 342Best Fitness: 0.5166548553399108\n",
      "Cycle: 343Best Fitness: 0.5166548553399108\n",
      "Cycle: 344Best Fitness: 0.5166548553399108\n",
      "Cycle: 345Best Fitness: 0.5166548553399108\n",
      "Cycle: 346Best Fitness: 0.5166548553399108\n",
      "Cycle: 347Best Fitness: 0.5166548553399108\n",
      "Cycle: 348Best Fitness: 0.5166548553399108\n",
      "Cycle: 349Best Fitness: 0.5166548553399108\n",
      "Cycle: 350Best Fitness: 0.5166548553399108\n",
      "Cycle: 351Best Fitness: 0.5166548553399108\n",
      "Cycle: 352Best Fitness: 0.5166548553399108\n",
      "Cycle: 353Best Fitness: 0.5166548553399108\n",
      "Cycle: 354Best Fitness: 0.5166548553399108\n",
      "Cycle: 355Best Fitness: 0.5166548553399108\n",
      "Cycle: 356Best Fitness: 0.5166548553399108\n",
      "Cycle: 357Best Fitness: 0.5166548553399108\n",
      "Cycle: 358Best Fitness: 0.5166548553399108\n",
      "Cycle: 359Best Fitness: 0.5166548553399108\n",
      "Cycle: 360Best Fitness: 0.5166548553399108\n",
      "Cycle: 361Best Fitness: 0.5166548553399108\n",
      "Cycle: 362Best Fitness: 0.5166548553399108\n",
      "Cycle: 363Best Fitness: 0.5166548553399108\n",
      "Cycle: 364Best Fitness: 0.5166548553399108\n",
      "Cycle: 365Best Fitness: 0.5166548553399108\n",
      "Cycle: 366Best Fitness: 0.5166548553399108\n",
      "Cycle: 367Best Fitness: 0.5166548553399108\n",
      "Cycle: 368Best Fitness: 0.5166548553399108\n",
      "Cycle: 369Best Fitness: 0.5166548553399108\n",
      "Cycle: 370Best Fitness: 0.5166548553399108\n",
      "Cycle: 371Best Fitness: 0.5166548553399108\n",
      "Cycle: 372Best Fitness: 0.5166548553399108\n",
      "Cycle: 373Best Fitness: 0.5166548553399108\n",
      "Cycle: 374Best Fitness: 0.5166548553399108\n",
      "Cycle: 375Best Fitness: 0.5166548553399108\n",
      "Cycle: 376Best Fitness: 0.5166548553399108\n",
      "Cycle: 377Best Fitness: 0.5166548553399108\n",
      "Cycle: 378Best Fitness: 0.5166548553399108\n",
      "Cycle: 379Best Fitness: 0.5166548553399108\n",
      "Cycle: 380Best Fitness: 0.5166548553399108\n",
      "Cycle: 381Best Fitness: 0.5166548553399108\n",
      "Cycle: 382Best Fitness: 0.5166548553399108\n",
      "Cycle: 383Best Fitness: 0.5166548553399108\n",
      "Cycle: 384Best Fitness: 0.5166548553399108\n",
      "Cycle: 385Best Fitness: 0.5166548553399108\n",
      "Cycle: 386Best Fitness: 0.5166548553399108\n",
      "Cycle: 387Best Fitness: 0.5166548553399108\n",
      "Cycle: 388Best Fitness: 0.5166548553399108\n",
      "Cycle: 389Best Fitness: 0.5166548553399108\n",
      "Cycle: 390Best Fitness: 0.5166548553399108\n",
      "Cycle: 391Best Fitness: 0.5166548553399108\n",
      "Cycle: 392Best Fitness: 0.5166548553399108\n",
      "Cycle: 393Best Fitness: 0.5166548553399108\n",
      "Cycle: 394Best Fitness: 0.5166548553399108\n",
      "Cycle: 395Best Fitness: 0.5166548553399108\n",
      "Cycle: 396Best Fitness: 0.5166548553399108\n",
      "Cycle: 397Best Fitness: 0.5166548553399108\n",
      "Cycle: 398Best Fitness: 0.5166548553399108\n",
      "Cycle: 399Best Fitness: 0.5166548553399108\n",
      "Cycle: 400Best Fitness: 0.5166548553399108\n",
      "Cycle: 401Best Fitness: 0.5166548553399108\n",
      "Cycle: 402Best Fitness: 0.5166548553399108\n",
      "Cycle: 403Best Fitness: 0.5166548553399108\n",
      "Cycle: 404Best Fitness: 0.5166548553399108\n",
      "Cycle: 405Best Fitness: 0.5166548553399108\n",
      "Cycle: 406Best Fitness: 0.5166548553399108\n",
      "Cycle: 407Best Fitness: 0.5277447766718121\n",
      "Cycle: 408Best Fitness: 0.5277447766718121\n",
      "Cycle: 409Best Fitness: 0.5277447766718121\n",
      "Cycle: 410Best Fitness: 0.5277447766718121\n",
      "Cycle: 411Best Fitness: 0.5277447766718121\n",
      "Cycle: 412Best Fitness: 0.5277447766718121\n",
      "Cycle: 413Best Fitness: 0.5277447766718121\n",
      "Cycle: 414Best Fitness: 0.5277447766718121\n",
      "Cycle: 415Best Fitness: 0.5277447766718121\n",
      "Cycle: 416Best Fitness: 0.5277447766718121\n",
      "Cycle: 417Best Fitness: 0.5277447766718121\n",
      "Cycle: 418Best Fitness: 0.5277447766718121\n",
      "Cycle: 419Best Fitness: 0.5277447766718121\n",
      "Cycle: 420Best Fitness: 0.5277447766718121\n",
      "Cycle: 421Best Fitness: 0.5277447766718121\n",
      "Cycle: 422Best Fitness: 0.5277447766718121\n",
      "Cycle: 423Best Fitness: 0.5277447766718121\n",
      "Cycle: 424Best Fitness: 0.5277447766718121\n",
      "Cycle: 425Best Fitness: 0.5277447766718121\n",
      "Cycle: 426Best Fitness: 0.5277447766718121\n",
      "Cycle: 427Best Fitness: 0.5277447766718121\n",
      "Cycle: 428Best Fitness: 0.5277447766718121\n",
      "Cycle: 429Best Fitness: 0.5277447766718121\n",
      "Cycle: 430Best Fitness: 0.5277447766718121\n",
      "Cycle: 431Best Fitness: 0.5277447766718121\n",
      "Cycle: 432Best Fitness: 0.5277447766718121\n",
      "Cycle: 433Best Fitness: 0.5277447766718121\n",
      "Cycle: 434Best Fitness: 0.5277447766718121\n",
      "Cycle: 435Best Fitness: 0.5277447766718121\n",
      "Cycle: 436Best Fitness: 0.5277447766718121\n",
      "Cycle: 437Best Fitness: 0.5277447766718121\n",
      "Cycle: 438Best Fitness: 0.5277447766718121\n",
      "Cycle: 439Best Fitness: 0.5277447766718121\n",
      "Cycle: 440Best Fitness: 0.5277447766718121\n",
      "Cycle: 441Best Fitness: 0.5277447766718121\n",
      "Cycle: 442Best Fitness: 0.5277447766718121\n",
      "Cycle: 443Best Fitness: 0.5277447766718121\n",
      "Cycle: 444Best Fitness: 0.5277447766718121\n",
      "Cycle: 445Best Fitness: 0.5277447766718121\n",
      "Cycle: 446Best Fitness: 0.5277447766718121\n",
      "Cycle: 447Best Fitness: 0.5277447766718121\n",
      "Cycle: 448Best Fitness: 0.5277447766718121\n",
      "Cycle: 449Best Fitness: 0.5277447766718121\n",
      "Cycle: 450Best Fitness: 0.5277447766718121\n",
      "Cycle: 451Best Fitness: 0.5277447766718121\n",
      "Cycle: 452Best Fitness: 0.5277447766718121\n",
      "Cycle: 453Best Fitness: 0.5277447766718121\n",
      "Cycle: 454Best Fitness: 0.5277447766718121\n",
      "Cycle: 455Best Fitness: 0.5277447766718121\n",
      "Cycle: 456Best Fitness: 0.5277447766718121\n",
      "Cycle: 457Best Fitness: 0.5277447766718121\n",
      "Cycle: 458Best Fitness: 0.5277447766718121\n",
      "Cycle: 459Best Fitness: 0.5277447766718121\n",
      "Cycle: 460Best Fitness: 0.5277447766718121\n",
      "Cycle: 461Best Fitness: 0.5277447766718121\n",
      "Cycle: 462Best Fitness: 0.5277447766718121\n",
      "Cycle: 463Best Fitness: 0.5277447766718121\n",
      "Cycle: 464Best Fitness: 0.5277447766718121\n",
      "Cycle: 465Best Fitness: 0.5277447766718121\n",
      "Cycle: 466Best Fitness: 0.5277447766718121\n",
      "Cycle: 467Best Fitness: 0.5277447766718121\n",
      "Cycle: 468Best Fitness: 0.5277447766718121\n",
      "Cycle: 469Best Fitness: 0.5277447766718121\n",
      "Cycle: 470Best Fitness: 0.5277447766718121\n",
      "Cycle: 471Best Fitness: 0.5277447766718121\n",
      "Cycle: 472Best Fitness: 0.5277447766718121\n",
      "Cycle: 473Best Fitness: 0.5277447766718121\n",
      "Cycle: 474Best Fitness: 0.5277447766718121\n",
      "Cycle: 475Best Fitness: 0.5277447766718121\n",
      "Cycle: 476Best Fitness: 0.5277447766718121\n",
      "Cycle: 477Best Fitness: 0.5277447766718121\n",
      "Cycle: 478Best Fitness: 0.5277447766718121\n",
      "Cycle: 479Best Fitness: 0.5277447766718121\n",
      "Cycle: 480Best Fitness: 0.5277447766718121\n",
      "Cycle: 481Best Fitness: 0.5277447766718121\n",
      "Cycle: 482Best Fitness: 0.5277447766718121\n",
      "Cycle: 483Best Fitness: 0.5277447766718121\n",
      "Cycle: 484Best Fitness: 0.5277447766718121\n",
      "Cycle: 485Best Fitness: 0.5277447766718121\n",
      "Cycle: 486Best Fitness: 0.5277447766718121\n",
      "Cycle: 487Best Fitness: 0.5277447766718121\n",
      "Cycle: 488Best Fitness: 0.5277447766718121\n",
      "Cycle: 489Best Fitness: 0.5277447766718121\n",
      "Cycle: 490Best Fitness: 0.5277447766718121\n",
      "Cycle: 491Best Fitness: 0.5277447766718121\n",
      "Cycle: 492Best Fitness: 0.5277447766718121\n",
      "Cycle: 493Best Fitness: 0.5277447766718121\n",
      "Cycle: 494Best Fitness: 0.5277447766718121\n",
      "Cycle: 495Best Fitness: 0.5277447766718121\n",
      "Cycle: 496Best Fitness: 0.5277447766718121\n",
      "Cycle: 497Best Fitness: 0.5277447766718121\n",
      "Cycle: 498Best Fitness: 0.5277447766718121\n",
      "Cycle: 499Best Fitness: 0.5277447766718121\n",
      "Cycle: 500Best Fitness: 0.5277447766718121\n"
     ]
    }
   ],
   "source": [
    "save_resultTrain = zeros(maxCycle);\n",
    "save_resultTest = zeros(maxCycle);\n",
    "\n",
    "initABC()\n",
    "for i in 1:maxCycle\n",
    "    employedBeeFindNew()\n",
    "    onlookFindNew()\n",
    "    scoutBeeFindNew()\n",
    "    bestIndex = getBest()\n",
    "    print(\"Cycle: \", i, \"Best Fitness: \", globalFoodSourceFitness[bestIndex])\n",
    "    print(\"\\n\")\n",
    "    save_resultTest[i] = save_resultTest[i] + calculateFitness(test_data, (globalWeights[bestIndex]))\n",
    "    save_resultTrain[i] = save_resultTrain[i] + calculateFitness(train_data, (globalWeights[bestIndex]))\n",
    "end\n"
   ]
  },
  {
   "cell_type": "code",
   "execution_count": 75,
   "metadata": {},
   "outputs": [
    {
     "data": {
      "image/svg+xml": "<?xml version=\"1.0\" encoding=\"utf-8\"?>\n<svg xmlns=\"http://www.w3.org/2000/svg\" xmlns:xlink=\"http://www.w3.org/1999/xlink\" width=\"600\" height=\"400\" viewBox=\"0 0 2400 1600\">\n<defs>\n  <clipPath id=\"clip120\">\n    <rect x=\"0\" y=\"0\" width=\"2400\" height=\"1600\"/>\n  </clipPath>\n</defs>\n<path clip-path=\"url(#clip120)\" d=\"\nM0 1600 L2400 1600 L2400 0 L0 0  Z\n  \" fill=\"#ffffff\" fill-rule=\"evenodd\" fill-opacity=\"1\"/>\n<defs>\n  <clipPath id=\"clip121\">\n    <rect x=\"480\" y=\"0\" width=\"1681\" height=\"1600\"/>\n  </clipPath>\n</defs>\n<path clip-path=\"url(#clip120)\" d=\"\nM707.632 1486.45 L2352.76 1486.45 L2352.76 123.472 L707.632 123.472  Z\n  \" fill=\"#ffffff\" fill-rule=\"evenodd\" fill-opacity=\"1\"/>\n<defs>\n  <clipPath id=\"clip122\">\n    <rect x=\"707\" y=\"123\" width=\"1646\" height=\"1364\"/>\n  </clipPath>\n</defs>\n<polyline clip-path=\"url(#clip122)\" style=\"stroke:#000000; stroke-linecap:butt; stroke-linejoin:round; stroke-width:2; stroke-opacity:0.1; fill:none\" points=\"\n  751.082,1486.45 751.082,123.472 \n  \"/>\n<polyline clip-path=\"url(#clip122)\" style=\"stroke:#000000; stroke-linecap:butt; stroke-linejoin:round; stroke-width:2; stroke-opacity:0.1; fill:none\" points=\"\n  1062.11,1486.45 1062.11,123.472 \n  \"/>\n<polyline clip-path=\"url(#clip122)\" style=\"stroke:#000000; stroke-linecap:butt; stroke-linejoin:round; stroke-width:2; stroke-opacity:0.1; fill:none\" points=\"\n  1373.13,1486.45 1373.13,123.472 \n  \"/>\n<polyline clip-path=\"url(#clip122)\" style=\"stroke:#000000; stroke-linecap:butt; stroke-linejoin:round; stroke-width:2; stroke-opacity:0.1; fill:none\" points=\"\n  1684.15,1486.45 1684.15,123.472 \n  \"/>\n<polyline clip-path=\"url(#clip122)\" style=\"stroke:#000000; stroke-linecap:butt; stroke-linejoin:round; stroke-width:2; stroke-opacity:0.1; fill:none\" points=\"\n  1995.17,1486.45 1995.17,123.472 \n  \"/>\n<polyline clip-path=\"url(#clip122)\" style=\"stroke:#000000; stroke-linecap:butt; stroke-linejoin:round; stroke-width:2; stroke-opacity:0.1; fill:none\" points=\"\n  2306.2,1486.45 2306.2,123.472 \n  \"/>\n<polyline clip-path=\"url(#clip120)\" style=\"stroke:#000000; stroke-linecap:butt; stroke-linejoin:round; stroke-width:4; stroke-opacity:1; fill:none\" points=\"\n  707.632,1486.45 2352.76,1486.45 \n  \"/>\n<polyline clip-path=\"url(#clip120)\" style=\"stroke:#000000; stroke-linecap:butt; stroke-linejoin:round; stroke-width:4; stroke-opacity:1; fill:none\" points=\"\n  751.082,1486.45 751.082,1467.55 \n  \"/>\n<polyline clip-path=\"url(#clip120)\" style=\"stroke:#000000; stroke-linecap:butt; stroke-linejoin:round; stroke-width:4; stroke-opacity:1; fill:none\" points=\"\n  1062.11,1486.45 1062.11,1467.55 \n  \"/>\n<polyline clip-path=\"url(#clip120)\" style=\"stroke:#000000; stroke-linecap:butt; stroke-linejoin:round; stroke-width:4; stroke-opacity:1; fill:none\" points=\"\n  1373.13,1486.45 1373.13,1467.55 \n  \"/>\n<polyline clip-path=\"url(#clip120)\" style=\"stroke:#000000; stroke-linecap:butt; stroke-linejoin:round; stroke-width:4; stroke-opacity:1; fill:none\" points=\"\n  1684.15,1486.45 1684.15,1467.55 \n  \"/>\n<polyline clip-path=\"url(#clip120)\" style=\"stroke:#000000; stroke-linecap:butt; stroke-linejoin:round; stroke-width:4; stroke-opacity:1; fill:none\" points=\"\n  1995.17,1486.45 1995.17,1467.55 \n  \"/>\n<polyline clip-path=\"url(#clip120)\" style=\"stroke:#000000; stroke-linecap:butt; stroke-linejoin:round; stroke-width:4; stroke-opacity:1; fill:none\" points=\"\n  2306.2,1486.45 2306.2,1467.55 \n  \"/>\n<path clip-path=\"url(#clip120)\" d=\"M751.082 1517.37 Q747.471 1517.37 745.643 1520.93 Q743.837 1524.47 743.837 1531.6 Q743.837 1538.71 745.643 1542.27 Q747.471 1545.82 751.082 1545.82 Q754.717 1545.82 756.522 1542.27 Q758.351 1538.71 758.351 1531.6 Q758.351 1524.47 756.522 1520.93 Q754.717 1517.37 751.082 1517.37 M751.082 1513.66 Q756.892 1513.66 759.948 1518.27 Q763.027 1522.85 763.027 1531.6 Q763.027 1540.33 759.948 1544.94 Q756.892 1549.52 751.082 1549.52 Q745.272 1549.52 742.193 1544.94 Q739.138 1540.33 739.138 1531.6 Q739.138 1522.85 742.193 1518.27 Q745.272 1513.66 751.082 1513.66 Z\" fill=\"#000000\" fill-rule=\"evenodd\" fill-opacity=\"1\" /><path clip-path=\"url(#clip120)\" d=\"M1021.71 1544.91 L1029.35 1544.91 L1029.35 1518.55 L1021.04 1520.21 L1021.04 1515.95 L1029.3 1514.29 L1033.98 1514.29 L1033.98 1544.91 L1041.62 1544.91 L1041.62 1548.85 L1021.71 1548.85 L1021.71 1544.91 Z\" fill=\"#000000\" fill-rule=\"evenodd\" fill-opacity=\"1\" /><path clip-path=\"url(#clip120)\" d=\"M1061.06 1517.37 Q1057.45 1517.37 1055.62 1520.93 Q1053.82 1524.47 1053.82 1531.6 Q1053.82 1538.71 1055.62 1542.27 Q1057.45 1545.82 1061.06 1545.82 Q1064.7 1545.82 1066.5 1542.27 Q1068.33 1538.71 1068.33 1531.6 Q1068.33 1524.47 1066.5 1520.93 Q1064.7 1517.37 1061.06 1517.37 M1061.06 1513.66 Q1066.87 1513.66 1069.93 1518.27 Q1073.01 1522.85 1073.01 1531.6 Q1073.01 1540.33 1069.93 1544.94 Q1066.87 1549.52 1061.06 1549.52 Q1055.25 1549.52 1052.17 1544.94 Q1049.12 1540.33 1049.12 1531.6 Q1049.12 1522.85 1052.17 1518.27 Q1055.25 1513.66 1061.06 1513.66 Z\" fill=\"#000000\" fill-rule=\"evenodd\" fill-opacity=\"1\" /><path clip-path=\"url(#clip120)\" d=\"M1091.23 1517.37 Q1087.61 1517.37 1085.79 1520.93 Q1083.98 1524.47 1083.98 1531.6 Q1083.98 1538.71 1085.79 1542.27 Q1087.61 1545.82 1091.23 1545.82 Q1094.86 1545.82 1096.67 1542.27 Q1098.49 1538.71 1098.49 1531.6 Q1098.49 1524.47 1096.67 1520.93 Q1094.86 1517.37 1091.23 1517.37 M1091.23 1513.66 Q1097.04 1513.66 1100.09 1518.27 Q1103.17 1522.85 1103.17 1531.6 Q1103.17 1540.33 1100.09 1544.94 Q1097.04 1549.52 1091.23 1549.52 Q1085.42 1549.52 1082.34 1544.94 Q1079.28 1540.33 1079.28 1531.6 Q1079.28 1522.85 1082.34 1518.27 Q1085.42 1513.66 1091.23 1513.66 Z\" fill=\"#000000\" fill-rule=\"evenodd\" fill-opacity=\"1\" /><path clip-path=\"url(#clip120)\" d=\"M1336.82 1544.91 L1353.14 1544.91 L1353.14 1548.85 L1331.2 1548.85 L1331.2 1544.91 Q1333.86 1542.16 1338.44 1537.53 Q1343.05 1532.88 1344.23 1531.53 Q1346.47 1529.01 1347.35 1527.27 Q1348.26 1525.51 1348.26 1523.82 Q1348.26 1521.07 1346.31 1519.33 Q1344.39 1517.6 1341.29 1517.6 Q1339.09 1517.6 1336.63 1518.36 Q1334.2 1519.13 1331.43 1520.68 L1331.43 1515.95 Q1334.25 1514.82 1336.7 1514.24 Q1339.16 1513.66 1341.2 1513.66 Q1346.57 1513.66 1349.76 1516.35 Q1352.95 1519.03 1352.95 1523.52 Q1352.95 1525.65 1352.14 1527.57 Q1351.36 1529.47 1349.25 1532.07 Q1348.67 1532.74 1345.57 1535.95 Q1342.47 1539.15 1336.82 1544.91 Z\" fill=\"#000000\" fill-rule=\"evenodd\" fill-opacity=\"1\" /><path clip-path=\"url(#clip120)\" d=\"M1372.95 1517.37 Q1369.34 1517.37 1367.51 1520.93 Q1365.71 1524.47 1365.71 1531.6 Q1365.71 1538.71 1367.51 1542.27 Q1369.34 1545.82 1372.95 1545.82 Q1376.59 1545.82 1378.39 1542.27 Q1380.22 1538.71 1380.22 1531.6 Q1380.22 1524.47 1378.39 1520.93 Q1376.59 1517.37 1372.95 1517.37 M1372.95 1513.66 Q1378.76 1513.66 1381.82 1518.27 Q1384.9 1522.85 1384.9 1531.6 Q1384.9 1540.33 1381.82 1544.94 Q1378.76 1549.52 1372.95 1549.52 Q1367.14 1549.52 1364.07 1544.94 Q1361.01 1540.33 1361.01 1531.6 Q1361.01 1522.85 1364.07 1518.27 Q1367.14 1513.66 1372.95 1513.66 Z\" fill=\"#000000\" fill-rule=\"evenodd\" fill-opacity=\"1\" /><path clip-path=\"url(#clip120)\" d=\"M1403.12 1517.37 Q1399.5 1517.37 1397.68 1520.93 Q1395.87 1524.47 1395.87 1531.6 Q1395.87 1538.71 1397.68 1542.27 Q1399.5 1545.82 1403.12 1545.82 Q1406.75 1545.82 1408.56 1542.27 Q1410.38 1538.71 1410.38 1531.6 Q1410.38 1524.47 1408.56 1520.93 Q1406.75 1517.37 1403.12 1517.37 M1403.12 1513.66 Q1408.93 1513.66 1411.98 1518.27 Q1415.06 1522.85 1415.06 1531.6 Q1415.06 1540.33 1411.98 1544.94 Q1408.93 1549.52 1403.12 1549.52 Q1397.31 1549.52 1394.23 1544.94 Q1391.17 1540.33 1391.17 1531.6 Q1391.17 1522.85 1394.23 1518.27 Q1397.31 1513.66 1403.12 1513.66 Z\" fill=\"#000000\" fill-rule=\"evenodd\" fill-opacity=\"1\" /><path clip-path=\"url(#clip120)\" d=\"M1657.91 1530.21 Q1661.27 1530.93 1663.14 1533.2 Q1665.04 1535.47 1665.04 1538.8 Q1665.04 1543.92 1661.52 1546.72 Q1658 1549.52 1651.52 1549.52 Q1649.35 1549.52 1647.03 1549.08 Q1644.74 1548.66 1642.29 1547.81 L1642.29 1543.29 Q1644.23 1544.43 1646.55 1545.01 Q1648.86 1545.58 1651.38 1545.58 Q1655.78 1545.58 1658.07 1543.85 Q1660.39 1542.11 1660.39 1538.8 Q1660.39 1535.75 1658.24 1534.03 Q1656.11 1532.3 1652.29 1532.3 L1648.26 1532.3 L1648.26 1528.45 L1652.47 1528.45 Q1655.92 1528.45 1657.75 1527.09 Q1659.58 1525.7 1659.58 1523.11 Q1659.58 1520.45 1657.68 1519.03 Q1655.81 1517.6 1652.29 1517.6 Q1650.37 1517.6 1648.17 1518.01 Q1645.97 1518.43 1643.33 1519.31 L1643.33 1515.14 Q1645.99 1514.4 1648.31 1514.03 Q1650.64 1513.66 1652.7 1513.66 Q1658.03 1513.66 1661.13 1516.09 Q1664.23 1518.5 1664.23 1522.62 Q1664.23 1525.49 1662.59 1527.48 Q1660.94 1529.45 1657.91 1530.21 Z\" fill=\"#000000\" fill-rule=\"evenodd\" fill-opacity=\"1\" /><path clip-path=\"url(#clip120)\" d=\"M1683.91 1517.37 Q1680.3 1517.37 1678.47 1520.93 Q1676.66 1524.47 1676.66 1531.6 Q1676.66 1538.71 1678.47 1542.27 Q1680.3 1545.82 1683.91 1545.82 Q1687.54 1545.82 1689.35 1542.27 Q1691.18 1538.71 1691.18 1531.6 Q1691.18 1524.47 1689.35 1520.93 Q1687.54 1517.37 1683.91 1517.37 M1683.91 1513.66 Q1689.72 1513.66 1692.77 1518.27 Q1695.85 1522.85 1695.85 1531.6 Q1695.85 1540.33 1692.77 1544.94 Q1689.72 1549.52 1683.91 1549.52 Q1678.1 1549.52 1675.02 1544.94 Q1671.96 1540.33 1671.96 1531.6 Q1671.96 1522.85 1675.02 1518.27 Q1678.1 1513.66 1683.91 1513.66 Z\" fill=\"#000000\" fill-rule=\"evenodd\" fill-opacity=\"1\" /><path clip-path=\"url(#clip120)\" d=\"M1714.07 1517.37 Q1710.46 1517.37 1708.63 1520.93 Q1706.82 1524.47 1706.82 1531.6 Q1706.82 1538.71 1708.63 1542.27 Q1710.46 1545.82 1714.07 1545.82 Q1717.7 1545.82 1719.51 1542.27 Q1721.34 1538.71 1721.34 1531.6 Q1721.34 1524.47 1719.51 1520.93 Q1717.7 1517.37 1714.07 1517.37 M1714.07 1513.66 Q1719.88 1513.66 1722.93 1518.27 Q1726.01 1522.85 1726.01 1531.6 Q1726.01 1540.33 1722.93 1544.94 Q1719.88 1549.52 1714.07 1549.52 Q1708.26 1549.52 1705.18 1544.94 Q1702.12 1540.33 1702.12 1531.6 Q1702.12 1522.85 1705.18 1518.27 Q1708.26 1513.66 1714.07 1513.66 Z\" fill=\"#000000\" fill-rule=\"evenodd\" fill-opacity=\"1\" /><path clip-path=\"url(#clip120)\" d=\"M1968.26 1518.36 L1956.46 1536.81 L1968.26 1536.81 L1968.26 1518.36 M1967.04 1514.29 L1972.92 1514.29 L1972.92 1536.81 L1977.85 1536.81 L1977.85 1540.7 L1972.92 1540.7 L1972.92 1548.85 L1968.26 1548.85 L1968.26 1540.7 L1952.66 1540.7 L1952.66 1536.19 L1967.04 1514.29 Z\" fill=\"#000000\" fill-rule=\"evenodd\" fill-opacity=\"1\" /><path clip-path=\"url(#clip120)\" d=\"M1995.58 1517.37 Q1991.97 1517.37 1990.14 1520.93 Q1988.33 1524.47 1988.33 1531.6 Q1988.33 1538.71 1990.14 1542.27 Q1991.97 1545.82 1995.58 1545.82 Q1999.21 1545.82 2001.02 1542.27 Q2002.85 1538.71 2002.85 1531.6 Q2002.85 1524.47 2001.02 1520.93 Q1999.21 1517.37 1995.58 1517.37 M1995.58 1513.66 Q2001.39 1513.66 2004.44 1518.27 Q2007.52 1522.85 2007.52 1531.6 Q2007.52 1540.33 2004.44 1544.94 Q2001.39 1549.52 1995.58 1549.52 Q1989.77 1549.52 1986.69 1544.94 Q1983.63 1540.33 1983.63 1531.6 Q1983.63 1522.85 1986.69 1518.27 Q1989.77 1513.66 1995.58 1513.66 Z\" fill=\"#000000\" fill-rule=\"evenodd\" fill-opacity=\"1\" /><path clip-path=\"url(#clip120)\" d=\"M2025.74 1517.37 Q2022.13 1517.37 2020.3 1520.93 Q2018.49 1524.47 2018.49 1531.6 Q2018.49 1538.71 2020.3 1542.27 Q2022.13 1545.82 2025.74 1545.82 Q2029.37 1545.82 2031.18 1542.27 Q2033.01 1538.71 2033.01 1531.6 Q2033.01 1524.47 2031.18 1520.93 Q2029.37 1517.37 2025.74 1517.37 M2025.74 1513.66 Q2031.55 1513.66 2034.61 1518.27 Q2037.68 1522.85 2037.68 1531.6 Q2037.68 1540.33 2034.61 1544.94 Q2031.55 1549.52 2025.74 1549.52 Q2019.93 1549.52 2016.85 1544.94 Q2013.8 1540.33 2013.8 1531.6 Q2013.8 1522.85 2016.85 1518.27 Q2019.93 1513.66 2025.74 1513.66 Z\" fill=\"#000000\" fill-rule=\"evenodd\" fill-opacity=\"1\" /><path clip-path=\"url(#clip120)\" d=\"M2265.81 1514.29 L2284.17 1514.29 L2284.17 1518.22 L2270.1 1518.22 L2270.1 1526.7 Q2271.11 1526.35 2272.13 1526.19 Q2273.15 1526 2274.17 1526 Q2279.96 1526 2283.34 1529.17 Q2286.72 1532.34 2286.72 1537.76 Q2286.72 1543.34 2283.24 1546.44 Q2279.77 1549.52 2273.45 1549.52 Q2271.28 1549.52 2269.01 1549.15 Q2266.76 1548.78 2264.36 1548.04 L2264.36 1543.34 Q2266.44 1544.47 2268.66 1545.03 Q2270.88 1545.58 2273.36 1545.58 Q2277.36 1545.58 2279.7 1543.48 Q2282.04 1541.37 2282.04 1537.76 Q2282.04 1534.15 2279.7 1532.04 Q2277.36 1529.94 2273.36 1529.94 Q2271.49 1529.94 2269.61 1530.35 Q2267.76 1530.77 2265.81 1531.65 L2265.81 1514.29 Z\" fill=\"#000000\" fill-rule=\"evenodd\" fill-opacity=\"1\" /><path clip-path=\"url(#clip120)\" d=\"M2305.93 1517.37 Q2302.32 1517.37 2300.49 1520.93 Q2298.68 1524.47 2298.68 1531.6 Q2298.68 1538.71 2300.49 1542.27 Q2302.32 1545.82 2305.93 1545.82 Q2309.56 1545.82 2311.37 1542.27 Q2313.2 1538.71 2313.2 1531.6 Q2313.2 1524.47 2311.37 1520.93 Q2309.56 1517.37 2305.93 1517.37 M2305.93 1513.66 Q2311.74 1513.66 2314.8 1518.27 Q2317.87 1522.85 2317.87 1531.6 Q2317.87 1540.33 2314.8 1544.94 Q2311.74 1549.52 2305.93 1549.52 Q2300.12 1549.52 2297.04 1544.94 Q2293.99 1540.33 2293.99 1531.6 Q2293.99 1522.85 2297.04 1518.27 Q2300.12 1513.66 2305.93 1513.66 Z\" fill=\"#000000\" fill-rule=\"evenodd\" fill-opacity=\"1\" /><path clip-path=\"url(#clip120)\" d=\"M2336.09 1517.37 Q2332.48 1517.37 2330.65 1520.93 Q2328.85 1524.47 2328.85 1531.6 Q2328.85 1538.71 2330.65 1542.27 Q2332.48 1545.82 2336.09 1545.82 Q2339.73 1545.82 2341.53 1542.27 Q2343.36 1538.71 2343.36 1531.6 Q2343.36 1524.47 2341.53 1520.93 Q2339.73 1517.37 2336.09 1517.37 M2336.09 1513.66 Q2341.9 1513.66 2344.96 1518.27 Q2348.04 1522.85 2348.04 1531.6 Q2348.04 1540.33 2344.96 1544.94 Q2341.9 1549.52 2336.09 1549.52 Q2330.28 1549.52 2327.2 1544.94 Q2324.15 1540.33 2324.15 1531.6 Q2324.15 1522.85 2327.2 1518.27 Q2330.28 1513.66 2336.09 1513.66 Z\" fill=\"#000000\" fill-rule=\"evenodd\" fill-opacity=\"1\" /><polyline clip-path=\"url(#clip122)\" style=\"stroke:#000000; stroke-linecap:butt; stroke-linejoin:round; stroke-width:2; stroke-opacity:0.1; fill:none\" points=\"\n  707.632,1218.5 2352.76,1218.5 \n  \"/>\n<polyline clip-path=\"url(#clip122)\" style=\"stroke:#000000; stroke-linecap:butt; stroke-linejoin:round; stroke-width:2; stroke-opacity:0.1; fill:none\" points=\"\n  707.632,921.319 2352.76,921.319 \n  \"/>\n<polyline clip-path=\"url(#clip122)\" style=\"stroke:#000000; stroke-linecap:butt; stroke-linejoin:round; stroke-width:2; stroke-opacity:0.1; fill:none\" points=\"\n  707.632,624.136 2352.76,624.136 \n  \"/>\n<polyline clip-path=\"url(#clip122)\" style=\"stroke:#000000; stroke-linecap:butt; stroke-linejoin:round; stroke-width:2; stroke-opacity:0.1; fill:none\" points=\"\n  707.632,326.952 2352.76,326.952 \n  \"/>\n<polyline clip-path=\"url(#clip120)\" style=\"stroke:#000000; stroke-linecap:butt; stroke-linejoin:round; stroke-width:4; stroke-opacity:1; fill:none\" points=\"\n  707.632,1486.45 707.632,123.472 \n  \"/>\n<polyline clip-path=\"url(#clip120)\" style=\"stroke:#000000; stroke-linecap:butt; stroke-linejoin:round; stroke-width:4; stroke-opacity:1; fill:none\" points=\"\n  707.632,1218.5 721.982,1218.5 \n  \"/>\n<polyline clip-path=\"url(#clip120)\" style=\"stroke:#000000; stroke-linecap:butt; stroke-linejoin:round; stroke-width:4; stroke-opacity:1; fill:none\" points=\"\n  707.632,921.319 721.982,921.319 \n  \"/>\n<polyline clip-path=\"url(#clip120)\" style=\"stroke:#000000; stroke-linecap:butt; stroke-linejoin:round; stroke-width:4; stroke-opacity:1; fill:none\" points=\"\n  707.632,624.136 721.982,624.136 \n  \"/>\n<polyline clip-path=\"url(#clip120)\" style=\"stroke:#000000; stroke-linecap:butt; stroke-linejoin:round; stroke-width:4; stroke-opacity:1; fill:none\" points=\"\n  707.632,326.952 721.982,326.952 \n  \"/>\n<path clip-path=\"url(#clip120)\" d=\"M585.29 1204.3 Q581.679 1204.3 579.851 1207.87 Q578.045 1211.41 578.045 1218.54 Q578.045 1225.64 579.851 1229.21 Q581.679 1232.75 585.29 1232.75 Q588.925 1232.75 590.73 1229.21 Q592.559 1225.64 592.559 1218.54 Q592.559 1211.41 590.73 1207.87 Q588.925 1204.3 585.29 1204.3 M585.29 1200.6 Q591.1 1200.6 594.156 1205.2 Q597.235 1209.79 597.235 1218.54 Q597.235 1227.26 594.156 1231.87 Q591.1 1236.45 585.29 1236.45 Q579.48 1236.45 576.401 1231.87 Q573.346 1227.26 573.346 1218.54 Q573.346 1209.79 576.401 1205.2 Q579.48 1200.6 585.29 1200.6 Z\" fill=\"#000000\" fill-rule=\"evenodd\" fill-opacity=\"1\" /><path clip-path=\"url(#clip120)\" d=\"M605.452 1229.9 L610.336 1229.9 L610.336 1235.78 L605.452 1235.78 L605.452 1229.9 Z\" fill=\"#000000\" fill-rule=\"evenodd\" fill-opacity=\"1\" /><path clip-path=\"url(#clip120)\" d=\"M634.688 1217.15 Q638.045 1217.87 639.92 1220.13 Q641.818 1222.4 641.818 1225.74 Q641.818 1230.85 638.299 1233.65 Q634.781 1236.45 628.299 1236.45 Q626.123 1236.45 623.809 1236.01 Q621.517 1235.6 619.063 1234.74 L619.063 1230.23 Q621.008 1231.36 623.323 1231.94 Q625.637 1232.52 628.16 1232.52 Q632.559 1232.52 634.85 1230.78 Q637.165 1229.05 637.165 1225.74 Q637.165 1222.68 635.012 1220.97 Q632.883 1219.23 629.063 1219.23 L625.035 1219.23 L625.035 1215.39 L629.248 1215.39 Q632.697 1215.39 634.526 1214.02 Q636.355 1212.63 636.355 1210.04 Q636.355 1207.38 634.457 1205.97 Q632.582 1204.53 629.063 1204.53 Q627.142 1204.53 624.943 1204.95 Q622.744 1205.37 620.105 1206.24 L620.105 1202.08 Q622.767 1201.34 625.082 1200.97 Q627.42 1200.6 629.48 1200.6 Q634.804 1200.6 637.906 1203.03 Q641.008 1205.43 641.008 1209.55 Q641.008 1212.43 639.364 1214.42 Q637.721 1216.38 634.688 1217.15 Z\" fill=\"#000000\" fill-rule=\"evenodd\" fill-opacity=\"1\" /><path clip-path=\"url(#clip120)\" d=\"M650.73 1201.22 L669.086 1201.22 L669.086 1205.16 L655.012 1205.16 L655.012 1213.63 Q656.031 1213.28 657.049 1213.12 Q658.068 1212.93 659.086 1212.93 Q664.873 1212.93 668.253 1216.11 Q671.632 1219.28 671.632 1224.69 Q671.632 1230.27 668.16 1233.37 Q664.688 1236.45 658.369 1236.45 Q656.193 1236.45 653.924 1236.08 Q651.679 1235.71 649.271 1234.97 L649.271 1230.27 Q651.355 1231.41 653.577 1231.96 Q655.799 1232.52 658.276 1232.52 Q662.281 1232.52 664.619 1230.41 Q666.957 1228.3 666.957 1224.69 Q666.957 1221.08 664.619 1218.98 Q662.281 1216.87 658.276 1216.87 Q656.401 1216.87 654.526 1217.29 Q652.674 1217.7 650.73 1218.58 L650.73 1201.22 Z\" fill=\"#000000\" fill-rule=\"evenodd\" fill-opacity=\"1\" /><path clip-path=\"url(#clip120)\" d=\"M584.295 907.117 Q580.684 907.117 578.855 910.682 Q577.05 914.224 577.05 921.353 Q577.05 928.46 578.855 932.025 Q580.684 935.566 584.295 935.566 Q587.929 935.566 589.735 932.025 Q591.563 928.46 591.563 921.353 Q591.563 914.224 589.735 910.682 Q587.929 907.117 584.295 907.117 M584.295 903.414 Q590.105 903.414 593.161 908.02 Q596.239 912.603 596.239 921.353 Q596.239 930.08 593.161 934.687 Q590.105 939.27 584.295 939.27 Q578.485 939.27 575.406 934.687 Q572.351 930.08 572.351 921.353 Q572.351 912.603 575.406 908.02 Q578.485 903.414 584.295 903.414 Z\" fill=\"#000000\" fill-rule=\"evenodd\" fill-opacity=\"1\" /><path clip-path=\"url(#clip120)\" d=\"M604.457 932.719 L609.341 932.719 L609.341 938.599 L604.457 938.599 L604.457 932.719 Z\" fill=\"#000000\" fill-rule=\"evenodd\" fill-opacity=\"1\" /><path clip-path=\"url(#clip120)\" d=\"M632.373 908.113 L620.568 926.562 L632.373 926.562 L632.373 908.113 M631.147 904.039 L637.026 904.039 L637.026 926.562 L641.957 926.562 L641.957 930.451 L637.026 930.451 L637.026 938.599 L632.373 938.599 L632.373 930.451 L616.772 930.451 L616.772 925.937 L631.147 904.039 Z\" fill=\"#000000\" fill-rule=\"evenodd\" fill-opacity=\"1\" /><path clip-path=\"url(#clip120)\" d=\"M659.688 907.117 Q656.077 907.117 654.248 910.682 Q652.443 914.224 652.443 921.353 Q652.443 928.46 654.248 932.025 Q656.077 935.566 659.688 935.566 Q663.322 935.566 665.128 932.025 Q666.957 928.46 666.957 921.353 Q666.957 914.224 665.128 910.682 Q663.322 907.117 659.688 907.117 M659.688 903.414 Q665.498 903.414 668.554 908.02 Q671.632 912.603 671.632 921.353 Q671.632 930.08 668.554 934.687 Q665.498 939.27 659.688 939.27 Q653.878 939.27 650.799 934.687 Q647.744 930.08 647.744 921.353 Q647.744 912.603 650.799 908.02 Q653.878 903.414 659.688 903.414 Z\" fill=\"#000000\" fill-rule=\"evenodd\" fill-opacity=\"1\" /><path clip-path=\"url(#clip120)\" d=\"M585.29 609.934 Q581.679 609.934 579.851 613.499 Q578.045 617.041 578.045 624.17 Q578.045 631.277 579.851 634.842 Q581.679 638.383 585.29 638.383 Q588.925 638.383 590.73 634.842 Q592.559 631.277 592.559 624.17 Q592.559 617.041 590.73 613.499 Q588.925 609.934 585.29 609.934 M585.29 606.231 Q591.1 606.231 594.156 610.837 Q597.235 615.42 597.235 624.17 Q597.235 632.897 594.156 637.504 Q591.1 642.087 585.29 642.087 Q579.48 642.087 576.401 637.504 Q573.346 632.897 573.346 624.17 Q573.346 615.42 576.401 610.837 Q579.48 606.231 585.29 606.231 Z\" fill=\"#000000\" fill-rule=\"evenodd\" fill-opacity=\"1\" /><path clip-path=\"url(#clip120)\" d=\"M605.452 635.536 L610.336 635.536 L610.336 641.416 L605.452 641.416 L605.452 635.536 Z\" fill=\"#000000\" fill-rule=\"evenodd\" fill-opacity=\"1\" /><path clip-path=\"url(#clip120)\" d=\"M633.369 610.93 L621.563 629.379 L633.369 629.379 L633.369 610.93 M632.142 606.856 L638.022 606.856 L638.022 629.379 L642.952 629.379 L642.952 633.267 L638.022 633.267 L638.022 641.416 L633.369 641.416 L633.369 633.267 L617.767 633.267 L617.767 628.754 L632.142 606.856 Z\" fill=\"#000000\" fill-rule=\"evenodd\" fill-opacity=\"1\" /><path clip-path=\"url(#clip120)\" d=\"M650.73 606.856 L669.086 606.856 L669.086 610.791 L655.012 610.791 L655.012 619.263 Q656.031 618.916 657.049 618.754 Q658.068 618.568 659.086 618.568 Q664.873 618.568 668.253 621.74 Q671.632 624.911 671.632 630.328 Q671.632 635.906 668.16 639.008 Q664.688 642.087 658.369 642.087 Q656.193 642.087 653.924 641.716 Q651.679 641.346 649.271 640.605 L649.271 635.906 Q651.355 637.041 653.577 637.596 Q655.799 638.152 658.276 638.152 Q662.281 638.152 664.619 636.045 Q666.957 633.939 666.957 630.328 Q666.957 626.717 664.619 624.61 Q662.281 622.504 658.276 622.504 Q656.401 622.504 654.526 622.92 Q652.674 623.337 650.73 624.217 L650.73 606.856 Z\" fill=\"#000000\" fill-rule=\"evenodd\" fill-opacity=\"1\" /><path clip-path=\"url(#clip120)\" d=\"M584.295 312.751 Q580.684 312.751 578.855 316.316 Q577.05 319.858 577.05 326.987 Q577.05 334.094 578.855 337.658 Q580.684 341.2 584.295 341.2 Q587.929 341.2 589.735 337.658 Q591.563 334.094 591.563 326.987 Q591.563 319.858 589.735 316.316 Q587.929 312.751 584.295 312.751 M584.295 309.047 Q590.105 309.047 593.161 313.654 Q596.239 318.237 596.239 326.987 Q596.239 335.714 593.161 340.32 Q590.105 344.904 584.295 344.904 Q578.485 344.904 575.406 340.32 Q572.351 335.714 572.351 326.987 Q572.351 318.237 575.406 313.654 Q578.485 309.047 584.295 309.047 Z\" fill=\"#000000\" fill-rule=\"evenodd\" fill-opacity=\"1\" /><path clip-path=\"url(#clip120)\" d=\"M604.457 338.353 L609.341 338.353 L609.341 344.232 L604.457 344.232 L604.457 338.353 Z\" fill=\"#000000\" fill-rule=\"evenodd\" fill-opacity=\"1\" /><path clip-path=\"url(#clip120)\" d=\"M619.573 309.672 L637.929 309.672 L637.929 313.608 L623.855 313.608 L623.855 322.08 Q624.873 321.733 625.892 321.571 Q626.91 321.385 627.929 321.385 Q633.716 321.385 637.096 324.557 Q640.475 327.728 640.475 333.145 Q640.475 338.723 637.003 341.825 Q633.531 344.904 627.211 344.904 Q625.035 344.904 622.767 344.533 Q620.522 344.163 618.114 343.422 L618.114 338.723 Q620.198 339.857 622.42 340.413 Q624.642 340.969 627.119 340.969 Q631.123 340.969 633.461 338.862 Q635.799 336.756 635.799 333.145 Q635.799 329.533 633.461 327.427 Q631.123 325.321 627.119 325.321 Q625.244 325.321 623.369 325.737 Q621.517 326.154 619.573 327.033 L619.573 309.672 Z\" fill=\"#000000\" fill-rule=\"evenodd\" fill-opacity=\"1\" /><path clip-path=\"url(#clip120)\" d=\"M659.688 312.751 Q656.077 312.751 654.248 316.316 Q652.443 319.858 652.443 326.987 Q652.443 334.094 654.248 337.658 Q656.077 341.2 659.688 341.2 Q663.322 341.2 665.128 337.658 Q666.957 334.094 666.957 326.987 Q666.957 319.858 665.128 316.316 Q663.322 312.751 659.688 312.751 M659.688 309.047 Q665.498 309.047 668.554 313.654 Q671.632 318.237 671.632 326.987 Q671.632 335.714 668.554 340.32 Q665.498 344.904 659.688 344.904 Q653.878 344.904 650.799 340.32 Q647.744 335.714 647.744 326.987 Q647.744 318.237 650.799 313.654 Q653.878 309.047 659.688 309.047 Z\" fill=\"#000000\" fill-rule=\"evenodd\" fill-opacity=\"1\" /><path clip-path=\"url(#clip120)\" d=\"M1370.08 20.1573 L1358.98 50.2555 L1381.22 50.2555 L1370.08 20.1573 M1365.46 12.096 L1374.74 12.096 L1397.79 72.576 L1389.28 72.576 L1383.77 57.061 L1356.51 57.061 L1351 72.576 L1342.37 72.576 L1365.46 12.096 Z\" fill=\"#000000\" fill-rule=\"evenodd\" fill-opacity=\"1\" /><path clip-path=\"url(#clip120)\" d=\"M1437.49 28.9478 L1437.49 35.9153 Q1434.33 34.1734 1431.13 33.3227 Q1427.97 32.4315 1424.73 32.4315 Q1417.48 32.4315 1413.47 37.0496 Q1409.46 41.6271 1409.46 49.9314 Q1409.46 58.2358 1413.47 62.8538 Q1417.48 67.4314 1424.73 67.4314 Q1427.97 67.4314 1431.13 66.5807 Q1434.33 65.6895 1437.49 63.9476 L1437.49 70.8341 Q1434.37 72.2924 1431.01 73.0216 Q1427.69 73.7508 1423.92 73.7508 Q1413.67 73.7508 1407.63 67.3098 Q1401.6 60.8689 1401.6 49.9314 Q1401.6 38.832 1407.67 32.472 Q1413.79 26.1121 1424.4 26.1121 Q1427.85 26.1121 1431.13 26.8413 Q1434.41 27.5299 1437.49 28.9478 Z\" fill=\"#000000\" fill-rule=\"evenodd\" fill-opacity=\"1\" /><path clip-path=\"url(#clip120)\" d=\"M1483.1 28.9478 L1483.1 35.9153 Q1479.94 34.1734 1476.74 33.3227 Q1473.58 32.4315 1470.34 32.4315 Q1463.09 32.4315 1459.08 37.0496 Q1455.07 41.6271 1455.07 49.9314 Q1455.07 58.2358 1459.08 62.8538 Q1463.09 67.4314 1470.34 67.4314 Q1473.58 67.4314 1476.74 66.5807 Q1479.94 65.6895 1483.1 63.9476 L1483.1 70.8341 Q1479.98 72.2924 1476.62 73.0216 Q1473.3 73.7508 1469.53 73.7508 Q1459.28 73.7508 1453.25 67.3098 Q1447.21 60.8689 1447.21 49.9314 Q1447.21 38.832 1453.29 32.472 Q1459.4 26.1121 1470.02 26.1121 Q1473.46 26.1121 1476.74 26.8413 Q1480.02 27.5299 1483.1 28.9478 Z\" fill=\"#000000\" fill-rule=\"evenodd\" fill-opacity=\"1\" /><path clip-path=\"url(#clip120)\" d=\"M1495.3 54.671 L1495.3 27.2059 L1502.75 27.2059 L1502.75 54.3874 Q1502.75 60.8284 1505.26 64.0691 Q1507.77 67.2693 1512.8 67.2693 Q1518.83 67.2693 1522.32 63.421 Q1525.84 59.5726 1525.84 52.9291 L1525.84 27.2059 L1533.29 27.2059 L1533.29 72.576 L1525.84 72.576 L1525.84 65.6084 Q1523.13 69.7404 1519.52 71.7658 Q1515.96 73.7508 1511.22 73.7508 Q1503.4 73.7508 1499.35 68.8897 Q1495.3 64.0286 1495.3 54.671 M1514.05 26.1121 L1514.05 26.1121 Z\" fill=\"#000000\" fill-rule=\"evenodd\" fill-opacity=\"1\" /><path clip-path=\"url(#clip120)\" d=\"M1574.94 34.1734 Q1573.68 33.4443 1572.18 33.1202 Q1570.72 32.7556 1568.94 32.7556 Q1562.62 32.7556 1559.22 36.8875 Q1555.86 40.9789 1555.86 48.6757 L1555.86 72.576 L1548.36 72.576 L1548.36 27.2059 L1555.86 27.2059 L1555.86 34.2544 Q1558.21 30.1225 1561.97 28.1376 Q1565.74 26.1121 1571.13 26.1121 Q1571.9 26.1121 1572.83 26.2337 Q1573.76 26.3147 1574.9 26.5172 L1574.94 34.1734 Z\" fill=\"#000000\" fill-rule=\"evenodd\" fill-opacity=\"1\" /><path clip-path=\"url(#clip120)\" d=\"M1603.37 49.7694 Q1594.34 49.7694 1590.86 51.8354 Q1587.37 53.9013 1587.37 58.8839 Q1587.37 62.8538 1589.97 65.2034 Q1592.6 67.5124 1597.09 67.5124 Q1603.29 67.5124 1607.02 63.1374 Q1610.79 58.7219 1610.79 51.4303 L1610.79 49.7694 L1603.37 49.7694 M1618.24 46.6907 L1618.24 72.576 L1610.79 72.576 L1610.79 65.6895 Q1608.23 69.8214 1604.43 71.8063 Q1600.62 73.7508 1595.11 73.7508 Q1588.14 73.7508 1584.01 69.8619 Q1579.92 65.9325 1579.92 59.3701 Q1579.92 51.7138 1585.02 47.825 Q1590.17 43.9361 1600.34 43.9361 L1610.79 43.9361 L1610.79 43.2069 Q1610.79 38.0623 1607.38 35.2672 Q1604.02 32.4315 1597.91 32.4315 Q1594.02 32.4315 1590.33 33.3632 Q1586.64 34.295 1583.24 36.1584 L1583.24 29.2718 Q1587.33 27.692 1591.18 26.9223 Q1595.03 26.1121 1598.67 26.1121 Q1608.52 26.1121 1613.38 31.2163 Q1618.24 36.3204 1618.24 46.6907 Z\" fill=\"#000000\" fill-rule=\"evenodd\" fill-opacity=\"1\" /><path clip-path=\"url(#clip120)\" d=\"M1666.24 28.9478 L1666.24 35.9153 Q1663.08 34.1734 1659.88 33.3227 Q1656.72 32.4315 1653.48 32.4315 Q1646.23 32.4315 1642.22 37.0496 Q1638.21 41.6271 1638.21 49.9314 Q1638.21 58.2358 1642.22 62.8538 Q1646.23 67.4314 1653.48 67.4314 Q1656.72 67.4314 1659.88 66.5807 Q1663.08 65.6895 1666.24 63.9476 L1666.24 70.8341 Q1663.12 72.2924 1659.76 73.0216 Q1656.44 73.7508 1652.67 73.7508 Q1642.42 73.7508 1636.39 67.3098 Q1630.35 60.8689 1630.35 49.9314 Q1630.35 38.832 1636.43 32.472 Q1642.55 26.1121 1653.16 26.1121 Q1656.6 26.1121 1659.88 26.8413 Q1663.17 27.5299 1666.24 28.9478 Z\" fill=\"#000000\" fill-rule=\"evenodd\" fill-opacity=\"1\" /><path clip-path=\"url(#clip120)\" d=\"M1698.08 76.7889 Q1694.92 84.8907 1691.93 87.3618 Q1688.93 89.8329 1683.91 89.8329 L1677.95 89.8329 L1677.95 83.5945 L1682.33 83.5945 Q1685.4 83.5945 1687.11 82.1361 Q1688.81 80.6778 1690.87 75.2496 L1692.21 71.8468 L1673.86 27.2059 L1681.76 27.2059 L1695.94 62.6918 L1710.12 27.2059 L1718.01 27.2059 L1698.08 76.7889 Z\" fill=\"#000000\" fill-rule=\"evenodd\" fill-opacity=\"1\" /><polyline clip-path=\"url(#clip122)\" style=\"stroke:#009af9; stroke-linecap:butt; stroke-linejoin:round; stroke-width:4; stroke-opacity:1; fill:none\" points=\"\n  754.193,1447.87 757.303,915.024 760.413,915.024 763.523,915.024 766.633,915.024 769.744,915.024 772.854,915.024 775.964,915.024 779.074,915.024 782.185,915.024 \n  785.295,915.024 788.405,1004.37 791.515,1004.37 794.626,732.549 797.736,732.549 800.846,732.549 803.956,732.549 807.066,732.549 810.177,732.549 813.287,657.508 \n  816.397,657.508 819.507,657.508 822.618,657.508 825.728,657.508 828.838,657.508 831.948,657.508 835.058,657.508 838.169,657.508 841.279,657.508 844.389,657.508 \n  847.499,657.508 850.61,657.508 853.72,657.508 856.83,657.508 859.94,657.508 863.051,657.508 866.161,657.508 869.271,657.508 872.381,657.508 875.491,657.508 \n  878.602,657.508 881.712,657.508 884.822,657.508 887.932,657.508 891.043,657.508 894.153,657.508 897.263,657.508 900.373,657.508 903.483,657.508 906.594,657.508 \n  909.704,657.508 912.814,657.508 915.924,657.508 919.035,657.508 922.145,738.014 925.255,738.014 928.365,738.014 931.475,738.014 934.586,738.014 937.696,738.014 \n  940.806,738.014 943.916,738.014 947.027,738.014 950.137,738.014 953.247,738.014 956.357,738.014 959.468,738.014 962.578,597.08 965.688,597.08 968.798,597.08 \n  971.908,597.08 975.019,597.08 978.129,597.08 981.239,597.08 984.349,597.08 987.46,597.08 990.57,597.08 993.68,597.08 996.79,597.08 999.9,597.08 \n  1003.01,597.08 1006.12,506.887 1009.23,506.887 1012.34,506.887 1015.45,506.887 1018.56,506.887 1021.67,506.887 1024.78,506.887 1027.89,506.887 1031,506.887 \n  1034.11,506.887 1037.22,506.887 1040.33,506.887 1043.44,506.887 1046.55,506.887 1049.66,506.887 1052.77,506.887 1055.88,506.887 1058.99,506.887 1062.11,506.887 \n  1065.22,506.887 1068.33,506.887 1071.44,506.887 1074.55,506.887 1077.66,506.887 1080.77,506.887 1083.88,506.887 1086.99,506.887 1090.1,506.887 1093.21,506.887 \n  1096.32,506.887 1099.43,506.887 1102.54,506.887 1105.65,506.887 1108.76,506.887 1111.87,506.887 1114.98,506.887 1118.09,506.887 1121.2,506.887 1124.31,506.887 \n  1127.42,506.887 1130.53,506.887 1133.64,506.887 1136.75,506.887 1139.86,506.887 1142.97,506.887 1146.08,506.887 1149.19,506.887 1152.3,506.887 1155.41,506.887 \n  1158.52,506.887 1161.63,506.887 1164.74,506.887 1167.85,506.887 1170.96,506.887 1174.07,506.887 1177.18,506.887 1180.29,506.887 1183.4,506.887 1186.51,506.887 \n  1189.62,506.887 1192.73,506.887 1195.84,506.887 1198.96,506.887 1202.07,506.887 1205.18,506.887 1208.29,506.887 1211.4,506.887 1214.51,506.887 1217.62,506.887 \n  1220.73,506.887 1223.84,506.887 1226.95,506.887 1230.06,506.887 1233.17,506.887 1236.28,506.887 1239.39,506.887 1242.5,506.887 1245.61,506.887 1248.72,506.887 \n  1251.83,506.887 1254.94,506.887 1258.05,506.887 1261.16,506.887 1264.27,506.887 1267.38,506.887 1270.49,506.887 1273.6,506.887 1276.71,506.887 1279.82,506.887 \n  1282.93,506.887 1286.04,506.887 1289.15,506.887 1292.26,506.887 1295.37,506.887 1298.48,506.887 1301.59,506.887 1304.7,506.887 1307.81,333.408 1310.92,333.408 \n  1314.03,333.408 1317.14,333.408 1320.25,333.408 1323.36,333.408 1326.47,333.408 1329.58,333.408 1332.69,333.408 1335.8,333.408 1338.92,333.408 1342.03,333.408 \n  1345.14,333.408 1348.25,333.408 1351.36,333.408 1354.47,333.408 1357.58,333.408 1360.69,333.408 1363.8,333.408 1366.91,333.408 1370.02,333.408 1373.13,333.408 \n  1376.24,333.408 1379.35,333.408 1382.46,333.408 1385.57,333.408 1388.68,333.408 1391.79,333.408 1394.9,333.408 1398.01,333.408 1401.12,333.408 1404.23,333.408 \n  1407.34,333.408 1410.45,333.408 1413.56,333.408 1416.67,333.408 1419.78,333.408 1422.89,333.408 1426,333.408 1429.11,333.408 1432.22,333.408 1435.33,333.408 \n  1438.44,333.408 1441.55,333.408 1444.66,333.408 1447.77,333.408 1450.88,333.408 1453.99,333.408 1457.1,333.408 1460.21,333.408 1463.32,333.408 1466.43,333.408 \n  1469.54,333.408 1472.65,333.408 1475.77,333.408 1478.88,333.408 1481.99,333.408 1485.1,333.408 1488.21,333.408 1491.32,333.408 1494.43,333.408 1497.54,333.408 \n  1500.65,333.408 1503.76,333.408 1506.87,333.408 1509.98,333.408 1513.09,333.408 1516.2,333.408 1519.31,333.408 1522.42,333.408 1525.53,333.408 1528.64,333.408 \n  1531.75,333.408 1534.86,333.408 1537.97,333.408 1541.08,333.408 1544.19,333.408 1547.3,333.408 1550.41,333.408 1553.52,333.408 1556.63,333.408 1559.74,333.408 \n  1562.85,333.408 1565.96,333.408 1569.07,333.408 1572.18,333.408 1575.29,333.408 1578.4,333.408 1581.51,333.408 1584.62,333.408 1587.73,333.408 1590.84,333.408 \n  1593.95,333.408 1597.06,333.408 1600.17,333.408 1603.28,333.408 1606.39,333.408 1609.5,333.408 1612.62,333.408 1615.73,333.408 1618.84,333.408 1621.95,333.408 \n  1625.06,333.408 1628.17,333.408 1631.28,333.408 1634.39,333.408 1637.5,333.408 1640.61,333.408 1643.72,333.408 1646.83,333.408 1649.94,333.408 1653.05,333.408 \n  1656.16,333.408 1659.27,333.408 1662.38,333.408 1665.49,333.408 1668.6,333.408 1671.71,333.408 1674.82,333.408 1677.93,333.408 1681.04,333.408 1684.15,333.408 \n  1687.26,333.408 1690.37,333.408 1693.48,333.408 1696.59,333.408 1699.7,333.408 1702.81,333.408 1705.92,333.408 1709.03,333.408 1712.14,333.408 1715.25,333.408 \n  1718.36,333.408 1721.47,333.408 1724.58,333.408 1727.69,333.408 1730.8,333.408 1733.91,333.408 1737.02,333.408 1740.13,333.408 1743.24,333.408 1746.35,333.408 \n  1749.47,333.408 1752.58,333.408 1755.69,333.408 1758.8,333.408 1761.91,333.408 1765.02,333.408 1768.13,333.408 1771.24,333.408 1774.35,333.408 1777.46,333.408 \n  1780.57,333.408 1783.68,333.408 1786.79,333.408 1789.9,333.408 1793.01,333.408 1796.12,333.408 1799.23,333.408 1802.34,333.408 1805.45,333.408 1808.56,333.408 \n  1811.67,333.408 1814.78,333.408 1817.89,333.408 1821,333.408 1824.11,333.408 1827.22,333.408 1830.33,333.408 1833.44,333.408 1836.55,333.408 1839.66,333.408 \n  1842.77,333.408 1845.88,333.408 1848.99,333.408 1852.1,333.408 1855.21,333.408 1858.32,333.408 1861.43,333.408 1864.54,333.408 1867.65,333.408 1870.76,333.408 \n  1873.87,333.408 1876.98,333.408 1880.09,333.408 1883.2,333.408 1886.32,333.408 1889.43,333.408 1892.54,333.408 1895.65,333.408 1898.76,333.408 1901.87,333.408 \n  1904.98,333.408 1908.09,333.408 1911.2,333.408 1914.31,333.408 1917.42,333.408 1920.53,333.408 1923.64,333.408 1926.75,333.408 1929.86,333.408 1932.97,333.408 \n  1936.08,333.408 1939.19,333.408 1942.3,333.408 1945.41,333.408 1948.52,333.408 1951.63,333.408 1954.74,333.408 1957.85,333.408 1960.96,333.408 1964.07,333.408 \n  1967.18,333.408 1970.29,333.408 1973.4,333.408 1976.51,333.408 1979.62,333.408 1982.73,333.408 1985.84,333.408 1988.95,333.408 1992.06,333.408 1995.17,333.408 \n  1998.28,333.408 2001.39,333.408 2004.5,333.408 2007.61,333.408 2010.72,333.408 2013.83,333.408 2016.94,250.463 2020.05,250.463 2023.17,250.463 2026.28,250.463 \n  2029.39,250.463 2032.5,250.463 2035.61,250.463 2038.72,250.463 2041.83,250.463 2044.94,250.463 2048.05,250.463 2051.16,250.463 2054.27,250.463 2057.38,250.463 \n  2060.49,250.463 2063.6,250.463 2066.71,250.463 2069.82,250.463 2072.93,250.463 2076.04,250.463 2079.15,250.463 2082.26,250.463 2085.37,250.463 2088.48,250.463 \n  2091.59,250.463 2094.7,250.463 2097.81,250.463 2100.92,250.463 2104.03,250.463 2107.14,250.463 2110.25,250.463 2113.36,250.463 2116.47,250.463 2119.58,250.463 \n  2122.69,250.463 2125.8,250.463 2128.91,250.463 2132.02,250.463 2135.13,250.463 2138.24,250.463 2141.35,250.463 2144.46,250.463 2147.57,250.463 2150.68,250.463 \n  2153.79,250.463 2156.9,250.463 2160.02,250.463 2163.13,250.463 2166.24,250.463 2169.35,250.463 2172.46,250.463 2175.57,250.463 2178.68,250.463 2181.79,250.463 \n  2184.9,250.463 2188.01,250.463 2191.12,250.463 2194.23,250.463 2197.34,250.463 2200.45,250.463 2203.56,250.463 2206.67,250.463 2209.78,250.463 2212.89,250.463 \n  2216,250.463 2219.11,250.463 2222.22,250.463 2225.33,250.463 2228.44,250.463 2231.55,250.463 2234.66,250.463 2237.77,250.463 2240.88,250.463 2243.99,250.463 \n  2247.1,250.463 2250.21,250.463 2253.32,250.463 2256.43,250.463 2259.54,250.463 2262.65,250.463 2265.76,250.463 2268.87,250.463 2271.98,250.463 2275.09,250.463 \n  2278.2,250.463 2281.31,250.463 2284.42,250.463 2287.53,250.463 2290.64,250.463 2293.75,250.463 2296.87,250.463 2299.98,250.463 2303.09,250.463 2306.2,250.463 \n  \n  \"/>\n<polyline clip-path=\"url(#clip122)\" style=\"stroke:#e26f46; stroke-linecap:butt; stroke-linejoin:round; stroke-width:4; stroke-opacity:1; fill:none\" points=\"\n  754.193,1424.31 757.303,930.764 760.413,930.764 763.523,930.764 766.633,930.764 769.744,930.764 772.854,930.764 775.964,930.764 779.074,930.764 782.185,930.764 \n  785.295,930.764 788.405,844.786 791.515,844.786 794.626,788.56 797.736,788.56 800.846,788.56 803.956,788.56 807.066,788.56 810.177,788.56 813.287,773.933 \n  816.397,773.933 819.507,773.933 822.618,773.933 825.728,773.933 828.838,773.933 831.948,773.933 835.058,773.933 838.169,773.933 841.279,773.933 844.389,773.933 \n  847.499,773.933 850.61,773.933 853.72,773.933 856.83,773.933 859.94,773.933 863.051,773.933 866.161,773.933 869.271,773.933 872.381,773.933 875.491,773.933 \n  878.602,773.933 881.712,773.933 884.822,773.933 887.932,773.933 891.043,773.933 894.153,773.933 897.263,773.933 900.373,773.933 903.483,773.933 906.594,773.933 \n  909.704,773.933 912.814,773.933 915.924,773.933 919.035,773.933 922.145,662.492 925.255,662.492 928.365,662.492 931.475,662.492 934.586,662.492 937.696,662.492 \n  940.806,662.492 943.916,662.492 947.027,662.492 950.137,662.492 953.247,662.492 956.357,662.492 959.468,662.492 962.578,616.915 965.688,616.915 968.798,616.915 \n  971.908,616.915 975.019,616.915 978.129,616.915 981.239,616.915 984.349,616.915 987.46,616.915 990.57,616.915 993.68,616.915 996.79,616.915 999.9,616.915 \n  1003.01,616.915 1006.12,355.095 1009.23,355.095 1012.34,355.095 1015.45,355.095 1018.56,355.095 1021.67,355.095 1024.78,355.095 1027.89,355.095 1031,355.095 \n  1034.11,355.095 1037.22,355.095 1040.33,355.095 1043.44,355.095 1046.55,355.095 1049.66,355.095 1052.77,355.095 1055.88,355.095 1058.99,355.095 1062.11,355.095 \n  1065.22,355.095 1068.33,355.095 1071.44,355.095 1074.55,355.095 1077.66,355.095 1080.77,355.095 1083.88,355.095 1086.99,355.095 1090.1,355.095 1093.21,355.095 \n  1096.32,355.095 1099.43,355.095 1102.54,355.095 1105.65,355.095 1108.76,355.095 1111.87,355.095 1114.98,355.095 1118.09,355.095 1121.2,355.095 1124.31,355.095 \n  1127.42,355.095 1130.53,355.095 1133.64,355.095 1136.75,355.095 1139.86,355.095 1142.97,355.095 1146.08,355.095 1149.19,355.095 1152.3,355.095 1155.41,355.095 \n  1158.52,355.095 1161.63,355.095 1164.74,355.095 1167.85,355.095 1170.96,355.095 1174.07,355.095 1177.18,355.095 1180.29,355.095 1183.4,355.095 1186.51,355.095 \n  1189.62,355.095 1192.73,355.095 1195.84,355.095 1198.96,355.095 1202.07,355.095 1205.18,355.095 1208.29,355.095 1211.4,355.095 1214.51,355.095 1217.62,355.095 \n  1220.73,355.095 1223.84,355.095 1226.95,355.095 1230.06,355.095 1233.17,355.095 1236.28,355.095 1239.39,355.095 1242.5,355.095 1245.61,355.095 1248.72,355.095 \n  1251.83,355.095 1254.94,355.095 1258.05,355.095 1261.16,355.095 1264.27,355.095 1267.38,355.095 1270.49,355.095 1273.6,355.095 1276.71,355.095 1279.82,355.095 \n  1282.93,355.095 1286.04,355.095 1289.15,355.095 1292.26,355.095 1295.37,355.095 1298.48,355.095 1301.59,355.095 1304.7,355.095 1307.81,227.962 1310.92,227.962 \n  1314.03,227.962 1317.14,227.962 1320.25,227.962 1323.36,227.962 1326.47,227.962 1329.58,227.962 1332.69,227.962 1335.8,227.962 1338.92,227.962 1342.03,227.962 \n  1345.14,227.962 1348.25,227.962 1351.36,227.962 1354.47,227.962 1357.58,227.962 1360.69,227.962 1363.8,227.962 1366.91,227.962 1370.02,227.962 1373.13,227.962 \n  1376.24,227.962 1379.35,227.962 1382.46,227.962 1385.57,227.962 1388.68,227.962 1391.79,227.962 1394.9,227.962 1398.01,227.962 1401.12,227.962 1404.23,227.962 \n  1407.34,227.962 1410.45,227.962 1413.56,227.962 1416.67,227.962 1419.78,227.962 1422.89,227.962 1426,227.962 1429.11,227.962 1432.22,227.962 1435.33,227.962 \n  1438.44,227.962 1441.55,227.962 1444.66,227.962 1447.77,227.962 1450.88,227.962 1453.99,227.962 1457.1,227.962 1460.21,227.962 1463.32,227.962 1466.43,227.962 \n  1469.54,227.962 1472.65,227.962 1475.77,227.962 1478.88,227.962 1481.99,227.962 1485.1,227.962 1488.21,227.962 1491.32,227.962 1494.43,227.962 1497.54,227.962 \n  1500.65,227.962 1503.76,227.962 1506.87,227.962 1509.98,227.962 1513.09,227.962 1516.2,227.962 1519.31,227.962 1522.42,227.962 1525.53,227.962 1528.64,227.962 \n  1531.75,227.962 1534.86,227.962 1537.97,227.962 1541.08,227.962 1544.19,227.962 1547.3,227.962 1550.41,227.962 1553.52,227.962 1556.63,227.962 1559.74,227.962 \n  1562.85,227.962 1565.96,227.962 1569.07,227.962 1572.18,227.962 1575.29,227.962 1578.4,227.962 1581.51,227.962 1584.62,227.962 1587.73,227.962 1590.84,227.962 \n  1593.95,227.962 1597.06,227.962 1600.17,227.962 1603.28,227.962 1606.39,227.962 1609.5,227.962 1612.62,227.962 1615.73,227.962 1618.84,227.962 1621.95,227.962 \n  1625.06,227.962 1628.17,227.962 1631.28,227.962 1634.39,227.962 1637.5,227.962 1640.61,227.962 1643.72,227.962 1646.83,227.962 1649.94,227.962 1653.05,227.962 \n  1656.16,227.962 1659.27,227.962 1662.38,227.962 1665.49,227.962 1668.6,227.962 1671.71,227.962 1674.82,227.962 1677.93,227.962 1681.04,227.962 1684.15,227.962 \n  1687.26,227.962 1690.37,227.962 1693.48,227.962 1696.59,227.962 1699.7,227.962 1702.81,227.962 1705.92,227.962 1709.03,227.962 1712.14,227.962 1715.25,227.962 \n  1718.36,227.962 1721.47,227.962 1724.58,227.962 1727.69,227.962 1730.8,227.962 1733.91,227.962 1737.02,227.962 1740.13,227.962 1743.24,227.962 1746.35,227.962 \n  1749.47,227.962 1752.58,227.962 1755.69,227.962 1758.8,227.962 1761.91,227.962 1765.02,227.962 1768.13,227.962 1771.24,227.962 1774.35,227.962 1777.46,227.962 \n  1780.57,227.962 1783.68,227.962 1786.79,227.962 1789.9,227.962 1793.01,227.962 1796.12,227.962 1799.23,227.962 1802.34,227.962 1805.45,227.962 1808.56,227.962 \n  1811.67,227.962 1814.78,227.962 1817.89,227.962 1821,227.962 1824.11,227.962 1827.22,227.962 1830.33,227.962 1833.44,227.962 1836.55,227.962 1839.66,227.962 \n  1842.77,227.962 1845.88,227.962 1848.99,227.962 1852.1,227.962 1855.21,227.962 1858.32,227.962 1861.43,227.962 1864.54,227.962 1867.65,227.962 1870.76,227.962 \n  1873.87,227.962 1876.98,227.962 1880.09,227.962 1883.2,227.962 1886.32,227.962 1889.43,227.962 1892.54,227.962 1895.65,227.962 1898.76,227.962 1901.87,227.962 \n  1904.98,227.962 1908.09,227.962 1911.2,227.962 1914.31,227.962 1917.42,227.962 1920.53,227.962 1923.64,227.962 1926.75,227.962 1929.86,227.962 1932.97,227.962 \n  1936.08,227.962 1939.19,227.962 1942.3,227.962 1945.41,227.962 1948.52,227.962 1951.63,227.962 1954.74,227.962 1957.85,227.962 1960.96,227.962 1964.07,227.962 \n  1967.18,227.962 1970.29,227.962 1973.4,227.962 1976.51,227.962 1979.62,227.962 1982.73,227.962 1985.84,227.962 1988.95,227.962 1992.06,227.962 1995.17,227.962 \n  1998.28,227.962 2001.39,227.962 2004.5,227.962 2007.61,227.962 2010.72,227.962 2013.83,227.962 2016.94,162.047 2020.05,162.047 2023.17,162.047 2026.28,162.047 \n  2029.39,162.047 2032.5,162.047 2035.61,162.047 2038.72,162.047 2041.83,162.047 2044.94,162.047 2048.05,162.047 2051.16,162.047 2054.27,162.047 2057.38,162.047 \n  2060.49,162.047 2063.6,162.047 2066.71,162.047 2069.82,162.047 2072.93,162.047 2076.04,162.047 2079.15,162.047 2082.26,162.047 2085.37,162.047 2088.48,162.047 \n  2091.59,162.047 2094.7,162.047 2097.81,162.047 2100.92,162.047 2104.03,162.047 2107.14,162.047 2110.25,162.047 2113.36,162.047 2116.47,162.047 2119.58,162.047 \n  2122.69,162.047 2125.8,162.047 2128.91,162.047 2132.02,162.047 2135.13,162.047 2138.24,162.047 2141.35,162.047 2144.46,162.047 2147.57,162.047 2150.68,162.047 \n  2153.79,162.047 2156.9,162.047 2160.02,162.047 2163.13,162.047 2166.24,162.047 2169.35,162.047 2172.46,162.047 2175.57,162.047 2178.68,162.047 2181.79,162.047 \n  2184.9,162.047 2188.01,162.047 2191.12,162.047 2194.23,162.047 2197.34,162.047 2200.45,162.047 2203.56,162.047 2206.67,162.047 2209.78,162.047 2212.89,162.047 \n  2216,162.047 2219.11,162.047 2222.22,162.047 2225.33,162.047 2228.44,162.047 2231.55,162.047 2234.66,162.047 2237.77,162.047 2240.88,162.047 2243.99,162.047 \n  2247.1,162.047 2250.21,162.047 2253.32,162.047 2256.43,162.047 2259.54,162.047 2262.65,162.047 2265.76,162.047 2268.87,162.047 2271.98,162.047 2275.09,162.047 \n  2278.2,162.047 2281.31,162.047 2284.42,162.047 2287.53,162.047 2290.64,162.047 2293.75,162.047 2296.87,162.047 2299.98,162.047 2303.09,162.047 2306.2,162.047 \n  \n  \"/>\n<path clip-path=\"url(#clip120)\" d=\"\nM114.058 324.425 L463.918 324.425 L463.918 168.905 L114.058 168.905  Z\n  \" fill=\"#ffffff\" fill-rule=\"evenodd\" fill-opacity=\"1\"/>\n<polyline clip-path=\"url(#clip120)\" style=\"stroke:#000000; stroke-linecap:butt; stroke-linejoin:round; stroke-width:4; stroke-opacity:1; fill:none\" points=\"\n  114.058,324.425 463.918,324.425 463.918,168.905 114.058,168.905 114.058,324.425 \n  \"/>\n<polyline clip-path=\"url(#clip120)\" style=\"stroke:#009af9; stroke-linecap:butt; stroke-linejoin:round; stroke-width:4; stroke-opacity:1; fill:none\" points=\"\n  138.058,220.745 282.058,220.745 \n  \"/>\n<path clip-path=\"url(#clip120)\" d=\"M306.058 203.465 L335.294 203.465 L335.294 207.4 L323.025 207.4 L323.025 238.025 L318.326 238.025 L318.326 207.4 L306.058 207.4 L306.058 203.465 Z\" fill=\"#000000\" fill-rule=\"evenodd\" fill-opacity=\"1\" /><path clip-path=\"url(#clip120)\" d=\"M353.743 223.997 L353.743 226.08 L334.16 226.08 Q334.437 230.478 336.799 232.793 Q339.183 235.085 343.419 235.085 Q345.873 235.085 348.164 234.483 Q350.479 233.881 352.748 232.677 L352.748 236.705 Q350.456 237.677 348.048 238.187 Q345.641 238.696 343.164 238.696 Q336.961 238.696 333.326 235.085 Q329.715 231.474 329.715 225.316 Q329.715 218.951 333.141 215.224 Q336.59 211.474 342.423 211.474 Q347.655 211.474 350.687 214.853 Q353.743 218.21 353.743 223.997 M349.484 222.747 Q349.437 219.252 347.516 217.168 Q345.618 215.085 342.47 215.085 Q338.905 215.085 336.752 217.099 Q334.623 219.113 334.299 222.77 L349.484 222.747 Z\" fill=\"#000000\" fill-rule=\"evenodd\" fill-opacity=\"1\" /><path clip-path=\"url(#clip120)\" d=\"M377.261 212.863 L377.261 216.891 Q375.456 215.965 373.511 215.502 Q371.567 215.039 369.484 215.039 Q366.312 215.039 364.715 216.011 Q363.141 216.983 363.141 218.928 Q363.141 220.409 364.275 221.265 Q365.409 222.099 368.835 222.863 L370.294 223.187 Q374.831 224.159 376.729 225.941 Q378.65 227.701 378.65 230.872 Q378.65 234.483 375.78 236.589 Q372.933 238.696 367.933 238.696 Q365.849 238.696 363.581 238.279 Q361.335 237.886 358.835 237.076 L358.835 232.677 Q361.197 233.904 363.488 234.529 Q365.78 235.131 368.025 235.131 Q371.034 235.131 372.655 234.113 Q374.275 233.071 374.275 231.196 Q374.275 229.46 373.095 228.534 Q371.937 227.608 367.979 226.752 L366.497 226.404 Q362.539 225.571 360.78 223.858 Q359.021 222.122 359.021 219.113 Q359.021 215.455 361.613 213.465 Q364.206 211.474 368.974 211.474 Q371.335 211.474 373.419 211.821 Q375.502 212.168 377.261 212.863 Z\" fill=\"#000000\" fill-rule=\"evenodd\" fill-opacity=\"1\" /><path clip-path=\"url(#clip120)\" d=\"M389.645 204.738 L389.645 212.099 L398.419 212.099 L398.419 215.409 L389.645 215.409 L389.645 229.483 Q389.645 232.654 390.502 233.557 Q391.382 234.46 394.044 234.46 L398.419 234.46 L398.419 238.025 L394.044 238.025 Q389.113 238.025 387.238 236.196 Q385.363 234.344 385.363 229.483 L385.363 215.409 L382.238 215.409 L382.238 212.099 L385.363 212.099 L385.363 204.738 L389.645 204.738 Z\" fill=\"#000000\" fill-rule=\"evenodd\" fill-opacity=\"1\" /><polyline clip-path=\"url(#clip120)\" style=\"stroke:#e26f46; stroke-linecap:butt; stroke-linejoin:round; stroke-width:4; stroke-opacity:1; fill:none\" points=\"\n  138.058,272.585 282.058,272.585 \n  \"/>\n<path clip-path=\"url(#clip120)\" d=\"M306.058 255.305 L335.294 255.305 L335.294 259.24 L323.025 259.24 L323.025 289.865 L318.326 289.865 L318.326 259.24 L306.058 259.24 L306.058 255.305 Z\" fill=\"#000000\" fill-rule=\"evenodd\" fill-opacity=\"1\" /><path clip-path=\"url(#clip120)\" d=\"M347.678 267.92 Q346.96 267.504 346.104 267.318 Q345.271 267.11 344.252 267.11 Q340.641 267.11 338.697 269.471 Q336.775 271.809 336.775 276.207 L336.775 289.865 L332.493 289.865 L332.493 263.939 L336.775 263.939 L336.775 267.967 Q338.118 265.606 340.271 264.471 Q342.423 263.314 345.502 263.314 Q345.942 263.314 346.474 263.383 Q347.007 263.43 347.655 263.545 L347.678 267.92 Z\" fill=\"#000000\" fill-rule=\"evenodd\" fill-opacity=\"1\" /><path clip-path=\"url(#clip120)\" d=\"M363.928 276.832 Q358.766 276.832 356.775 278.013 Q354.785 279.193 354.785 282.041 Q354.785 284.309 356.266 285.652 Q357.771 286.971 360.34 286.971 Q363.882 286.971 366.011 284.471 Q368.164 281.948 368.164 277.781 L368.164 276.832 L363.928 276.832 M372.423 275.073 L372.423 289.865 L368.164 289.865 L368.164 285.929 Q366.706 288.291 364.53 289.425 Q362.354 290.536 359.206 290.536 Q355.224 290.536 352.863 288.314 Q350.525 286.068 350.525 282.318 Q350.525 277.943 353.442 275.721 Q356.382 273.499 362.192 273.499 L368.164 273.499 L368.164 273.082 Q368.164 270.143 366.22 268.545 Q364.298 266.925 360.803 266.925 Q358.581 266.925 356.474 267.457 Q354.368 267.99 352.423 269.055 L352.423 265.119 Q354.761 264.217 356.96 263.777 Q359.16 263.314 361.243 263.314 Q366.868 263.314 369.646 266.231 Q372.423 269.147 372.423 275.073 Z\" fill=\"#000000\" fill-rule=\"evenodd\" fill-opacity=\"1\" /><path clip-path=\"url(#clip120)\" d=\"M381.196 263.939 L385.456 263.939 L385.456 289.865 L381.196 289.865 L381.196 263.939 M381.196 253.846 L385.456 253.846 L385.456 259.24 L381.196 259.24 L381.196 253.846 Z\" fill=\"#000000\" fill-rule=\"evenodd\" fill-opacity=\"1\" /><path clip-path=\"url(#clip120)\" d=\"M415.918 274.217 L415.918 289.865 L411.659 289.865 L411.659 274.355 Q411.659 270.675 410.224 268.846 Q408.789 267.018 405.919 267.018 Q402.469 267.018 400.479 269.217 Q398.488 271.416 398.488 275.212 L398.488 289.865 L394.206 289.865 L394.206 263.939 L398.488 263.939 L398.488 267.967 Q400.016 265.629 402.076 264.471 Q404.159 263.314 406.868 263.314 Q411.335 263.314 413.627 266.092 Q415.918 268.846 415.918 274.217 Z\" fill=\"#000000\" fill-rule=\"evenodd\" fill-opacity=\"1\" /></svg>\n"
     },
     "execution_count": 75,
     "metadata": {},
     "output_type": "execute_result"
    }
   ],
   "source": [
    "plot((1:maxCycle), save_resultTest,label=\"Test\")\n",
    "plot!((1:maxCycle), save_resultTrain,label = \"Train\", title = \"Accuracy\", legend = :outertopleft)"
   ]
  }
 ],
 "metadata": {
  "kernelspec": {
   "display_name": "Julia 1.7.1",
   "language": "julia",
   "name": "julia-1.7"
  },
  "language_info": {
   "file_extension": ".jl",
   "mimetype": "application/julia",
   "name": "julia",
   "version": "1.7.1"
  },
  "orig_nbformat": 4
 },
 "nbformat": 4,
 "nbformat_minor": 2
}

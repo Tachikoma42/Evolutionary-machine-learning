{
 "cells": [
  {
   "cell_type": "code",
   "execution_count": 1,
   "metadata": {},
   "outputs": [],
   "source": [
    "using Flux\n",
    "using Flux: onehot, onecold, logitcrossentropy #, throttle, @epochs\n",
    "using MLDatasets\n",
    "using Random\n",
    "using JLD2\n",
    "using Statistics\n",
    "using MLJBase\n",
    "using BSON: @load # for load weights\n",
    "using Plots\n",
    "using Zygote\n",
    "using Distributions"
   ]
  },
  {
   "cell_type": "code",
   "execution_count": 2,
   "metadata": {},
   "outputs": [],
   "source": [
    "train_data = JLD2.load_object(\"data/train_data.jld2\");\n",
    "test_data = JLD2.load_object(\"data/test_data.jld2\");\n",
    "x_train = JLD2.load_object(\"data/x_train.jld2\");\n",
    "y_train = JLD2.load_object(\"data/y_train.jld2\");\n",
    "x_test  = JLD2.load_object(\"data/x_test.jld2\");\n",
    "y_test  = JLD2.load_object(\"data/y_test.jld2\");"
   ]
  },
  {
   "cell_type": "code",
   "execution_count": 3,
   "metadata": {},
   "outputs": [
    {
     "data": {
      "text/plain": [
       "1"
      ]
     },
     "execution_count": 3,
     "metadata": {},
     "output_type": "execute_result"
    }
   ],
   "source": [
    "rng =Random.default_rng()\n",
    "FoodNumber = 1000\n",
    "limit = 50\n",
    "maxCycle = 50\n",
    "a = 1"
   ]
  },
  {
   "cell_type": "code",
   "execution_count": 4,
   "metadata": {},
   "outputs": [],
   "source": [
    "model = Chain(Dense(19, 2*19, sigmoid), Dense(2*19, 2))#define the model \n",
    "θ, re = Flux.destructure(model);"
   ]
  },
  {
   "cell_type": "code",
   "execution_count": 5,
   "metadata": {},
   "outputs": [],
   "source": [
    "globalFoodSourceFitness = zeros(Float64, FoodNumber)\n",
    "globalfoodSourceCount = zeros(Float64, FoodNumber)\n",
    "globalWeights = [Vector{Float64}(undef,size(θ)[1]) for _ in 1:FoodNumber];\n",
    "lowerBound = -1ones(Float64, size(θ)[1])\n",
    "upperBound = 1ones(Float64, size(θ)[1]);\n",
    "preCal = upperBound-lowerBound;\n",
    "Dimension = size(θ)[1];"
   ]
  },
  {
   "cell_type": "code",
   "execution_count": 6,
   "metadata": {},
   "outputs": [
    {
     "data": {
      "text/plain": [
       "initABC (generic function with 1 method)"
      ]
     },
     "execution_count": 6,
     "metadata": {},
     "output_type": "execute_result"
    }
   ],
   "source": [
    "function initABC()\n",
    "    for i in 1:FoodNumber\n",
    "        for j in 1:Dimension\n",
    "            newpar = lowerBound[j] + rand()*preCal[j];\n",
    "            if newPar < lowerBound[j]\n",
    "                newPar = lowerBound[j];\n",
    "            elseif newPar > upperBound[j]\n",
    "                newPar = upperBound[j];\n",
    "            end\n",
    "            globalWeights[i][j] = newpar\n",
    "        end\n",
    "        globalFoodSourceFitness[i] = 0\n",
    "        globalfoodSourceCount[i] = 0\n",
    "    end\n",
    "end"
   ]
  },
  {
   "cell_type": "code",
   "execution_count": 8,
   "metadata": {},
   "outputs": [
    {
     "data": {
      "text/plain": [
       "updateFoodSource (generic function with 1 method)"
      ]
     },
     "execution_count": 8,
     "metadata": {},
     "output_type": "execute_result"
    }
   ],
   "source": [
    "function updateFoodSource(index, newSource)\n",
    "    localFitness = calculateFitness(train_data, newSource)\n",
    "    if localFitness > globalFoodSourceFitness[index]\n",
    "        globalFoodSourceFitness[index] = localFitness\n",
    "        globalWeights[index] = newSource\n",
    "        globalfoodSourceCount[index] = 0\n",
    "    else\n",
    "        globalfoodSourceCount[index] = globalfoodSourceCount[index]+1\n",
    "    end\n",
    "end\n"
   ]
  },
  {
   "cell_type": "code",
   "execution_count": null,
   "metadata": {},
   "outputs": [],
   "source": [
    "function getBest()\n",
    "    best = 1\n",
    "    for i = 2:FoodNumber\n",
    "        if globalFoodSourceFitness[i] > globalFoodSourceFitness[best]\n",
    "            best = i\n",
    "        end\n",
    "    end\n",
    "    return best\n",
    "end"
   ]
  },
  {
   "cell_type": "code",
   "execution_count": null,
   "metadata": {},
   "outputs": [],
   "source": [
    "function employedBeeFindNew()\n",
    "    for i in 1:FoodNumber\n",
    "        FindNewFoodSource(i)\n",
    "    end\n",
    "end"
   ]
  },
  {
   "cell_type": "code",
   "execution_count": 9,
   "metadata": {},
   "outputs": [
    {
     "data": {
      "text/plain": [
       "FindNewFoodSource (generic function with 1 method)"
      ]
     },
     "execution_count": 9,
     "metadata": {},
     "output_type": "execute_result"
    }
   ],
   "source": [
    "function FindNewFoodSource(index)\n",
    "    j = index\n",
    "    while j == index\n",
    "        j = rand(1:FoodNumber)\n",
    "    end\n",
    "    newSource = zeros(Float64,Dimension);\n",
    "    for i in 1:Dimension\n",
    "        newPar = globalWeights[index][i] + a*rand(Uniform(-1,1))*(globalWeights[index][i]-globalWeights[j][i])\n",
    "        if newPar < lowerBound[j]\n",
    "            newPar = lowerBound[j];\n",
    "        elseif newPar > upperBound[j]\n",
    "            newPar = upperBound[j];\n",
    "        end\n",
    "        newSource[i] = newPar\n",
    "    end\n",
    "    updateFoodSource(index, newSource)\n",
    "    checkRetire()\n",
    "end\n",
    "\n"
   ]
  },
  {
   "cell_type": "code",
   "execution_count": null,
   "metadata": {},
   "outputs": [],
   "source": [
    "function scoutBeeFindNew()\n",
    "    checkRetire()\n",
    "end"
   ]
  },
  {
   "cell_type": "code",
   "execution_count": null,
   "metadata": {},
   "outputs": [],
   "source": [
    "function checkRetire()\n",
    "    for i in 1:FoodNumber\n",
    "        if globalfoodSourceCount[i] > limit\n",
    "            FindNewFoodSource(i, globalWeights)\n",
    "        end\n",
    "    end\n",
    "end"
   ]
  },
  {
   "cell_type": "code",
   "execution_count": 10,
   "metadata": {},
   "outputs": [
    {
     "data": {
      "text/plain": [
       "rouletteWheelSelection (generic function with 1 method)"
      ]
     },
     "execution_count": 10,
     "metadata": {},
     "output_type": "execute_result"
    }
   ],
   "source": [
    "function rouletteWheelSelection()\n",
    "    fitnessSum = sum(globalFoodSourceFitness)\n",
    "    fitnessProb = globalFoodSourceFitness/fitnessSum\n",
    "    cumProb = cumsum(fitnessProb)\n",
    "    randNum = rand()\n",
    "    for i in 1:FoodNumber\n",
    "        if randNum <= cumProb[i]\n",
    "            return i\n",
    "        end\n",
    "    end\n",
    "end"
   ]
  },
  {
   "cell_type": "code",
   "execution_count": null,
   "metadata": {},
   "outputs": [],
   "source": [
    "function lookoutFindNew()\n",
    "    for i in 1:FoodNumber\n",
    "        index = rouletteWheelSelection()\n",
    "        FindNewFoodSource(index, globalWeights)\n",
    "    end\n",
    "end"
   ]
  }
 ],
 "metadata": {
  "kernelspec": {
   "display_name": "Julia 1.7.1",
   "language": "julia",
   "name": "julia-1.7"
  },
  "language_info": {
   "file_extension": ".jl",
   "mimetype": "application/julia",
   "name": "julia",
   "version": "1.7.1"
  },
  "orig_nbformat": 4
 },
 "nbformat": 4,
 "nbformat_minor": 2
}

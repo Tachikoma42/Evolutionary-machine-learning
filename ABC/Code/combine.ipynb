{
 "cells": [
  {
   "cell_type": "code",
   "execution_count": 1,
   "metadata": {},
   "outputs": [],
   "source": [
    "using Flux\n",
    "using Flux: onehot, onecold, logitcrossentropy #, throttle, @epochs\n",
    "using MLDatasets\n",
    "using Random\n",
    "using JLD2\n",
    "using Statistics\n",
    "using MLJBase\n",
    "using BSON: @load # for load weights\n",
    "using Plots\n",
    "using Zygote\n",
    "using Distributions"
   ]
  },
  {
   "cell_type": "code",
   "execution_count": 9,
   "metadata": {},
   "outputs": [
    {
     "data": {
      "text/plain": [
       "1"
      ]
     },
     "execution_count": 9,
     "metadata": {},
     "output_type": "execute_result"
    }
   ],
   "source": [
    "train_data = JLD2.load_object(\"data2/train_data.jld2\");\n",
    "test_data = JLD2.load_object(\"data2/test_data.jld2\");\n",
    "maxCycle = 50 # maximum number of cycles\n",
    "inputSize = 11\n",
    "outputSize = 6\n",
    "tryNumber = 1"
   ]
  },
  {
   "cell_type": "code",
   "execution_count": 17,
   "metadata": {},
   "outputs": [
    {
     "data": {
      "text/plain": [
       "2"
      ]
     },
     "execution_count": 17,
     "metadata": {},
     "output_type": "execute_result"
    }
   ],
   "source": [
    "train_data = JLD2.load_object(\"data/train_data.jld2\");\n",
    "maxCycle = 150 # maximum number of cycles\n",
    "inputSize = 19\n",
    "outputSize = 2"
   ]
  },
  {
   "cell_type": "code",
   "execution_count": 18,
   "metadata": {},
   "outputs": [
    {
     "data": {
      "text/plain": [
       "Chain(\n",
       "  Dense(19, 38, σ),                     \u001b[90m# 760 parameters\u001b[39m\n",
       "  Dense(38, 2),                         \u001b[90m# 78 parameters\u001b[39m\n",
       ")\u001b[90m                   # Total: 4 arrays, \u001b[39m838 parameters, 3.523 KiB."
      ]
     },
     "execution_count": 18,
     "metadata": {},
     "output_type": "execute_result"
    }
   ],
   "source": [
    "model1 = Chain(Dense(inputSize, 2*inputSize, sigmoid), Dense(2*inputSize, outputSize))#define the model "
   ]
  },
  {
   "cell_type": "code",
   "execution_count": 10,
   "metadata": {},
   "outputs": [
    {
     "data": {
      "text/plain": [
       "swapBest (generic function with 1 method)"
      ]
     },
     "execution_count": 10,
     "metadata": {},
     "output_type": "execute_result"
    }
   ],
   "source": [
    "\n",
    "function initABC()\n",
    "    for i in 1:pop\n",
    "        for j in 1:Dimension\n",
    "            temp = lowerBound + rand()*preCal\n",
    "            if temp < lowerBound\n",
    "                temp = lowerBound\n",
    "            elseif temp > upperBound\n",
    "                temp = upperBound\n",
    "            end\n",
    "            globalWeights[i][j] = temp\n",
    "        end\n",
    "        globalFoodSourceFitness[i] = calculateFitness(globalWeights[i])\n",
    "        \n",
    "        globalfoodSourceCount[i] = 0\n",
    "    end\n",
    "    calCumFitness();\n",
    "    bestWeight = globalWeights[getBest()];\n",
    "end\n",
    "\n",
    "function FindNewFoodSource(index)\n",
    "    j = index\n",
    "    while j == index\n",
    "        j = rand(1:pop)\n",
    "    end\n",
    "    newSource = zeros(Float64,Dimension)\n",
    "    for i in 1:Dimension\n",
    "        \n",
    "        temp = globalWeights[index][i] + acc*rand(Uniform(-1,1))*(globalWeights[index][i]-globalWeights[j][i])\n",
    "        if temp < lowerBound\n",
    "            temp = lowerBound\n",
    "        elseif temp > upperBound\n",
    "            temp = upperBound\n",
    "        end\n",
    "        newSource[i] = temp\n",
    "    end\n",
    "    updateFoodSource(index, newSource)\n",
    "end\n",
    "\n",
    "\n",
    "function updateFoodSource(index, newSource)\n",
    "    localFitness = calculateFitness(newSource)\n",
    "    if localFitness > globalFoodSourceFitness[index]\n",
    "        globalFoodSourceFitness[index] = localFitness\n",
    "        globalWeights[index] = newSource\n",
    "        globalfoodSourceCount[index] = 0\n",
    "    else\n",
    "        globalfoodSourceCount[index] = globalfoodSourceCount[index]+1\n",
    "    end\n",
    "    calCumFitness();\n",
    "end\n",
    "\n",
    "\n",
    "function calculateFitness(newWeight)\n",
    "    return 1/(1+loss(train_data, re(newWeight)))\n",
    "end\n",
    "\n",
    "\n",
    "\n",
    "function checkRetire()\n",
    "    for i in 1:pop\n",
    "        if globalfoodSourceCount[i] > tryLimit\n",
    "            if i == getBest()\n",
    "                globalfoodSourceCount[i] = 0\n",
    "            else\n",
    "            FindNewFoodSource(i)\n",
    "            end\n",
    "        end\n",
    "    end\n",
    "end\n",
    "\n",
    "function calCumFitness()\n",
    "    fitnessSum = sum(globalFoodSourceFitness)\n",
    "    fitnessProb = globalFoodSourceFitness/fitnessSum\n",
    "    temp =  cumsum(fitnessProb);\n",
    "    for i in 1: pop\n",
    "        cumProb[i] = temp[i];\n",
    "    end\n",
    "end\n",
    "\n",
    "function rouletteWheelSelection()\n",
    "    randNum = rand(Uniform(0,1))\n",
    "    for i in 1:pop\n",
    "        if randNum <= cumProb[i]\n",
    "            return i\n",
    "        end\n",
    "    end\n",
    "end\n",
    "\n",
    "\n",
    "\n",
    "function getBest()\n",
    "    return argmax(globalFoodSourceFitness)\n",
    "end\n",
    "\n",
    "\n",
    "function employedBeeFindNew()\n",
    "    for i in 1:pop\n",
    "        FindNewFoodSource(i)\n",
    "    end\n",
    "end\n",
    "\n",
    "\n",
    "function onlookFindNew()\n",
    "    for i in 1:pop\n",
    "        index = rouletteWheelSelection()\n",
    "        FindNewFoodSource(index)\n",
    "    end\n",
    "end\n",
    "\n",
    "\n",
    "function scoutBeeFindNew()\n",
    "    checkRetire()\n",
    "end\n",
    "\n",
    "accuracy(model,x,y) = sum(onecold(model(x)) .== onecold(y))/size(x,2)\n",
    "accuracy(xy, model) = mean( onecold(model(x)) .== onecold(y) for (x,y) in xy)\n",
    "\n",
    "function swapBest(index,gbestWeight)\n",
    "    if accuracy(train_data, re(bestWeight)) < accuracy(train_data, re(globalWeights[index]))\n",
    "        return globalWeights[index];\n",
    "    else\n",
    "        return bestWeight;\n",
    "    end\n",
    "end"
   ]
  },
  {
   "cell_type": "code",
   "execution_count": 11,
   "metadata": {},
   "outputs": [
    {
     "data": {
      "text/plain": [
       "loss (generic function with 3 methods)"
      ]
     },
     "execution_count": 11,
     "metadata": {},
     "output_type": "execute_result"
    }
   ],
   "source": [
    "accuracy(model,x,y) = sum(onecold(model(x)) .== onecold(y))/size(x,2)\n",
    "accuracy(xy, model) = mean( onecold(model(x)) .== onecold(y) for (x,y) in xy)\n",
    "\n",
    "loss(model) = (x,y)->Flux.logitcrossentropy(model(x), y)\n",
    "loss(model,x,y) = loss(model)(x, y)\n",
    "loss(xy, model) = loss(model)(hcat(map(first,xy)...), hcat(map(last,xy)...))\n"
   ]
  },
  {
   "cell_type": "markdown",
   "metadata": {},
   "source": [
    "ABC"
   ]
  },
  {
   "cell_type": "code",
   "execution_count": 12,
   "metadata": {},
   "outputs": [],
   "source": [
    "model = Chain(Dense(inputSize, 2*inputSize, sigmoid), Dense(2*inputSize, outputSize)) #define the model \n",
    "θ, re = Flux.destructure(model); \n",
    "Dimension = size(θ)[1]; #number of parameters\n",
    "\n",
    "pop = 100 # number of food sources\n",
    "tryLimit = 70 # limit of the number of tries\n",
    "acc = 1 # acceleration constant\n",
    "\n",
    "lowerBound = -3\n",
    "upperBound = 2\n",
    "\n",
    "rng =Random.default_rng()\n",
    "\n",
    "globalWeights = [Vector{Float64}(undef,Dimension) for _ in 1:pop]; \n",
    "    globalFoodSourceFitness = zeros(Float64, pop)\n",
    "    cumProb = zeros(Float64, pop)\n",
    "    globalfoodSourceCount = zeros(Float64, pop)\n",
    "    bestWeight = Vector{Float64}(undef,Dimension);\n",
    "\n",
    "preCal = upperBound-lowerBound;\n",
    "\n"
   ]
  },
  {
   "cell_type": "code",
   "execution_count": 13,
   "metadata": {},
   "outputs": [],
   "source": [
    "ABCsave_resultTrain = [Vector{Float64}(undef,maxCycle) for _ in 1:tryNumber];\n",
    "ABCsave_resultTest = [Vector{Float64}(undef,maxCycle) for _ in 1:tryNumber];\n",
    "for i in 1:tryNumber\n",
    "    ABCsave_resultTrain[i] = zeros(Float64,maxCycle);\n",
    "    ABCsave_resultTest[i] = zeros(Float64,maxCycle);\n",
    "end"
   ]
  },
  {
   "cell_type": "code",
   "execution_count": 15,
   "metadata": {},
   "outputs": [],
   "source": [
    "for k in 1:tryNumber\n",
    "    globalWeights = [Vector{Float64}(undef,Dimension) for _ in 1:pop]; \n",
    "    globalFoodSourceFitness = zeros(Float64, pop)\n",
    "    cumProb = zeros(Float64, pop)\n",
    "    globalfoodSourceCount = zeros(Float64, pop)\n",
    "    bestWeight = Vector{Float64}(undef,Dimension);\n",
    "    initABC()\n",
    "    for i in 1:maxCycle\n",
    "        employedBeeFindNew()\n",
    "        onlookFindNew()\n",
    "        scoutBeeFindNew()\n",
    "        # bestIndex = getBest()\n",
    "        bestWeight = swapBest(getBest(), bestWeight);    #print(\"Cycle: \", i, \"Best Fitness: \", globalFoodSourceFitness[bestIndex])\n",
    "        ABCsave_resultTrain[k][i] = ABCsave_resultTrain[k][i] + accuracy(train_data, re(bestWeight))\n",
    "        ABCsave_resultTest[k][i] = ABCsave_resultTest[k][i] + accuracy(test_data, re(bestWeight))\n",
    "        #print(\"\\n\")\n",
    "        \n",
    "    end\n",
    "    JLD2.save_object(\"ABCsave_resultTrain.jld2\", ABCsave_resultTrain)\n",
    "    JLD2.save_object(\"ABCsave_resultTest.jld2\", ABCsave_resultTest)\n",
    "end"
   ]
  },
  {
   "cell_type": "code",
   "execution_count": null,
   "metadata": {},
   "outputs": [],
   "source": [
    "# plot!((1:maxCycle), ABCsave_resultTrain[k],label = \"ABC\", title = \"Accuracy\", legend = :outertopleft)\n",
    "\n"
   ]
  },
  {
   "cell_type": "code",
   "execution_count": null,
   "metadata": {},
   "outputs": [],
   "source": [
    "plot!((1:maxCycle), ABCsave_resultTrain[2],label = \"BP\", title = \"Accuracy\", legend = :outertopleft)"
   ]
  },
  {
   "cell_type": "markdown",
   "metadata": {},
   "source": [
    "BP"
   ]
  },
  {
   "cell_type": "code",
   "execution_count": 5,
   "metadata": {},
   "outputs": [],
   "source": [
    "# change population_size will increase training time, but may increase the accuracy\n",
    "BPsave_resultTrain = zeros(maxCycle);\n",
    "BPsave_resultTest = zeros(maxCycle);\n",
    "# l1 = Dense(19, 2*19, sigmoid)\n",
    "# l2 = Dense(2*19, 2)\n",
    "model2 = Chain(Dense(inputSize, 2*inputSize, sigmoid), Dense(2*inputSize, outputSize))#define the model \n",
    "\n",
    "\n",
    "for j in 1:maxCycle\n",
    "    Flux.train!(loss(model2), Flux.params(model2), train_data, ADAM(1e-4))\n",
    "    BPsave_resultTrain[j] = BPsave_resultTrain[j] + accuracy(train_data, model2)\n",
    "    BPsave_resultTest[j] = BPsave_resultTest[j] + accuracy(test_data, model2)\n",
    "end\n",
    "\n",
    "JLD2.save_object(\"BPsave_resultTrain.jld2\", BPsave_resultTrain)\n",
    "JLD2.save_object(\"BPsave_resultTest.jld2\", BPsave_resultTest)"
   ]
  },
  {
   "cell_type": "code",
   "execution_count": null,
   "metadata": {},
   "outputs": [],
   "source": [
    "plot((1:maxCycle), ABCsave_resultTrain,label=\"ABC\")\n",
    "plot!((1:maxCycle), BPsave_resultTrain,label = \"BP\", title = \"Accuracy\", legend = :outertopleft)"
   ]
  },
  {
   "cell_type": "markdown",
   "metadata": {},
   "source": [
    "PSO"
   ]
  },
  {
   "cell_type": "code",
   "execution_count": 6,
   "metadata": {},
   "outputs": [
    {
     "data": {
      "text/plain": [
       "5000"
      ]
     },
     "execution_count": 6,
     "metadata": {},
     "output_type": "execute_result"
    }
   ],
   "source": [
    "maxCycle = 5000"
   ]
  },
  {
   "cell_type": "code",
   "execution_count": 7,
   "metadata": {},
   "outputs": [
    {
     "data": {
      "text/plain": [
       "1.8"
      ]
     },
     "execution_count": 7,
     "metadata": {},
     "output_type": "execute_result"
    }
   ],
   "source": [
    "N = 50\n",
    "w0 = 0.8\n",
    "c1 = 1.6\n",
    "c2 = 1.8"
   ]
  },
  {
   "cell_type": "code",
   "execution_count": 16,
   "metadata": {},
   "outputs": [
    {
     "data": {
      "text/plain": [
       "Chain(\n",
       "  Dense(11, 22, σ),                     \u001b[90m# 264 parameters\u001b[39m\n",
       "  Dense(22, 6),                         \u001b[90m# 138 parameters\u001b[39m\n",
       ")\u001b[90m                   # Total: 4 arrays, \u001b[39m402 parameters, 1.820 KiB."
      ]
     },
     "execution_count": 16,
     "metadata": {},
     "output_type": "execute_result"
    }
   ],
   "source": [
    "model1 = Chain(Dense(inputSize, 2*inputSize, sigmoid), Dense(2*inputSize, outputSize))#define the model "
   ]
  },
  {
   "cell_type": "code",
   "execution_count": 8,
   "metadata": {},
   "outputs": [],
   "source": [
    "# change population_size will increase training time, but may increase the accuracy\n",
    "PSOsave_resultTrain = zeros(maxCycle);\n",
    "PSOsave_resultTest = zeros(maxCycle);\n",
    "# l1 = Dense(19, 2*19, sigmoid)\n",
    "# l2 = Dense(2*19, 2)\n",
    "model1 = Chain(Dense(inputSize, 2*inputSize, sigmoid), Dense(2*inputSize, outputSize))#define the model \n",
    "θ, re = Flux.destructure(model1)\n",
    "weights = [Vector{Float64}(undef,size(θ)[1]) for _ in 1:N];\n",
    "vec = [Vector{Float64}(undef,size(θ)[1]) for _ in 1:N];\n",
    "\n",
    "for i in 1:N\n",
    "    vec[i] = rand(size(θ)[1])\n",
    "    for j in 1:size(θ)[1]\n",
    "        weights[i][j] = rand(Normal(θ[i], 0.05))\n",
    "    end\n",
    "\n",
    "end\n",
    "p_best = copy(weights);\n",
    "g_best = sort(weights, lt=(x,y)->isless(loss(train_data, re(x)), loss(train_data, re(y))))[1];\n",
    "\n",
    "for i in 1:maxCycle\n",
    "    for j in 1:N\n",
    "        vec[j] = w0 *vec[j] + c1 *(1.0 - rand()) * (p_best[j] - vec[j]) + c2 * (1.0 - rand()) * (g_best - vec[j])\n",
    "        weights[j] = vec[j]+weights[j]\n",
    "        if loss(train_data, re(weights[j])) < loss(train_data, re(p_best[j]))\n",
    "            p_best[j] = weights[j]\n",
    "        end\n",
    "    end\n",
    "    g_best = sort(p_best, lt=(x,y)->isless(loss(train_data, re(x)), loss(train_data, re(y))))[1];\n",
    "\n",
    "    PSOsave_resultTrain[i] = PSOsave_resultTrain[i] + accuracy(train_data, re(g_best));\n",
    "    PSOsave_resultTest[i] = PSOsave_resultTest[i] + accuracy(test_data, re(g_best));\n",
    "    JLD2.save_object(\"PSOsave_resultTrain.jld2\", PSOsave_resultTrain)\n",
    "    JLD2.save_object(\"PSOsave_resultTest.jld2\", PSOsave_resultTest)\n",
    "\n",
    "end\n",
    "\n"
   ]
  },
  {
   "cell_type": "code",
   "execution_count": null,
   "metadata": {},
   "outputs": [],
   "source": [
    "plot((1:maxCycle), ABCsave_resultTrain,label=\"ABC\")\n",
    "plot!((1:maxCycle), PSOsave_resultTrain,label = \"PSO\", title = \"Accuracy\", legend = :outertopleft)"
   ]
  }
 ],
 "metadata": {
  "kernelspec": {
   "display_name": "Julia 1.7.1",
   "language": "julia",
   "name": "julia-1.7"
  },
  "language_info": {
   "file_extension": ".jl",
   "mimetype": "application/julia",
   "name": "julia",
   "version": "1.7.1"
  },
  "orig_nbformat": 4
 },
 "nbformat": 4,
 "nbformat_minor": 2
}

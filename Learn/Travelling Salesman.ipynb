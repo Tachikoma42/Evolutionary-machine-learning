{
 "cells": [
  {
   "cell_type": "code",
   "execution_count": 5,
   "metadata": {},
   "outputs": [
    {
     "name": "stdout",
     "output_type": "stream",
     "text": [
      "Cities Generated:5\n"
     ]
    },
    {
     "data": {
      "text/plain": [
       "5-element Vector{Any}:\n",
       " Dict{String, Real}(\"id\" => 1, \"x\" => 272.0, \"y\" => 127.0)\n",
       " Dict{String, Real}(\"id\" => 2, \"x\" => 17.0, \"y\" => 190.0)\n",
       " Dict{String, Real}(\"id\" => 3, \"x\" => 148.0, \"y\" => 94.0)\n",
       " Dict{String, Real}(\"id\" => 4, \"x\" => 117.0, \"y\" => 464.0)\n",
       " Dict{String, Real}(\"id\" => 5, \"x\" => 174.0, \"y\" => 371.0)"
      ]
     },
     "execution_count": 5,
     "metadata": {},
     "output_type": "execute_result"
    }
   ],
   "source": [
    "function generate_cities(number_of_cities, map_limit)\n",
    "    cities = []\n",
    "    for city_counter in 1:number_of_cities\n",
    "        push!(cities,\n",
    "            Dict(\n",
    "                \"id\" => city_counter,\n",
    "                \"x\" => round(rand() * map_limit),\n",
    "                \"y\" => round(rand() * map_limit)\n",
    "            )\n",
    "        )\n",
    "    end\n",
    "    println(\"Cities Generated:\", size(cities)[1])\n",
    "    return cities\n",
    "end\n",
    "\n",
    "generate_cities(5, 500)\n"
   ]
  },
  {
   "cell_type": "code",
   "execution_count": 6,
   "metadata": {},
   "outputs": [
    {
     "data": {
      "text/plain": [
       "6-element Vector{Int64}:\n",
       " 1\n",
       " 2\n",
       " 5\n",
       " 4\n",
       " 3\n",
       " 1"
      ]
     },
     "execution_count": 6,
     "metadata": {},
     "output_type": "execute_result"
    }
   ],
   "source": [
    "[1,2,5,4,3,1]"
   ]
  },
  {
   "cell_type": "code",
   "execution_count": 7,
   "metadata": {},
   "outputs": [
    {
     "data": {
      "text/plain": [
       "crossover (generic function with 1 method)"
      ]
     },
     "execution_count": 7,
     "metadata": {},
     "output_type": "execute_result"
    }
   ],
   "source": [
    "function crossover(parent_one_chromosome, parent_two_chromosome, crossover_point)\n",
    "    offstring_part_one = parent_one_chromosome[1:crossover_point]\n",
    "    for gene in offspring_part_one\n",
    "        if gene in parent_two_chromosome\n",
    "            gene_loc = findfirst(el -> el == gene, parent_two_chromosome)\n",
    "            splice!(parent_two_chromosome, gene_loc)\n",
    "        end\n",
    "    end\n",
    "    return vcat(offspring_part_one, parent_two_chromosome)\n",
    "end"
   ]
  },
  {
   "cell_type": "code",
   "execution_count": 8,
   "metadata": {},
   "outputs": [
    {
     "data": {
      "text/plain": [
       "mutate (generic function with 1 method)"
      ]
     },
     "execution_count": 8,
     "metadata": {},
     "output_type": "execute_result"
    }
   ],
   "source": [
    "function mutate(offspring)\n",
    "    random_mutate_point1 = rand(1:length(offspring))\n",
    "    random_mutate_point2 = rand(1:length(offspring))\n",
    "    offspring[random_mutation_point1], offspring[random_mutation_point2] = offspring[random_mutation_point2], offspring[random_mutation_point1]\n",
    "    return offspring\n",
    "end\n"
   ]
  },
  {
   "cell_type": "code",
   "execution_count": 10,
   "metadata": {},
   "outputs": [
    {
     "data": {
      "text/plain": [
       "calculate_chromosome_travel_distance (generic function with 1 method)"
      ]
     },
     "execution_count": 10,
     "metadata": {},
     "output_type": "execute_result"
    }
   ],
   "source": [
    "function calculate_distance_between_two_points(point1, point2)\n",
    "    return sqrt(\n",
    "        (point2[1] - point1[1])^2 +\n",
    "        (point2[2] - point1[2])^2\n",
    "    )\n",
    "end\n",
    "\n",
    "function calculate_chromosome_travel_distance(chromosome)\n",
    "    travel_distance = 0\n",
    "    chromosome = vcat(1, chromosome, 1)\n",
    "    for geneId in 1:length(chromosome) - 1\n",
    "        point1 = (\n",
    "            cities[chromosome[geneId]][\"x\"],\n",
    "            cities[chromosome[geneId]][\"y\"]\n",
    "        )\n",
    "        point2 = (\n",
    "            cities[chromosome[geneId+1]][\"x\"],\n",
    "            cities[chromosome[geneId+1]][\"y\"]\n",
    "        )\n",
    "        travel_distance += calculate_distance_between_two_points(point1, point2)\n",
    "    end\n",
    "    println(\"travel distance:\", chromosome, \" : \", travel_distance)\n",
    "    return travel_distance\n",
    "end"
   ]
  }
 ],
 "metadata": {
  "kernelspec": {
   "display_name": "Julia 1.7.1",
   "language": "julia",
   "name": "julia-1.7"
  },
  "language_info": {
   "file_extension": ".jl",
   "mimetype": "application/julia",
   "name": "julia",
   "version": "1.7.1"
  },
  "orig_nbformat": 4
 },
 "nbformat": 4,
 "nbformat_minor": 2
}
